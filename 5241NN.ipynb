{
  "nbformat": 4,
  "nbformat_minor": 0,
  "metadata": {
    "colab": {
      "name": "5241NN.ipynb",
      "provenance": [],
      "collapsed_sections": [
        "ZVCUECPWfdxY"
      ],
      "toc_visible": true,
      "include_colab_link": true
    },
    "kernelspec": {
      "name": "python3",
      "display_name": "Python 3"
    },
    "accelerator": "GPU"
  },
  "cells": [
    {
      "cell_type": "markdown",
      "metadata": {
        "id": "view-in-github",
        "colab_type": "text"
      },
      "source": [
        "<a href=\"https://colab.research.google.com/github/JMGilbert/STAT4241-Final-Project/blob/main/5241NN.ipynb\" target=\"_parent\"><img src=\"https://colab.research.google.com/assets/colab-badge.svg\" alt=\"Open In Colab\"/></a>"
      ]
    },
    {
      "cell_type": "markdown",
      "metadata": {
        "id": "XMVY7QN5COT5"
      },
      "source": [
        "Don't forget to enable GPU:    \n",
        "Edit > Notebook settings or Runtime>Change runtime type    \n",
        "and select GPU as Hardware accelerator."
      ]
    },
    {
      "cell_type": "code",
      "metadata": {
        "colab": {
          "base_uri": "https://localhost:8080/"
        },
        "id": "vvoPbwNBCMa4",
        "outputId": "ba165290-01cc-4423-f174-8efda6fe6af5"
      },
      "source": [
        "import torch\n",
        "import torch.optim as optim\n",
        "import torch.nn as nn\n",
        "import torch.nn.functional as F\n",
        "import numpy as np\n",
        "import pandas as pd\n",
        "import seaborn as sns\n",
        "import matplotlib.pylab as plt\n",
        "from sklearn import preprocessing\n",
        "from sklearn.model_selection import train_test_split\n",
        "from tqdm import tqdm as tq\n",
        "from sklearn.metrics import cohen_kappa_score\n",
        "\n",
        "\n",
        "\n",
        "train_on_gpu = torch.cuda.is_available()\n",
        "\n",
        "if not train_on_gpu:\n",
        "    print('CUDA is not available.  Training on CPU ...')\n",
        "else:\n",
        "    print('CUDA is available!  Training on GPU ...')"
      ],
      "execution_count": null,
      "outputs": [
        {
          "output_type": "stream",
          "text": [
            "CUDA is available!  Training on GPU ...\n"
          ],
          "name": "stdout"
        }
      ]
    },
    {
      "cell_type": "markdown",
      "metadata": {
        "id": "knahGSpgSdT6"
      },
      "source": [
        "# Import Data"
      ]
    },
    {
      "cell_type": "code",
      "metadata": {
        "id": "ngnGhT8EDhVc"
      },
      "source": [
        "#url of the dataset from our GitHub repository\n",
        "url_red=\"https://raw.githubusercontent.com/JMGilbert/STAT4241-Final-Project/main/winequality-red.csv\"\n",
        "url_white=\"https://raw.githubusercontent.com/JMGilbert/STAT4241-Final-Project/main/winequality-white.csv\"\n",
        "red=pd.read_csv(url_red,sep=';')\n",
        "white=pd.read_csv(url_white,sep=';')"
      ],
      "execution_count": null,
      "outputs": []
    },
    {
      "cell_type": "code",
      "metadata": {
        "colab": {
          "base_uri": "https://localhost:8080/",
          "height": 299
        },
        "id": "Q87zDm50H9cy",
        "outputId": "e5a3a0a3-f50b-4157-a92e-0ce387e0dc1a"
      },
      "source": [
        "plt.subplot(1,2,1).set_title(\"Red wine\")\n",
        "plt.bar(list(set(red[\"quality\"])),red[\"quality\"].value_counts(sort=False).sort_index())\n",
        "plt.subplot(1,2,2).set_title(\"White wine\")\n",
        "plt.bar(list(set(white[\"quality\"])),white[\"quality\"].value_counts(sort=False).sort_index())"
      ],
      "execution_count": null,
      "outputs": [
        {
          "output_type": "execute_result",
          "data": {
            "text/plain": [
              "<BarContainer object of 7 artists>"
            ]
          },
          "metadata": {
            "tags": []
          },
          "execution_count": 3
        },
        {
          "output_type": "display_data",
          "data": {
            "image/png": "[encoded data removed]",
            "text/plain": [
              "<Figure size 432x288 with 2 Axes>"
            ]
          },
          "metadata": {
            "tags": [],
            "needs_background": "light"
          }
        }
      ]
    },
    {
      "cell_type": "code",
      "metadata": {
        "colab": {
          "base_uri": "https://localhost:8080/"
        },
        "id": "wr-vW4dcJmCm",
        "outputId": "f4b1d406-899b-4cd4-ef3f-488c42fb1efb"
      },
      "source": [
        "print(white.isnull().values.any())\n",
        "print(red.isnull().values.any())"
      ],
      "execution_count": null,
      "outputs": [
        {
          "output_type": "stream",
          "text": [
            "False\n",
            "False\n"
          ],
          "name": "stdout"
        }
      ]
    },
    {
      "cell_type": "code",
      "metadata": {
        "id": "P_3aw7ycSB2s"
      },
      "source": [
        "X_white=white.loc[:, white.columns != 'quality']\n",
        "Y_white=white.loc[:, white.columns == 'quality']\n",
        "X_red=red.loc[:, red.columns != 'quality']\n",
        "Y_red=red.loc[:, red.columns == 'quality']"
      ],
      "execution_count": null,
      "outputs": []
    },
    {
      "cell_type": "code",
      "metadata": {
        "id": "hXdQnBYmXEUg"
      },
      "source": [
        "def TO_TORCH(m):\n",
        "    #convert an array/DF into a tensor with gpu on if necessary\n",
        "    if isinstance(m, np.ndarray):\n",
        "        m=torch.from_numpy(m).float()\n",
        "    elif isinstance(m, pd.DataFrame):\n",
        "        m=torch.from_numpy(m.values).float()\n",
        "    if train_on_gpu:\n",
        "        m = m.to(device=\"cuda\")\n",
        "    return(m)"
      ],
      "execution_count": null,
      "outputs": []
    },
    {
      "cell_type": "markdown",
      "metadata": {
        "id": "tq8kD1zeSoQT"
      },
      "source": [
        "# $\\frac{2}{3}$/$\\frac{1}{3}$ Holdout Split and Standardization"
      ]
    },
    {
      "cell_type": "code",
      "metadata": {
        "id": "4TY42rlUU0bD"
      },
      "source": [
        "X_TRAIN_white, X_TEST_white, Y_TRAIN_white, Y_TEST_white = train_test_split(X_white, Y_white, test_size=0.33, random_state=42)\n",
        "X_TRAIN_red, X_TEST_red, Y_TRAIN_red, Y_TEST_red = train_test_split(X_red, Y_red, test_size=0.33, random_state=42)\n",
        "TRAIN_scaler_white = preprocessing.StandardScaler().fit(X_TRAIN_white)\n",
        "TEST_scaler_white = preprocessing.StandardScaler().fit(X_TEST_white)\n",
        "X_TRAIN_white = TO_TORCH(TRAIN_scaler_white.transform(X_TRAIN_white))\n",
        "X_TEST_white = TO_TORCH(TEST_scaler_white.transform(X_TEST_white))\n",
        "TRAIN_scaler_red = preprocessing.StandardScaler().fit(X_TRAIN_red)\n",
        "TEST_scaler_red = preprocessing.StandardScaler().fit(X_TEST_red)\n",
        "X_TRAIN_red = TO_TORCH(TRAIN_scaler_red.transform(X_TRAIN_red))\n",
        "X_TEST_red = TO_TORCH(TEST_scaler_red.transform(X_TEST_red))\n",
        "Y_TRAIN_white = TO_TORCH(Y_TRAIN_white)\n",
        "Y_TEST_white = TO_TORCH(Y_TEST_white)\n",
        "Y_TRAIN_red = TO_TORCH(Y_TRAIN_red)\n",
        "Y_TEST_red = TO_TORCH(Y_TEST_red)"
      ],
      "execution_count": null,
      "outputs": []
    },
    {
      "cell_type": "markdown",
      "metadata": {
        "id": "KeBq4wPeVFoZ"
      },
      "source": [
        "# Nerual Networks"
      ]
    },
    {
      "cell_type": "markdown",
      "metadata": {
        "id": "X1UebZ-Zfkcr"
      },
      "source": [
        "## Architecture"
      ]
    },
    {
      "cell_type": "code",
      "metadata": {
        "id": "7xhFUWnXVIFZ"
      },
      "source": [
        "# Neural Network structure\n",
        "class Net(nn.Module):\n",
        "    def __init__(self,INPUT_DIM,OUTPUT_DIM,HIDDEN_DIM,DROP_PR=0.0,BN=False):\n",
        "        super(Net, self).__init__()\n",
        "        self.input_dim = INPUT_DIM\n",
        "        self.output_dim = OUTPUT_DIM\n",
        "        self.hidden_dim = HIDDEN_DIM\n",
        "        self.DROP_PR = DROP_PR\n",
        "        current_dim = self.input_dim\n",
        "        self.layers = nn.ModuleList()\n",
        "        self.BN=BN\n",
        "        self.bn = nn.ModuleList()\n",
        "        for hdim in self.hidden_dim:\n",
        "            self.layers.append(nn.Linear(current_dim, hdim))\n",
        "            self.bn.append(nn.BatchNorm1d(hdim))\n",
        "            current_dim = hdim\n",
        "        self.layers.append(nn.Linear(current_dim, self.output_dim))\n",
        "        self.dropout = nn.Dropout(self.DROP_PR)\n",
        "\n",
        "    def forward(self, x):\n",
        "        for i, layer in enumerate(self.layers[:-1]):\n",
        "            x = layer(x)\n",
        "            if self.BN:\n",
        "                x = self.bn[i](x)\n",
        "            x = torch.sigmoid(x)\n",
        "            x = self.dropout(x)\n",
        "        out = self.layers[-1](x)\n",
        "        return out \n",
        "\n",
        "#Loss function: mean absolute deviation\n",
        "criterion = torch.nn.L1Loss() \n",
        "\n",
        "#Accuracy with tolerance\n",
        "def ACCURACY(Y_pred,target,Tolerance):\n",
        "    v=(abs(Y_pred-target)<=Tolerance)*1.0\n",
        "    return(torch.mean(v))\n",
        "\n",
        "#Kappa statistic compared with a random classifier\n",
        "def KAPPA(Y_pred,target):\n",
        "    #only work for Tolerance=0.5\n",
        "    KAPP=cohen_kappa_score(target.cpu().detach().numpy(),torch.round(Y_pred).cpu().detach().numpy())\n",
        "    #KAPP2=cohen_kappa_score(torch.round(Y_pred).cpu().detach().numpy(),target.cpu().detach().numpy())    \n",
        "    return(KAPP)"
      ],
      "execution_count": null,
      "outputs": []
    },
    {
      "cell_type": "markdown",
      "metadata": {
        "id": "ZVCUECPWfdxY"
      },
      "source": [
        "## Toy example (Ignore this part)\n",
        "red wine"
      ]
    },
    {
      "cell_type": "code",
      "metadata": {
        "id": "0r7A-QrGaX11"
      },
      "source": [
        "T=1 #Tolerance:0.25,0.5,1.0\n",
        "\n",
        "LR=1e-2\n",
        "OPT=\"SGD\" # \"SGD\" or \"ADAM\"\n",
        "EPOCH=30000\n",
        "\n",
        "HIDDEN_DIM = [11]\n",
        "INPUT_DIM = X_TRAIN_white.shape[1]\n",
        "OUTPUT_DIM = 1\n",
        "TOY_MODEL=Net(INPUT_DIM,OUTPUT_DIM,HIDDEN_DIM)\n",
        "if train_on_gpu:\n",
        "    TOY_MODEL.cuda()\n",
        "#Optimizer: \n",
        "if OPT==\"SGD\":\n",
        "    optimizer = torch.optim.SGD(TOY_MODEL.parameters(),lr=LR)\n",
        "if OPT==\"ADAM\":\n",
        "    optimizer = torch.optim.Adam(TOY_MODEL.parameters(),lr=LR, betas=(0.9, 0.99))\n",
        "#scheduler = optim.lr_scheduler.StepLR(optimizer, step_size=STEP_SIZE, gamma=DECAY)"
      ],
      "execution_count": null,
      "outputs": []
    },
    {
      "cell_type": "code",
      "metadata": {
        "id": "2sJryuV4k_HW"
      },
      "source": [
        "LOSS_ARR=[]\n",
        "torch.manual_seed(0)\n",
        "for epoch in tq(range(EPOCH)):\n",
        "    optimizer.zero_grad()\n",
        "    outputs=TOY_MODEL(X_TRAIN_red) #prediction\n",
        "    loss = criterion(outputs, Y_TRAIN_red) #compared with the true labels\n",
        "    LOSS_ARR.append(loss.data)\n",
        "    loss.backward()\n",
        "    optimizer.step()    \n",
        "    if (epoch+1)%round(EPOCH/5)==0:\n",
        "        kappa=KAPPA(outputs, Y_TRAIN_red)\n",
        "        accuracy=ACCURACY(outputs,Y_TRAIN_red,T).item()\n",
        "        print(\"\\n After {} Epochs: MAD is {}; Accuracy is {}% (T={}); KAPPA is {}% (T=0.5)\".format((epoch+1),round(loss.item(),3),round(accuracy*100,3),T,round(kappa*100,3)))\n"
      ],
      "execution_count": null,
      "outputs": []
    },
    {
      "cell_type": "code",
      "metadata": {
        "id": "h6JolDcl1gGb"
      },
      "source": [
        "zoom=np.floor(len(LOSS_ARR)/5).astype(int)\n",
        "zoom=0\n",
        "plt.plot(np.arange(len(LOSS_ARR)-zoom)+zoom, LOSS_ARR[zoom:])\n",
        "plt.xlabel(\"Epoch\")\n",
        "plt.ylabel(\"Loss\")\n",
        "plt.title(\"Final Loss = {}\".format(LOSS_ARR[-1]))"
      ],
      "execution_count": null,
      "outputs": []
    },
    {
      "cell_type": "code",
      "metadata": {
        "id": "EDd-kSBuomwX"
      },
      "source": [
        "test_pred=TOY_MODEL(X_TEST_red)\n",
        "loss = criterion(test_pred, Y_TEST_red)\n",
        "print(\"Test MAD is {};\".format(round(loss.item(),3)))\n",
        "for T in [0.25,0.5,1.0]: \n",
        "    accuracy=ACCURACY(test_pred,Y_TEST_red,T).item()\n",
        "    print(\"Test Accuracy is {}% (T={});\".format(round(accuracy*100,3),T))\n",
        "test_kappa=KAPPA(test_pred, Y_TEST_red)\n",
        "print(\"Test KAPPA is {}% (T=0.5);\".format(round(test_kappa*100,3)))"
      ],
      "execution_count": null,
      "outputs": []
    },
    {
      "cell_type": "markdown",
      "metadata": {
        "id": "fxCzpUBBgk0h"
      },
      "source": [
        "## Wrap it up"
      ]
    },
    {
      "cell_type": "code",
      "metadata": {
        "id": "LeI-0o9zfJlP"
      },
      "source": [
        "def TRAIN_NN(TRAIN_X,TRAIN_Y,HIDDEN_DIM,EPOCH,DROP_PR=0.0,BN=False,LR=1e-2,OPT=\"SGD\",T=0.5):\n",
        "    #TRAIN_X,TRIAN_Y: should be tensors\n",
        "    # HIDDEN_DIM: [H] or deeper\n",
        "    # BN: Bool, if using Batch Normalization or not\n",
        "    # \"SGD\" or \"ADAM\"\n",
        "    # T:0.25,0.5,1.0\n",
        "    INPUT_DIM = TRAIN_X.shape[1]\n",
        "    OUTPUT_DIM = 1\n",
        "    MODEL=Net(INPUT_DIM,OUTPUT_DIM,HIDDEN_DIM)\n",
        "    if train_on_gpu:\n",
        "        MODEL.cuda()\n",
        "    #Optimizer: \n",
        "    if OPT==\"SGD\":\n",
        "        optimizer = torch.optim.SGD(MODEL.parameters(),lr=LR)\n",
        "    if OPT==\"ADAM\":\n",
        "        optimizer = torch.optim.Adam(MODEL.parameters(),lr=LR, betas=(0.9, 0.99))\n",
        "    LOSS_ARR=[]\n",
        "    torch.manual_seed(0)\n",
        "    for epoch in tq(range(EPOCH)):\n",
        "        optimizer.zero_grad()\n",
        "        outputs=MODEL(TRAIN_X) #prediction\n",
        "        loss = criterion(outputs, TRAIN_Y) #compared with the true labels\n",
        "        LOSS_ARR.append(loss.data)\n",
        "        loss.backward()\n",
        "        optimizer.step()    \n",
        "        if (epoch+1)%round(EPOCH/5)==0:\n",
        "            kappa=KAPPA(outputs, TRAIN_Y)\n",
        "            accuracy=ACCURACY(outputs,TRAIN_Y,T).item()\n",
        "            print(\"\\n After {} Epochs: MAD is {}; Accuracy is {}% (T={}); KAPPA is {}% (T=0.5)\".format((epoch+1),round(loss.item(),3),round(accuracy*100,3),T,round(kappa*100,3)))\n",
        "    return({\"MODEL\":MODEL,\"LOSS_ARR\":LOSS_ARR})"
      ],
      "execution_count": null,
      "outputs": []
    },
    {
      "cell_type": "code",
      "metadata": {
        "id": "Lpl5Q3pQCAWy"
      },
      "source": [
        "def TEST_NN(MODEL,TEST_X,TEST_Y,T_list=[0.25,0.5,1]):\n",
        "    MODEL.eval()\n",
        "    test_pred=MODEL(TEST_X)\n",
        "    loss = criterion(test_pred, TEST_Y)\n",
        "    MAD=loss.item()\n",
        "    accuracy_list=[ACCURACY(test_pred,TEST_Y,T).item() for T in T_list]\n",
        "    kappa=KAPPA(test_pred, TEST_Y)\n",
        "    MODEL.train()\n",
        "    return({\"MAD\":MAD,\"accuracy_list\":accuracy_list,\"kappa\":kappa})"
      ],
      "execution_count": null,
      "outputs": []
    },
    {
      "cell_type": "markdown",
      "metadata": {
        "id": "DFwcZ9jUB12A"
      },
      "source": [
        "### White wine"
      ]
    },
    {
      "cell_type": "code",
      "metadata": {
        "id": "do0_B9ReY6m1",
        "colab": {
          "base_uri": "https://localhost:8080/"
        },
        "outputId": "5cd26c03-0951-4c96-9f37-3ff5b8df56de"
      },
      "source": [
        "result_white=TRAIN_NN(X_TRAIN_white,Y_TRAIN_white,[11],EPOCH=30000)\n",
        "MODEL_NN_white=result_white[\"MODEL\"]\n",
        "LOSS_white=result_white[\"LOSS_ARR\"]"
      ],
      "execution_count": null,
      "outputs": [
        {
          "output_type": "stream",
          "text": [
            " 21%|██        | 6218/30000 [00:05<00:19, 1238.59it/s]"
          ],
          "name": "stderr"
        },
        {
          "output_type": "stream",
          "text": [
            "\n",
            " After 6000 Epochs: MAD is 0.578; Accuracy is 53.033% (T=0.5); KAPPA is 24.066% (T=0.5)\n"
          ],
          "name": "stdout"
        },
        {
          "output_type": "stream",
          "text": [
            " 40%|████      | 12125/30000 [00:09<00:14, 1200.32it/s]"
          ],
          "name": "stderr"
        },
        {
          "output_type": "stream",
          "text": [
            "\n",
            " After 12000 Epochs: MAD is 0.574; Accuracy is 53.49% (T=0.5); KAPPA is 24.962% (T=0.5)\n"
          ],
          "name": "stdout"
        },
        {
          "output_type": "stream",
          "text": [
            " 61%|██████    | 18226/30000 [00:14<00:09, 1237.80it/s]"
          ],
          "name": "stderr"
        },
        {
          "output_type": "stream",
          "text": [
            "\n",
            " After 18000 Epochs: MAD is 0.568; Accuracy is 53.49% (T=0.5); KAPPA is 25.102% (T=0.5)\n"
          ],
          "name": "stdout"
        },
        {
          "output_type": "stream",
          "text": [
            " 80%|████████  | 24138/30000 [00:19<00:04, 1225.67it/s]"
          ],
          "name": "stderr"
        },
        {
          "output_type": "stream",
          "text": [
            "\n",
            " After 24000 Epochs: MAD is 0.56; Accuracy is 54.282% (T=0.5); KAPPA is 26.575% (T=0.5)\n"
          ],
          "name": "stdout"
        },
        {
          "output_type": "stream",
          "text": [
            "100%|██████████| 30000/30000 [00:24<00:00, 1238.25it/s]"
          ],
          "name": "stderr"
        },
        {
          "output_type": "stream",
          "text": [
            "\n",
            " After 30000 Epochs: MAD is 0.554; Accuracy is 54.099% (T=0.5); KAPPA is 26.62% (T=0.5)\n"
          ],
          "name": "stdout"
        },
        {
          "output_type": "stream",
          "text": [
            "\n"
          ],
          "name": "stderr"
        }
      ]
    },
    {
      "cell_type": "code",
      "metadata": {
        "colab": {
          "base_uri": "https://localhost:8080/",
          "height": 313
        },
        "id": "narpXXMABWr0",
        "outputId": "16db71d3-4bea-416f-ec48-2a29cc77b180"
      },
      "source": [
        "zoom=np.floor(len(LOSS_white)/5).astype(int)\n",
        "zoom=0\n",
        "plt.plot(np.arange(len(LOSS_white)-zoom)+zoom, LOSS_white[zoom:])\n",
        "plt.xlabel(\"Epoch\")\n",
        "plt.ylabel(\"Loss\")\n",
        "plt.title(\"Final Loss = {}\".format(LOSS_white[-1]))"
      ],
      "execution_count": null,
      "outputs": [
        {
          "output_type": "execute_result",
          "data": {
            "text/plain": [
              "Text(0.5, 1.0, 'Final Loss = 0.5540362596511841')"
            ]
          },
          "metadata": {
            "tags": []
          },
          "execution_count": 16
        },
        {
          "output_type": "display_data",
          "data": {
            "image/png": "[encoded data removed]",
            "text/plain": [
              "<Figure size 432x288 with 1 Axes>"
            ]
          },
          "metadata": {
            "tags": [],
            "needs_background": "light"
          }
        }
      ]
    },
    {
      "cell_type": "code",
      "metadata": {
        "colab": {
          "base_uri": "https://localhost:8080/"
        },
        "id": "h3XZe-9WB08A",
        "outputId": "e83161ad-7026-4a5b-f5d8-a262d56e34ca"
      },
      "source": [
        "T_list=[0.25,0.5,1]\n",
        "Result_TEST_white=TEST_NN(MODEL_NN_white,X_TEST_white,Y_TEST_white,T_list)\n",
        "print(\"Test MAD is {};\".format(round(Result_TEST_white[\"MAD\"],3)))\n",
        "for i,T in enumerate(T_list): \n",
        "    acc=Result_TEST_white[\"accuracy_list\"][i]\n",
        "    print(\"Test Accuracy is {}% (T={});\".format(round(acc*100,3),T))\n",
        "test_kappa=Result_TEST_white[\"kappa\"]\n",
        "print(\"Test KAPPA is {}% (T=0.5);\".format(round(test_kappa*100,3)))"
      ],
      "execution_count": null,
      "outputs": [
        {
          "output_type": "stream",
          "text": [
            "Test MAD is 0.569;\n",
            "Test Accuracy is 28.262% (T=0.25);\n",
            "Test Accuracy is 52.999% (T=0.5);\n",
            "Test Accuracy is 84.106% (T=1);\n",
            "Test KAPPA is 24.773% (T=0.5);\n"
          ],
          "name": "stdout"
        }
      ]
    },
    {
      "cell_type": "code",
      "metadata": {
        "colab": {
          "base_uri": "https://localhost:8080/",
          "height": 327
        },
        "id": "E0eEzJ69Fy_c",
        "outputId": "e0d959e2-506b-45c8-9a0e-5ed277e736f5"
      },
      "source": [
        "T_list_REC=np.linspace(0,2,100)\n",
        "ACCURACY_list_REC_white=TEST_NN(MODEL_NN_white,X_TEST_white,Y_TEST_white,T_list_REC)[\"accuracy_list\"]\n",
        "plt.plot(T_list_REC,ACCURACY_list_REC_white)\n",
        "plt.xlabel(\"Tolerance\")\n",
        "plt.ylabel(\"Accuracy\")\n",
        "plt.title(\"REC \\n White wine\")"
      ],
      "execution_count": null,
      "outputs": [
        {
          "output_type": "execute_result",
          "data": {
            "text/plain": [
              "Text(0.5, 1.0, 'REC \\n White wine')"
            ]
          },
          "metadata": {
            "tags": []
          },
          "execution_count": 18
        },
        {
          "output_type": "display_data",
          "data": {
            "image/png": "[encoded data removed]",
            "text/plain": [
              "<Figure size 432x288 with 1 Axes>"
            ]
          },
          "metadata": {
            "tags": [],
            "needs_background": "light"
          }
        }
      ]
    },
    {
      "cell_type": "markdown",
      "metadata": {
        "id": "-WFZz6hvB5Gl"
      },
      "source": [
        "### Red wine"
      ]
    },
    {
      "cell_type": "code",
      "metadata": {
        "colab": {
          "base_uri": "https://localhost:8080/"
        },
        "id": "o1Ld6AMEBGmM",
        "outputId": "705c0890-b8d0-4944-cec8-877ab94f436a"
      },
      "source": [
        "result_red=TRAIN_NN(X_TRAIN_red,Y_TRAIN_red,[11],EPOCH=30000)\n",
        "MODEL_NN_red=result_red[\"MODEL\"]\n",
        "LOSS_red=result_red[\"LOSS_ARR\"]"
      ],
      "execution_count": null,
      "outputs": [
        {
          "output_type": "stream",
          "text": [
            " 21%|██        | 6235/30000 [00:05<00:19, 1217.55it/s]"
          ],
          "name": "stderr"
        },
        {
          "output_type": "stream",
          "text": [
            "\n",
            " After 6000 Epochs: MAD is 0.477; Accuracy is 60.878% (T=0.5); KAPPA is 34.755% (T=0.5)\n"
          ],
          "name": "stdout"
        },
        {
          "output_type": "stream",
          "text": [
            " 41%|████      | 12168/30000 [00:10<00:14, 1203.30it/s]"
          ],
          "name": "stderr"
        },
        {
          "output_type": "stream",
          "text": [
            "\n",
            " After 12000 Epochs: MAD is 0.468; Accuracy is 61.625% (T=0.5); KAPPA is 35.881% (T=0.5)\n"
          ],
          "name": "stdout"
        },
        {
          "output_type": "stream",
          "text": [
            " 61%|██████    | 18254/30000 [00:15<00:09, 1238.01it/s]"
          ],
          "name": "stderr"
        },
        {
          "output_type": "stream",
          "text": [
            "\n",
            " After 18000 Epochs: MAD is 0.46; Accuracy is 62.278% (T=0.5); KAPPA is 37.073% (T=0.5)\n"
          ],
          "name": "stdout"
        },
        {
          "output_type": "stream",
          "text": [
            " 81%|████████  | 24209/30000 [00:20<00:04, 1267.49it/s]"
          ],
          "name": "stderr"
        },
        {
          "output_type": "stream",
          "text": [
            "\n",
            " After 24000 Epochs: MAD is 0.455; Accuracy is 62.932% (T=0.5); KAPPA is 38.462% (T=0.5)\n"
          ],
          "name": "stdout"
        },
        {
          "output_type": "stream",
          "text": [
            "100%|██████████| 30000/30000 [00:24<00:00, 1209.09it/s]"
          ],
          "name": "stderr"
        },
        {
          "output_type": "stream",
          "text": [
            "\n",
            " After 30000 Epochs: MAD is 0.451; Accuracy is 63.119% (T=0.5); KAPPA is 38.728% (T=0.5)\n"
          ],
          "name": "stdout"
        },
        {
          "output_type": "stream",
          "text": [
            "\n"
          ],
          "name": "stderr"
        }
      ]
    },
    {
      "cell_type": "code",
      "metadata": {
        "id": "_v9IHTLLBg0p"
      },
      "source": [
        "zoom=np.floor(len(LOSS_red)/5).astype(int)\n",
        "zoom=0\n",
        "plt.plot(np.arange(len(LOSS_red)-zoom)+zoom, LOSS_red[zoom:])\n",
        "plt.xlabel(\"Epoch\")\n",
        "plt.ylabel(\"Loss\")\n",
        "plt.title(\"Final Loss = {}\".format(LOSS_red[-1]))"
      ],
      "execution_count": null,
      "outputs": []
    },
    {
      "cell_type": "code",
      "metadata": {
        "colab": {
          "base_uri": "https://localhost:8080/"
        },
        "id": "HBcWEDo3ERag",
        "outputId": "fff54ee4-dd30-44b6-a902-a924f4077572"
      },
      "source": [
        "T_list=[0.25,0.5,1]\n",
        "Result_TEST_red=TEST_NN(MODEL_NN_red,X_TEST_red,Y_TEST_red,T_list)\n",
        "print(\"Test MAD is {};\".format(round(Result_TEST_red[\"MAD\"],3)))\n",
        "for i,T in enumerate(T_list): \n",
        "    acc=Result_TEST_red[\"accuracy_list\"][i]\n",
        "    print(\"Test Accuracy is {}% (T={});\".format(round(acc*100,3),T))\n",
        "test_kappa=Result_TEST_red[\"kappa\"]\n",
        "print(\"Test KAPPA is {}% (T=0.5);\".format(round(test_kappa*100,3)))"
      ],
      "execution_count": null,
      "outputs": [
        {
          "output_type": "stream",
          "text": [
            "Test MAD is 0.496;\n",
            "Test Accuracy is 36.364% (T=0.25);\n",
            "Test Accuracy is 57.386% (T=0.5);\n",
            "Test Accuracy is 88.826% (T=1);\n",
            "Test KAPPA is 30.16% (T=0.5);\n"
          ],
          "name": "stdout"
        }
      ]
    },
    {
      "cell_type": "code",
      "metadata": {
        "colab": {
          "base_uri": "https://localhost:8080/",
          "height": 327
        },
        "id": "z-v24yalGg5u",
        "outputId": "2a2f017f-e834-4b08-951b-bfdb1d5a32bc"
      },
      "source": [
        "T_list_REC=np.linspace(0,2,100)\n",
        "ACCURACY_list_REC_red=TEST_NN(MODEL_NN_red,X_TEST_red,Y_TEST_red,T_list_REC)[\"accuracy_list\"]\n",
        "plt.plot(T_list_REC,ACCURACY_list_REC_red)\n",
        "plt.xlabel(\"Tolerance\")\n",
        "plt.ylabel(\"Accuracy\")\n",
        "plt.title(\"REC \\n White wine\")"
      ],
      "execution_count": null,
      "outputs": [
        {
          "output_type": "execute_result",
          "data": {
            "text/plain": [
              "Text(0.5, 1.0, 'REC \\n White wine')"
            ]
          },
          "metadata": {
            "tags": []
          },
          "execution_count": 22
        },
        {
          "output_type": "display_data",
          "data": {
            "image/png": "[encoded data removed]",
            "text/plain": [
              "<Figure size 432x288 with 1 Axes>"
            ]
          },
          "metadata": {
            "tags": [],
            "needs_background": "light"
          }
        }
      ]
    },
    {
      "cell_type": "markdown",
      "metadata": {
        "id": "C5lKdemHVAme"
      },
      "source": [
        "# Sensitivity Analysis (To be continued..."
      ]
    },
    {
      "cell_type": "markdown",
      "metadata": {
        "id": "0KNUpssnU0kQ"
      },
      "source": [
        "# 5-fold cross-validation"
      ]
    }
  ]
}