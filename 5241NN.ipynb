{
  "nbformat": 4,
  "nbformat_minor": 0,
  "metadata": {
    "colab": {
      "name": "5241NN.ipynb",
      "provenance": [],
      "collapsed_sections": [
        "ZVCUECPWfdxY"
      ],
      "toc_visible": true,
      "include_colab_link": true
    },
    "kernelspec": {
      "name": "python3",
      "display_name": "Python 3"
    },
    "accelerator": "GPU"
  },
  "cells": [
    {
      "cell_type": "markdown",
      "metadata": {
        "id": "view-in-github",
        "colab_type": "text"
      },
      "source": [
        "<a href=\"https://colab.research.google.com/github/JMGilbert/STAT4241-Final-Project/blob/main/5241NN.ipynb\" target=\"_parent\"><img src=\"https://colab.research.google.com/assets/colab-badge.svg\" alt=\"Open In Colab\"/></a>"
      ]
    },
    {
      "cell_type": "markdown",
      "metadata": {
        "id": "XMVY7QN5COT5"
      },
      "source": [
        "Don't forget to enable GPU:    \n",
        "Edit > Notebook settings or Runtime>Change runtime type    \n",
        "and select GPU as Hardware accelerator."
      ]
    },
    {
      "cell_type": "code",
      "metadata": {
        "colab": {
          "base_uri": "https://localhost:8080/"
        },
        "id": "vvoPbwNBCMa4",
        "outputId": "a5a080f2-654e-47bc-a54b-4c062277d2a2"
      },
      "source": [
        "import torch\n",
        "import torch.optim as optim\n",
        "import torch.nn as nn\n",
        "import torch.nn.functional as F\n",
        "import numpy as np\n",
        "import pandas as pd\n",
        "import seaborn as sns\n",
        "import matplotlib.pylab as plt\n",
        "from sklearn import preprocessing\n",
        "from sklearn.model_selection import train_test_split\n",
        "from tqdm import tqdm as tq\n",
        "from sklearn.metrics import cohen_kappa_score\n",
        "from sklearn.metrics import confusion_matrix\n",
        "\n",
        "\n",
        "train_on_gpu = torch.cuda.is_available()\n",
        "\n",
        "if not train_on_gpu:\n",
        "    print('CUDA is not available.  Training on CPU ...')\n",
        "else:\n",
        "    print('CUDA is available!  Training on GPU ...')"
      ],
      "execution_count": 174,
      "outputs": [
        {
          "output_type": "stream",
          "text": [
            "CUDA is available!  Training on GPU ...\n"
          ],
          "name": "stdout"
        }
      ]
    },
    {
      "cell_type": "markdown",
      "metadata": {
        "id": "knahGSpgSdT6"
      },
      "source": [
        "# Import Data"
      ]
    },
    {
      "cell_type": "code",
      "metadata": {
        "id": "ngnGhT8EDhVc"
      },
      "source": [
        "#url of the dataset from our GitHub repository\n",
        "url_red=\"https://raw.githubusercontent.com/JMGilbert/STAT4241-Final-Project/main/winequality-red.csv\"\n",
        "url_white=\"https://raw.githubusercontent.com/JMGilbert/STAT4241-Final-Project/main/winequality-white.csv\"\n",
        "red=pd.read_csv(url_red,sep=';')\n",
        "white=pd.read_csv(url_white,sep=';')"
      ],
      "execution_count": 2,
      "outputs": []
    },
    {
      "cell_type": "code",
      "metadata": {
        "colab": {
          "base_uri": "https://localhost:8080/",
          "height": 299
        },
        "id": "Q87zDm50H9cy",
        "outputId": "105696e0-df6e-47e9-af41-a7a4525b957e"
      },
      "source": [
        "plt.subplot(1,2,1).set_title(\"Red wine\")\n",
        "plt.bar(list(set(red[\"quality\"])),red[\"quality\"].value_counts(sort=False).sort_index())\n",
        "plt.subplot(1,2,2).set_title(\"White wine\")\n",
        "plt.bar(list(set(white[\"quality\"])),white[\"quality\"].value_counts(sort=False).sort_index())"
      ],
      "execution_count": 3,
      "outputs": [
        {
          "output_type": "execute_result",
          "data": {
            "text/plain": [
              "<BarContainer object of 7 artists>"
            ]
          },
          "metadata": {
            "tags": []
          },
          "execution_count": 3
        },
        {
          "output_type": "display_data",
          "data": {
            "image/png": "[encoded data removed]",
            "text/plain": [
              "<Figure size 432x288 with 2 Axes>"
            ]
          },
          "metadata": {
            "tags": [],
            "needs_background": "light"
          }
        }
      ]
    },
    {
      "cell_type": "code",
      "metadata": {
        "colab": {
          "base_uri": "https://localhost:8080/"
        },
        "id": "wr-vW4dcJmCm",
        "outputId": "93c24290-5615-4702-a329-05ceffaf7f11"
      },
      "source": [
        "print(white.isnull().values.any())\n",
        "print(red.isnull().values.any())"
      ],
      "execution_count": 4,
      "outputs": [
        {
          "output_type": "stream",
          "text": [
            "False\n",
            "False\n"
          ],
          "name": "stdout"
        }
      ]
    },
    {
      "cell_type": "code",
      "metadata": {
        "id": "P_3aw7ycSB2s"
      },
      "source": [
        "X_white=white.loc[:, white.columns != 'quality']\n",
        "Y_white=white.loc[:, white.columns == 'quality']\n",
        "X_red=red.loc[:, red.columns != 'quality']\n",
        "Y_red=red.loc[:, red.columns == 'quality']"
      ],
      "execution_count": 5,
      "outputs": []
    },
    {
      "cell_type": "code",
      "metadata": {
        "id": "hXdQnBYmXEUg"
      },
      "source": [
        "def TO_TORCH(m):\n",
        "    #convert an array/DF into a tensor with gpu on if necessary\n",
        "    if isinstance(m, np.ndarray):\n",
        "        m=torch.from_numpy(m).float()\n",
        "    elif isinstance(m, pd.DataFrame):\n",
        "        m=torch.from_numpy(m.values).float()\n",
        "    if train_on_gpu:\n",
        "        m = m.to(device=\"cuda\")\n",
        "    return(m)"
      ],
      "execution_count": 6,
      "outputs": []
    },
    {
      "cell_type": "code",
      "metadata": {
        "id": "Kgj5ipeRY9vz"
      },
      "source": [
        "red_class=pd.unique(red['quality'])\n",
        "white_class=pd.unique(white['quality'])\n",
        "red_class.sort()\n",
        "white_class.sort()"
      ],
      "execution_count": 203,
      "outputs": []
    },
    {
      "cell_type": "code",
      "metadata": {
        "colab": {
          "base_uri": "https://localhost:8080/"
        },
        "id": "j_hO_QvJMgg9",
        "outputId": "312f16dc-0699-4bee-e010-89f191687946"
      },
      "source": [
        "predictors_name=list(red.columns)[:-1]\n",
        "predictors_name"
      ],
      "execution_count": 85,
      "outputs": [
        {
          "output_type": "execute_result",
          "data": {
            "text/plain": [
              "['fixed acidity',\n",
              " 'volatile acidity',\n",
              " 'citric acid',\n",
              " 'residual sugar',\n",
              " 'chlorides',\n",
              " 'free sulfur dioxide',\n",
              " 'total sulfur dioxide',\n",
              " 'density',\n",
              " 'pH',\n",
              " 'sulphates',\n",
              " 'alcohol']"
            ]
          },
          "metadata": {
            "tags": []
          },
          "execution_count": 85
        }
      ]
    },
    {
      "cell_type": "markdown",
      "metadata": {
        "id": "tq8kD1zeSoQT"
      },
      "source": [
        "# $\\frac{2}{3}$/$\\frac{1}{3}$ Holdout Split and Standardization"
      ]
    },
    {
      "cell_type": "code",
      "metadata": {
        "id": "4TY42rlUU0bD"
      },
      "source": [
        "X_TRAIN_white, X_TEST_white, Y_TRAIN_white, Y_TEST_white = train_test_split(X_white, Y_white, test_size=0.33, random_state=42)\n",
        "X_TRAIN_red, X_TEST_red, Y_TRAIN_red, Y_TEST_red = train_test_split(X_red, Y_red, test_size=0.33, random_state=42)\n",
        "\n",
        "TRAIN_scaler_white = preprocessing.StandardScaler().fit(X_TRAIN_white)\n",
        "TEST_scaler_white = preprocessing.StandardScaler().fit(X_TEST_white)\n",
        "X_TRAIN_white = TO_TORCH(TRAIN_scaler_white.transform(X_TRAIN_white))\n",
        "X_TEST_white = TO_TORCH(TEST_scaler_white.transform(X_TEST_white))\n",
        "\n",
        "TRAIN_scaler_red = preprocessing.StandardScaler().fit(X_TRAIN_red)\n",
        "TEST_scaler_red = preprocessing.StandardScaler().fit(X_TEST_red)\n",
        "X_TRAIN_red = TO_TORCH(TRAIN_scaler_red.transform(X_TRAIN_red))\n",
        "X_TEST_red = TO_TORCH(TEST_scaler_red.transform(X_TEST_red))\n",
        "\n",
        "Y_TRAIN_white = TO_TORCH(Y_TRAIN_white)\n",
        "Y_TEST_white = TO_TORCH(Y_TEST_white)\n",
        "\n",
        "Y_TRAIN_red = TO_TORCH(Y_TRAIN_red)\n",
        "Y_TEST_red = TO_TORCH(Y_TEST_red)\n",
        "\n",
        "scaler_white = preprocessing.StandardScaler().fit(X_white)\n",
        "scaler_red = preprocessing.StandardScaler().fit(X_red)\n",
        "X_white_torch = TO_TORCH(scaler_white.transform(X_white))\n",
        "X_red_torch = TO_TORCH(scaler_red.transform(X_red))\n",
        "Y_white_torch = TO_TORCH(Y_white)\n",
        "Y_red_torch = TO_TORCH(Y_red)"
      ],
      "execution_count": 186,
      "outputs": []
    },
    {
      "cell_type": "markdown",
      "metadata": {
        "id": "KeBq4wPeVFoZ"
      },
      "source": [
        "# Nerual Networks"
      ]
    },
    {
      "cell_type": "markdown",
      "metadata": {
        "id": "X1UebZ-Zfkcr"
      },
      "source": [
        "## Architecture"
      ]
    },
    {
      "cell_type": "code",
      "metadata": {
        "id": "7xhFUWnXVIFZ"
      },
      "source": [
        "# Neural Network structure\n",
        "class Net(nn.Module):\n",
        "    def __init__(self,INPUT_DIM,OUTPUT_DIM,HIDDEN_DIM,DROP_PR=0.0,BN=False):\n",
        "        super(Net, self).__init__()\n",
        "        self.input_dim = INPUT_DIM\n",
        "        self.output_dim = OUTPUT_DIM\n",
        "        self.hidden_dim = HIDDEN_DIM\n",
        "        self.DROP_PR = DROP_PR\n",
        "        current_dim = self.input_dim\n",
        "        self.layers = nn.ModuleList()\n",
        "        self.BN=BN\n",
        "        self.bn = nn.ModuleList()\n",
        "        for hdim in self.hidden_dim:\n",
        "            self.layers.append(nn.Linear(current_dim, hdim))\n",
        "            self.bn.append(nn.BatchNorm1d(hdim))\n",
        "            current_dim = hdim\n",
        "        self.layers.append(nn.Linear(current_dim, self.output_dim))\n",
        "        self.dropout = nn.Dropout(self.DROP_PR)\n",
        "\n",
        "    def forward(self, x):\n",
        "        for i, layer in enumerate(self.layers[:-1]):\n",
        "            x = layer(x)\n",
        "            if self.BN:\n",
        "                x = self.bn[i](x)\n",
        "            x = torch.sigmoid(x)\n",
        "            x = self.dropout(x)\n",
        "        out = self.layers[-1](x)\n",
        "        return out \n",
        "\n",
        "#Loss function: mean absolute deviation\n",
        "criterion = torch.nn.L1Loss() \n",
        "\n",
        "#Accuracy with tolerance\n",
        "def ACCURACY(Y_pred,target,Tolerance):\n",
        "    v=(abs(Y_pred-target)<=Tolerance)*1.0\n",
        "    return(torch.mean(v))\n",
        "\n",
        "#Kappa statistic compared with a random classifier\n",
        "def KAPPA(Y_pred,target):\n",
        "    #only work for Tolerance=0.5\n",
        "    KAPP=cohen_kappa_score(target.cpu().detach().numpy(),torch.round(Y_pred).cpu().detach().numpy())\n",
        "    #KAPP2=cohen_kappa_score(torch.round(Y_pred).cpu().detach().numpy(),target.cpu().detach().numpy())    \n",
        "    return(KAPP)"
      ],
      "execution_count": 8,
      "outputs": []
    },
    {
      "cell_type": "markdown",
      "metadata": {
        "id": "ZVCUECPWfdxY"
      },
      "source": [
        "## Toy example (Ignore this part)\n",
        "red wine"
      ]
    },
    {
      "cell_type": "code",
      "metadata": {
        "id": "0r7A-QrGaX11"
      },
      "source": [
        "T=1 #Tolerance:0.25,0.5,1.0\n",
        "\n",
        "LR=1e-2\n",
        "OPT=\"SGD\" # \"SGD\" or \"ADAM\"\n",
        "EPOCH=30000\n",
        "\n",
        "HIDDEN_DIM = [11]\n",
        "INPUT_DIM = X_TRAIN_white.shape[1]\n",
        "OUTPUT_DIM = 1\n",
        "TOY_MODEL=Net(INPUT_DIM,OUTPUT_DIM,HIDDEN_DIM)\n",
        "if train_on_gpu:\n",
        "    TOY_MODEL.cuda()\n",
        "#Optimizer: \n",
        "if OPT==\"SGD\":\n",
        "    optimizer = torch.optim.SGD(TOY_MODEL.parameters(),lr=LR)\n",
        "if OPT==\"ADAM\":\n",
        "    optimizer = torch.optim.Adam(TOY_MODEL.parameters(),lr=LR, betas=(0.9, 0.99))\n",
        "#scheduler = optim.lr_scheduler.StepLR(optimizer, step_size=STEP_SIZE, gamma=DECAY)"
      ],
      "execution_count": 9,
      "outputs": []
    },
    {
      "cell_type": "code",
      "metadata": {
        "id": "2sJryuV4k_HW",
        "colab": {
          "base_uri": "https://localhost:8080/"
        },
        "outputId": "67533316-eed0-448b-f835-e70b5df9b5e0"
      },
      "source": [
        "LOSS_ARR=[]\n",
        "torch.manual_seed(0)\n",
        "for epoch in tq(range(EPOCH)):\n",
        "    optimizer.zero_grad()\n",
        "    outputs=TOY_MODEL(X_TRAIN_red) #prediction\n",
        "    loss = criterion(outputs, Y_TRAIN_red) #compared with the true labels\n",
        "    LOSS_ARR.append(loss.data)\n",
        "    loss.backward()\n",
        "    optimizer.step()    \n",
        "    if (epoch+1)%round(EPOCH/5)==0:\n",
        "        kappa=KAPPA(outputs, Y_TRAIN_red)\n",
        "        accuracy=ACCURACY(outputs,Y_TRAIN_red,T).item()\n",
        "        print(\"\\n After {} Epochs: MAD is {}; Accuracy is {}% (T={}); KAPPA is {}% (T=0.5)\".format((epoch+1),round(loss.item(),3),round(accuracy*100,3),T,round(kappa*100,3)))\n"
      ],
      "execution_count": 10,
      "outputs": [
        {
          "output_type": "stream",
          "text": [
            " 20%|██        | 6106/30000 [00:05<00:24, 986.49it/s]"
          ],
          "name": "stderr"
        },
        {
          "output_type": "stream",
          "text": [
            "\n",
            " After 6000 Epochs: MAD is 0.48; Accuracy is 89.262% (T=1); KAPPA is 33.62% (T=0.5)\n"
          ],
          "name": "stdout"
        },
        {
          "output_type": "stream",
          "text": [
            " 41%|████      | 12166/30000 [00:11<00:15, 1152.80it/s]"
          ],
          "name": "stderr"
        },
        {
          "output_type": "stream",
          "text": [
            "\n",
            " After 12000 Epochs: MAD is 0.473; Accuracy is 89.449% (T=1); KAPPA is 34.568% (T=0.5)\n"
          ],
          "name": "stdout"
        },
        {
          "output_type": "stream",
          "text": [
            " 61%|██████    | 18193/30000 [00:16<00:10, 1121.02it/s]"
          ],
          "name": "stderr"
        },
        {
          "output_type": "stream",
          "text": [
            "\n",
            " After 18000 Epochs: MAD is 0.465; Accuracy is 89.449% (T=1); KAPPA is 35.268% (T=0.5)\n"
          ],
          "name": "stdout"
        },
        {
          "output_type": "stream",
          "text": [
            " 80%|████████  | 24131/30000 [00:22<00:05, 1119.51it/s]"
          ],
          "name": "stderr"
        },
        {
          "output_type": "stream",
          "text": [
            "\n",
            " After 24000 Epochs: MAD is 0.457; Accuracy is 89.636% (T=1); KAPPA is 36.783% (T=0.5)\n"
          ],
          "name": "stdout"
        },
        {
          "output_type": "stream",
          "text": [
            "100%|██████████| 30000/30000 [00:27<00:00, 1099.56it/s]"
          ],
          "name": "stderr"
        },
        {
          "output_type": "stream",
          "text": [
            "\n",
            " After 30000 Epochs: MAD is 0.452; Accuracy is 90.103% (T=1); KAPPA is 39.45% (T=0.5)\n"
          ],
          "name": "stdout"
        },
        {
          "output_type": "stream",
          "text": [
            "\n"
          ],
          "name": "stderr"
        }
      ]
    },
    {
      "cell_type": "code",
      "metadata": {
        "id": "h6JolDcl1gGb",
        "colab": {
          "base_uri": "https://localhost:8080/",
          "height": 313
        },
        "outputId": "66beba9a-1302-4048-e9c6-f0cc7d2411e9"
      },
      "source": [
        "zoom=np.floor(len(LOSS_ARR)/5).astype(int)\n",
        "zoom=0\n",
        "plt.plot(np.arange(len(LOSS_ARR)-zoom)+zoom, LOSS_ARR[zoom:])\n",
        "plt.xlabel(\"Epoch\")\n",
        "plt.ylabel(\"Loss\")\n",
        "plt.title(\"Final Loss = {}\".format(LOSS_ARR[-1]))"
      ],
      "execution_count": 11,
      "outputs": [
        {
          "output_type": "execute_result",
          "data": {
            "text/plain": [
              "Text(0.5, 1.0, 'Final Loss = 0.4520167112350464')"
            ]
          },
          "metadata": {
            "tags": []
          },
          "execution_count": 11
        },
        {
          "output_type": "display_data",
          "data": {
            "image/png": "[encoded data removed]",
            "text/plain": [
              "<Figure size 432x288 with 1 Axes>"
            ]
          },
          "metadata": {
            "tags": [],
            "needs_background": "light"
          }
        }
      ]
    },
    {
      "cell_type": "code",
      "metadata": {
        "id": "EDd-kSBuomwX",
        "colab": {
          "base_uri": "https://localhost:8080/"
        },
        "outputId": "ae1f74dc-9dad-4ce6-a942-9f3c8fa72ec3"
      },
      "source": [
        "test_pred=TOY_MODEL(X_TEST_red)\n",
        "loss = criterion(test_pred, Y_TEST_red)\n",
        "print(\"Test MAD is {};\".format(round(loss.item(),3)))\n",
        "for T in [0.25,0.5,1.0]: \n",
        "    accuracy=ACCURACY(test_pred,Y_TEST_red,T).item()\n",
        "    print(\"Test Accuracy is {}% (T={});\".format(round(accuracy*100,3),T))\n",
        "test_kappa=KAPPA(test_pred, Y_TEST_red)\n",
        "print(\"Test KAPPA is {}% (T=0.5);\".format(round(test_kappa*100,3)))"
      ],
      "execution_count": 12,
      "outputs": [
        {
          "output_type": "stream",
          "text": [
            "Test MAD is 0.498;\n",
            "Test Accuracy is 33.712% (T=0.25);\n",
            "Test Accuracy is 57.197% (T=0.5);\n",
            "Test Accuracy is 89.962% (T=1.0);\n",
            "Test KAPPA is 29.517% (T=0.5);\n"
          ],
          "name": "stdout"
        }
      ]
    },
    {
      "cell_type": "markdown",
      "metadata": {
        "id": "fxCzpUBBgk0h"
      },
      "source": [
        "## Wrap it up"
      ]
    },
    {
      "cell_type": "code",
      "metadata": {
        "id": "LeI-0o9zfJlP"
      },
      "source": [
        "def TRAIN_NN(TRAIN_X,TRAIN_Y,HIDDEN_DIM,EPOCH,DROP_PR=0.0,BN=False,LR=1e-2,OPT=\"SGD\",T=0.5):\n",
        "    #TRAIN_X,TRIAN_Y: should be tensors\n",
        "    # HIDDEN_DIM: [H] or deeper\n",
        "    # BN: Bool, if using Batch Normalization or not\n",
        "    # \"SGD\" or \"ADAM\"\n",
        "    # T:0.25,0.5,1.0\n",
        "    INPUT_DIM = TRAIN_X.shape[1]\n",
        "    OUTPUT_DIM = 1\n",
        "    MODEL=Net(INPUT_DIM,OUTPUT_DIM,HIDDEN_DIM)\n",
        "    if train_on_gpu:\n",
        "        MODEL.cuda()\n",
        "    #Optimizer: \n",
        "    if OPT==\"SGD\":\n",
        "        optimizer = torch.optim.SGD(MODEL.parameters(),lr=LR)\n",
        "    if OPT==\"ADAM\":\n",
        "        optimizer = torch.optim.Adam(MODEL.parameters(),lr=LR, betas=(0.9, 0.99))\n",
        "    LOSS_ARR=[]\n",
        "    torch.manual_seed(0)\n",
        "    for epoch in tq(range(EPOCH)):\n",
        "        optimizer.zero_grad()\n",
        "        outputs=MODEL(TRAIN_X) #prediction\n",
        "        loss = criterion(outputs, TRAIN_Y) #compared with the true labels\n",
        "        LOSS_ARR.append(loss.data)\n",
        "        loss.backward()\n",
        "        optimizer.step()    \n",
        "        if (epoch+1)%round(EPOCH/5)==0:\n",
        "            kappa=KAPPA(outputs, TRAIN_Y)\n",
        "            accuracy=ACCURACY(outputs,TRAIN_Y,T).item()\n",
        "            print(\"\\n After {} Epochs: MAD is {}; Accuracy is {}% (T={}); KAPPA is {}% (T=0.5)\".format((epoch+1),round(loss.item(),3),round(accuracy*100,3),T,round(kappa*100,3)))\n",
        "    return({\"MODEL\":MODEL,\"LOSS_ARR\":LOSS_ARR})"
      ],
      "execution_count": 13,
      "outputs": []
    },
    {
      "cell_type": "code",
      "metadata": {
        "id": "Lpl5Q3pQCAWy"
      },
      "source": [
        "def TEST_NN(MODEL,TEST_X,TEST_Y,T_list=[0.25,0.5,1]):\n",
        "    MODEL.eval()\n",
        "    test_pred=MODEL(TEST_X)\n",
        "    loss = criterion(test_pred, TEST_Y)\n",
        "    MAD=loss.item()\n",
        "    accuracy_list=[ACCURACY(test_pred,TEST_Y,T).item() for T in T_list]\n",
        "    kappa=KAPPA(test_pred, TEST_Y)\n",
        "    MODEL.train()\n",
        "    return({\"MAD\":MAD,\"accuracy_list\":accuracy_list,\"kappa\":kappa})"
      ],
      "execution_count": 14,
      "outputs": []
    },
    {
      "cell_type": "markdown",
      "metadata": {
        "id": "DFwcZ9jUB12A"
      },
      "source": [
        "### White wine"
      ]
    },
    {
      "cell_type": "code",
      "metadata": {
        "id": "do0_B9ReY6m1",
        "colab": {
          "base_uri": "https://localhost:8080/"
        },
        "outputId": "992464be-a67a-4e9f-b6ec-e18a76575ea8"
      },
      "source": [
        "result_white=TRAIN_NN(X_TRAIN_white,Y_TRAIN_white,[11],EPOCH=30000)\n",
        "MODEL_NN_white=result_white[\"MODEL\"]\n",
        "LOSS_white=result_white[\"LOSS_ARR\"]"
      ],
      "execution_count": 15,
      "outputs": [
        {
          "output_type": "stream",
          "text": [
            " 21%|██        | 6166/30000 [00:05<00:19, 1191.97it/s]"
          ],
          "name": "stderr"
        },
        {
          "output_type": "stream",
          "text": [
            "\n",
            " After 6000 Epochs: MAD is 0.578; Accuracy is 53.033% (T=0.5); KAPPA is 24.066% (T=0.5)\n"
          ],
          "name": "stdout"
        },
        {
          "output_type": "stream",
          "text": [
            " 40%|████      | 12139/30000 [00:10<00:14, 1200.40it/s]"
          ],
          "name": "stderr"
        },
        {
          "output_type": "stream",
          "text": [
            "\n",
            " After 12000 Epochs: MAD is 0.574; Accuracy is 53.49% (T=0.5); KAPPA is 24.962% (T=0.5)\n"
          ],
          "name": "stdout"
        },
        {
          "output_type": "stream",
          "text": [
            " 61%|██████    | 18225/30000 [00:15<00:10, 1168.26it/s]"
          ],
          "name": "stderr"
        },
        {
          "output_type": "stream",
          "text": [
            "\n",
            " After 18000 Epochs: MAD is 0.568; Accuracy is 53.49% (T=0.5); KAPPA is 25.102% (T=0.5)\n"
          ],
          "name": "stdout"
        },
        {
          "output_type": "stream",
          "text": [
            " 80%|████████  | 24119/30000 [00:21<00:05, 1055.41it/s]"
          ],
          "name": "stderr"
        },
        {
          "output_type": "stream",
          "text": [
            "\n",
            " After 24000 Epochs: MAD is 0.56; Accuracy is 54.282% (T=0.5); KAPPA is 26.575% (T=0.5)\n"
          ],
          "name": "stdout"
        },
        {
          "output_type": "stream",
          "text": [
            "100%|██████████| 30000/30000 [00:26<00:00, 1129.81it/s]"
          ],
          "name": "stderr"
        },
        {
          "output_type": "stream",
          "text": [
            "\n",
            " After 30000 Epochs: MAD is 0.554; Accuracy is 54.16% (T=0.5); KAPPA is 26.707% (T=0.5)\n"
          ],
          "name": "stdout"
        },
        {
          "output_type": "stream",
          "text": [
            "\n"
          ],
          "name": "stderr"
        }
      ]
    },
    {
      "cell_type": "code",
      "metadata": {
        "colab": {
          "base_uri": "https://localhost:8080/",
          "height": 313
        },
        "id": "narpXXMABWr0",
        "outputId": "bd9ffde9-2218-4658-8c84-85c1455d49c9"
      },
      "source": [
        "zoom=np.floor(len(LOSS_white)/5).astype(int)\n",
        "zoom=0\n",
        "plt.plot(np.arange(len(LOSS_white)-zoom)+zoom, LOSS_white[zoom:])\n",
        "plt.xlabel(\"Epoch\")\n",
        "plt.ylabel(\"Loss\")\n",
        "plt.title(\"Final Loss = {}\".format(LOSS_white[-1]))"
      ],
      "execution_count": 16,
      "outputs": [
        {
          "output_type": "execute_result",
          "data": {
            "text/plain": [
              "Text(0.5, 1.0, 'Final Loss = 0.5540364980697632')"
            ]
          },
          "metadata": {
            "tags": []
          },
          "execution_count": 16
        },
        {
          "output_type": "display_data",
          "data": {
            "image/png": "[encoded data removed]",
            "text/plain": [
              "<Figure size 432x288 with 1 Axes>"
            ]
          },
          "metadata": {
            "tags": [],
            "needs_background": "light"
          }
        }
      ]
    },
    {
      "cell_type": "code",
      "metadata": {
        "colab": {
          "base_uri": "https://localhost:8080/"
        },
        "id": "h3XZe-9WB08A",
        "outputId": "f9f22a9e-4a40-45f0-d788-c0bf2944a6c3"
      },
      "source": [
        "T_list=[0.25,0.5,1]\n",
        "Result_TEST_white=TEST_NN(MODEL_NN_white,X_TEST_white,Y_TEST_white,T_list)\n",
        "print(\"Test MAD is {};\".format(round(Result_TEST_white[\"MAD\"],3)))\n",
        "for i,T in enumerate(T_list): \n",
        "    acc=Result_TEST_white[\"accuracy_list\"][i]\n",
        "    print(\"Test Accuracy is {}% (T={});\".format(round(acc*100,3),T))\n",
        "test_kappa=Result_TEST_white[\"kappa\"]\n",
        "print(\"Test KAPPA is {}% (T=0.5);\".format(round(test_kappa*100,3)))"
      ],
      "execution_count": 17,
      "outputs": [
        {
          "output_type": "stream",
          "text": [
            "Test MAD is 0.569;\n",
            "Test Accuracy is 28.262% (T=0.25);\n",
            "Test Accuracy is 52.999% (T=0.5);\n",
            "Test Accuracy is 84.045% (T=1);\n",
            "Test KAPPA is 24.773% (T=0.5);\n"
          ],
          "name": "stdout"
        }
      ]
    },
    {
      "cell_type": "code",
      "metadata": {
        "colab": {
          "base_uri": "https://localhost:8080/",
          "height": 327
        },
        "id": "E0eEzJ69Fy_c",
        "outputId": "6f2f3453-cb01-46b5-ae32-675d25bb3756"
      },
      "source": [
        "T_list_REC=np.linspace(0,2,100)\n",
        "ACCURACY_list_REC_white=TEST_NN(MODEL_NN_white,X_TEST_white,Y_TEST_white,T_list_REC)[\"accuracy_list\"]\n",
        "plt.plot(T_list_REC,ACCURACY_list_REC_white)\n",
        "plt.xlabel(\"Tolerance\")\n",
        "plt.ylabel(\"Accuracy\")\n",
        "plt.title(\"REC \\n White wine\")"
      ],
      "execution_count": 18,
      "outputs": [
        {
          "output_type": "execute_result",
          "data": {
            "text/plain": [
              "Text(0.5, 1.0, 'REC \\n White wine')"
            ]
          },
          "metadata": {
            "tags": []
          },
          "execution_count": 18
        },
        {
          "output_type": "display_data",
          "data": {
            "image/png": "[encoded data removed]",
            "text/plain": [
              "<Figure size 432x288 with 1 Axes>"
            ]
          },
          "metadata": {
            "tags": [],
            "needs_background": "light"
          }
        }
      ]
    },
    {
      "cell_type": "markdown",
      "metadata": {
        "id": "-WFZz6hvB5Gl"
      },
      "source": [
        "### Red wine"
      ]
    },
    {
      "cell_type": "code",
      "metadata": {
        "colab": {
          "base_uri": "https://localhost:8080/"
        },
        "id": "o1Ld6AMEBGmM",
        "outputId": "f3de21da-406b-40b7-e864-323b3b35a225"
      },
      "source": [
        "result_red=TRAIN_NN(X_TRAIN_red,Y_TRAIN_red,[11],EPOCH=30000)\n",
        "MODEL_NN_red=result_red[\"MODEL\"]\n",
        "LOSS_red=result_red[\"LOSS_ARR\"]"
      ],
      "execution_count": 19,
      "outputs": [
        {
          "output_type": "stream",
          "text": [
            " 21%|██        | 6222/30000 [00:05<00:21, 1101.53it/s]"
          ],
          "name": "stderr"
        },
        {
          "output_type": "stream",
          "text": [
            "\n",
            " After 6000 Epochs: MAD is 0.477; Accuracy is 60.878% (T=0.5); KAPPA is 34.755% (T=0.5)\n"
          ],
          "name": "stdout"
        },
        {
          "output_type": "stream",
          "text": [
            " 41%|████      | 12212/30000 [00:10<00:15, 1164.57it/s]"
          ],
          "name": "stderr"
        },
        {
          "output_type": "stream",
          "text": [
            "\n",
            " After 12000 Epochs: MAD is 0.468; Accuracy is 61.625% (T=0.5); KAPPA is 35.881% (T=0.5)\n"
          ],
          "name": "stdout"
        },
        {
          "output_type": "stream",
          "text": [
            " 61%|██████    | 18160/30000 [00:16<00:11, 1063.34it/s]"
          ],
          "name": "stderr"
        },
        {
          "output_type": "stream",
          "text": [
            "\n",
            " After 18000 Epochs: MAD is 0.46; Accuracy is 62.278% (T=0.5); KAPPA is 37.073% (T=0.5)\n"
          ],
          "name": "stdout"
        },
        {
          "output_type": "stream",
          "text": [
            " 81%|████████  | 24239/30000 [00:21<00:04, 1181.94it/s]"
          ],
          "name": "stderr"
        },
        {
          "output_type": "stream",
          "text": [
            "\n",
            " After 24000 Epochs: MAD is 0.455; Accuracy is 62.932% (T=0.5); KAPPA is 38.462% (T=0.5)\n"
          ],
          "name": "stdout"
        },
        {
          "output_type": "stream",
          "text": [
            "100%|██████████| 30000/30000 [00:26<00:00, 1122.31it/s]"
          ],
          "name": "stderr"
        },
        {
          "output_type": "stream",
          "text": [
            "\n",
            " After 30000 Epochs: MAD is 0.451; Accuracy is 63.119% (T=0.5); KAPPA is 38.728% (T=0.5)\n"
          ],
          "name": "stdout"
        },
        {
          "output_type": "stream",
          "text": [
            "\n"
          ],
          "name": "stderr"
        }
      ]
    },
    {
      "cell_type": "code",
      "metadata": {
        "id": "_v9IHTLLBg0p",
        "colab": {
          "base_uri": "https://localhost:8080/",
          "height": 313
        },
        "outputId": "88d38dba-7cec-4acc-94b0-cd7178cae8db"
      },
      "source": [
        "zoom=np.floor(len(LOSS_red)/5).astype(int)\n",
        "zoom=0\n",
        "plt.plot(np.arange(len(LOSS_red)-zoom)+zoom, LOSS_red[zoom:])\n",
        "plt.xlabel(\"Epoch\")\n",
        "plt.ylabel(\"Loss\")\n",
        "plt.title(\"Final Loss = {}\".format(LOSS_red[-1]))"
      ],
      "execution_count": 20,
      "outputs": [
        {
          "output_type": "execute_result",
          "data": {
            "text/plain": [
              "Text(0.5, 1.0, 'Final Loss = 0.4507947266101837')"
            ]
          },
          "metadata": {
            "tags": []
          },
          "execution_count": 20
        },
        {
          "output_type": "display_data",
          "data": {
            "image/png": "[encoded data removed]",
            "text/plain": [
              "<Figure size 432x288 with 1 Axes>"
            ]
          },
          "metadata": {
            "tags": [],
            "needs_background": "light"
          }
        }
      ]
    },
    {
      "cell_type": "code",
      "metadata": {
        "colab": {
          "base_uri": "https://localhost:8080/"
        },
        "id": "HBcWEDo3ERag",
        "outputId": "70a6a854-8dd1-41f4-e05f-77e3b298e1f8"
      },
      "source": [
        "T_list=[0.25,0.5,1]\n",
        "Result_TEST_red=TEST_NN(MODEL_NN_red,X_TEST_red,Y_TEST_red,T_list)\n",
        "print(\"Test MAD is {};\".format(round(Result_TEST_red[\"MAD\"],3)))\n",
        "for i,T in enumerate(T_list): \n",
        "    acc=Result_TEST_red[\"accuracy_list\"][i]\n",
        "    print(\"Test Accuracy is {}% (T={});\".format(round(acc*100,3),T))\n",
        "test_kappa=Result_TEST_red[\"kappa\"]\n",
        "print(\"Test KAPPA is {}% (T=0.5);\".format(round(test_kappa*100,3)))"
      ],
      "execution_count": 21,
      "outputs": [
        {
          "output_type": "stream",
          "text": [
            "Test MAD is 0.496;\n",
            "Test Accuracy is 36.364% (T=0.25);\n",
            "Test Accuracy is 57.386% (T=0.5);\n",
            "Test Accuracy is 88.826% (T=1);\n",
            "Test KAPPA is 30.16% (T=0.5);\n"
          ],
          "name": "stdout"
        }
      ]
    },
    {
      "cell_type": "code",
      "metadata": {
        "colab": {
          "base_uri": "https://localhost:8080/",
          "height": 327
        },
        "id": "z-v24yalGg5u",
        "outputId": "737d7f30-7493-4db7-fb3d-8f9971bbfae4"
      },
      "source": [
        "T_list_REC=np.linspace(0,2,100)\n",
        "ACCURACY_list_REC_red=TEST_NN(MODEL_NN_red,X_TEST_red,Y_TEST_red,T_list_REC)[\"accuracy_list\"]\n",
        "plt.plot(T_list_REC,ACCURACY_list_REC_red)\n",
        "plt.xlabel(\"Tolerance\")\n",
        "plt.ylabel(\"Accuracy\")\n",
        "plt.title(\"REC \\n White wine\")"
      ],
      "execution_count": 22,
      "outputs": [
        {
          "output_type": "execute_result",
          "data": {
            "text/plain": [
              "Text(0.5, 1.0, 'REC \\n White wine')"
            ]
          },
          "metadata": {
            "tags": []
          },
          "execution_count": 22
        },
        {
          "output_type": "display_data",
          "data": {
            "image/png": "[encoded data removed]",
            "text/plain": [
              "<Figure size 432x288 with 1 Axes>"
            ]
          },
          "metadata": {
            "tags": [],
            "needs_background": "light"
          }
        }
      ]
    },
    {
      "cell_type": "markdown",
      "metadata": {
        "id": "C5lKdemHVAme"
      },
      "source": [
        "#  Sensitivity Analysis \n",
        "!“correlation does not equal causation.”"
      ]
    },
    {
      "cell_type": "code",
      "metadata": {
        "id": "mw0eNv_WH1h2"
      },
      "source": [
        "p=X_TRAIN_red.shape[1] #11"
      ],
      "execution_count": 28,
      "outputs": []
    },
    {
      "cell_type": "code",
      "metadata": {
        "id": "B0ba3cjuGWm2"
      },
      "source": [
        "def Sensitivity_Analysis(MODEL,a,L=6):\n",
        "    #a: indicator of the predictor, a=0,1,2,...10(p-1)\n",
        "    MODEL.eval()\n",
        "    Analysis_X=torch.zeros((L,p))\n",
        "    Analysis_X[:,(a)]=torch.from_numpy(np.linspace(-1, 1, 6, endpoint=True))\n",
        "    if train_on_gpu:\n",
        "        Analysis_X=Analysis_X.to(device=\"cuda\")\n",
        "    result=MODEL(Analysis_X).var()\n",
        "    MODEL.train()\n",
        "    return result.cpu().detach().numpy()"
      ],
      "execution_count": 161,
      "outputs": []
    },
    {
      "cell_type": "code",
      "metadata": {
        "id": "FFnhp6wAKaE9"
      },
      "source": [
        "V_red=np.zeros(p)\n",
        "for a in range(p):\n",
        "  V_red[a]=(Sensitivity_Analysis(MODEL_NN_red,a))\n",
        "R_red=V_red/V_red.sum()*100\n",
        "#R_red=pd.DataFrame(R_red,index=predictors_name)\n",
        "\n",
        "V_white=np.zeros(p)\n",
        "for a in range(p):\n",
        "  V_white[a]=(Sensitivity_Analysis(MODEL_NN_white,a))\n",
        "R_white=V_white/V_white.sum()*100\n",
        "#R_white=pd.DataFrame(R_white,index=predictors_name)\n",
        "R=pd.DataFrame({\"red\":R_red,\"white\":R_white}, index=predictors_name)"
      ],
      "execution_count": 162,
      "outputs": []
    },
    {
      "cell_type": "code",
      "metadata": {
        "colab": {
          "base_uri": "https://localhost:8080/",
          "height": 731
        },
        "id": "3WBjv54uLD5N",
        "outputId": "aa3072b6-0ee9-4858-c8c7-78c5bbdc6dfd"
      },
      "source": [
        "plt.figure(figsize=(10,10))\n",
        "R.sort_values(by=\"red\").plot.barh(y='red',legend=None,subplots=True, layout=(2,1),figsize=(8,10),title=\"Input Importances for the Neural Network (in %)\")\n",
        "R.sort_values(by=\"white\").plot.barh(y='white',legend=None,subplots=True, layout=(2,1),figsize=(8,10))\n"
      ],
      "execution_count": 163,
      "outputs": [
        {
          "output_type": "execute_result",
          "data": {
            "text/plain": [
              "array([[<matplotlib.axes._subplots.AxesSubplot object at 0x7ff7c5a0c7d0>],\n",
              "       [<matplotlib.axes._subplots.AxesSubplot object at 0x7ff7c59c6450>]],\n",
              "      dtype=object)"
            ]
          },
          "metadata": {
            "tags": []
          },
          "execution_count": 163
        },
        {
          "output_type": "display_data",
          "data": {
            "text/plain": [
              "<Figure size 720x720 with 0 Axes>"
            ]
          },
          "metadata": {
            "tags": []
          }
        },
        {
          "output_type": "display_data",
          "data": {
            "image/png": "[encoded data removed]",
            "text/plain": [
              "<Figure size 576x720 with 2 Axes>"
            ]
          },
          "metadata": {
            "tags": [],
            "needs_background": "light"
          }
        },
        {
          "output_type": "display_data",
          "data": {
            "image/png": "[encoded data removed]",
            "text/plain": [
              "<Figure size 576x720 with 2 Axes>"
            ]
          },
          "metadata": {
            "tags": [],
            "needs_background": "light"
          }
        }
      ]
    },
    {
      "cell_type": "markdown",
      "metadata": {
        "id": "9MEmP4u4W4Rn"
      },
      "source": [
        "# (Maybe don't have time?) Model Selection"
      ]
    },
    {
      "cell_type": "markdown",
      "metadata": {
        "id": "0KNUpssnU0kQ"
      },
      "source": [
        "# the Problem of Imbalance Data"
      ]
    },
    {
      "cell_type": "code",
      "metadata": {
        "colab": {
          "base_uri": "https://localhost:8080/"
        },
        "id": "fmrFo2vvtwrC",
        "outputId": "cac4090b-6f65-4c81-f17d-edffa74356c6"
      },
      "source": [
        "for i,c in enumerate(red_class):\n",
        "    print(\"there are {} red wine samples with the score of {}\".format(len(Y_red_torch[Y_red_torch==red_class[i]]),c))\n",
        "print(\"\\n\")\n",
        "for i,c in enumerate(white_class):\n",
        "    print(\"there are {} white wine samples with the score of {}\".format(len(Y_white_torch[Y_white_torch==white_class[i]]),c))\n",
        "   "
      ],
      "execution_count": 263,
      "outputs": [
        {
          "output_type": "stream",
          "text": [
            "there are 10 red wine samples with the score of 3\n",
            "there are 53 red wine samples with the score of 4\n",
            "there are 681 red wine samples with the score of 5\n",
            "there are 638 red wine samples with the score of 6\n",
            "there are 199 red wine samples with the score of 7\n",
            "there are 18 red wine samples with the score of 8\n",
            "\n",
            "\n",
            "there are 20 white wine samples with the score of 3\n",
            "there are 163 white wine samples with the score of 4\n",
            "there are 1457 white wine samples with the score of 5\n",
            "there are 2198 white wine samples with the score of 6\n",
            "there are 880 white wine samples with the score of 7\n",
            "there are 175 white wine samples with the score of 8\n",
            "there are 5 white wine samples with the score of 9\n"
          ],
          "name": "stdout"
        }
      ]
    },
    {
      "cell_type": "markdown",
      "metadata": {
        "id": "-MuC2apTW1GT"
      },
      "source": [
        "## Confusion Matrix T=0.5\n",
        "Using the full data"
      ]
    },
    {
      "cell_type": "markdown",
      "metadata": {
        "id": "LIuMkHxBkBZR"
      },
      "source": [
        ">??? suppose T=0.5, and the predicted value is 2.5, which column of confusion matrix should we add it to, 2 or 3??"
      ]
    },
    {
      "cell_type": "code",
      "metadata": {
        "colab": {
          "base_uri": "https://localhost:8080/",
          "height": 233
        },
        "id": "ixtXacv5UmKC",
        "outputId": "db2561f7-7cf2-463b-f9c4-6eca6478c9ba"
      },
      "source": [
        "red_pred=np.round(MODEL_NN_red(X_red_torch).cpu().detach().numpy())   \n",
        "red_confusion=confusion_matrix(Y_red_torch.cpu().detach().numpy(), red_pred)\n",
        "red_confusion=pd.DataFrame(red_confusion,index=red_class,columns=red_class) \n",
        "red_confusion "
      ],
      "execution_count": 241,
      "outputs": [
        {
          "output_type": "execute_result",
          "data": {
            "text/html": [
              "<div>\n",
              "<style scoped>\n",
              "    .dataframe tbody tr th:only-of-type {\n",
              "        vertical-align: middle;\n",
              "    }\n",
              "\n",
              "    .dataframe tbody tr th {\n",
              "        vertical-align: top;\n",
              "    }\n",
              "\n",
              "    .dataframe thead th {\n",
              "        text-align: right;\n",
              "    }\n",
              "</style>\n",
              "<table border=\"1\" class=\"dataframe\">\n",
              "  <thead>\n",
              "    <tr style=\"text-align: right;\">\n",
              "      <th></th>\n",
              "      <th>3</th>\n",
              "      <th>4</th>\n",
              "      <th>5</th>\n",
              "      <th>6</th>\n",
              "      <th>7</th>\n",
              "      <th>8</th>\n",
              "    </tr>\n",
              "  </thead>\n",
              "  <tbody>\n",
              "    <tr>\n",
              "      <th>3</th>\n",
              "      <td>0</td>\n",
              "      <td>0</td>\n",
              "      <td>9</td>\n",
              "      <td>1</td>\n",
              "      <td>0</td>\n",
              "      <td>0</td>\n",
              "    </tr>\n",
              "    <tr>\n",
              "      <th>4</th>\n",
              "      <td>0</td>\n",
              "      <td>0</td>\n",
              "      <td>41</td>\n",
              "      <td>12</td>\n",
              "      <td>0</td>\n",
              "      <td>0</td>\n",
              "    </tr>\n",
              "    <tr>\n",
              "      <th>5</th>\n",
              "      <td>0</td>\n",
              "      <td>0</td>\n",
              "      <td>537</td>\n",
              "      <td>142</td>\n",
              "      <td>2</td>\n",
              "      <td>0</td>\n",
              "    </tr>\n",
              "    <tr>\n",
              "      <th>6</th>\n",
              "      <td>0</td>\n",
              "      <td>0</td>\n",
              "      <td>219</td>\n",
              "      <td>384</td>\n",
              "      <td>35</td>\n",
              "      <td>0</td>\n",
              "    </tr>\n",
              "    <tr>\n",
              "      <th>7</th>\n",
              "      <td>0</td>\n",
              "      <td>0</td>\n",
              "      <td>8</td>\n",
              "      <td>135</td>\n",
              "      <td>56</td>\n",
              "      <td>0</td>\n",
              "    </tr>\n",
              "    <tr>\n",
              "      <th>8</th>\n",
              "      <td>0</td>\n",
              "      <td>0</td>\n",
              "      <td>0</td>\n",
              "      <td>10</td>\n",
              "      <td>8</td>\n",
              "      <td>0</td>\n",
              "    </tr>\n",
              "  </tbody>\n",
              "</table>\n",
              "</div>"
            ],
            "text/plain": [
              "   3  4    5    6   7  8\n",
              "3  0  0    9    1   0  0\n",
              "4  0  0   41   12   0  0\n",
              "5  0  0  537  142   2  0\n",
              "6  0  0  219  384  35  0\n",
              "7  0  0    8  135  56  0\n",
              "8  0  0    0   10   8  0"
            ]
          },
          "metadata": {
            "tags": []
          },
          "execution_count": 241
        }
      ]
    },
    {
      "cell_type": "code",
      "metadata": {
        "colab": {
          "base_uri": "https://localhost:8080/",
          "height": 263
        },
        "id": "4H2xQDUIf7D3",
        "outputId": "61282c52-7685-4cf0-c08f-02711a051bf6"
      },
      "source": [
        "white_pred=np.round(MODEL_NN_white(X_white_torch).cpu().detach().numpy())   \n",
        "white_confusion=confusion_matrix(Y_white_torch.cpu().detach().numpy(), white_pred)\n",
        "white_confusion=pd.DataFrame(white_confusion,index=white_class,columns=white_class) \n",
        "white_confusion "
      ],
      "execution_count": 208,
      "outputs": [
        {
          "output_type": "execute_result",
          "data": {
            "text/html": [
              "<div>\n",
              "<style scoped>\n",
              "    .dataframe tbody tr th:only-of-type {\n",
              "        vertical-align: middle;\n",
              "    }\n",
              "\n",
              "    .dataframe tbody tr th {\n",
              "        vertical-align: top;\n",
              "    }\n",
              "\n",
              "    .dataframe thead th {\n",
              "        text-align: right;\n",
              "    }\n",
              "</style>\n",
              "<table border=\"1\" class=\"dataframe\">\n",
              "  <thead>\n",
              "    <tr style=\"text-align: right;\">\n",
              "      <th></th>\n",
              "      <th>3</th>\n",
              "      <th>4</th>\n",
              "      <th>5</th>\n",
              "      <th>6</th>\n",
              "      <th>7</th>\n",
              "      <th>8</th>\n",
              "      <th>9</th>\n",
              "    </tr>\n",
              "  </thead>\n",
              "  <tbody>\n",
              "    <tr>\n",
              "      <th>3</th>\n",
              "      <td>0</td>\n",
              "      <td>1</td>\n",
              "      <td>7</td>\n",
              "      <td>11</td>\n",
              "      <td>0</td>\n",
              "      <td>1</td>\n",
              "      <td>0</td>\n",
              "    </tr>\n",
              "    <tr>\n",
              "      <th>4</th>\n",
              "      <td>0</td>\n",
              "      <td>5</td>\n",
              "      <td>102</td>\n",
              "      <td>54</td>\n",
              "      <td>2</td>\n",
              "      <td>0</td>\n",
              "      <td>0</td>\n",
              "    </tr>\n",
              "    <tr>\n",
              "      <th>5</th>\n",
              "      <td>0</td>\n",
              "      <td>7</td>\n",
              "      <td>759</td>\n",
              "      <td>670</td>\n",
              "      <td>21</td>\n",
              "      <td>0</td>\n",
              "      <td>0</td>\n",
              "    </tr>\n",
              "    <tr>\n",
              "      <th>6</th>\n",
              "      <td>0</td>\n",
              "      <td>3</td>\n",
              "      <td>379</td>\n",
              "      <td>1589</td>\n",
              "      <td>227</td>\n",
              "      <td>0</td>\n",
              "      <td>0</td>\n",
              "    </tr>\n",
              "    <tr>\n",
              "      <th>7</th>\n",
              "      <td>0</td>\n",
              "      <td>0</td>\n",
              "      <td>28</td>\n",
              "      <td>576</td>\n",
              "      <td>276</td>\n",
              "      <td>0</td>\n",
              "      <td>0</td>\n",
              "    </tr>\n",
              "    <tr>\n",
              "      <th>8</th>\n",
              "      <td>0</td>\n",
              "      <td>0</td>\n",
              "      <td>2</td>\n",
              "      <td>103</td>\n",
              "      <td>70</td>\n",
              "      <td>0</td>\n",
              "      <td>0</td>\n",
              "    </tr>\n",
              "    <tr>\n",
              "      <th>9</th>\n",
              "      <td>0</td>\n",
              "      <td>0</td>\n",
              "      <td>0</td>\n",
              "      <td>1</td>\n",
              "      <td>4</td>\n",
              "      <td>0</td>\n",
              "      <td>0</td>\n",
              "    </tr>\n",
              "  </tbody>\n",
              "</table>\n",
              "</div>"
            ],
            "text/plain": [
              "   3  4    5     6    7  8  9\n",
              "3  0  1    7    11    0  1  0\n",
              "4  0  5  102    54    2  0  0\n",
              "5  0  7  759   670   21  0  0\n",
              "6  0  3  379  1589  227  0  0\n",
              "7  0  0   28   576  276  0  0\n",
              "8  0  0    2   103   70  0  0\n",
              "9  0  0    0     1    4  0  0"
            ]
          },
          "metadata": {
            "tags": []
          },
          "execution_count": 208
        }
      ]
    },
    {
      "cell_type": "markdown",
      "metadata": {
        "id": "EFGFueslkX7s"
      },
      "source": [
        "using the test data"
      ]
    },
    {
      "cell_type": "code",
      "metadata": {
        "colab": {
          "base_uri": "https://localhost:8080/",
          "height": 233
        },
        "id": "HFoUkKfGkZXC",
        "outputId": "d49245a7-e2a0-4b8d-8284-1d15b14bbc63"
      },
      "source": [
        "red_pred=np.round(MODEL_NN_red(X_TEST_red).cpu().detach().numpy())   \n",
        "red_confusion=confusion_matrix(Y_TEST_red.cpu().detach().numpy(), red_pred)\n",
        "red_confusion=pd.DataFrame(red_confusion,index=red_class,columns=red_class) \n",
        "red_confusion  "
      ],
      "execution_count": 209,
      "outputs": [
        {
          "output_type": "execute_result",
          "data": {
            "text/html": [
              "<div>\n",
              "<style scoped>\n",
              "    .dataframe tbody tr th:only-of-type {\n",
              "        vertical-align: middle;\n",
              "    }\n",
              "\n",
              "    .dataframe tbody tr th {\n",
              "        vertical-align: top;\n",
              "    }\n",
              "\n",
              "    .dataframe thead th {\n",
              "        text-align: right;\n",
              "    }\n",
              "</style>\n",
              "<table border=\"1\" class=\"dataframe\">\n",
              "  <thead>\n",
              "    <tr style=\"text-align: right;\">\n",
              "      <th></th>\n",
              "      <th>3</th>\n",
              "      <th>4</th>\n",
              "      <th>5</th>\n",
              "      <th>6</th>\n",
              "      <th>7</th>\n",
              "      <th>8</th>\n",
              "    </tr>\n",
              "  </thead>\n",
              "  <tbody>\n",
              "    <tr>\n",
              "      <th>3</th>\n",
              "      <td>0</td>\n",
              "      <td>0</td>\n",
              "      <td>2</td>\n",
              "      <td>0</td>\n",
              "      <td>0</td>\n",
              "      <td>0</td>\n",
              "    </tr>\n",
              "    <tr>\n",
              "      <th>4</th>\n",
              "      <td>0</td>\n",
              "      <td>0</td>\n",
              "      <td>13</td>\n",
              "      <td>6</td>\n",
              "      <td>0</td>\n",
              "      <td>0</td>\n",
              "    </tr>\n",
              "    <tr>\n",
              "      <th>5</th>\n",
              "      <td>0</td>\n",
              "      <td>0</td>\n",
              "      <td>168</td>\n",
              "      <td>48</td>\n",
              "      <td>1</td>\n",
              "      <td>0</td>\n",
              "    </tr>\n",
              "    <tr>\n",
              "      <th>6</th>\n",
              "      <td>0</td>\n",
              "      <td>0</td>\n",
              "      <td>84</td>\n",
              "      <td>118</td>\n",
              "      <td>11</td>\n",
              "      <td>0</td>\n",
              "    </tr>\n",
              "    <tr>\n",
              "      <th>7</th>\n",
              "      <td>0</td>\n",
              "      <td>0</td>\n",
              "      <td>3</td>\n",
              "      <td>50</td>\n",
              "      <td>17</td>\n",
              "      <td>0</td>\n",
              "    </tr>\n",
              "    <tr>\n",
              "      <th>8</th>\n",
              "      <td>0</td>\n",
              "      <td>0</td>\n",
              "      <td>0</td>\n",
              "      <td>2</td>\n",
              "      <td>5</td>\n",
              "      <td>0</td>\n",
              "    </tr>\n",
              "  </tbody>\n",
              "</table>\n",
              "</div>"
            ],
            "text/plain": [
              "   3  4    5    6   7  8\n",
              "3  0  0    2    0   0  0\n",
              "4  0  0   13    6   0  0\n",
              "5  0  0  168   48   1  0\n",
              "6  0  0   84  118  11  0\n",
              "7  0  0    3   50  17  0\n",
              "8  0  0    0    2   5  0"
            ]
          },
          "metadata": {
            "tags": []
          },
          "execution_count": 209
        }
      ]
    },
    {
      "cell_type": "code",
      "metadata": {
        "colab": {
          "base_uri": "https://localhost:8080/",
          "height": 233
        },
        "id": "yYIsvR52kg8W",
        "outputId": "17131a60-1bf7-42c2-803c-a2ec53d24fab"
      },
      "source": [
        "white_pred=np.round(MODEL_NN_white(X_TEST_white).cpu().detach().numpy())   \n",
        "white_confusion=confusion_matrix(Y_TEST_white.cpu().detach().numpy(), white_pred)\n",
        "#white_confusion=pd.DataFrame(white_confusion,index=white_class,columns=white_class) \n",
        "white_confusion=pd.DataFrame(white_confusion,index=red_class,columns=red_class) \n",
        "white_confusion "
      ],
      "execution_count": 213,
      "outputs": [
        {
          "output_type": "execute_result",
          "data": {
            "text/html": [
              "<div>\n",
              "<style scoped>\n",
              "    .dataframe tbody tr th:only-of-type {\n",
              "        vertical-align: middle;\n",
              "    }\n",
              "\n",
              "    .dataframe tbody tr th {\n",
              "        vertical-align: top;\n",
              "    }\n",
              "\n",
              "    .dataframe thead th {\n",
              "        text-align: right;\n",
              "    }\n",
              "</style>\n",
              "<table border=\"1\" class=\"dataframe\">\n",
              "  <thead>\n",
              "    <tr style=\"text-align: right;\">\n",
              "      <th></th>\n",
              "      <th>3</th>\n",
              "      <th>4</th>\n",
              "      <th>5</th>\n",
              "      <th>6</th>\n",
              "      <th>7</th>\n",
              "      <th>8</th>\n",
              "    </tr>\n",
              "  </thead>\n",
              "  <tbody>\n",
              "    <tr>\n",
              "      <th>3</th>\n",
              "      <td>0</td>\n",
              "      <td>0</td>\n",
              "      <td>3</td>\n",
              "      <td>3</td>\n",
              "      <td>0</td>\n",
              "      <td>1</td>\n",
              "    </tr>\n",
              "    <tr>\n",
              "      <th>4</th>\n",
              "      <td>0</td>\n",
              "      <td>2</td>\n",
              "      <td>25</td>\n",
              "      <td>19</td>\n",
              "      <td>0</td>\n",
              "      <td>0</td>\n",
              "    </tr>\n",
              "    <tr>\n",
              "      <th>5</th>\n",
              "      <td>0</td>\n",
              "      <td>2</td>\n",
              "      <td>250</td>\n",
              "      <td>210</td>\n",
              "      <td>10</td>\n",
              "      <td>0</td>\n",
              "    </tr>\n",
              "    <tr>\n",
              "      <th>6</th>\n",
              "      <td>0</td>\n",
              "      <td>0</td>\n",
              "      <td>139</td>\n",
              "      <td>513</td>\n",
              "      <td>79</td>\n",
              "      <td>0</td>\n",
              "    </tr>\n",
              "    <tr>\n",
              "      <th>7</th>\n",
              "      <td>0</td>\n",
              "      <td>0</td>\n",
              "      <td>10</td>\n",
              "      <td>202</td>\n",
              "      <td>92</td>\n",
              "      <td>0</td>\n",
              "    </tr>\n",
              "    <tr>\n",
              "      <th>8</th>\n",
              "      <td>0</td>\n",
              "      <td>0</td>\n",
              "      <td>1</td>\n",
              "      <td>34</td>\n",
              "      <td>22</td>\n",
              "      <td>0</td>\n",
              "    </tr>\n",
              "  </tbody>\n",
              "</table>\n",
              "</div>"
            ],
            "text/plain": [
              "   3  4    5    6   7  8\n",
              "3  0  0    3    3   0  1\n",
              "4  0  2   25   19   0  0\n",
              "5  0  2  250  210  10  0\n",
              "6  0  0  139  513  79  0\n",
              "7  0  0   10  202  92  0\n",
              "8  0  0    1   34  22  0"
            ]
          },
          "metadata": {
            "tags": []
          },
          "execution_count": 213
        }
      ]
    },
    {
      "cell_type": "markdown",
      "metadata": {
        "id": "VAbhPvHjlTbE"
      },
      "source": [
        "None of the 9-point wine in the test dataset!   \n",
        "In the test dataset, one of the 3-point wine is classified as 8!"
      ]
    },
    {
      "cell_type": "markdown",
      "metadata": {
        "id": "sb0l5__YeMBQ"
      },
      "source": [
        "## Precision for the different classes"
      ]
    },
    {
      "cell_type": "markdown",
      "metadata": {
        "id": "NBWJFCdHpUYQ"
      },
      "source": [
        "using the full data"
      ]
    },
    {
      "cell_type": "code",
      "metadata": {
        "colab": {
          "base_uri": "https://localhost:8080/",
          "height": 233
        },
        "id": "CALnY26-oGk-",
        "outputId": "86649c3a-bf54-480f-fa7f-06b155a04cdd"
      },
      "source": [
        "red_precision=pd.DataFrame(index=red_class,columns=[\"T=0.5 (%)\",\"T=1.0 (%)\"])\n",
        "for i,c in enumerate(red_class):\n",
        "    label=Y_red_torch[Y_red_torch==red_class[i]]\n",
        "    output=MODEL_NN_red(X_red_torch)[Y_red_torch==red_class[i]]\n",
        "    pre1=100*ACCURACY(output,label,0.5).cpu().detach().numpy()\n",
        "    pre2=100*ACCURACY(output,label,1).cpu().detach().numpy()\n",
        "    red_precision.at[c, \"T=0.5 (%)\"] = pre1\n",
        "    red_precision.at[c, \"T=1.0 (%)\"] = pre2\n",
        "red_precision"
      ],
      "execution_count": 255,
      "outputs": [
        {
          "output_type": "execute_result",
          "data": {
            "text/html": [
              "<div>\n",
              "<style scoped>\n",
              "    .dataframe tbody tr th:only-of-type {\n",
              "        vertical-align: middle;\n",
              "    }\n",
              "\n",
              "    .dataframe tbody tr th {\n",
              "        vertical-align: top;\n",
              "    }\n",
              "\n",
              "    .dataframe thead th {\n",
              "        text-align: right;\n",
              "    }\n",
              "</style>\n",
              "<table border=\"1\" class=\"dataframe\">\n",
              "  <thead>\n",
              "    <tr style=\"text-align: right;\">\n",
              "      <th></th>\n",
              "      <th>T=0.5 (%)</th>\n",
              "      <th>T=1.0 (%)</th>\n",
              "    </tr>\n",
              "  </thead>\n",
              "  <tbody>\n",
              "    <tr>\n",
              "      <th>3</th>\n",
              "      <td>0</td>\n",
              "      <td>0</td>\n",
              "    </tr>\n",
              "    <tr>\n",
              "      <th>4</th>\n",
              "      <td>0</td>\n",
              "      <td>32.0755</td>\n",
              "    </tr>\n",
              "    <tr>\n",
              "      <th>5</th>\n",
              "      <td>78.8546</td>\n",
              "      <td>95.301</td>\n",
              "    </tr>\n",
              "    <tr>\n",
              "      <th>6</th>\n",
              "      <td>60.1881</td>\n",
              "      <td>96.8652</td>\n",
              "    </tr>\n",
              "    <tr>\n",
              "      <th>7</th>\n",
              "      <td>28.1407</td>\n",
              "      <td>75.3769</td>\n",
              "    </tr>\n",
              "    <tr>\n",
              "      <th>8</th>\n",
              "      <td>0</td>\n",
              "      <td>0</td>\n",
              "    </tr>\n",
              "  </tbody>\n",
              "</table>\n",
              "</div>"
            ],
            "text/plain": [
              "  T=0.5 (%) T=1.0 (%)\n",
              "3         0         0\n",
              "4         0   32.0755\n",
              "5   78.8546    95.301\n",
              "6   60.1881   96.8652\n",
              "7   28.1407   75.3769\n",
              "8         0         0"
            ]
          },
          "metadata": {
            "tags": []
          },
          "execution_count": 255
        }
      ]
    },
    {
      "cell_type": "code",
      "metadata": {
        "colab": {
          "base_uri": "https://localhost:8080/",
          "height": 263
        },
        "id": "CdLcp1Dtn3Sj",
        "outputId": "6c966ad8-ea29-4a81-e0c1-08ce9aa316aa"
      },
      "source": [
        "white_precision=pd.DataFrame(index=white_class,columns=[\"T=0.5 (%)\",\"T=1.0 (%)\"])\n",
        "for i,c in enumerate(white_class):\n",
        "    label=Y_white_torch[Y_white_torch==white_class[i]]\n",
        "    output=MODEL_NN_white(X_white_torch)[Y_white_torch==white_class[i]]\n",
        "    pre1=100*ACCURACY(output,label,0.5).cpu().detach().numpy()\n",
        "    pre2=100*ACCURACY(output,label,1).cpu().detach().numpy()\n",
        "    white_precision.at[c, \"T=0.5 (%)\"] = pre1\n",
        "    white_precision.at[c, \"T=1.0 (%)\"] = pre2\n",
        "white_precision"
      ],
      "execution_count": 256,
      "outputs": [
        {
          "output_type": "execute_result",
          "data": {
            "text/html": [
              "<div>\n",
              "<style scoped>\n",
              "    .dataframe tbody tr th:only-of-type {\n",
              "        vertical-align: middle;\n",
              "    }\n",
              "\n",
              "    .dataframe tbody tr th {\n",
              "        vertical-align: top;\n",
              "    }\n",
              "\n",
              "    .dataframe thead th {\n",
              "        text-align: right;\n",
              "    }\n",
              "</style>\n",
              "<table border=\"1\" class=\"dataframe\">\n",
              "  <thead>\n",
              "    <tr style=\"text-align: right;\">\n",
              "      <th></th>\n",
              "      <th>T=0.5 (%)</th>\n",
              "      <th>T=1.0 (%)</th>\n",
              "    </tr>\n",
              "  </thead>\n",
              "  <tbody>\n",
              "    <tr>\n",
              "      <th>3</th>\n",
              "      <td>0</td>\n",
              "      <td>0</td>\n",
              "    </tr>\n",
              "    <tr>\n",
              "      <th>4</th>\n",
              "      <td>3.06748</td>\n",
              "      <td>30.0613</td>\n",
              "    </tr>\n",
              "    <tr>\n",
              "      <th>5</th>\n",
              "      <td>52.0933</td>\n",
              "      <td>88.8813</td>\n",
              "    </tr>\n",
              "    <tr>\n",
              "      <th>6</th>\n",
              "      <td>72.293</td>\n",
              "      <td>97.0883</td>\n",
              "    </tr>\n",
              "    <tr>\n",
              "      <th>7</th>\n",
              "      <td>31.3636</td>\n",
              "      <td>74.7727</td>\n",
              "    </tr>\n",
              "    <tr>\n",
              "      <th>8</th>\n",
              "      <td>0</td>\n",
              "      <td>6.28571</td>\n",
              "    </tr>\n",
              "    <tr>\n",
              "      <th>9</th>\n",
              "      <td>0</td>\n",
              "      <td>0</td>\n",
              "    </tr>\n",
              "  </tbody>\n",
              "</table>\n",
              "</div>"
            ],
            "text/plain": [
              "  T=0.5 (%) T=1.0 (%)\n",
              "3         0         0\n",
              "4   3.06748   30.0613\n",
              "5   52.0933   88.8813\n",
              "6    72.293   97.0883\n",
              "7   31.3636   74.7727\n",
              "8         0   6.28571\n",
              "9         0         0"
            ]
          },
          "metadata": {
            "tags": []
          },
          "execution_count": 256
        }
      ]
    },
    {
      "cell_type": "markdown",
      "metadata": {
        "id": "KjLSYxUlsXaj"
      },
      "source": [
        "# To be Continued... To fix the Problem of Imbalance data"
      ]
    },
    {
      "cell_type": "code",
      "metadata": {
        "id": "cgUskdq0sbBx"
      },
      "source": [
        ""
      ],
      "execution_count": null,
      "outputs": []
    }
  ]
}