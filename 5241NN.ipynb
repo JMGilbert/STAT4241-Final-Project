{
  "nbformat": 4,
  "nbformat_minor": 0,
  "metadata": {
    "colab": {
      "name": "5241NN.ipynb",
      "provenance": [],
      "collapsed_sections": [
        "fgbPYLzlQb0Z"
      ],
      "toc_visible": true,
      "include_colab_link": true
    },
    "kernelspec": {
      "name": "python3",
      "display_name": "Python 3"
    },
    "accelerator": "GPU"
  },
  "cells": [
    {
      "cell_type": "markdown",
      "metadata": {
        "id": "view-in-github",
        "colab_type": "text"
      },
      "source": [
        "<a href=\"https://colab.research.google.com/github/JMGilbert/STAT4241-Final-Project/blob/main/5241NN.ipynb\" target=\"_parent\"><img src=\"https://colab.research.google.com/assets/colab-badge.svg\" alt=\"Open In Colab\"/></a>"
      ]
    },
    {
      "cell_type": "markdown",
      "metadata": {
        "id": "XMVY7QN5COT5"
      },
      "source": [
        "Don't forget to enable GPU:    \n",
        "Edit > Notebook settings or Runtime>Change runtime type    \n",
        "and select GPU as Hardware accelerator."
      ]
    },
    {
      "cell_type": "code",
      "metadata": {
        "colab": {
          "base_uri": "https://localhost:8080/"
        },
        "id": "vvoPbwNBCMa4",
        "outputId": "f1bf09ff-1ae5-467b-bd57-b0a3547727f1"
      },
      "source": [
        "import torch\n",
        "import torch.optim as optim\n",
        "import torch.nn as nn\n",
        "import torch.nn.functional as F\n",
        "import numpy as np\n",
        "import pandas as pd\n",
        "import seaborn as sns\n",
        "import matplotlib.pylab as plt\n",
        "from sklearn import preprocessing\n",
        "from sklearn.model_selection import train_test_split\n",
        "from tqdm import tqdm as tq\n",
        "from sklearn.metrics import cohen_kappa_score\n",
        "from sklearn.metrics import confusion_matrix\n",
        "from google.colab import files\n",
        "from imblearn.over_sampling import SMOTE\n",
        "from collections import Counter\n",
        "import statistics\n",
        "\n",
        "train_on_gpu = torch.cuda.is_available()\n",
        "\n",
        "if not train_on_gpu:\n",
        "    print('CUDA is not available.  Training on CPU ...')\n",
        "else:\n",
        "    print('CUDA is available!  Training on GPU ...')"
      ],
      "execution_count": 253,
      "outputs": [
        {
          "output_type": "stream",
          "text": [
            "CUDA is available!  Training on GPU ...\n"
          ],
          "name": "stdout"
        },
        {
          "output_type": "stream",
          "text": [
            "/usr/local/lib/python3.7/dist-packages/sklearn/externals/six.py:31: FutureWarning: The module is deprecated in version 0.21 and will be removed in version 0.23 since we've dropped support for Python 2.7. Please rely on the official version of six (https://pypi.org/project/six/).\n",
            "  \"(https://pypi.org/project/six/).\", FutureWarning)\n",
            "/usr/local/lib/python3.7/dist-packages/sklearn/utils/deprecation.py:144: FutureWarning: The sklearn.neighbors.base module is  deprecated in version 0.22 and will be removed in version 0.24. The corresponding classes / functions should instead be imported from sklearn.neighbors. Anything that cannot be imported from sklearn.neighbors is now part of the private API.\n",
            "  warnings.warn(message, FutureWarning)\n"
          ],
          "name": "stderr"
        }
      ]
    },
    {
      "cell_type": "markdown",
      "metadata": {
        "id": "knahGSpgSdT6"
      },
      "source": [
        "# Import Data"
      ]
    },
    {
      "cell_type": "code",
      "metadata": {
        "id": "ngnGhT8EDhVc"
      },
      "source": [
        "#url of the dataset from our GitHub repository\n",
        "url_red=\"https://raw.githubusercontent.com/JMGilbert/STAT4241-Final-Project/main/winequality-red.csv\"\n",
        "url_white=\"https://raw.githubusercontent.com/JMGilbert/STAT4241-Final-Project/main/winequality-white.csv\"\n",
        "red=pd.read_csv(url_red,sep=';')\n",
        "white=pd.read_csv(url_white,sep=';')"
      ],
      "execution_count": 2,
      "outputs": []
    },
    {
      "cell_type": "code",
      "metadata": {
        "colab": {
          "base_uri": "https://localhost:8080/",
          "height": 299
        },
        "id": "Q87zDm50H9cy",
        "outputId": "184b98f9-1989-4cd9-ac82-8eee0263a683"
      },
      "source": [
        "plt.subplot(1,2,1).set_title(\"Red wine\")\n",
        "plt.bar(list(set(red[\"quality\"])),red[\"quality\"].value_counts(sort=False).sort_index())\n",
        "plt.subplot(1,2,2).set_title(\"White wine\")\n",
        "plt.bar(list(set(white[\"quality\"])),white[\"quality\"].value_counts(sort=False).sort_index())"
      ],
      "execution_count": 3,
      "outputs": [
        {
          "output_type": "execute_result",
          "data": {
            "text/plain": [
              "<BarContainer object of 7 artists>"
            ]
          },
          "metadata": {
            "tags": []
          },
          "execution_count": 3
        },
        {
          "output_type": "display_data",
          "data": {
            "image/png": "[encoded data removed]",
            "text/plain": [
              "<Figure size 432x288 with 2 Axes>"
            ]
          },
          "metadata": {
            "tags": [],
            "needs_background": "light"
          }
        }
      ]
    },
    {
      "cell_type": "code",
      "metadata": {
        "colab": {
          "base_uri": "https://localhost:8080/"
        },
        "id": "wr-vW4dcJmCm",
        "outputId": "76eb8b1b-38cf-4ce0-a93c-8de24b18c9bd"
      },
      "source": [
        "print(white.isnull().values.any())\n",
        "print(red.isnull().values.any())"
      ],
      "execution_count": 4,
      "outputs": [
        {
          "output_type": "stream",
          "text": [
            "False\n",
            "False\n"
          ],
          "name": "stdout"
        }
      ]
    },
    {
      "cell_type": "code",
      "metadata": {
        "id": "P_3aw7ycSB2s"
      },
      "source": [
        "X_white=white.loc[:, white.columns != 'quality']\n",
        "Y_white=white.loc[:, white.columns == 'quality']\n",
        "X_red=red.loc[:, red.columns != 'quality']\n",
        "Y_red=red.loc[:, red.columns == 'quality']"
      ],
      "execution_count": 5,
      "outputs": []
    },
    {
      "cell_type": "code",
      "metadata": {
        "id": "hXdQnBYmXEUg"
      },
      "source": [
        "def TO_TORCH(m):\n",
        "    #convert an array/DF into a tensor with gpu on if necessary\n",
        "    if isinstance(m, np.ndarray):\n",
        "        m=torch.from_numpy(m).float()\n",
        "    elif isinstance(m, pd.DataFrame):\n",
        "        m=torch.from_numpy(m.values).float()\n",
        "    elif isinstance(m, pd.Series):\n",
        "        m=torch.from_numpy(m.values).float()\n",
        "\n",
        "    if train_on_gpu:\n",
        "        m = m.to(device=\"cuda\")\n",
        "    return(m)"
      ],
      "execution_count": 6,
      "outputs": []
    },
    {
      "cell_type": "code",
      "metadata": {
        "id": "Kgj5ipeRY9vz"
      },
      "source": [
        "red_class=pd.unique(red['quality'])\n",
        "white_class=pd.unique(white['quality'])\n",
        "red_class.sort()\n",
        "white_class.sort()"
      ],
      "execution_count": 7,
      "outputs": []
    },
    {
      "cell_type": "code",
      "metadata": {
        "colab": {
          "base_uri": "https://localhost:8080/"
        },
        "id": "j_hO_QvJMgg9",
        "outputId": "cb65c9b3-e5c9-4c9f-9f6e-e6154c497677"
      },
      "source": [
        "predictors_name=list(red.columns)[:-1]\n",
        "predictors_name"
      ],
      "execution_count": 8,
      "outputs": [
        {
          "output_type": "execute_result",
          "data": {
            "text/plain": [
              "['fixed acidity',\n",
              " 'volatile acidity',\n",
              " 'citric acid',\n",
              " 'residual sugar',\n",
              " 'chlorides',\n",
              " 'free sulfur dioxide',\n",
              " 'total sulfur dioxide',\n",
              " 'density',\n",
              " 'pH',\n",
              " 'sulphates',\n",
              " 'alcohol']"
            ]
          },
          "metadata": {
            "tags": []
          },
          "execution_count": 8
        }
      ]
    },
    {
      "cell_type": "markdown",
      "metadata": {
        "id": "tq8kD1zeSoQT"
      },
      "source": [
        "# $\\frac{2}{3}$/$\\frac{1}{3}$ Holdout Split and Standardization"
      ]
    },
    {
      "cell_type": "code",
      "metadata": {
        "id": "4TY42rlUU0bD"
      },
      "source": [
        "X_TRAIN_white, X_TEST_white, Y_TRAIN_white, Y_TEST_white = train_test_split(X_white, Y_white['quality'], test_size=0.33, random_state=42) #24\n",
        "X_TRAIN_red, X_TEST_red, Y_TRAIN_red, Y_TEST_red = train_test_split(X_red, Y_red['quality'], test_size=0.33, random_state=42)\n",
        "\n",
        "TRAIN_scaler_white = preprocessing.StandardScaler().fit(X_TRAIN_white)\n",
        "TEST_scaler_white = preprocessing.StandardScaler().fit(X_TEST_white)\n",
        "X_TRAIN_white = TO_TORCH(TRAIN_scaler_white.transform(X_TRAIN_white))\n",
        "X_TEST_white = TO_TORCH(TEST_scaler_white.transform(X_TEST_white))\n",
        "\n",
        "TRAIN_scaler_red = preprocessing.StandardScaler().fit(X_TRAIN_red)\n",
        "TEST_scaler_red = preprocessing.StandardScaler().fit(X_TEST_red)\n",
        "X_TRAIN_red = TO_TORCH(TRAIN_scaler_red.transform(X_TRAIN_red))\n",
        "X_TEST_red = TO_TORCH(TEST_scaler_red.transform(X_TEST_red))\n",
        "\n",
        "Y_TRAIN_white = TO_TORCH(Y_TRAIN_white)\n",
        "Y_TEST_white = TO_TORCH(Y_TEST_white)\n",
        "\n",
        "Y_TRAIN_red = TO_TORCH(Y_TRAIN_red)\n",
        "Y_TEST_red = TO_TORCH(Y_TEST_red)\n",
        "\n",
        "scaler_white = preprocessing.StandardScaler().fit(X_white)\n",
        "scaler_red = preprocessing.StandardScaler().fit(X_red)\n",
        "X_white_torch = TO_TORCH(scaler_white.transform(X_white))\n",
        "X_red_torch = TO_TORCH(scaler_red.transform(X_red))\n",
        "Y_white_torch = TO_TORCH(Y_white)\n",
        "Y_red_torch = TO_TORCH(Y_red)"
      ],
      "execution_count": null,
      "outputs": []
    },
    {
      "cell_type": "markdown",
      "metadata": {
        "id": "KeBq4wPeVFoZ"
      },
      "source": [
        "# Nerual Networks"
      ]
    },
    {
      "cell_type": "markdown",
      "metadata": {
        "id": "X1UebZ-Zfkcr"
      },
      "source": [
        "## Architecture"
      ]
    },
    {
      "cell_type": "markdown",
      "metadata": {
        "id": "rBFvaqhXOspI"
      },
      "source": [
        "? why using one dimensional output "
      ]
    },
    {
      "cell_type": "code",
      "metadata": {
        "id": "7xhFUWnXVIFZ"
      },
      "source": [
        "# Neural Network structure\n",
        "class Net(nn.Module):\n",
        "    def __init__(self,INPUT_DIM,OUTPUT_DIM,HIDDEN_DIM,DROP_PR,BN=False):\n",
        "        super(Net, self).__init__()\n",
        "        self.input_dim = INPUT_DIM\n",
        "        self.output_dim = OUTPUT_DIM\n",
        "        self.hidden_dim = HIDDEN_DIM\n",
        "        self.DROP_PR = DROP_PR\n",
        "        current_dim = self.input_dim\n",
        "        self.layers = nn.ModuleList()\n",
        "        self.BN=BN\n",
        "        self.bn = nn.ModuleList()\n",
        "        for hdim in self.hidden_dim:\n",
        "            self.layers.append(nn.Linear(current_dim, hdim))\n",
        "            self.bn.append(nn.BatchNorm1d(hdim))\n",
        "            current_dim = hdim\n",
        "        self.layers.append(nn.Linear(current_dim, self.output_dim))\n",
        "        self.dropout = nn.Dropout(DROP_PR) #self.DROP_PR\n",
        "\n",
        "    def forward(self, x):\n",
        "        for i, layer in enumerate(self.layers[:-1]):\n",
        "            x = layer(x)\n",
        "            if self.BN:\n",
        "                x = self.bn[i](x)\n",
        "            #x = torch.sigmoid(x)\n",
        "            x = F.relu(x)\n",
        "            x = self.dropout(x)\n",
        "        out = self.layers[-1](x)\n",
        "        return out \n",
        "\n",
        "#Loss function: mean absolute deviation\n",
        "#criterion = torch.nn.L1Loss() \n",
        "criterion = torch.nn.MSELoss()\n",
        "\n",
        "#Accuracy with tolerance\n",
        "def ACCURACY(Y_pred,target,Tolerance):\n",
        "    v=(abs(Y_pred-target)<=Tolerance)*1.0\n",
        "    return(torch.mean(v))\n",
        "\n",
        "#Kappa statistic compared with a random classifier\n",
        "def KAPPA(Y_pred,target):\n",
        "    #only work for Tolerance=0.5\n",
        "    KAPP=cohen_kappa_score(target.cpu().detach().numpy(),torch.round(Y_pred).cpu().detach().numpy())\n",
        "    #KAPP2=cohen_kappa_score(torch.round(Y_pred).cpu().detach().numpy(),target.cpu().detach().numpy())    \n",
        "    return(KAPP)"
      ],
      "execution_count": 303,
      "outputs": []
    },
    {
      "cell_type": "code",
      "metadata": {
        "id": "sOdTdNXoTmDh"
      },
      "source": [
        ""
      ],
      "execution_count": null,
      "outputs": []
    },
    {
      "cell_type": "markdown",
      "metadata": {
        "id": "ZVCUECPWfdxY"
      },
      "source": [
        "## Toy example (Ignore this part)\n",
        "red wine"
      ]
    },
    {
      "cell_type": "code",
      "metadata": {
        "id": "0r7A-QrGaX11"
      },
      "source": [
        "T=1 #Tolerance:0.25,0.5,1.0\n",
        "\n",
        "LR=1e-2\n",
        "OPT=\"SGD\" # \"SGD\" or \"ADAM\"\n",
        "EPOCH=3000\n",
        "\n",
        "HIDDEN_DIM = [11]\n",
        "INPUT_DIM = X_TRAIN_white.shape[1]\n",
        "OUTPUT_DIM = 1\n",
        "TOY_MODEL=Net(INPUT_DIM,OUTPUT_DIM,HIDDEN_DIM)\n",
        "if train_on_gpu:\n",
        "    TOY_MODEL.cuda()\n",
        "#Optimizer: \n",
        "if OPT==\"SGD\":\n",
        "    optimizer = torch.optim.SGD(TOY_MODEL.parameters(),lr=LR)\n",
        "if OPT==\"ADAM\":\n",
        "    optimizer = torch.optim.Adam(TOY_MODEL.parameters(),lr=LR, betas=(0.9, 0.99))\n",
        "#scheduler = optim.lr_scheduler.StepLR(optimizer, step_size=STEP_SIZE, gamma=DECAY)"
      ],
      "execution_count": null,
      "outputs": []
    },
    {
      "cell_type": "code",
      "metadata": {
        "id": "2sJryuV4k_HW",
        "colab": {
          "base_uri": "https://localhost:8080/"
        },
        "outputId": "f25dff72-2734-45eb-c0c6-5d148f044dce"
      },
      "source": [
        "LOSS_ARR=[]\n",
        "torch.manual_seed(0)\n",
        "for epoch in tq(range(EPOCH)):\n",
        "    optimizer.zero_grad()\n",
        "    outputs=TOY_MODEL(X_TRAIN_red)[:,0] #prediction\n",
        "    loss = criterion(outputs, Y_TRAIN_red) #compared with the true labels\n",
        "    LOSS_ARR.append(loss.data)\n",
        "    loss.backward()\n",
        "    optimizer.step()    \n",
        "    if (epoch+1)%round(EPOCH/5)==0:\n",
        "        kappa=KAPPA(outputs, Y_TRAIN_red)\n",
        "        accuracy=ACCURACY(outputs,Y_TRAIN_red,T).item()\n",
        "        print(\"\\n After {} Epochs: Loss is {}; Accuracy is {}% (T={}); KAPPA is {}% (T=0.5)\".format((epoch+1),round(loss.item(),3),round(accuracy*100,3),T,round(kappa*100,3)))\n"
      ],
      "execution_count": null,
      "outputs": [
        {
          "output_type": "stream",
          "text": [
            " 26%|██▌       | 776/3000 [00:00<00:34, 64.55it/s]"
          ],
          "name": "stderr"
        },
        {
          "output_type": "stream",
          "text": [
            "\n",
            " After 600 Epochs: Loss is 0.414; Accuracy is 89.636% (T=1); KAPPA is 34.55% (T=0.5)\n"
          ],
          "name": "stdout"
        },
        {
          "output_type": "stream",
          "text": [
            " 45%|████▌     | 1350/3000 [00:01<00:05, 300.31it/s]"
          ],
          "name": "stderr"
        },
        {
          "output_type": "stream",
          "text": [
            "\n",
            " After 1200 Epochs: Loss is 0.412; Accuracy is 89.636% (T=1); KAPPA is 34.689% (T=0.5)\n"
          ],
          "name": "stdout"
        },
        {
          "output_type": "stream",
          "text": [
            " 64%|██████▍   | 1923/3000 [00:01<00:01, 768.53it/s]"
          ],
          "name": "stderr"
        },
        {
          "output_type": "stream",
          "text": [
            "\n",
            " After 1800 Epochs: Loss is 0.411; Accuracy is 89.729% (T=1); KAPPA is 34.848% (T=0.5)\n"
          ],
          "name": "stdout"
        },
        {
          "output_type": "stream",
          "text": [
            " 87%|████████▋ | 2618/3000 [00:02<00:00, 1093.56it/s]"
          ],
          "name": "stderr"
        },
        {
          "output_type": "stream",
          "text": [
            "\n",
            " After 2400 Epochs: Loss is 0.41; Accuracy is 89.823% (T=1); KAPPA is 34.696% (T=0.5)\n"
          ],
          "name": "stdout"
        },
        {
          "output_type": "stream",
          "text": [
            "100%|██████████| 3000/3000 [00:02<00:00, 1051.44it/s]"
          ],
          "name": "stderr"
        },
        {
          "output_type": "stream",
          "text": [
            "\n",
            " After 3000 Epochs: Loss is 0.409; Accuracy is 89.729% (T=1); KAPPA is 34.689% (T=0.5)\n"
          ],
          "name": "stdout"
        },
        {
          "output_type": "stream",
          "text": [
            "\n"
          ],
          "name": "stderr"
        }
      ]
    },
    {
      "cell_type": "code",
      "metadata": {
        "id": "h6JolDcl1gGb",
        "colab": {
          "base_uri": "https://localhost:8080/",
          "height": 313
        },
        "outputId": "60780211-8c98-4732-bef4-8828c7999d90"
      },
      "source": [
        "zoom=np.floor(len(LOSS_ARR)/5).astype(int)\n",
        "zoom=0\n",
        "plt.plot(np.arange(len(LOSS_ARR)-zoom)+zoom, LOSS_ARR[zoom:])\n",
        "plt.xlabel(\"Epoch\")\n",
        "plt.ylabel(\"Loss\")\n",
        "plt.title(\"Final Loss = {}\".format(LOSS_ARR[-1]))"
      ],
      "execution_count": null,
      "outputs": [
        {
          "output_type": "execute_result",
          "data": {
            "text/plain": [
              "Text(0.5, 1.0, 'Final Loss = 0.40926045179367065')"
            ]
          },
          "metadata": {
            "tags": []
          },
          "execution_count": 13
        },
        {
          "output_type": "display_data",
          "data": {
            "image/png": "[encoded data removed]",
            "text/plain": [
              "<Figure size 432x288 with 1 Axes>"
            ]
          },
          "metadata": {
            "tags": [],
            "needs_background": "light"
          }
        }
      ]
    },
    {
      "cell_type": "code",
      "metadata": {
        "id": "EDd-kSBuomwX",
        "colab": {
          "base_uri": "https://localhost:8080/"
        },
        "outputId": "06d994b9-06d5-44e3-b719-f2ae9831bec4"
      },
      "source": [
        "test_pred=TOY_MODEL(X_TEST_red)\n",
        "loss = criterion(test_pred, Y_TEST_red)\n",
        "print(\"Test Loss is {};\".format(round(loss.item(),3)))\n",
        "for T in [0.25,0.5,1.0]: \n",
        "    accuracy=ACCURACY(test_pred,Y_TEST_red,T).item()\n",
        "    print(\"Test Accuracy is {}% (T={});\".format(round(accuracy*100,3),T))\n",
        "test_kappa=KAPPA(test_pred, Y_TEST_red)\n",
        "print(\"Test KAPPA is {}% (T=0.5);\".format(round(test_kappa*100,3)))"
      ],
      "execution_count": null,
      "outputs": [
        {
          "output_type": "stream",
          "text": [
            "Test Loss is 0.892;\n",
            "Test Accuracy is 20.645% (T=0.25);\n",
            "Test Accuracy is 39.617% (T=0.5);\n",
            "Test Accuracy is 72.13% (T=1.0);\n",
            "Test KAPPA is 30.996% (T=0.5);\n"
          ],
          "name": "stdout"
        },
        {
          "output_type": "stream",
          "text": [
            "/usr/local/lib/python3.7/dist-packages/torch/nn/modules/loss.py:528: UserWarning: Using a target size (torch.Size([528])) that is different to the input size (torch.Size([528, 1])). This will likely lead to incorrect results due to broadcasting. Please ensure they have the same size.\n",
            "  return F.mse_loss(input, target, reduction=self.reduction)\n"
          ],
          "name": "stderr"
        }
      ]
    },
    {
      "cell_type": "markdown",
      "metadata": {
        "id": "fxCzpUBBgk0h"
      },
      "source": [
        "## Wrap it up"
      ]
    },
    {
      "cell_type": "code",
      "metadata": {
        "id": "nw5P8Cwi3p0N"
      },
      "source": [
        "def TEST_NN(MODEL,TEST_X,TEST_Y,T_list=[0.25,0.5,1]):\n",
        "    MODEL.eval()\n",
        "    test_pred=MODEL(TEST_X)[:,0]\n",
        "    loss = criterion(test_pred, TEST_Y)\n",
        "    L2=loss.item()\n",
        "    accuracy_list=[ACCURACY(test_pred,TEST_Y,T).item() for T in T_list]\n",
        "    kappa=KAPPA(test_pred, TEST_Y)\n",
        "    MODEL.train()\n",
        "    return({\"L2\":L2,\"accuracy_list\":accuracy_list,\"kappa\":kappa})"
      ],
      "execution_count": 304,
      "outputs": []
    },
    {
      "cell_type": "code",
      "metadata": {
        "id": "LeI-0o9zfJlP"
      },
      "source": [
        "def TRAIN_NN(TRAIN_X,TRAIN_Y,TEST_X,TEST_Y,HIDDEN_DIM,EPOCH,DROP_PR=0.0,BN=False,LR=1e-2,OPT=\"SGD\",T=1,STEP_SIZE=50000,DECAY=0.1,seed=0):\n",
        "    #TRAIN_X,TRIAN_Y: should be tensors\n",
        "    # HIDDEN_DIM: [H] or deeper\n",
        "    # BN: Bool, if using Batch Normalization or not\n",
        "    # \"SGD\" or \"ADAM\"\n",
        "    # T:0.25,0.5,1.0\n",
        "    torch.manual_seed(seed)\n",
        "    INPUT_DIM = TRAIN_X.shape[1]\n",
        "    OUTPUT_DIM = 1\n",
        "    MODEL=Net(INPUT_DIM,OUTPUT_DIM,HIDDEN_DIM,DROP_PR,BN)\n",
        "    if train_on_gpu:\n",
        "        MODEL.cuda()\n",
        "    #Optimizer: \n",
        "    if OPT==\"SGD\":\n",
        "        optimizer = torch.optim.SGD(MODEL.parameters(),lr=LR)\n",
        "    if OPT==\"ADAM\":\n",
        "        optimizer = torch.optim.Adam(MODEL.parameters(),lr=LR, betas=(0.9, 0.99))\n",
        "    scheduler = optim.lr_scheduler.StepLR(optimizer, step_size=STEP_SIZE, gamma=DECAY)\n",
        "    LOSS_ARR=[]\n",
        "    LOSS_validation=[]\n",
        "    ACC_TRAIN_LIST=[]\n",
        "    ACC_VALIDATION_LIST=[]\n",
        "    #for epoch in tq(range(EPOCH)):\n",
        "    for epoch in range(EPOCH):\n",
        "        optimizer.zero_grad()\n",
        "        outputs=MODEL(TRAIN_X)[:,0] #prediction\n",
        "        loss = criterion(outputs, TRAIN_Y) #compared with the true labels\n",
        "        LOSS_ARR.append(loss.data)\n",
        "        loss.backward()\n",
        "        optimizer.step() \n",
        "        scheduler.step() \n",
        "        Result_TEST=TEST_NN(MODEL,TEST_X,TEST_Y,[T])\n",
        "        LOSS_validation.append(Result_TEST[\"L2\"]) \n",
        "        ACC_VALIDATION_LIST.append(Result_TEST[\"accuracy_list\"][0]) \n",
        "        ACC_TRAIN_LIST.append(ACCURACY(outputs,TRAIN_Y,T).item())\n",
        "        if (epoch+1)%round(EPOCH/5)==0:\n",
        "            #kappa=KAPPA(outputs, TRAIN_Y)\n",
        "            accuracy=ACCURACY(outputs,TRAIN_Y,T).item()\n",
        "            print(\"After {} Epochs:\".format((epoch+1)))\n",
        "            print(\"Train Loss is {}; Train Accuracy is {}% (T={});\".format(round(loss.item(),4),round(accuracy*100,4),T))\n",
        "            print(\"Test Loss is {}; Test Accuracy is {}% (T={});\".format(round(Result_TEST[\"L2\"],4),round(Result_TEST[\"accuracy_list\"][0]*100,4),T))\n",
        "        \n",
        "    return({\"MODEL\":MODEL,\"LOSS_TRAIN\":LOSS_ARR,\"LOSS_VALIDATION\":LOSS_validation,\n",
        "            \"ACCURACY_TRAIN\":ACC_TRAIN_LIST,\"ACCURACY_VALIDATION\":ACC_VALIDATION_LIST})"
      ],
      "execution_count": 305,
      "outputs": []
    },
    {
      "cell_type": "markdown",
      "metadata": {
        "id": "DFwcZ9jUB12A"
      },
      "source": [
        "### White wine"
      ]
    },
    {
      "cell_type": "markdown",
      "metadata": {
        "id": "fgbPYLzlQb0Z"
      },
      "source": [
        "#### ADAM"
      ]
    },
    {
      "cell_type": "code",
      "metadata": {
        "id": "do0_B9ReY6m1",
        "colab": {
          "base_uri": "https://localhost:8080/"
        },
        "outputId": "7edb5d9c-4dce-4381-efa1-0b5c0e8b0b0c"
      },
      "source": [
        "result_white=TRAIN_NN(X_TRAIN_white,Y_TRAIN_white,X_TEST_white,Y_TEST_white,[8],OPT=\"ADAM\",LR=1e-3,DROP_PR=0.8,BN=True,STEP_SIZE=10000,DECAY=0.5,EPOCH=60000,seed=233)\n",
        "MODEL_NN_white=result_white[\"MODEL\"]\n",
        "LOSS_white=result_white[\"LOSS_TRAIN\"]\n",
        "LOSS_validation_white=result_white[\"LOSS_VALIDATION\"]"
      ],
      "execution_count": 146,
      "outputs": [
        {
          "output_type": "stream",
          "text": [
            "After 12000 Epochs:\n",
            "Train Loss is 0.6718; Train Accuracy is 81.7434% (T=1);\n",
            "Test Loss is 0.6069; Test Accuracy is 83.5498% (T=1);\n",
            "After 24000 Epochs:\n",
            "Train Loss is 0.6801; Train Accuracy is 81.4081% (T=1);\n",
            "Test Loss is 0.6081; Test Accuracy is 83.4879% (T=1);\n",
            "After 36000 Epochs:\n",
            "Train Loss is 0.6915; Train Accuracy is 81.4995% (T=1);\n",
            "Test Loss is 0.6084; Test Accuracy is 83.5498% (T=1);\n",
            "After 48000 Epochs:\n",
            "Train Loss is 0.6877; Train Accuracy is 80.7681% (T=1);\n",
            "Test Loss is 0.6079; Test Accuracy is 83.5498% (T=1);\n",
            "After 60000 Epochs:\n",
            "Train Loss is 0.6862; Train Accuracy is 80.8595% (T=1);\n",
            "Test Loss is 0.6083; Test Accuracy is 83.4879% (T=1);\n"
          ],
          "name": "stdout"
        }
      ]
    },
    {
      "cell_type": "code",
      "metadata": {
        "colab": {
          "base_uri": "https://localhost:8080/",
          "height": 327
        },
        "id": "TqlENdrtZcLQ",
        "outputId": "d7866d04-2407-4c19-ea04-2b51841861c9"
      },
      "source": [
        "zoom=np.floor(len(LOSS_white)/7).astype(int)\n",
        "#zoom=0\n",
        "plt.plot(np.arange(len(LOSS_white)-zoom)+zoom, LOSS_white[zoom:],label=\"Train\")\n",
        "plt.plot(np.arange(len(LOSS_validation_white)-zoom)+zoom, LOSS_validation_white[zoom:],label=\"Validation\")\n",
        "\n",
        "#plt.plot((np.arange(len(LOSS_validation_white))+1)*len(LOSS_white)-1, LOSS_validation_white,label=\"Validation\")\n",
        "plt.xlabel(\"Epoch\")\n",
        "plt.ylabel(\"Loss\")\n",
        "plt.legend()\n",
        "plt.title(\"Final Train Loss = {} \\n Final Validation Loss = {}\".format(LOSS_white[-1],LOSS_validation_white[-1]))"
      ],
      "execution_count": 151,
      "outputs": [
        {
          "output_type": "execute_result",
          "data": {
            "text/plain": [
              "Text(0.5, 1.0, 'Final Train Loss = 0.6862431168556213 \\n Final Validation Loss = 0.6082528233528137')"
            ]
          },
          "metadata": {
            "tags": []
          },
          "execution_count": 151
        },
        {
          "output_type": "display_data",
          "data": {
            "image/png": "[encoded data removed]",
            "text/plain": [
              "<Figure size 432x288 with 1 Axes>"
            ]
          },
          "metadata": {
            "tags": [],
            "needs_background": "light"
          }
        }
      ]
    },
    {
      "cell_type": "code",
      "metadata": {
        "colab": {
          "base_uri": "https://localhost:8080/"
        },
        "id": "h3XZe-9WB08A",
        "outputId": "8eb8fb64-8331-47b8-ae06-28f9e2830d6d"
      },
      "source": [
        "T_list=[0.25,0.5,1]\n",
        "Result_TEST_white=TEST_NN(MODEL_NN_white,X_TEST_white,Y_TEST_white,T_list)\n",
        "print(\"Test Loss is {};\".format(round(Result_TEST_white[\"L2\"],3)))\n",
        "for i,T in enumerate(T_list): \n",
        "    acc=Result_TEST_white[\"accuracy_list\"][i]\n",
        "    print(\"Test Accuracy is {}% (T={});\".format(round(acc*100,3),T))\n",
        "test_kappa=Result_TEST_white[\"kappa\"]\n",
        "print(\"Test KAPPA is {}% (T=0.5);\".format(round(test_kappa*100,3)))"
      ],
      "execution_count": null,
      "outputs": [
        {
          "output_type": "stream",
          "text": [
            "Test Loss is 0.513;\n",
            "Test Accuracy is 27.025% (T=0.25);\n",
            "Test Accuracy is 54.298% (T=0.5);\n",
            "Test Accuracy is 85.281% (T=1);\n",
            "Test KAPPA is 28.122% (T=0.5);\n"
          ],
          "name": "stdout"
        }
      ]
    },
    {
      "cell_type": "markdown",
      "metadata": {
        "id": "Fzy_dOXwQZHt"
      },
      "source": [
        "#### SGD"
      ]
    },
    {
      "cell_type": "code",
      "metadata": {
        "id": "N54fMNd1qDe9",
        "colab": {
          "base_uri": "https://localhost:8080/"
        },
        "outputId": "f722b10a-1cd2-409d-898a-8492e03aa1a2"
      },
      "source": [
        "result_white=TRAIN_NN(X_TRAIN_white,Y_TRAIN_white,X_TEST_white,Y_TEST_white,[9],OPT=\"SGD\",LR=1e-1/2,DROP_PR=0.0,BN=False,STEP_SIZE=10000,DECAY=0.5,EPOCH=60000,seed=233)\n",
        "MODEL_NN_white=result_white[\"MODEL\"]\n",
        "LOSS_white=result_white[\"LOSS_TRAIN\"]\n",
        "LOSS_validation_white=result_white[\"LOSS_VALIDATION\"]\n",
        "ACCURACY_WHITE_TRAIN=result_white[\"ACCURACY_TRAIN\"]\n",
        "ACCURACY_WHITE_VALIDATION=result_white[\"ACCURACY_VALIDATION\"]"
      ],
      "execution_count": 306,
      "outputs": [
        {
          "output_type": "stream",
          "text": [
            "After 12000 Epochs:\n",
            "Train Loss is 0.4635; Train Accuracy is 87.26% (T=1);\n",
            "Test Loss is 0.5025; Test Accuracy is 86.0235% (T=1);\n",
            "After 24000 Epochs:\n",
            "Train Loss is 0.4618; Train Accuracy is 87.0771% (T=1);\n",
            "Test Loss is 0.5008; Test Accuracy is 85.5906% (T=1);\n",
            "After 36000 Epochs:\n",
            "Train Loss is 0.4618; Train Accuracy is 87.1076% (T=1);\n",
            "Test Loss is 0.5007; Test Accuracy is 85.4669% (T=1);\n",
            "After 48000 Epochs:\n",
            "Train Loss is 0.4618; Train Accuracy is 87.1076% (T=1);\n",
            "Test Loss is 0.5007; Test Accuracy is 85.4669% (T=1);\n",
            "After 60000 Epochs:\n",
            "Train Loss is 0.4617; Train Accuracy is 87.1076% (T=1);\n",
            "Test Loss is 0.5003; Test Accuracy is 85.4669% (T=1);\n"
          ],
          "name": "stdout"
        }
      ]
    },
    {
      "cell_type": "code",
      "metadata": {
        "colab": {
          "base_uri": "https://localhost:8080/",
          "height": 380
        },
        "id": "vCZZ290Pp9Dp",
        "outputId": "090fc945-f47d-442a-b369-e0543e4ed0e8"
      },
      "source": [
        "plt.figure(figsize=(10,5))\n",
        "plt.subplot(1,2,1)\n",
        "zoom=np.floor(len(LOSS_white)/900).astype(int)\n",
        "#zoom=0\n",
        "plt.plot(np.arange(len(LOSS_white)-zoom)+zoom, LOSS_white[zoom:],label=\"Train\")\n",
        "plt.plot(np.arange(len(LOSS_validation_white)-zoom)+zoom, LOSS_validation_white[zoom:],label=\"Validation\")\n",
        "\n",
        "#plt.plot((np.arange(len(LOSS_validation_white))+1)*len(LOSS_white)-1, LOSS_validation_white,label=\"Validation\")\n",
        "plt.xlabel(\"Epoch\")\n",
        "plt.ylabel(\"Loss\")\n",
        "plt.legend()\n",
        "plt.title(\"White Wine \\n Final Train Loss = {:.3f} \\n Final Validation Loss = {:.3f}\".format(LOSS_white[-1],LOSS_validation_white[-1]))\n",
        "\n",
        "plt.subplot(1,2,2)\n",
        "zoom=np.floor(len(ACCURACY_WHITE_TRAIN)/900).astype(int)\n",
        "#zoom=0\n",
        "plt.plot(np.arange(len(ACCURACY_WHITE_TRAIN)-zoom)+zoom, ACCURACY_WHITE_TRAIN[zoom:],label=\"Train\")\n",
        "plt.plot(np.arange(len(ACCURACY_WHITE_VALIDATION)-zoom)+zoom, ACCURACY_WHITE_VALIDATION[zoom:],label=\"Validation\")\n",
        "\n",
        "plt.xlabel(\"Epoch\")\n",
        "plt.ylabel(\"Loss\")\n",
        "plt.legend()\n",
        "plt.title(\"White Wine \\n Final Train Accuracy (T=1) = {:.3f}% \\n Final Validation Accuracy (T=1) = {:.3f}%\".format(100*ACCURACY_WHITE_TRAIN[-1],100*ACCURACY_WHITE_VALIDATION[-1]))\n",
        "\n",
        "plt.savefig(\"white train.png\", bbox_inches='tight')\n",
        "files.download(\"white train.png\")"
      ],
      "execution_count": 308,
      "outputs": [
        {
          "output_type": "display_data",
          "data": {
            "application/javascript": [
              "\n",
              "    async function download(id, filename, size) {\n",
              "      if (!google.colab.kernel.accessAllowed) {\n",
              "        return;\n",
              "      }\n",
              "      const div = document.createElement('div');\n",
              "      const label = document.createElement('label');\n",
              "      label.textContent = `Downloading \"${filename}\": `;\n",
              "      div.appendChild(label);\n",
              "      const progress = document.createElement('progress');\n",
              "      progress.max = size;\n",
              "      div.appendChild(progress);\n",
              "      document.body.appendChild(div);\n",
              "\n",
              "      const buffers = [];\n",
              "      let downloaded = 0;\n",
              "\n",
              "      const channel = await google.colab.kernel.comms.open(id);\n",
              "      // Send a message to notify the kernel that we're ready.\n",
              "      channel.send({})\n",
              "\n",
              "      for await (const message of channel.messages) {\n",
              "        // Send a message to notify the kernel that we're ready.\n",
              "        channel.send({})\n",
              "        if (message.buffers) {\n",
              "          for (const buffer of message.buffers) {\n",
              "            buffers.push(buffer);\n",
              "            downloaded += buffer.byteLength;\n",
              "            progress.value = downloaded;\n",
              "          }\n",
              "        }\n",
              "      }\n",
              "      const blob = new Blob(buffers, {type: 'application/binary'});\n",
              "      const a = document.createElement('a');\n",
              "      a.href = window.URL.createObjectURL(blob);\n",
              "      a.download = filename;\n",
              "      div.appendChild(a);\n",
              "      a.click();\n",
              "      div.remove();\n",
              "    }\n",
              "  "
            ],
            "text/plain": [
              "<IPython.core.display.Javascript object>"
            ]
          },
          "metadata": {
            "tags": []
          }
        },
        {
          "output_type": "display_data",
          "data": {
            "application/javascript": [
              "download(\"download_2e3bbffa-c387-4d34-8e8f-b4c63cdc1a71\", \"white train.png\", 33187)"
            ],
            "text/plain": [
              "<IPython.core.display.Javascript object>"
            ]
          },
          "metadata": {
            "tags": []
          }
        },
        {
          "output_type": "display_data",
          "data": {
            "image/png": "[encoded data removed]",
            "text/plain": [
              "<Figure size 720x360 with 2 Axes>"
            ]
          },
          "metadata": {
            "tags": [],
            "needs_background": "light"
          }
        }
      ]
    },
    {
      "cell_type": "code",
      "metadata": {
        "colab": {
          "base_uri": "https://localhost:8080/"
        },
        "id": "rnk2nF2fp9D2",
        "outputId": "2036e4c3-61e6-4e72-cda1-b80c9f867694"
      },
      "source": [
        "T_list=[0.25,0.5,1]\n",
        "Result_TEST_white=TEST_NN(MODEL_NN_white,X_TEST_white,Y_TEST_white,T_list)\n",
        "print(\"Test Loss is {};\".format(round(Result_TEST_white[\"L2\"],3)))\n",
        "for i,T in enumerate(T_list): \n",
        "    acc=Result_TEST_white[\"accuracy_list\"][i]\n",
        "    print(\"Test Accuracy is {}% (T={});\".format(round(acc*100,3),T))\n",
        "test_kappa=Result_TEST_white[\"kappa\"]\n",
        "print(\"Test KAPPA is {}% (T=0.5);\".format(round(test_kappa*100,3)))"
      ],
      "execution_count": 85,
      "outputs": [
        {
          "output_type": "stream",
          "text": [
            "Test Loss is 0.501;\n",
            "Test Accuracy is 27.273% (T=0.25);\n",
            "Test Accuracy is 53.989% (T=0.5);\n",
            "Test Accuracy is 85.9% (T=1);\n",
            "Test KAPPA is 28.198% (T=0.5);\n"
          ],
          "name": "stdout"
        }
      ]
    },
    {
      "cell_type": "code",
      "metadata": {
        "colab": {
          "base_uri": "https://localhost:8080/",
          "height": 327
        },
        "id": "E0eEzJ69Fy_c",
        "outputId": "e1cf79ed-a4ab-42bf-fb48-ca544b08dab0"
      },
      "source": [
        "T_list_REC=np.linspace(0,2,100)\n",
        "ACCURACY_list_REC_white=TEST_NN(MODEL_NN_white,X_TEST_white,Y_TEST_white,T_list_REC)[\"accuracy_list\"]\n",
        "plt.plot(T_list_REC,ACCURACY_list_REC_white)\n",
        "plt.xlabel(\"Tolerance\")\n",
        "plt.ylabel(\"Accuracy\")\n",
        "plt.title(\"REC \\n White wine\")"
      ],
      "execution_count": 86,
      "outputs": [
        {
          "output_type": "execute_result",
          "data": {
            "text/plain": [
              "Text(0.5, 1.0, 'REC \\n White wine')"
            ]
          },
          "metadata": {
            "tags": []
          },
          "execution_count": 86
        },
        {
          "output_type": "display_data",
          "data": {
            "image/png": "[encoded data removed]",
            "text/plain": [
              "<Figure size 432x288 with 1 Axes>"
            ]
          },
          "metadata": {
            "tags": [],
            "needs_background": "light"
          }
        }
      ]
    },
    {
      "cell_type": "code",
      "metadata": {
        "colab": {
          "base_uri": "https://localhost:8080/"
        },
        "id": "3b3jjEBCMNaH",
        "outputId": "59eee301-a40b-45ce-d2a9-3222d5829930"
      },
      "source": [
        "print(Counter(Y_TEST_white.cpu().numpy()))\n",
        "print(Counter(Y_TRAIN_white.cpu().numpy()))"
      ],
      "execution_count": 265,
      "outputs": [
        {
          "output_type": "stream",
          "text": [
            "Counter({6.0: 712, 5.0: 493, 7.0: 304, 8.0: 51, 4.0: 50, 3.0: 7})\n",
            "Counter({6.0: 1486, 5.0: 964, 7.0: 576, 8.0: 124, 4.0: 113, 3.0: 13, 9.0: 5})\n"
          ],
          "name": "stdout"
        }
      ]
    },
    {
      "cell_type": "markdown",
      "metadata": {
        "id": "-WFZz6hvB5Gl"
      },
      "source": [
        "### Red wine"
      ]
    },
    {
      "cell_type": "markdown",
      "metadata": {
        "id": "vl9HG8JGHJ25"
      },
      "source": [
        "HIDDEN=[9],LR=1e-1/2,DROP_PR=0.0,STEP_SIZE=50000,DECAY=0.5,EPOCH=60000,seed=233"
      ]
    },
    {
      "cell_type": "code",
      "metadata": {
        "colab": {
          "base_uri": "https://localhost:8080/"
        },
        "id": "o1Ld6AMEBGmM",
        "outputId": "2e9c64be-e66f-4e16-d655-ae1034c0f1d1"
      },
      "source": [
        "result_red=TRAIN_NN(X_TRAIN_red,Y_TRAIN_red,X_TEST_red,Y_TEST_red,[9],LR=1e-1/2,OPT=\"SGD\",DROP_PR=0.0,BN=False,STEP_SIZE=30000,DECAY=0.5,EPOCH=100000,seed=233)\n",
        "MODEL_NN_red=result_red[\"MODEL\"]\n",
        "LOSS_red=result_red[\"LOSS_TRAIN\"]\n",
        "LOSS_validation_red=result_red[\"LOSS_VALIDATION\"]\n",
        "ACCURACY_RED_TRAIN=result_red[\"ACCURACY_TRAIN\"]\n",
        "ACCURACY_RED_VALIDATION=result_red[\"ACCURACY_VALIDATION\"]"
      ],
      "execution_count": 309,
      "outputs": [
        {
          "output_type": "stream",
          "text": [
            "After 20000 Epochs:\n",
            "Train Loss is 0.3365; Train Accuracy is 91.5966% (T=1);\n",
            "Test Loss is 0.4051; Test Accuracy is 89.3939% (T=1);\n",
            "After 40000 Epochs:\n",
            "Train Loss is 0.3359; Train Accuracy is 91.7834% (T=1);\n",
            "Test Loss is 0.4061; Test Accuracy is 88.8258% (T=1);\n",
            "After 60000 Epochs:\n",
            "Train Loss is 0.3351; Train Accuracy is 91.69% (T=1);\n",
            "Test Loss is 0.4068; Test Accuracy is 89.0152% (T=1);\n",
            "After 80000 Epochs:\n",
            "Train Loss is 0.3351; Train Accuracy is 91.69% (T=1);\n",
            "Test Loss is 0.4067; Test Accuracy is 89.2045% (T=1);\n",
            "After 100000 Epochs:\n",
            "Train Loss is 0.335; Train Accuracy is 91.69% (T=1);\n",
            "Test Loss is 0.4068; Test Accuracy is 89.2045% (T=1);\n"
          ],
          "name": "stdout"
        }
      ]
    },
    {
      "cell_type": "code",
      "metadata": {
        "id": "_v9IHTLLBg0p",
        "colab": {
          "base_uri": "https://localhost:8080/",
          "height": 380
        },
        "outputId": "2f829aac-3f15-4658-f414-b0e426082239"
      },
      "source": [
        "plt.figure(figsize=(10,5))\n",
        "plt.subplot(1,2,1)\n",
        "zoom=np.floor(len(LOSS_red)/3000).astype(int)\n",
        "#zoom=0\n",
        "plt.plot(np.arange(len(LOSS_red)-zoom)+zoom, LOSS_red[zoom:],label=\"Train\")\n",
        "plt.plot(np.arange(len(LOSS_validation_red)-zoom)+zoom, LOSS_validation_red[zoom:],label=\"Validation\")\n",
        "\n",
        "plt.xlabel(\"Epoch\")\n",
        "plt.ylabel(\"Loss\")\n",
        "plt.legend()\n",
        "plt.title(\"Red Wine \\n Final Train Loss = {:.3f} \\n Final Validation Loss = {:.3f}\".format(LOSS_red[-1],LOSS_validation_red[-1]))\n",
        "\n",
        "plt.subplot(1,2,2)\n",
        "zoom=np.floor(len(ACCURACY_RED_TRAIN)/3000).astype(int)\n",
        "#zoom=0\n",
        "plt.plot(np.arange(len(ACCURACY_RED_TRAIN)-zoom)+zoom, ACCURACY_RED_TRAIN[zoom:],label=\"Train\")\n",
        "plt.plot(np.arange(len(ACCURACY_RED_VALIDATION)-zoom)+zoom, ACCURACY_RED_VALIDATION[zoom:],label=\"Validation\")\n",
        "\n",
        "plt.xlabel(\"Epoch\")\n",
        "plt.ylabel(\"Loss\")\n",
        "plt.legend()\n",
        "plt.title(\"Red Wine \\n Final Train Accuracy (T=1) = {:.3f}% \\n Final Validation Accuracy (T=1) = {:.3f}%\".format(100*ACCURACY_RED_TRAIN[-1],100*ACCURACY_RED_VALIDATION[-1]))\n",
        "\n",
        "plt.savefig(\"red train drop 100000.png\", bbox_inches='tight')\n",
        "files.download(\"red train drop 100000.png\")"
      ],
      "execution_count": 310,
      "outputs": [
        {
          "output_type": "display_data",
          "data": {
            "application/javascript": [
              "\n",
              "    async function download(id, filename, size) {\n",
              "      if (!google.colab.kernel.accessAllowed) {\n",
              "        return;\n",
              "      }\n",
              "      const div = document.createElement('div');\n",
              "      const label = document.createElement('label');\n",
              "      label.textContent = `Downloading \"${filename}\": `;\n",
              "      div.appendChild(label);\n",
              "      const progress = document.createElement('progress');\n",
              "      progress.max = size;\n",
              "      div.appendChild(progress);\n",
              "      document.body.appendChild(div);\n",
              "\n",
              "      const buffers = [];\n",
              "      let downloaded = 0;\n",
              "\n",
              "      const channel = await google.colab.kernel.comms.open(id);\n",
              "      // Send a message to notify the kernel that we're ready.\n",
              "      channel.send({})\n",
              "\n",
              "      for await (const message of channel.messages) {\n",
              "        // Send a message to notify the kernel that we're ready.\n",
              "        channel.send({})\n",
              "        if (message.buffers) {\n",
              "          for (const buffer of message.buffers) {\n",
              "            buffers.push(buffer);\n",
              "            downloaded += buffer.byteLength;\n",
              "            progress.value = downloaded;\n",
              "          }\n",
              "        }\n",
              "      }\n",
              "      const blob = new Blob(buffers, {type: 'application/binary'});\n",
              "      const a = document.createElement('a');\n",
              "      a.href = window.URL.createObjectURL(blob);\n",
              "      a.download = filename;\n",
              "      div.appendChild(a);\n",
              "      a.click();\n",
              "      div.remove();\n",
              "    }\n",
              "  "
            ],
            "text/plain": [
              "<IPython.core.display.Javascript object>"
            ]
          },
          "metadata": {
            "tags": []
          }
        },
        {
          "output_type": "display_data",
          "data": {
            "application/javascript": [
              "download(\"download_33e91e18-a4e3-42a6-9a5e-6b1db3a60e90\", \"red train drop 100000.png\", 33272)"
            ],
            "text/plain": [
              "<IPython.core.display.Javascript object>"
            ]
          },
          "metadata": {
            "tags": []
          }
        },
        {
          "output_type": "display_data",
          "data": {
            "image/png": "[encoded data removed]",
            "text/plain": [
              "<Figure size 720x360 with 2 Axes>"
            ]
          },
          "metadata": {
            "tags": [],
            "needs_background": "light"
          }
        }
      ]
    },
    {
      "cell_type": "code",
      "metadata": {
        "colab": {
          "base_uri": "https://localhost:8080/"
        },
        "id": "HBcWEDo3ERag",
        "outputId": "761fa61a-670c-42c1-83e9-12fa8065c71e"
      },
      "source": [
        "T_list=[0.25,0.5,1]\n",
        "Result_TEST_red=TEST_NN(MODEL_NN_red,X_TEST_red,Y_TEST_red,T_list)\n",
        "print(\"Test Loss is {};\".format(round(Result_TEST_red[\"L2\"],3)))\n",
        "for i,T in enumerate(T_list): \n",
        "    acc=Result_TEST_red[\"accuracy_list\"][i]\n",
        "    print(\"Test Accuracy is {}% (T={});\".format(round(acc*100,3),T))\n",
        "test_kappa=Result_TEST_red[\"kappa\"]\n",
        "print(\"Test KAPPA is {}% (T=0.5);\".format(round(test_kappa*100,3)))"
      ],
      "execution_count": 54,
      "outputs": [
        {
          "output_type": "stream",
          "text": [
            "Test Loss is 0.398;\n",
            "Test Accuracy is 30.303% (T=0.25);\n",
            "Test Accuracy is 57.955% (T=0.5);\n",
            "Test Accuracy is 89.583% (T=1);\n",
            "Test KAPPA is 31.414% (T=0.5);\n"
          ],
          "name": "stdout"
        }
      ]
    },
    {
      "cell_type": "code",
      "metadata": {
        "colab": {
          "base_uri": "https://localhost:8080/",
          "height": 327
        },
        "id": "z-v24yalGg5u",
        "outputId": "8cb0efab-ac38-4b9f-9c23-d02f46f9dbef"
      },
      "source": [
        "T_list_REC=np.linspace(0,2,100)\n",
        "ACCURACY_list_REC_red=TEST_NN(MODEL_NN_red,X_TEST_red,Y_TEST_red,T_list_REC)[\"accuracy_list\"]\n",
        "plt.plot(T_list_REC,ACCURACY_list_REC_red)\n",
        "plt.xlabel(\"Tolerance\")\n",
        "plt.ylabel(\"Accuracy\")\n",
        "plt.title(\"REC \\n Red wine\")"
      ],
      "execution_count": null,
      "outputs": [
        {
          "output_type": "execute_result",
          "data": {
            "text/plain": [
              "Text(0.5, 1.0, 'REC \\n Red wine')"
            ]
          },
          "metadata": {
            "tags": []
          },
          "execution_count": 24
        },
        {
          "output_type": "display_data",
          "data": {
            "image/png": "[encoded data removed]",
            "text/plain": [
              "<Figure size 432x288 with 1 Axes>"
            ]
          },
          "metadata": {
            "tags": [],
            "needs_background": "light"
          }
        }
      ]
    },
    {
      "cell_type": "markdown",
      "metadata": {
        "id": "C5lKdemHVAme"
      },
      "source": [
        "#  Sensitivity Analysis \n",
        "!“correlation does not equal causation.”"
      ]
    },
    {
      "cell_type": "code",
      "metadata": {
        "id": "mw0eNv_WH1h2"
      },
      "source": [
        "p=X_TRAIN_red.shape[1] #11"
      ],
      "execution_count": 311,
      "outputs": []
    },
    {
      "cell_type": "code",
      "metadata": {
        "id": "B0ba3cjuGWm2"
      },
      "source": [
        "def Sensitivity_Analysis(MODEL,a,L=6):\n",
        "    #a: indicator of the predictor, a=0,1,2,...10(p-1)\n",
        "    MODEL.eval()\n",
        "    Analysis_X=torch.zeros((L,p))\n",
        "    Analysis_X[:,(a)]=torch.from_numpy(np.linspace(-1, 1, 6, endpoint=True))\n",
        "    if train_on_gpu:\n",
        "        Analysis_X=Analysis_X.to(device=\"cuda\")\n",
        "    result=MODEL(Analysis_X).var()\n",
        "    MODEL.train()\n",
        "    return result.cpu().detach().numpy()"
      ],
      "execution_count": 312,
      "outputs": []
    },
    {
      "cell_type": "code",
      "metadata": {
        "id": "FFnhp6wAKaE9"
      },
      "source": [
        "V_red=np.zeros(p)\n",
        "for a in range(p):\n",
        "  V_red[a]=(Sensitivity_Analysis(MODEL_NN_red,a))\n",
        "R_red=V_red/V_red.sum()*100\n",
        "#R_red=pd.DataFrame(R_red,index=predictors_name)\n",
        "\n",
        "V_white=np.zeros(p)\n",
        "for a in range(p):\n",
        "  V_white[a]=(Sensitivity_Analysis(MODEL_NN_white,a))\n",
        "R_white=V_white/V_white.sum()*100\n",
        "#R_white=pd.DataFrame(R_white,index=predictors_name)\n",
        "R=pd.DataFrame({\"red\":R_red,\"white\":R_white}, index=predictors_name)"
      ],
      "execution_count": 313,
      "outputs": []
    },
    {
      "cell_type": "code",
      "metadata": {
        "colab": {
          "base_uri": "https://localhost:8080/",
          "height": 607
        },
        "id": "3WBjv54uLD5N",
        "outputId": "6f6309ff-ca6f-420c-a571-3993dede866a"
      },
      "source": [
        "plt.figure(figsize=(10,10))\n",
        "R.sort_values(by=\"red\").plot.barh(y='red',legend=None,subplots=True, layout=(2,1),figsize=(4,8),title=\"Input Importances for the Neural Network (in %)\")\n",
        "\n",
        "plt.savefig(\"sensi red.png\", bbox_inches='tight')\n",
        "files.download(\"sensi red.png\")\n",
        "R.sort_values(by=\"white\").plot.barh(y='white',legend=None,subplots=True, layout=(2,1),figsize=(4,8),title=\"Input Importances for the Neural Network (in %)\")\n",
        "\n",
        "plt.savefig(\"sensi white.png\", bbox_inches='tight')\n",
        "files.download(\"sensi white.png\")"
      ],
      "execution_count": 317,
      "outputs": [
        {
          "output_type": "display_data",
          "data": {
            "application/javascript": [
              "\n",
              "    async function download(id, filename, size) {\n",
              "      if (!google.colab.kernel.accessAllowed) {\n",
              "        return;\n",
              "      }\n",
              "      const div = document.createElement('div');\n",
              "      const label = document.createElement('label');\n",
              "      label.textContent = `Downloading \"${filename}\": `;\n",
              "      div.appendChild(label);\n",
              "      const progress = document.createElement('progress');\n",
              "      progress.max = size;\n",
              "      div.appendChild(progress);\n",
              "      document.body.appendChild(div);\n",
              "\n",
              "      const buffers = [];\n",
              "      let downloaded = 0;\n",
              "\n",
              "      const channel = await google.colab.kernel.comms.open(id);\n",
              "      // Send a message to notify the kernel that we're ready.\n",
              "      channel.send({})\n",
              "\n",
              "      for await (const message of channel.messages) {\n",
              "        // Send a message to notify the kernel that we're ready.\n",
              "        channel.send({})\n",
              "        if (message.buffers) {\n",
              "          for (const buffer of message.buffers) {\n",
              "            buffers.push(buffer);\n",
              "            downloaded += buffer.byteLength;\n",
              "            progress.value = downloaded;\n",
              "          }\n",
              "        }\n",
              "      }\n",
              "      const blob = new Blob(buffers, {type: 'application/binary'});\n",
              "      const a = document.createElement('a');\n",
              "      a.href = window.URL.createObjectURL(blob);\n",
              "      a.download = filename;\n",
              "      div.appendChild(a);\n",
              "      a.click();\n",
              "      div.remove();\n",
              "    }\n",
              "  "
            ],
            "text/plain": [
              "<IPython.core.display.Javascript object>"
            ]
          },
          "metadata": {
            "tags": []
          }
        },
        {
          "output_type": "display_data",
          "data": {
            "application/javascript": [
              "download(\"download_1c46e5b5-e2b1-44b3-b01b-19efa6ad3f01\", \"sensi red.png\", 15174)"
            ],
            "text/plain": [
              "<IPython.core.display.Javascript object>"
            ]
          },
          "metadata": {
            "tags": []
          }
        },
        {
          "output_type": "display_data",
          "data": {
            "application/javascript": [
              "\n",
              "    async function download(id, filename, size) {\n",
              "      if (!google.colab.kernel.accessAllowed) {\n",
              "        return;\n",
              "      }\n",
              "      const div = document.createElement('div');\n",
              "      const label = document.createElement('label');\n",
              "      label.textContent = `Downloading \"${filename}\": `;\n",
              "      div.appendChild(label);\n",
              "      const progress = document.createElement('progress');\n",
              "      progress.max = size;\n",
              "      div.appendChild(progress);\n",
              "      document.body.appendChild(div);\n",
              "\n",
              "      const buffers = [];\n",
              "      let downloaded = 0;\n",
              "\n",
              "      const channel = await google.colab.kernel.comms.open(id);\n",
              "      // Send a message to notify the kernel that we're ready.\n",
              "      channel.send({})\n",
              "\n",
              "      for await (const message of channel.messages) {\n",
              "        // Send a message to notify the kernel that we're ready.\n",
              "        channel.send({})\n",
              "        if (message.buffers) {\n",
              "          for (const buffer of message.buffers) {\n",
              "            buffers.push(buffer);\n",
              "            downloaded += buffer.byteLength;\n",
              "            progress.value = downloaded;\n",
              "          }\n",
              "        }\n",
              "      }\n",
              "      const blob = new Blob(buffers, {type: 'application/binary'});\n",
              "      const a = document.createElement('a');\n",
              "      a.href = window.URL.createObjectURL(blob);\n",
              "      a.download = filename;\n",
              "      div.appendChild(a);\n",
              "      a.click();\n",
              "      div.remove();\n",
              "    }\n",
              "  "
            ],
            "text/plain": [
              "<IPython.core.display.Javascript object>"
            ]
          },
          "metadata": {
            "tags": []
          }
        },
        {
          "output_type": "display_data",
          "data": {
            "application/javascript": [
              "download(\"download_91b63c1c-86a4-4ba9-9482-73f4e270ae81\", \"sensi white.png\", 15367)"
            ],
            "text/plain": [
              "<IPython.core.display.Javascript object>"
            ]
          },
          "metadata": {
            "tags": []
          }
        },
        {
          "output_type": "display_data",
          "data": {
            "text/plain": [
              "<Figure size 720x720 with 0 Axes>"
            ]
          },
          "metadata": {
            "tags": []
          }
        },
        {
          "output_type": "display_data",
          "data": {
            "image/png": "[encoded data removed]",
            "text/plain": [
              "<Figure size 288x576 with 2 Axes>"
            ]
          },
          "metadata": {
            "tags": [],
            "needs_background": "light"
          }
        },
        {
          "output_type": "display_data",
          "data": {
            "image/png": "[encoded data removed]",
            "text/plain": [
              "<Figure size 288x576 with 2 Axes>"
            ]
          },
          "metadata": {
            "tags": [],
            "needs_background": "light"
          }
        }
      ]
    },
    {
      "cell_type": "markdown",
      "metadata": {
        "id": "0KNUpssnU0kQ"
      },
      "source": [
        "# the Problem of Imbalance Data"
      ]
    },
    {
      "cell_type": "code",
      "metadata": {
        "colab": {
          "base_uri": "https://localhost:8080/"
        },
        "id": "fmrFo2vvtwrC",
        "outputId": "4b252fea-c1f3-4b42-801e-05d4a50735bd"
      },
      "source": [
        "for i,c in enumerate(red_class):\n",
        "    print(\"there are {} red wine samples with the score of {}\".format(len(Y_red_torch[Y_red_torch==red_class[i]]),c))\n",
        "print(\"\\n\")\n",
        "for i,c in enumerate(white_class):\n",
        "    print(\"there are {} white wine samples with the score of {}\".format(len(Y_white_torch[Y_white_torch==white_class[i]]),c))\n",
        "   "
      ],
      "execution_count": 264,
      "outputs": [
        {
          "output_type": "stream",
          "text": [
            "there are 10 red wine samples with the score of 3\n",
            "there are 53 red wine samples with the score of 4\n",
            "there are 681 red wine samples with the score of 5\n",
            "there are 638 red wine samples with the score of 6\n",
            "there are 199 red wine samples with the score of 7\n",
            "there are 18 red wine samples with the score of 8\n",
            "\n",
            "\n",
            "there are 20 white wine samples with the score of 3\n",
            "there are 163 white wine samples with the score of 4\n",
            "there are 1457 white wine samples with the score of 5\n",
            "there are 2198 white wine samples with the score of 6\n",
            "there are 880 white wine samples with the score of 7\n",
            "there are 175 white wine samples with the score of 8\n",
            "there are 5 white wine samples with the score of 9\n"
          ],
          "name": "stdout"
        }
      ]
    },
    {
      "cell_type": "code",
      "metadata": {
        "colab": {
          "base_uri": "https://localhost:8080/",
          "height": 294
        },
        "id": "f_LbQxToepuQ",
        "outputId": "8ae32ce3-f267-4a77-cb0c-eeb04d6ff983"
      },
      "source": [
        "counter=Counter(Y_white_torch.cpu().numpy()[:,0])\n",
        "count_white=[str(len(Y_white_torch[Y_white_torch==white_class[i]])) for i,c in enumerate(white_class)]\n",
        "percentage_white=[100*round(counter[i] /len(Y_white_torch.cpu().numpy()),3) for i in white_class] \n",
        "white_m=pd.DataFrame([count_white,percentage_white]).transpose()\n",
        "white_m=white_m.set_index(white_class)\n",
        "white_m.columns=[\"Bottle of White Wine\",\"%\"]\n",
        "\n",
        "total=pd.DataFrame(index=[\"Total\"],columns=[\"Bottle of White Wine\",\"%\"])\n",
        "total.at[\"Total\",\"Bottle of White Wine\"] = len(Y_white_torch.cpu().numpy() )\n",
        "total.at[\"Total\",\"%\"] = 100\n",
        "\n",
        "white_m.append(total)"
      ],
      "execution_count": 390,
      "outputs": [
        {
          "output_type": "execute_result",
          "data": {
            "text/html": [
              "<div>\n",
              "<style scoped>\n",
              "    .dataframe tbody tr th:only-of-type {\n",
              "        vertical-align: middle;\n",
              "    }\n",
              "\n",
              "    .dataframe tbody tr th {\n",
              "        vertical-align: top;\n",
              "    }\n",
              "\n",
              "    .dataframe thead th {\n",
              "        text-align: right;\n",
              "    }\n",
              "</style>\n",
              "<table border=\"1\" class=\"dataframe\">\n",
              "  <thead>\n",
              "    <tr style=\"text-align: right;\">\n",
              "      <th></th>\n",
              "      <th>Bottle of White Wine</th>\n",
              "      <th>%</th>\n",
              "    </tr>\n",
              "  </thead>\n",
              "  <tbody>\n",
              "    <tr>\n",
              "      <th>3</th>\n",
              "      <td>20</td>\n",
              "      <td>0.4</td>\n",
              "    </tr>\n",
              "    <tr>\n",
              "      <th>4</th>\n",
              "      <td>163</td>\n",
              "      <td>3.3</td>\n",
              "    </tr>\n",
              "    <tr>\n",
              "      <th>5</th>\n",
              "      <td>1457</td>\n",
              "      <td>29.7</td>\n",
              "    </tr>\n",
              "    <tr>\n",
              "      <th>6</th>\n",
              "      <td>2198</td>\n",
              "      <td>44.9</td>\n",
              "    </tr>\n",
              "    <tr>\n",
              "      <th>7</th>\n",
              "      <td>880</td>\n",
              "      <td>18</td>\n",
              "    </tr>\n",
              "    <tr>\n",
              "      <th>8</th>\n",
              "      <td>175</td>\n",
              "      <td>3.6</td>\n",
              "    </tr>\n",
              "    <tr>\n",
              "      <th>9</th>\n",
              "      <td>5</td>\n",
              "      <td>0.1</td>\n",
              "    </tr>\n",
              "    <tr>\n",
              "      <th>Total</th>\n",
              "      <td>4898</td>\n",
              "      <td>100</td>\n",
              "    </tr>\n",
              "  </tbody>\n",
              "</table>\n",
              "</div>"
            ],
            "text/plain": [
              "      Bottle of White Wine     %\n",
              "3                       20   0.4\n",
              "4                      163   3.3\n",
              "5                     1457  29.7\n",
              "6                     2198  44.9\n",
              "7                      880    18\n",
              "8                      175   3.6\n",
              "9                        5   0.1\n",
              "Total                 4898   100"
            ]
          },
          "metadata": {
            "tags": []
          },
          "execution_count": 390
        }
      ]
    },
    {
      "cell_type": "code",
      "metadata": {
        "colab": {
          "base_uri": "https://localhost:8080/",
          "height": 263
        },
        "id": "t4KHJA-xpXHX",
        "outputId": "0a6dec25-045a-4824-b93e-005e924897ff"
      },
      "source": [
        "counter=Counter(Y_red_torch.cpu().numpy()[:,0])\n",
        "count_red=[str(len(Y_red_torch[Y_red_torch==red_class[i]])) for i,c in enumerate(red_class)]\n",
        "percentage_red=[100*round(counter[i] /len(Y_red_torch.cpu().numpy() ),3) for i in red_class] \n",
        "red_m=pd.DataFrame([count_red,percentage_red]).transpose()\n",
        "red_m=red_m.set_index(red_class)\n",
        "red_m.columns=[\"Bottle of Red Wine\",\"%\"]\n",
        "\n",
        "total=pd.DataFrame(index=[\"Total\"],columns=[\"Bottle of Red Wine\",\"%\"])\n",
        "total.at[\"Total\",\"Bottle of Red Wine\"] = len(Y_red_torch.cpu().numpy() )\n",
        "total.at[\"Total\",\"%\"] = 100\n",
        "\n",
        "red_m.append(total)"
      ],
      "execution_count": 391,
      "outputs": [
        {
          "output_type": "execute_result",
          "data": {
            "text/html": [
              "<div>\n",
              "<style scoped>\n",
              "    .dataframe tbody tr th:only-of-type {\n",
              "        vertical-align: middle;\n",
              "    }\n",
              "\n",
              "    .dataframe tbody tr th {\n",
              "        vertical-align: top;\n",
              "    }\n",
              "\n",
              "    .dataframe thead th {\n",
              "        text-align: right;\n",
              "    }\n",
              "</style>\n",
              "<table border=\"1\" class=\"dataframe\">\n",
              "  <thead>\n",
              "    <tr style=\"text-align: right;\">\n",
              "      <th></th>\n",
              "      <th>Bottle of Red Wine</th>\n",
              "      <th>%</th>\n",
              "    </tr>\n",
              "  </thead>\n",
              "  <tbody>\n",
              "    <tr>\n",
              "      <th>3</th>\n",
              "      <td>10</td>\n",
              "      <td>0.6</td>\n",
              "    </tr>\n",
              "    <tr>\n",
              "      <th>4</th>\n",
              "      <td>53</td>\n",
              "      <td>3.3</td>\n",
              "    </tr>\n",
              "    <tr>\n",
              "      <th>5</th>\n",
              "      <td>681</td>\n",
              "      <td>42.6</td>\n",
              "    </tr>\n",
              "    <tr>\n",
              "      <th>6</th>\n",
              "      <td>638</td>\n",
              "      <td>39.9</td>\n",
              "    </tr>\n",
              "    <tr>\n",
              "      <th>7</th>\n",
              "      <td>199</td>\n",
              "      <td>12.4</td>\n",
              "    </tr>\n",
              "    <tr>\n",
              "      <th>8</th>\n",
              "      <td>18</td>\n",
              "      <td>1.1</td>\n",
              "    </tr>\n",
              "    <tr>\n",
              "      <th>Total</th>\n",
              "      <td>1599</td>\n",
              "      <td>100</td>\n",
              "    </tr>\n",
              "  </tbody>\n",
              "</table>\n",
              "</div>"
            ],
            "text/plain": [
              "      Bottle of Red Wine     %\n",
              "3                     10   0.6\n",
              "4                     53   3.3\n",
              "5                    681  42.6\n",
              "6                    638  39.9\n",
              "7                    199  12.4\n",
              "8                     18   1.1\n",
              "Total               1599   100"
            ]
          },
          "metadata": {
            "tags": []
          },
          "execution_count": 391
        }
      ]
    },
    {
      "cell_type": "code",
      "metadata": {
        "colab": {
          "base_uri": "https://localhost:8080/"
        },
        "id": "9_wh1egkx0ox",
        "outputId": "3be3fb1d-80e1-45cb-f398-40a9e7f15722"
      },
      "source": [
        "from scipy import stats\n",
        "#Kullback-Leibler divergence from the uniform distribution\n",
        "stats.entropy(percentage_red,[1/len(red_class)]*len(red_class))"
      ],
      "execution_count": 401,
      "outputs": [
        {
          "output_type": "execute_result",
          "data": {
            "text/plain": [
              "0.6097432644827808"
            ]
          },
          "metadata": {
            "tags": []
          },
          "execution_count": 401
        }
      ]
    },
    {
      "cell_type": "markdown",
      "metadata": {
        "id": "-MuC2apTW1GT"
      },
      "source": [
        "## Confusion Matrix T=0.5\n",
        "Using the full data"
      ]
    },
    {
      "cell_type": "markdown",
      "metadata": {
        "id": "LIuMkHxBkBZR"
      },
      "source": [
        ">??? suppose T=0.5, and the predicted value is 2.5, which column of confusion matrix should we add it to, 2 or 3??"
      ]
    },
    {
      "cell_type": "code",
      "metadata": {
        "colab": {
          "base_uri": "https://localhost:8080/",
          "height": 250
        },
        "id": "ixtXacv5UmKC",
        "outputId": "b65f937d-98a9-41fd-c79b-920265be84c3"
      },
      "source": [
        "red_pred=np.round(MODEL_NN_red(X_red_torch).cpu().detach().numpy())[:,0] \n",
        "red_pred=np.where(red_pred >=8.0, 8, red_pred)\n",
        "red_pred=np.where(red_pred <=3.0, 3, red_pred)  \n",
        "red_confusion=confusion_matrix(Y_red_torch.cpu().detach().numpy(), red_pred)\n",
        "red_confusion=pd.DataFrame(red_confusion,index=red_class,columns=red_class) \n",
        "print(\"Confusion Matrix for Red Wine (T=0.5)\")\n",
        "red_confusion "
      ],
      "execution_count": 327,
      "outputs": [
        {
          "output_type": "stream",
          "text": [
            "Confusion Matrix for Red Wine (T=0.5)\n"
          ],
          "name": "stdout"
        },
        {
          "output_type": "execute_result",
          "data": {
            "text/html": [
              "<div>\n",
              "<style scoped>\n",
              "    .dataframe tbody tr th:only-of-type {\n",
              "        vertical-align: middle;\n",
              "    }\n",
              "\n",
              "    .dataframe tbody tr th {\n",
              "        vertical-align: top;\n",
              "    }\n",
              "\n",
              "    .dataframe thead th {\n",
              "        text-align: right;\n",
              "    }\n",
              "</style>\n",
              "<table border=\"1\" class=\"dataframe\">\n",
              "  <thead>\n",
              "    <tr style=\"text-align: right;\">\n",
              "      <th></th>\n",
              "      <th>3</th>\n",
              "      <th>4</th>\n",
              "      <th>5</th>\n",
              "      <th>6</th>\n",
              "      <th>7</th>\n",
              "      <th>8</th>\n",
              "    </tr>\n",
              "  </thead>\n",
              "  <tbody>\n",
              "    <tr>\n",
              "      <th>3</th>\n",
              "      <td>0</td>\n",
              "      <td>4</td>\n",
              "      <td>6</td>\n",
              "      <td>0</td>\n",
              "      <td>0</td>\n",
              "      <td>0</td>\n",
              "    </tr>\n",
              "    <tr>\n",
              "      <th>4</th>\n",
              "      <td>0</td>\n",
              "      <td>3</td>\n",
              "      <td>40</td>\n",
              "      <td>10</td>\n",
              "      <td>0</td>\n",
              "      <td>0</td>\n",
              "    </tr>\n",
              "    <tr>\n",
              "      <th>5</th>\n",
              "      <td>0</td>\n",
              "      <td>2</td>\n",
              "      <td>506</td>\n",
              "      <td>169</td>\n",
              "      <td>4</td>\n",
              "      <td>0</td>\n",
              "    </tr>\n",
              "    <tr>\n",
              "      <th>6</th>\n",
              "      <td>0</td>\n",
              "      <td>0</td>\n",
              "      <td>178</td>\n",
              "      <td>422</td>\n",
              "      <td>38</td>\n",
              "      <td>0</td>\n",
              "    </tr>\n",
              "    <tr>\n",
              "      <th>7</th>\n",
              "      <td>0</td>\n",
              "      <td>0</td>\n",
              "      <td>7</td>\n",
              "      <td>124</td>\n",
              "      <td>68</td>\n",
              "      <td>0</td>\n",
              "    </tr>\n",
              "    <tr>\n",
              "      <th>8</th>\n",
              "      <td>0</td>\n",
              "      <td>0</td>\n",
              "      <td>0</td>\n",
              "      <td>5</td>\n",
              "      <td>13</td>\n",
              "      <td>0</td>\n",
              "    </tr>\n",
              "  </tbody>\n",
              "</table>\n",
              "</div>"
            ],
            "text/plain": [
              "   3  4    5    6   7  8\n",
              "3  0  4    6    0   0  0\n",
              "4  0  3   40   10   0  0\n",
              "5  0  2  506  169   4  0\n",
              "6  0  0  178  422  38  0\n",
              "7  0  0    7  124  68  0\n",
              "8  0  0    0    5  13  0"
            ]
          },
          "metadata": {
            "tags": []
          },
          "execution_count": 327
        }
      ]
    },
    {
      "cell_type": "code",
      "metadata": {
        "colab": {
          "base_uri": "https://localhost:8080/",
          "height": 281
        },
        "id": "4H2xQDUIf7D3",
        "outputId": "64a7d989-a5eb-4c40-9260-5b7ff66057b4"
      },
      "source": [
        "white_pred=np.round(MODEL_NN_white(X_white_torch).cpu().detach().numpy())[:,0] \n",
        "white_pred=np.where(white_pred >=8.0, 8, white_pred)\n",
        "white_pred=np.where(white_pred <=3.0, 3, white_pred)    \n",
        "white_confusion=confusion_matrix(Y_white_torch.cpu().detach().numpy(), white_pred)\n",
        "white_confusion=pd.DataFrame(white_confusion,index=white_class,columns=white_class) \n",
        "print(\"Confusion Matrix for White Wine (T=0.5)\")\n",
        "white_confusion "
      ],
      "execution_count": 324,
      "outputs": [
        {
          "output_type": "stream",
          "text": [
            "Confusion Matrix for White Wine (T=0.5)\n"
          ],
          "name": "stdout"
        },
        {
          "output_type": "execute_result",
          "data": {
            "text/html": [
              "<div>\n",
              "<style scoped>\n",
              "    .dataframe tbody tr th:only-of-type {\n",
              "        vertical-align: middle;\n",
              "    }\n",
              "\n",
              "    .dataframe tbody tr th {\n",
              "        vertical-align: top;\n",
              "    }\n",
              "\n",
              "    .dataframe thead th {\n",
              "        text-align: right;\n",
              "    }\n",
              "</style>\n",
              "<table border=\"1\" class=\"dataframe\">\n",
              "  <thead>\n",
              "    <tr style=\"text-align: right;\">\n",
              "      <th></th>\n",
              "      <th>3</th>\n",
              "      <th>4</th>\n",
              "      <th>5</th>\n",
              "      <th>6</th>\n",
              "      <th>7</th>\n",
              "      <th>8</th>\n",
              "      <th>9</th>\n",
              "    </tr>\n",
              "  </thead>\n",
              "  <tbody>\n",
              "    <tr>\n",
              "      <th>3</th>\n",
              "      <td>0</td>\n",
              "      <td>2</td>\n",
              "      <td>9</td>\n",
              "      <td>9</td>\n",
              "      <td>0</td>\n",
              "      <td>0</td>\n",
              "      <td>0</td>\n",
              "    </tr>\n",
              "    <tr>\n",
              "      <th>4</th>\n",
              "      <td>0</td>\n",
              "      <td>15</td>\n",
              "      <td>108</td>\n",
              "      <td>39</td>\n",
              "      <td>1</td>\n",
              "      <td>0</td>\n",
              "      <td>0</td>\n",
              "    </tr>\n",
              "    <tr>\n",
              "      <th>5</th>\n",
              "      <td>0</td>\n",
              "      <td>15</td>\n",
              "      <td>823</td>\n",
              "      <td>599</td>\n",
              "      <td>20</td>\n",
              "      <td>0</td>\n",
              "      <td>0</td>\n",
              "    </tr>\n",
              "    <tr>\n",
              "      <th>6</th>\n",
              "      <td>0</td>\n",
              "      <td>2</td>\n",
              "      <td>405</td>\n",
              "      <td>1522</td>\n",
              "      <td>269</td>\n",
              "      <td>0</td>\n",
              "      <td>0</td>\n",
              "    </tr>\n",
              "    <tr>\n",
              "      <th>7</th>\n",
              "      <td>0</td>\n",
              "      <td>0</td>\n",
              "      <td>16</td>\n",
              "      <td>505</td>\n",
              "      <td>356</td>\n",
              "      <td>3</td>\n",
              "      <td>0</td>\n",
              "    </tr>\n",
              "    <tr>\n",
              "      <th>8</th>\n",
              "      <td>0</td>\n",
              "      <td>0</td>\n",
              "      <td>2</td>\n",
              "      <td>69</td>\n",
              "      <td>104</td>\n",
              "      <td>0</td>\n",
              "      <td>0</td>\n",
              "    </tr>\n",
              "    <tr>\n",
              "      <th>9</th>\n",
              "      <td>0</td>\n",
              "      <td>0</td>\n",
              "      <td>0</td>\n",
              "      <td>1</td>\n",
              "      <td>4</td>\n",
              "      <td>0</td>\n",
              "      <td>0</td>\n",
              "    </tr>\n",
              "  </tbody>\n",
              "</table>\n",
              "</div>"
            ],
            "text/plain": [
              "   3   4    5     6    7  8  9\n",
              "3  0   2    9     9    0  0  0\n",
              "4  0  15  108    39    1  0  0\n",
              "5  0  15  823   599   20  0  0\n",
              "6  0   2  405  1522  269  0  0\n",
              "7  0   0   16   505  356  3  0\n",
              "8  0   0    2    69  104  0  0\n",
              "9  0   0    0     1    4  0  0"
            ]
          },
          "metadata": {
            "tags": []
          },
          "execution_count": 324
        }
      ]
    },
    {
      "cell_type": "markdown",
      "metadata": {
        "id": "EFGFueslkX7s"
      },
      "source": [
        "using the test data"
      ]
    },
    {
      "cell_type": "code",
      "metadata": {
        "colab": {
          "base_uri": "https://localhost:8080/",
          "height": 233
        },
        "id": "HFoUkKfGkZXC",
        "outputId": "563f5307-b051-40bd-bc8b-5b15cc9086f4"
      },
      "source": [
        "red_pred=np.round(MODEL_NN_red(X_TEST_red).cpu().detach().numpy())   \n",
        "red_confusion=confusion_matrix(Y_TEST_red.cpu().detach().numpy(), red_pred)\n",
        "red_confusion=pd.DataFrame(red_confusion,index=red_class,columns=red_class) \n",
        "red_confusion  "
      ],
      "execution_count": null,
      "outputs": [
        {
          "output_type": "execute_result",
          "data": {
            "text/html": [
              "<div>\n",
              "<style scoped>\n",
              "    .dataframe tbody tr th:only-of-type {\n",
              "        vertical-align: middle;\n",
              "    }\n",
              "\n",
              "    .dataframe tbody tr th {\n",
              "        vertical-align: top;\n",
              "    }\n",
              "\n",
              "    .dataframe thead th {\n",
              "        text-align: right;\n",
              "    }\n",
              "</style>\n",
              "<table border=\"1\" class=\"dataframe\">\n",
              "  <thead>\n",
              "    <tr style=\"text-align: right;\">\n",
              "      <th></th>\n",
              "      <th>3</th>\n",
              "      <th>4</th>\n",
              "      <th>5</th>\n",
              "      <th>6</th>\n",
              "      <th>7</th>\n",
              "      <th>8</th>\n",
              "    </tr>\n",
              "  </thead>\n",
              "  <tbody>\n",
              "    <tr>\n",
              "      <th>3</th>\n",
              "      <td>0</td>\n",
              "      <td>1</td>\n",
              "      <td>1</td>\n",
              "      <td>0</td>\n",
              "      <td>0</td>\n",
              "      <td>0</td>\n",
              "    </tr>\n",
              "    <tr>\n",
              "      <th>4</th>\n",
              "      <td>0</td>\n",
              "      <td>1</td>\n",
              "      <td>13</td>\n",
              "      <td>5</td>\n",
              "      <td>0</td>\n",
              "      <td>0</td>\n",
              "    </tr>\n",
              "    <tr>\n",
              "      <th>5</th>\n",
              "      <td>0</td>\n",
              "      <td>3</td>\n",
              "      <td>159</td>\n",
              "      <td>54</td>\n",
              "      <td>1</td>\n",
              "      <td>0</td>\n",
              "    </tr>\n",
              "    <tr>\n",
              "      <th>6</th>\n",
              "      <td>0</td>\n",
              "      <td>0</td>\n",
              "      <td>74</td>\n",
              "      <td>129</td>\n",
              "      <td>10</td>\n",
              "      <td>0</td>\n",
              "    </tr>\n",
              "    <tr>\n",
              "      <th>7</th>\n",
              "      <td>0</td>\n",
              "      <td>0</td>\n",
              "      <td>3</td>\n",
              "      <td>46</td>\n",
              "      <td>21</td>\n",
              "      <td>0</td>\n",
              "    </tr>\n",
              "    <tr>\n",
              "      <th>8</th>\n",
              "      <td>0</td>\n",
              "      <td>0</td>\n",
              "      <td>0</td>\n",
              "      <td>4</td>\n",
              "      <td>3</td>\n",
              "      <td>0</td>\n",
              "    </tr>\n",
              "  </tbody>\n",
              "</table>\n",
              "</div>"
            ],
            "text/plain": [
              "   3  4    5    6   7  8\n",
              "3  0  1    1    0   0  0\n",
              "4  0  1   13    5   0  0\n",
              "5  0  3  159   54   1  0\n",
              "6  0  0   74  129  10  0\n",
              "7  0  0    3   46  21  0\n",
              "8  0  0    0    4   3  0"
            ]
          },
          "metadata": {
            "tags": []
          },
          "execution_count": 32
        }
      ]
    },
    {
      "cell_type": "code",
      "metadata": {
        "colab": {
          "base_uri": "https://localhost:8080/",
          "height": 233
        },
        "id": "yYIsvR52kg8W",
        "outputId": "0cc8b13a-2ddb-4afd-dc0e-9e8191047c9b"
      },
      "source": [
        "white_pred=np.round(MODEL_NN_white(X_TEST_white).cpu().detach().numpy())   \n",
        "white_confusion=confusion_matrix(Y_TEST_white.cpu().detach().numpy(), white_pred)\n",
        "#white_confusion=pd.DataFrame(white_confusion,index=white_class,columns=white_class) \n",
        "white_confusion=pd.DataFrame(white_confusion,index=red_class,columns=red_class) \n",
        "white_confusion "
      ],
      "execution_count": null,
      "outputs": [
        {
          "output_type": "execute_result",
          "data": {
            "text/html": [
              "<div>\n",
              "<style scoped>\n",
              "    .dataframe tbody tr th:only-of-type {\n",
              "        vertical-align: middle;\n",
              "    }\n",
              "\n",
              "    .dataframe tbody tr th {\n",
              "        vertical-align: top;\n",
              "    }\n",
              "\n",
              "    .dataframe thead th {\n",
              "        text-align: right;\n",
              "    }\n",
              "</style>\n",
              "<table border=\"1\" class=\"dataframe\">\n",
              "  <thead>\n",
              "    <tr style=\"text-align: right;\">\n",
              "      <th></th>\n",
              "      <th>3</th>\n",
              "      <th>4</th>\n",
              "      <th>5</th>\n",
              "      <th>6</th>\n",
              "      <th>7</th>\n",
              "      <th>8</th>\n",
              "    </tr>\n",
              "  </thead>\n",
              "  <tbody>\n",
              "    <tr>\n",
              "      <th>3</th>\n",
              "      <td>0</td>\n",
              "      <td>1</td>\n",
              "      <td>3</td>\n",
              "      <td>3</td>\n",
              "      <td>0</td>\n",
              "      <td>0</td>\n",
              "    </tr>\n",
              "    <tr>\n",
              "      <th>4</th>\n",
              "      <td>0</td>\n",
              "      <td>5</td>\n",
              "      <td>25</td>\n",
              "      <td>16</td>\n",
              "      <td>0</td>\n",
              "      <td>0</td>\n",
              "    </tr>\n",
              "    <tr>\n",
              "      <th>5</th>\n",
              "      <td>0</td>\n",
              "      <td>7</td>\n",
              "      <td>264</td>\n",
              "      <td>195</td>\n",
              "      <td>6</td>\n",
              "      <td>0</td>\n",
              "    </tr>\n",
              "    <tr>\n",
              "      <th>6</th>\n",
              "      <td>0</td>\n",
              "      <td>1</td>\n",
              "      <td>141</td>\n",
              "      <td>500</td>\n",
              "      <td>89</td>\n",
              "      <td>0</td>\n",
              "    </tr>\n",
              "    <tr>\n",
              "      <th>7</th>\n",
              "      <td>0</td>\n",
              "      <td>0</td>\n",
              "      <td>8</td>\n",
              "      <td>172</td>\n",
              "      <td>124</td>\n",
              "      <td>0</td>\n",
              "    </tr>\n",
              "    <tr>\n",
              "      <th>8</th>\n",
              "      <td>0</td>\n",
              "      <td>0</td>\n",
              "      <td>1</td>\n",
              "      <td>25</td>\n",
              "      <td>31</td>\n",
              "      <td>0</td>\n",
              "    </tr>\n",
              "  </tbody>\n",
              "</table>\n",
              "</div>"
            ],
            "text/plain": [
              "   3  4    5    6    7  8\n",
              "3  0  1    3    3    0  0\n",
              "4  0  5   25   16    0  0\n",
              "5  0  7  264  195    6  0\n",
              "6  0  1  141  500   89  0\n",
              "7  0  0    8  172  124  0\n",
              "8  0  0    1   25   31  0"
            ]
          },
          "metadata": {
            "tags": []
          },
          "execution_count": 33
        }
      ]
    },
    {
      "cell_type": "markdown",
      "metadata": {
        "id": "VAbhPvHjlTbE"
      },
      "source": [
        "None of the 9-point wine in the test dataset!   \n",
        "In the test dataset, one of the 3-point wine is classified as 8!"
      ]
    },
    {
      "cell_type": "markdown",
      "metadata": {
        "id": "_AiNqFSs1rZ8"
      },
      "source": [
        "## Kappa statistics"
      ]
    },
    {
      "cell_type": "code",
      "metadata": {
        "colab": {
          "base_uri": "https://localhost:8080/",
          "height": 97
        },
        "id": "vBfZk-p_1tY8",
        "outputId": "61796775-0252-47c8-bfd8-d1f01df88fe0"
      },
      "source": [
        "test_kappa_red=Result_TEST_red[\"kappa\"]\n",
        "#print(\"Test KAPPA is {}% (T=0.5);\".format(round(test_kappa*100,3)))\n",
        "test_kappa_white=Result_TEST_white[\"kappa\"]\n",
        "#print(\"Test KAPPA is {}% (T=0.5);\".format(round(test_kappa*100,3)))\n",
        "kappadf=pd.DataFrame([test_kappa_red,test_kappa_white]).transpose()\n",
        "kappadf.columns=[\"Red\",\"White\"]\n",
        "print(\"Validation Kappa statistics (T=0.5):\")\n",
        "kappadf"
      ],
      "execution_count": 416,
      "outputs": [
        {
          "output_type": "stream",
          "text": [
            "Validation Kappa statistics (T=0.5):\n"
          ],
          "name": "stdout"
        },
        {
          "output_type": "execute_result",
          "data": {
            "text/html": [
              "<div>\n",
              "<style scoped>\n",
              "    .dataframe tbody tr th:only-of-type {\n",
              "        vertical-align: middle;\n",
              "    }\n",
              "\n",
              "    .dataframe tbody tr th {\n",
              "        vertical-align: top;\n",
              "    }\n",
              "\n",
              "    .dataframe thead th {\n",
              "        text-align: right;\n",
              "    }\n",
              "</style>\n",
              "<table border=\"1\" class=\"dataframe\">\n",
              "  <thead>\n",
              "    <tr style=\"text-align: right;\">\n",
              "      <th></th>\n",
              "      <th>Red</th>\n",
              "      <th>White</th>\n",
              "    </tr>\n",
              "  </thead>\n",
              "  <tbody>\n",
              "    <tr>\n",
              "      <th>0</th>\n",
              "      <td>0.314137</td>\n",
              "      <td>0.281978</td>\n",
              "    </tr>\n",
              "  </tbody>\n",
              "</table>\n",
              "</div>"
            ],
            "text/plain": [
              "        Red     White\n",
              "0  0.314137  0.281978"
            ]
          },
          "metadata": {
            "tags": []
          },
          "execution_count": 416
        }
      ]
    },
    {
      "cell_type": "markdown",
      "metadata": {
        "id": "sb0l5__YeMBQ"
      },
      "source": [
        "## Precision for the different classes"
      ]
    },
    {
      "cell_type": "markdown",
      "metadata": {
        "id": "NBWJFCdHpUYQ"
      },
      "source": [
        "using the full data"
      ]
    },
    {
      "cell_type": "code",
      "metadata": {
        "colab": {
          "base_uri": "https://localhost:8080/",
          "height": 298
        },
        "id": "bil5PopmvBO9",
        "outputId": "f10e8712-1065-4991-f4ea-551bb0a3e04e"
      },
      "source": [
        "red_precision=pd.DataFrame(index=red_class,columns=[\"T=0.5 (%)\",\"T=1.0 (%)\"])\n",
        "for i,c in enumerate(red_class):\n",
        "    label=Y_red_torch[Y_red_torch==red_class[i]]\n",
        "    predictor=X_red_torch[(Y_red_torch==red_class[i])[:,0],:]\n",
        "    pre1=100*TEST_NN(MODEL_NN_red,predictor,label,T_list=[0.5])[\"accuracy_list\"][0]\n",
        "    pre2=100*TEST_NN(MODEL_NN_red,predictor,label,T_list=[1.0])[\"accuracy_list\"][0]\n",
        "    red_precision.at[c, \"T=0.5 (%)\"] = pre1\n",
        "    red_precision.at[c, \"T=1.0 (%)\"] = pre2\n",
        "\n",
        "overall=pd.DataFrame(index=[\"Overall\"],columns=[\"T=0.5 (%)\",\"T=1.0 (%)\"])\n",
        "pre1=100*TEST_NN(MODEL_NN_red,X_red_torch,Y_red_torch[:,0],T_list=[0.5])[\"accuracy_list\"][0]\n",
        "pre2=100*TEST_NN(MODEL_NN_red,X_red_torch,Y_red_torch[:,0],T_list=[1.0])[\"accuracy_list\"][0]\n",
        "overall.at[\"Overall\", \"T=0.5 (%)\"] = pre1\n",
        "overall.at[\"Overall\", \"T=1.0 (%)\"] = pre2\n",
        "\n",
        "print(\"Precision for different classes \\n (Red Wine)\")\n",
        "red_precision.append(overall)"
      ],
      "execution_count": 408,
      "outputs": [
        {
          "output_type": "stream",
          "text": [
            "Precision for different classes \n",
            " (Red Wine)\n"
          ],
          "name": "stdout"
        },
        {
          "output_type": "execute_result",
          "data": {
            "text/html": [
              "<div>\n",
              "<style scoped>\n",
              "    .dataframe tbody tr th:only-of-type {\n",
              "        vertical-align: middle;\n",
              "    }\n",
              "\n",
              "    .dataframe tbody tr th {\n",
              "        vertical-align: top;\n",
              "    }\n",
              "\n",
              "    .dataframe thead th {\n",
              "        text-align: right;\n",
              "    }\n",
              "</style>\n",
              "<table border=\"1\" class=\"dataframe\">\n",
              "  <thead>\n",
              "    <tr style=\"text-align: right;\">\n",
              "      <th></th>\n",
              "      <th>T=0.5 (%)</th>\n",
              "      <th>T=1.0 (%)</th>\n",
              "    </tr>\n",
              "  </thead>\n",
              "  <tbody>\n",
              "    <tr>\n",
              "      <th>3</th>\n",
              "      <td>0</td>\n",
              "      <td>0</td>\n",
              "    </tr>\n",
              "    <tr>\n",
              "      <th>4</th>\n",
              "      <td>5.66038</td>\n",
              "      <td>37.7358</td>\n",
              "    </tr>\n",
              "    <tr>\n",
              "      <th>5</th>\n",
              "      <td>74.3025</td>\n",
              "      <td>95.8884</td>\n",
              "    </tr>\n",
              "    <tr>\n",
              "      <th>6</th>\n",
              "      <td>66.1442</td>\n",
              "      <td>97.9624</td>\n",
              "    </tr>\n",
              "    <tr>\n",
              "      <th>7</th>\n",
              "      <td>34.1709</td>\n",
              "      <td>75.8794</td>\n",
              "    </tr>\n",
              "    <tr>\n",
              "      <th>8</th>\n",
              "      <td>0</td>\n",
              "      <td>16.6667</td>\n",
              "    </tr>\n",
              "    <tr>\n",
              "      <th>Overall</th>\n",
              "      <td>62.4765</td>\n",
              "      <td>90.8068</td>\n",
              "    </tr>\n",
              "  </tbody>\n",
              "</table>\n",
              "</div>"
            ],
            "text/plain": [
              "        T=0.5 (%) T=1.0 (%)\n",
              "3               0         0\n",
              "4         5.66038   37.7358\n",
              "5         74.3025   95.8884\n",
              "6         66.1442   97.9624\n",
              "7         34.1709   75.8794\n",
              "8               0   16.6667\n",
              "Overall   62.4765   90.8068"
            ]
          },
          "metadata": {
            "tags": []
          },
          "execution_count": 408
        }
      ]
    },
    {
      "cell_type": "code",
      "metadata": {
        "colab": {
          "base_uri": "https://localhost:8080/",
          "height": 329
        },
        "id": "CdLcp1Dtn3Sj",
        "outputId": "63546e4b-7982-4cbb-960c-187e8ba26151"
      },
      "source": [
        "white_precision=pd.DataFrame(index=white_class,columns=[\"T=0.5 (%)\",\"T=1.0 (%)\"])\n",
        "for i,c in enumerate(white_class):\n",
        "    label=Y_white_torch[Y_white_torch==white_class[i]]\n",
        "    predictor=X_white_torch[(Y_white_torch==white_class[i])[:,0],:]\n",
        "    pre1=100*TEST_NN(MODEL_NN_white,predictor,label,T_list=[0.5])[\"accuracy_list\"][0]\n",
        "    pre2=100*TEST_NN(MODEL_NN_white,predictor,label,T_list=[1.0])[\"accuracy_list\"][0]\n",
        "    white_precision.at[c, \"T=0.5 (%)\"] = pre1\n",
        "    white_precision.at[c, \"T=1.0 (%)\"] = pre2\n",
        "\n",
        "overall=pd.DataFrame(index=[\"Overall\"],columns=[\"T=0.5 (%)\",\"T=1.0 (%)\"])\n",
        "pre1=100*TEST_NN(MODEL_NN_white,X_white_torch,Y_white_torch[:,0],T_list=[0.5])[\"accuracy_list\"][0]\n",
        "pre2=100*TEST_NN(MODEL_NN_white,X_white_torch,Y_white_torch[:,0],T_list=[1.0])[\"accuracy_list\"][0]\n",
        "overall.at[\"Overall\", \"T=0.5 (%)\"] = pre1\n",
        "overall.at[\"Overall\", \"T=1.0 (%)\"] = pre2\n",
        "print(\"Precision for different classes \\n (White Wine)\")\n",
        "\n",
        "white_precision.append(overall)"
      ],
      "execution_count": 407,
      "outputs": [
        {
          "output_type": "stream",
          "text": [
            "Precision for different classes \n",
            " (White Wine)\n"
          ],
          "name": "stdout"
        },
        {
          "output_type": "execute_result",
          "data": {
            "text/html": [
              "<div>\n",
              "<style scoped>\n",
              "    .dataframe tbody tr th:only-of-type {\n",
              "        vertical-align: middle;\n",
              "    }\n",
              "\n",
              "    .dataframe tbody tr th {\n",
              "        vertical-align: top;\n",
              "    }\n",
              "\n",
              "    .dataframe thead th {\n",
              "        text-align: right;\n",
              "    }\n",
              "</style>\n",
              "<table border=\"1\" class=\"dataframe\">\n",
              "  <thead>\n",
              "    <tr style=\"text-align: right;\">\n",
              "      <th></th>\n",
              "      <th>T=0.5 (%)</th>\n",
              "      <th>T=1.0 (%)</th>\n",
              "    </tr>\n",
              "  </thead>\n",
              "  <tbody>\n",
              "    <tr>\n",
              "      <th>3</th>\n",
              "      <td>0</td>\n",
              "      <td>0</td>\n",
              "    </tr>\n",
              "    <tr>\n",
              "      <th>4</th>\n",
              "      <td>9.20245</td>\n",
              "      <td>38.6503</td>\n",
              "    </tr>\n",
              "    <tr>\n",
              "      <th>5</th>\n",
              "      <td>56.4859</td>\n",
              "      <td>89.499</td>\n",
              "    </tr>\n",
              "    <tr>\n",
              "      <th>6</th>\n",
              "      <td>69.2448</td>\n",
              "      <td>96.9973</td>\n",
              "    </tr>\n",
              "    <tr>\n",
              "      <th>7</th>\n",
              "      <td>40.4545</td>\n",
              "      <td>80.9091</td>\n",
              "    </tr>\n",
              "    <tr>\n",
              "      <th>8</th>\n",
              "      <td>0</td>\n",
              "      <td>17.7143</td>\n",
              "    </tr>\n",
              "    <tr>\n",
              "      <th>9</th>\n",
              "      <td>0</td>\n",
              "      <td>0</td>\n",
              "    </tr>\n",
              "    <tr>\n",
              "      <th>Overall</th>\n",
              "      <td>55.4512</td>\n",
              "      <td>86.6068</td>\n",
              "    </tr>\n",
              "  </tbody>\n",
              "</table>\n",
              "</div>"
            ],
            "text/plain": [
              "        T=0.5 (%) T=1.0 (%)\n",
              "3               0         0\n",
              "4         9.20245   38.6503\n",
              "5         56.4859    89.499\n",
              "6         69.2448   96.9973\n",
              "7         40.4545   80.9091\n",
              "8               0   17.7143\n",
              "9               0         0\n",
              "Overall   55.4512   86.6068"
            ]
          },
          "metadata": {
            "tags": []
          },
          "execution_count": 407
        }
      ]
    },
    {
      "cell_type": "markdown",
      "metadata": {
        "id": "tyHR8J1k8YdI"
      },
      "source": [
        "# To fix the Problem of Imbalance data: SMOTE\n",
        "https://machinelearningmastery.com/smote-oversampling-for-imbalanced-classification/   \n",
        "  \n",
        "N. V. Chawla, K. W. Bowyer, L. O. Hall, W. P. Kegelmeyer (2002). SMOTE: Synthetic Minority Over-sampling Technique. Journal Of Artificial Intelligence Research, Volume 16, pages 321-357.\n",
        " "
      ]
    },
    {
      "cell_type": "markdown",
      "metadata": {
        "id": "eVNYHjSZ0cXl"
      },
      "source": [
        "Using the syntheric dataset for the training/testing   \n",
        "Using the original dataset to get the confusion matrices and the precision"
      ]
    },
    {
      "cell_type": "code",
      "metadata": {
        "id": "cgUskdq0sbBx"
      },
      "source": [
        "from imblearn.over_sampling import SMOTE\n",
        "from collections import Counter\n",
        "import statistics"
      ],
      "execution_count": 417,
      "outputs": []
    },
    {
      "cell_type": "markdown",
      "metadata": {
        "id": "JAlvWC-gB-VX"
      },
      "source": [
        "## resample only the minority class "
      ]
    },
    {
      "cell_type": "markdown",
      "metadata": {
        "id": "C2SDEHMUDdJO"
      },
      "source": [
        "Need to decide the size of oversampling"
      ]
    },
    {
      "cell_type": "markdown",
      "metadata": {
        "id": "Ngm4qNE12Wii"
      },
      "source": [
        "?? underfitting?"
      ]
    },
    {
      "cell_type": "markdown",
      "metadata": {
        "id": "DoarcQxIEAcq"
      },
      "source": [
        "### Max"
      ]
    },
    {
      "cell_type": "code",
      "metadata": {
        "colab": {
          "base_uri": "https://localhost:8080/"
        },
        "id": "vHmITsAdBvog",
        "outputId": "ab0ad0c8-ebfb-435e-f6bb-9806767f2393"
      },
      "source": [
        "counter = Counter(Y_white[\"quality\"])\n",
        "print(counter)\n",
        "Max=max(counter.values()) #2198\n",
        "sm = SMOTE(sampling_strategy={3:Max,9:Max},random_state=24,k_neighbors=4)\n",
        "Augmented_X_white,Augmented_Y_white=sm.fit_sample(X_white, Y_white[\"quality\"])\n",
        "counter = Counter(Augmented_Y_white)\n",
        "print(counter)"
      ],
      "execution_count": 445,
      "outputs": [
        {
          "output_type": "stream",
          "text": [
            "Counter({6: 2198, 5: 1457, 7: 880, 8: 175, 4: 163, 3: 20, 9: 5})\n",
            "Counter({6: 2198, 3: 2198, 9: 2198, 5: 1457, 7: 880, 8: 175, 4: 163})\n"
          ],
          "name": "stdout"
        },
        {
          "output_type": "stream",
          "text": [
            "/usr/local/lib/python3.7/dist-packages/sklearn/utils/deprecation.py:87: FutureWarning: Function safe_indexing is deprecated; safe_indexing is deprecated in version 0.22 and will be removed in version 0.24.\n",
            "  warnings.warn(msg, category=FutureWarning)\n",
            "/usr/local/lib/python3.7/dist-packages/sklearn/utils/deprecation.py:87: FutureWarning: Function safe_indexing is deprecated; safe_indexing is deprecated in version 0.22 and will be removed in version 0.24.\n",
            "  warnings.warn(msg, category=FutureWarning)\n"
          ],
          "name": "stderr"
        }
      ]
    },
    {
      "cell_type": "code",
      "metadata": {
        "colab": {
          "base_uri": "https://localhost:8080/"
        },
        "id": "eR6SY_kgFhjj",
        "outputId": "1e6fa4ff-f531-48ef-ea1b-c84a67a98731"
      },
      "source": [
        "counter = Counter(Y_red[\"quality\"])\n",
        "print(counter)\n",
        "Max=max(counter.values()) \n",
        "sm = SMOTE(sampling_strategy={3:Max,8:Max,4:Max},random_state=24,k_neighbors=4)\n",
        "Augmented_X_red,Augmented_Y_red=sm.fit_sample(X_red, Y_red[\"quality\"])\n",
        "counter = Counter(Augmented_Y_red)\n",
        "print(counter)"
      ],
      "execution_count": 446,
      "outputs": [
        {
          "output_type": "stream",
          "text": [
            "Counter({5: 681, 6: 638, 7: 199, 4: 53, 8: 18, 3: 10})\n",
            "Counter({5: 681, 4: 681, 8: 681, 3: 681, 6: 638, 7: 199})\n"
          ],
          "name": "stdout"
        },
        {
          "output_type": "stream",
          "text": [
            "/usr/local/lib/python3.7/dist-packages/sklearn/utils/deprecation.py:87: FutureWarning: Function safe_indexing is deprecated; safe_indexing is deprecated in version 0.22 and will be removed in version 0.24.\n",
            "  warnings.warn(msg, category=FutureWarning)\n",
            "/usr/local/lib/python3.7/dist-packages/sklearn/utils/deprecation.py:87: FutureWarning: Function safe_indexing is deprecated; safe_indexing is deprecated in version 0.22 and will be removed in version 0.24.\n",
            "  warnings.warn(msg, category=FutureWarning)\n",
            "/usr/local/lib/python3.7/dist-packages/sklearn/utils/deprecation.py:87: FutureWarning: Function safe_indexing is deprecated; safe_indexing is deprecated in version 0.22 and will be removed in version 0.24.\n",
            "  warnings.warn(msg, category=FutureWarning)\n"
          ],
          "name": "stderr"
        }
      ]
    },
    {
      "cell_type": "code",
      "metadata": {
        "colab": {
          "base_uri": "https://localhost:8080/",
          "height": 70
        },
        "id": "82_BJaHuE7nA",
        "outputId": "acbd04d0-7a12-45c1-d30b-41fa8efb68c3"
      },
      "source": [
        "X_TRAIN_white, X_TEST_white, Y_TRAIN_white, Y_TEST_white = train_test_split(Augmented_X_white, Augmented_Y_white, test_size=0.33, random_state=42)\n",
        "X_TRAIN_red, X_TEST_red, Y_TRAIN_red, Y_TEST_red = train_test_split(Augmented_X_red, Augmented_Y_red, test_size=0.33, random_state=42)\n",
        "\n",
        "TRAIN_scaler_white = preprocessing.StandardScaler().fit(X_TRAIN_white)\n",
        "TEST_scaler_white = preprocessing.StandardScaler().fit(X_TEST_white)\n",
        "X_TRAIN_white = TO_TORCH(TRAIN_scaler_white.transform(X_TRAIN_white))\n",
        "X_TEST_white = TO_TORCH(TEST_scaler_white.transform(X_TEST_white))\n",
        "\n",
        "TRAIN_scaler_red = preprocessing.StandardScaler().fit(X_TRAIN_red)\n",
        "TEST_scaler_red = preprocessing.StandardScaler().fit(X_TEST_red)\n",
        "X_TRAIN_red = TO_TORCH(TRAIN_scaler_red.transform(X_TRAIN_red))\n",
        "X_TEST_red = TO_TORCH(TEST_scaler_red.transform(X_TEST_red))\n",
        "\n",
        "Y_TRAIN_white = TO_TORCH(Y_TRAIN_white)\n",
        "Y_TEST_white = TO_TORCH(Y_TEST_white)\n",
        "\n",
        "Y_TRAIN_red = TO_TORCH(Y_TRAIN_red)\n",
        "Y_TEST_red = TO_TORCH(Y_TEST_red)\n",
        "\n",
        "\"\"\"scaler_white = preprocessing.StandardScaler().fit(X_white)\n",
        "scaler_red = preprocessing.StandardScaler().fit(X_red)\n",
        "X_white_torch = TO_TORCH(scaler_white.transform(X_white))\n",
        "X_red_torch = TO_TORCH(scaler_red.transform(X_red))\n",
        "Y_white_torch = TO_TORCH(Y_white)\n",
        "Y_red_torch = TO_TORCH(Y_red)\"\"\""
      ],
      "execution_count": 447,
      "outputs": [
        {
          "output_type": "execute_result",
          "data": {
            "application/vnd.google.colaboratory.intrinsic+json": {
              "type": "string"
            },
            "text/plain": [
              "'scaler_white = preprocessing.StandardScaler().fit(X_white)\\nscaler_red = preprocessing.StandardScaler().fit(X_red)\\nX_white_torch = TO_TORCH(scaler_white.transform(X_white))\\nX_red_torch = TO_TORCH(scaler_red.transform(X_red))\\nY_white_torch = TO_TORCH(Y_white)\\nY_red_torch = TO_TORCH(Y_red)'"
            ]
          },
          "metadata": {
            "tags": []
          },
          "execution_count": 447
        }
      ]
    },
    {
      "cell_type": "code",
      "metadata": {
        "colab": {
          "base_uri": "https://localhost:8080/",
          "height": 674
        },
        "id": "dHpbSiCYF6nb",
        "outputId": "07f89702-91e3-45e9-c610-245c5032fa36"
      },
      "source": [
        "result_white=TRAIN_NN(X_TRAIN_white,Y_TRAIN_white,X_TEST_white,Y_TEST_white,[9],LR=1e-1/2,BN=False,STEP_SIZE=100000,DECAY=0.5,EPOCH=60000)\n",
        "MODEL_NN_white=result_white[\"MODEL\"]\n",
        "LOSS_white=result_white[\"LOSS_TRAIN\"]\n",
        "LOSS_validation_white=result_white[\"LOSS_VALIDATION\"]\n",
        "ACCURACY_WHITE_TRAIN=result_white[\"ACCURACY_TRAIN\"]\n",
        "ACCURACY_WHITE_VALIDATION=result_white[\"ACCURACY_VALIDATION\"]\n",
        "\n",
        "T_list=[0.25,0.5,1]\n",
        "Result_TEST_white=TEST_NN(MODEL_NN_white,X_TEST_white,Y_TEST_white,T_list)\n",
        "print(\"Test Loss is {};\".format(round(Result_TEST_white[\"L2\"],3)))\n",
        "for i,T in enumerate(T_list): \n",
        "    acc=Result_TEST_white[\"accuracy_list\"][i]\n",
        "    print(\"Test Accuracy is {}% (T={});\".format(round(acc*100,3),T))\n",
        "test_kappa=Result_TEST_white[\"kappa\"]\n",
        "print(\"Test KAPPA is {}% (T=0.5);\".format(round(test_kappa*100,3)))\n",
        "\n",
        "T_list_REC=np.linspace(0,2,100)\n",
        "ACCURACY_list_REC_white=TEST_NN(MODEL_NN_white,X_TEST_white,Y_TEST_white,T_list_REC)[\"accuracy_list\"]\n",
        "plt.plot(T_list_REC,ACCURACY_list_REC_white)\n",
        "plt.xlabel(\"Tolerance\")\n",
        "plt.ylabel(\"Accuracy\")\n",
        "plt.title(\"REC \\n White wine\")"
      ],
      "execution_count": 448,
      "outputs": [
        {
          "output_type": "stream",
          "text": [
            "After 12000 Epochs:\n",
            "Train Loss is 0.8135; Train Accuracy is 77.6006% (T=1);\n",
            "Test Loss is 0.8845; Test Accuracy is 74.5015% (T=1);\n",
            "After 24000 Epochs:\n",
            "Train Loss is 0.7375; Train Accuracy is 79.4042% (T=1);\n",
            "Test Loss is 0.8188; Test Accuracy is 76.3975% (T=1);\n",
            "After 36000 Epochs:\n",
            "Train Loss is 0.7223; Train Accuracy is 79.4686% (T=1);\n",
            "Test Loss is 0.8011; Test Accuracy is 76.4956% (T=1);\n",
            "After 48000 Epochs:\n",
            "Train Loss is 0.7194; Train Accuracy is 79.4847% (T=1);\n",
            "Test Loss is 0.7973; Test Accuracy is 76.4956% (T=1);\n",
            "After 60000 Epochs:\n",
            "Train Loss is 0.7215; Train Accuracy is 79.4847% (T=1);\n",
            "Test Loss is 0.7995; Test Accuracy is 76.2668% (T=1);\n",
            "Test Loss is 0.8;\n",
            "Test Accuracy is 24.91% (T=0.25);\n",
            "Test Accuracy is 51.259% (T=0.5);\n",
            "Test Accuracy is 76.267% (T=1);\n",
            "Test KAPPA is 41.998% (T=0.5);\n"
          ],
          "name": "stdout"
        },
        {
          "output_type": "execute_result",
          "data": {
            "text/plain": [
              "Text(0.5, 1.0, 'REC \\n White wine')"
            ]
          },
          "metadata": {
            "tags": []
          },
          "execution_count": 448
        },
        {
          "output_type": "display_data",
          "data": {
            "image/png": "[encoded data removed]",
            "text/plain": [
              "<Figure size 432x288 with 1 Axes>"
            ]
          },
          "metadata": {
            "tags": [],
            "needs_background": "light"
          }
        }
      ]
    },
    {
      "cell_type": "code",
      "metadata": {
        "colab": {
          "base_uri": "https://localhost:8080/",
          "height": 417
        },
        "id": "YHgbaBCq42x4",
        "outputId": "e08cfd93-9a7b-42f8-8366-917e36ecd95e"
      },
      "source": [
        "plt.figure(figsize=(10,5))\n",
        "plt.subplot(1,2,1)\n",
        "zoom=np.floor(len(LOSS_white)/900).astype(int)\n",
        "#zoom=0\n",
        "plt.plot(np.arange(len(LOSS_white)-zoom)+zoom, LOSS_white[zoom:],label=\"Train\")\n",
        "plt.plot(np.arange(len(LOSS_validation_white)-zoom)+zoom, LOSS_validation_white[zoom:],label=\"Validation\")\n",
        "\n",
        "#plt.plot((np.arange(len(LOSS_validation_white))+1)*len(LOSS_white)-1, LOSS_validation_white,label=\"Validation\")\n",
        "plt.xlabel(\"Epoch\")\n",
        "plt.ylabel(\"Loss\")\n",
        "plt.legend()\n",
        "plt.title(\"White Wine \\n Final Train Loss = {:.3f} \\n Final Validation Loss = {:.3f}\".format(LOSS_white[-1],LOSS_validation_white[-1]))\n",
        "\n",
        "plt.subplot(1,2,2)\n",
        "zoom=np.floor(len(ACCURACY_WHITE_TRAIN)/9000).astype(int)\n",
        "#zoom=0\n",
        "plt.plot(np.arange(len(ACCURACY_WHITE_TRAIN)-zoom)+zoom, ACCURACY_WHITE_TRAIN[zoom:],label=\"Train\")\n",
        "plt.plot(np.arange(len(ACCURACY_WHITE_VALIDATION)-zoom)+zoom, ACCURACY_WHITE_VALIDATION[zoom:],label=\"Validation\")\n",
        "\n",
        "plt.xlabel(\"Epoch\")\n",
        "plt.ylabel(\"Loss\")\n",
        "plt.legend()\n",
        "plt.title(\"White Wine \\n Final Train Accuracy (T=1) = {:.3f}% \\n Final Validation Accuracy (T=1) = {:.3f}%\".format(100*ACCURACY_WHITE_TRAIN[-1],100*ACCURACY_WHITE_VALIDATION[-1]))\n"
      ],
      "execution_count": 449,
      "outputs": [
        {
          "output_type": "execute_result",
          "data": {
            "text/plain": [
              "Text(0.5, 1.0, 'White Wine \\n Final Train Accuracy (T=1) = 79.485% \\n Final Validation Accuracy (T=1) = 76.267%')"
            ]
          },
          "metadata": {
            "tags": []
          },
          "execution_count": 449
        },
        {
          "output_type": "display_data",
          "data": {
            "image/png": "[encoded data removed]",
            "text/plain": [
              "<Figure size 720x360 with 2 Axes>"
            ]
          },
          "metadata": {
            "tags": [],
            "needs_background": "light"
          }
        }
      ]
    },
    {
      "cell_type": "code",
      "metadata": {
        "colab": {
          "base_uri": "https://localhost:8080/",
          "height": 674
        },
        "id": "Qs1qAOtNLYya",
        "outputId": "d25ee121-7412-4955-9e75-183b9d96272d"
      },
      "source": [
        "result_red=TRAIN_NN(X_TRAIN_red,Y_TRAIN_red,X_TEST_red,Y_TEST_red,[9],LR=1e-1/2,OPT=\"SGD\",DROP_PR=0.0,BN=False,STEP_SIZE=30000,DECAY=0.5,EPOCH=100000,seed=233)\n",
        "MODEL_NN_red=result_red[\"MODEL\"]\n",
        "LOSS_red=result_red[\"LOSS_TRAIN\"]\n",
        "LOSS_validation_red=result_red[\"LOSS_VALIDATION\"]\n",
        "ACCURACY_RED_TRAIN=result_red[\"ACCURACY_TRAIN\"]\n",
        "ACCURACY_RED_VALIDATION=result_red[\"ACCURACY_VALIDATION\"]\n",
        "\n",
        "T_list=[0.25,0.5,1]\n",
        "Result_TEST_red=TEST_NN(MODEL_NN_red,X_TEST_red,Y_TEST_red,T_list)\n",
        "print(\"Test Loss is {};\".format(round(Result_TEST_red[\"L2\"],3)))\n",
        "for i,T in enumerate(T_list): \n",
        "    acc=Result_TEST_red[\"accuracy_list\"][i]\n",
        "    print(\"Test Accuracy is {}% (T={});\".format(round(acc*100,3),T))\n",
        "test_kappa=Result_TEST_red[\"kappa\"]\n",
        "print(\"Test KAPPA is {}% (T=0.5);\".format(round(test_kappa*100,3)))\n",
        "\n",
        "\n",
        "T_list_REC=np.linspace(0,2,100)\n",
        "ACCURACY_list_REC_red=TEST_NN(MODEL_NN_red,X_TEST_red,Y_TEST_red,T_list_REC)[\"accuracy_list\"]\n",
        "plt.plot(T_list_REC,ACCURACY_list_REC_red)\n",
        "plt.xlabel(\"Tolerance\")\n",
        "plt.ylabel(\"Accuracy\")\n",
        "plt.title(\"REC \\n Red wine\")"
      ],
      "execution_count": 450,
      "outputs": [
        {
          "output_type": "stream",
          "text": [
            "After 20000 Epochs:\n",
            "Train Loss is 0.3663; Train Accuracy is 90.4822% (T=1);\n",
            "Test Loss is 0.5054; Test Accuracy is 86.1395% (T=1);\n",
            "After 40000 Epochs:\n",
            "Train Loss is 0.3663; Train Accuracy is 90.5241% (T=1);\n",
            "Test Loss is 0.5051; Test Accuracy is 86.1395% (T=1);\n",
            "After 60000 Epochs:\n",
            "Train Loss is 0.3663; Train Accuracy is 90.5241% (T=1);\n",
            "Test Loss is 0.5051; Test Accuracy is 86.1395% (T=1);\n",
            "After 80000 Epochs:\n",
            "Train Loss is 0.3663; Train Accuracy is 90.5241% (T=1);\n",
            "Test Loss is 0.5052; Test Accuracy is 86.1395% (T=1);\n",
            "After 100000 Epochs:\n",
            "Train Loss is 0.3663; Train Accuracy is 90.5241% (T=1);\n",
            "Test Loss is 0.5051; Test Accuracy is 86.1395% (T=1);\n",
            "Test Loss is 0.505;\n",
            "Test Accuracy is 35.799% (T=0.25);\n",
            "Test Accuracy is 63.01% (T=0.5);\n",
            "Test Accuracy is 86.139% (T=1);\n",
            "Test KAPPA is 55.019% (T=0.5);\n"
          ],
          "name": "stdout"
        },
        {
          "output_type": "execute_result",
          "data": {
            "text/plain": [
              "Text(0.5, 1.0, 'REC \\n Red wine')"
            ]
          },
          "metadata": {
            "tags": []
          },
          "execution_count": 450
        },
        {
          "output_type": "display_data",
          "data": {
            "image/png": "[encoded data removed]",
            "text/plain": [
              "<Figure size 432x288 with 1 Axes>"
            ]
          },
          "metadata": {
            "tags": [],
            "needs_background": "light"
          }
        }
      ]
    },
    {
      "cell_type": "code",
      "metadata": {
        "colab": {
          "base_uri": "https://localhost:8080/",
          "height": 397
        },
        "id": "H_vWP-0N5HMS",
        "outputId": "76b808b9-3f16-4720-a7ae-48a02267ad38"
      },
      "source": [
        "plt.figure(figsize=(10,5))\n",
        "plt.subplot(1,2,1)\n",
        "zoom=np.floor(len(LOSS_red)/3000).astype(int)\n",
        "#zoom=0\n",
        "plt.plot(np.arange(len(LOSS_red)-zoom)+zoom, LOSS_red[zoom:],label=\"Train\")\n",
        "plt.plot(np.arange(len(LOSS_validation_red)-zoom)+zoom, LOSS_validation_red[zoom:],label=\"Validation\")\n",
        "\n",
        "plt.xlabel(\"Epoch\")\n",
        "plt.ylabel(\"Loss\")\n",
        "plt.legend()\n",
        "plt.title(\"Red Wine \\n Final Train Loss = {:.3f} \\n Final Validation Loss = {:.3f}\".format(LOSS_red[-1],LOSS_validation_red[-1]))\n",
        "\n",
        "plt.subplot(1,2,2)\n",
        "zoom=np.floor(len(ACCURACY_RED_TRAIN)/3000).astype(int)\n",
        "#zoom=0\n",
        "plt.plot(np.arange(len(ACCURACY_RED_TRAIN)-zoom)+zoom, ACCURACY_RED_TRAIN[zoom:],label=\"Train\")\n",
        "plt.plot(np.arange(len(ACCURACY_RED_VALIDATION)-zoom)+zoom, ACCURACY_RED_VALIDATION[zoom:],label=\"Validation\")\n",
        "\n",
        "plt.xlabel(\"Epoch\")\n",
        "plt.ylabel(\"Loss\")\n",
        "plt.legend()\n",
        "plt.title(\"Red Wine \\n Final Train Accuracy (T=1) = {:.3f}% \\n Final Validation Accuracy (T=1) = {:.3f}%\".format(100*ACCURACY_RED_TRAIN[-1],100*ACCURACY_RED_VALIDATION[-1]))\n"
      ],
      "execution_count": 451,
      "outputs": [
        {
          "output_type": "execute_result",
          "data": {
            "text/plain": [
              "Text(0.5, 1.0, 'Red Wine \\n Final Train Accuracy (T=1) = 90.524% \\n Final Validation Accuracy (T=1) = 86.139%')"
            ]
          },
          "metadata": {
            "tags": []
          },
          "execution_count": 451
        },
        {
          "output_type": "display_data",
          "data": {
            "image/png": "[encoded data removed]",
            "text/plain": [
              "<Figure size 720x360 with 2 Axes>"
            ]
          },
          "metadata": {
            "tags": [],
            "needs_background": "light"
          }
        }
      ]
    },
    {
      "cell_type": "code",
      "metadata": {
        "colab": {
          "base_uri": "https://localhost:8080/",
          "height": 250
        },
        "id": "WeiC4jyOK16L",
        "outputId": "3c2dd7d2-2305-4c9e-95cc-48469f4a40b3"
      },
      "source": [
        "red_pred=np.round(MODEL_NN_red(X_red_torch).cpu().detach().numpy())[:,0]\n",
        "red_pred=np.where(red_pred >=8.0, 8, red_pred)\n",
        "red_pred=np.where(red_pred <=3.0, 3, red_pred)  \n",
        "red_confusion=confusion_matrix(Y_red_torch.cpu().detach().numpy(), red_pred)\n",
        "red_confusion=pd.DataFrame(red_confusion,index=red_class,columns=red_class) \n",
        "print(\"Confusion Matrix for Red Wine (T=0.5)\")\n",
        "red_confusion "
      ],
      "execution_count": 452,
      "outputs": [
        {
          "output_type": "stream",
          "text": [
            "Confusion Matrix for Red Wine (T=0.5)\n"
          ],
          "name": "stdout"
        },
        {
          "output_type": "execute_result",
          "data": {
            "text/html": [
              "<div>\n",
              "<style scoped>\n",
              "    .dataframe tbody tr th:only-of-type {\n",
              "        vertical-align: middle;\n",
              "    }\n",
              "\n",
              "    .dataframe tbody tr th {\n",
              "        vertical-align: top;\n",
              "    }\n",
              "\n",
              "    .dataframe thead th {\n",
              "        text-align: right;\n",
              "    }\n",
              "</style>\n",
              "<table border=\"1\" class=\"dataframe\">\n",
              "  <thead>\n",
              "    <tr style=\"text-align: right;\">\n",
              "      <th></th>\n",
              "      <th>3</th>\n",
              "      <th>4</th>\n",
              "      <th>5</th>\n",
              "      <th>6</th>\n",
              "      <th>7</th>\n",
              "      <th>8</th>\n",
              "    </tr>\n",
              "  </thead>\n",
              "  <tbody>\n",
              "    <tr>\n",
              "      <th>3</th>\n",
              "      <td>9</td>\n",
              "      <td>1</td>\n",
              "      <td>0</td>\n",
              "      <td>0</td>\n",
              "      <td>0</td>\n",
              "      <td>0</td>\n",
              "    </tr>\n",
              "    <tr>\n",
              "      <th>4</th>\n",
              "      <td>11</td>\n",
              "      <td>22</td>\n",
              "      <td>20</td>\n",
              "      <td>0</td>\n",
              "      <td>0</td>\n",
              "      <td>0</td>\n",
              "    </tr>\n",
              "    <tr>\n",
              "      <th>5</th>\n",
              "      <td>44</td>\n",
              "      <td>186</td>\n",
              "      <td>319</td>\n",
              "      <td>108</td>\n",
              "      <td>21</td>\n",
              "      <td>3</td>\n",
              "    </tr>\n",
              "    <tr>\n",
              "      <th>6</th>\n",
              "      <td>13</td>\n",
              "      <td>67</td>\n",
              "      <td>227</td>\n",
              "      <td>200</td>\n",
              "      <td>96</td>\n",
              "      <td>35</td>\n",
              "    </tr>\n",
              "    <tr>\n",
              "      <th>7</th>\n",
              "      <td>0</td>\n",
              "      <td>5</td>\n",
              "      <td>22</td>\n",
              "      <td>52</td>\n",
              "      <td>67</td>\n",
              "      <td>53</td>\n",
              "    </tr>\n",
              "    <tr>\n",
              "      <th>8</th>\n",
              "      <td>0</td>\n",
              "      <td>0</td>\n",
              "      <td>0</td>\n",
              "      <td>0</td>\n",
              "      <td>2</td>\n",
              "      <td>16</td>\n",
              "    </tr>\n",
              "  </tbody>\n",
              "</table>\n",
              "</div>"
            ],
            "text/plain": [
              "    3    4    5    6   7   8\n",
              "3   9    1    0    0   0   0\n",
              "4  11   22   20    0   0   0\n",
              "5  44  186  319  108  21   3\n",
              "6  13   67  227  200  96  35\n",
              "7   0    5   22   52  67  53\n",
              "8   0    0    0    0   2  16"
            ]
          },
          "metadata": {
            "tags": []
          },
          "execution_count": 452
        }
      ]
    },
    {
      "cell_type": "code",
      "metadata": {
        "colab": {
          "base_uri": "https://localhost:8080/",
          "height": 281
        },
        "id": "zCztuL47LQyi",
        "outputId": "a19194c9-6067-424a-ff56-63ec149e41ce"
      },
      "source": [
        "white_pred=np.round(MODEL_NN_white(X_white_torch).cpu().detach().numpy())[:,0]\n",
        "white_pred=np.where(white_pred >=8.0, 8, white_pred)\n",
        "white_pred=np.where(white_pred <=3.0, 3, white_pred)\n",
        "white_confusion=confusion_matrix(Y_white_torch.cpu().detach().numpy(), white_pred)\n",
        "white_confusion=pd.DataFrame(white_confusion,index=white_class,columns=white_class) \n",
        "print(\"Confusion Matrix for White Wine (T=0.5)\")\n",
        "\n",
        "white_confusion "
      ],
      "execution_count": 453,
      "outputs": [
        {
          "output_type": "stream",
          "text": [
            "Confusion Matrix for White Wine (T=0.5)\n"
          ],
          "name": "stdout"
        },
        {
          "output_type": "execute_result",
          "data": {
            "text/html": [
              "<div>\n",
              "<style scoped>\n",
              "    .dataframe tbody tr th:only-of-type {\n",
              "        vertical-align: middle;\n",
              "    }\n",
              "\n",
              "    .dataframe tbody tr th {\n",
              "        vertical-align: top;\n",
              "    }\n",
              "\n",
              "    .dataframe thead th {\n",
              "        text-align: right;\n",
              "    }\n",
              "</style>\n",
              "<table border=\"1\" class=\"dataframe\">\n",
              "  <thead>\n",
              "    <tr style=\"text-align: right;\">\n",
              "      <th></th>\n",
              "      <th>3</th>\n",
              "      <th>4</th>\n",
              "      <th>5</th>\n",
              "      <th>6</th>\n",
              "      <th>7</th>\n",
              "      <th>8</th>\n",
              "      <th>9</th>\n",
              "    </tr>\n",
              "  </thead>\n",
              "  <tbody>\n",
              "    <tr>\n",
              "      <th>3</th>\n",
              "      <td>11</td>\n",
              "      <td>6</td>\n",
              "      <td>3</td>\n",
              "      <td>0</td>\n",
              "      <td>0</td>\n",
              "      <td>0</td>\n",
              "      <td>0</td>\n",
              "    </tr>\n",
              "    <tr>\n",
              "      <th>4</th>\n",
              "      <td>30</td>\n",
              "      <td>42</td>\n",
              "      <td>53</td>\n",
              "      <td>17</td>\n",
              "      <td>11</td>\n",
              "      <td>10</td>\n",
              "      <td>0</td>\n",
              "    </tr>\n",
              "    <tr>\n",
              "      <th>5</th>\n",
              "      <td>70</td>\n",
              "      <td>223</td>\n",
              "      <td>545</td>\n",
              "      <td>433</td>\n",
              "      <td>144</td>\n",
              "      <td>42</td>\n",
              "      <td>0</td>\n",
              "    </tr>\n",
              "    <tr>\n",
              "      <th>6</th>\n",
              "      <td>37</td>\n",
              "      <td>187</td>\n",
              "      <td>534</td>\n",
              "      <td>736</td>\n",
              "      <td>501</td>\n",
              "      <td>203</td>\n",
              "      <td>0</td>\n",
              "    </tr>\n",
              "    <tr>\n",
              "      <th>7</th>\n",
              "      <td>6</td>\n",
              "      <td>26</td>\n",
              "      <td>94</td>\n",
              "      <td>236</td>\n",
              "      <td>307</td>\n",
              "      <td>211</td>\n",
              "      <td>0</td>\n",
              "    </tr>\n",
              "    <tr>\n",
              "      <th>8</th>\n",
              "      <td>0</td>\n",
              "      <td>3</td>\n",
              "      <td>19</td>\n",
              "      <td>39</td>\n",
              "      <td>56</td>\n",
              "      <td>58</td>\n",
              "      <td>0</td>\n",
              "    </tr>\n",
              "    <tr>\n",
              "      <th>9</th>\n",
              "      <td>0</td>\n",
              "      <td>0</td>\n",
              "      <td>0</td>\n",
              "      <td>0</td>\n",
              "      <td>0</td>\n",
              "      <td>5</td>\n",
              "      <td>0</td>\n",
              "    </tr>\n",
              "  </tbody>\n",
              "</table>\n",
              "</div>"
            ],
            "text/plain": [
              "    3    4    5    6    7    8  9\n",
              "3  11    6    3    0    0    0  0\n",
              "4  30   42   53   17   11   10  0\n",
              "5  70  223  545  433  144   42  0\n",
              "6  37  187  534  736  501  203  0\n",
              "7   6   26   94  236  307  211  0\n",
              "8   0    3   19   39   56   58  0\n",
              "9   0    0    0    0    0    5  0"
            ]
          },
          "metadata": {
            "tags": []
          },
          "execution_count": 453
        }
      ]
    },
    {
      "cell_type": "code",
      "metadata": {
        "colab": {
          "base_uri": "https://localhost:8080/",
          "height": 298
        },
        "id": "MFYbdXWFSeg1",
        "outputId": "03bd0405-433e-43d9-dff5-026ce34794f7"
      },
      "source": [
        "red_precision=pd.DataFrame(index=red_class,columns=[\"T=0.5 (%)\",\"T=1.0 (%)\"])\n",
        "for i,c in enumerate(red_class):\n",
        "    label=Y_red_torch[Y_red_torch==red_class[i]]\n",
        "    predictor=X_red_torch[(Y_red_torch==red_class[i])[:,0],:]\n",
        "    pre1=100*TEST_NN(MODEL_NN_red,predictor,label,T_list=[0.5])[\"accuracy_list\"][0]\n",
        "    pre2=100*TEST_NN(MODEL_NN_red,predictor,label,T_list=[1.0])[\"accuracy_list\"][0]\n",
        "    red_precision.at[c, \"T=0.5 (%)\"] = pre1\n",
        "    red_precision.at[c, \"T=1.0 (%)\"] = pre2\n",
        "\n",
        "overall=pd.DataFrame(index=[\"Overall\"],columns=[\"T=0.5 (%)\",\"T=1.0 (%)\"])\n",
        "pre1=100*TEST_NN(MODEL_NN_red,X_red_torch,Y_red_torch[:,0],T_list=[0.5])[\"accuracy_list\"][0]\n",
        "pre2=100*TEST_NN(MODEL_NN_red,X_red_torch,Y_red_torch[:,0],T_list=[1.0])[\"accuracy_list\"][0]\n",
        "overall.at[\"Overall\", \"T=0.5 (%)\"] = pre1\n",
        "overall.at[\"Overall\", \"T=1.0 (%)\"] = pre2\n",
        "print(\"Precision for different classes \\n (Red Wine)\")\n",
        "\n",
        "red_precision.append(overall)"
      ],
      "execution_count": 454,
      "outputs": [
        {
          "output_type": "stream",
          "text": [
            "Precision for different classes \n",
            " (Red Wine)\n"
          ],
          "name": "stdout"
        },
        {
          "output_type": "execute_result",
          "data": {
            "text/html": [
              "<div>\n",
              "<style scoped>\n",
              "    .dataframe tbody tr th:only-of-type {\n",
              "        vertical-align: middle;\n",
              "    }\n",
              "\n",
              "    .dataframe tbody tr th {\n",
              "        vertical-align: top;\n",
              "    }\n",
              "\n",
              "    .dataframe thead th {\n",
              "        text-align: right;\n",
              "    }\n",
              "</style>\n",
              "<table border=\"1\" class=\"dataframe\">\n",
              "  <thead>\n",
              "    <tr style=\"text-align: right;\">\n",
              "      <th></th>\n",
              "      <th>T=0.5 (%)</th>\n",
              "      <th>T=1.0 (%)</th>\n",
              "    </tr>\n",
              "  </thead>\n",
              "  <tbody>\n",
              "    <tr>\n",
              "      <th>3</th>\n",
              "      <td>80</td>\n",
              "      <td>100</td>\n",
              "    </tr>\n",
              "    <tr>\n",
              "      <th>4</th>\n",
              "      <td>41.5094</td>\n",
              "      <td>83.0189</td>\n",
              "    </tr>\n",
              "    <tr>\n",
              "      <th>5</th>\n",
              "      <td>46.8429</td>\n",
              "      <td>75.4772</td>\n",
              "    </tr>\n",
              "    <tr>\n",
              "      <th>6</th>\n",
              "      <td>31.348</td>\n",
              "      <td>63.1661</td>\n",
              "    </tr>\n",
              "    <tr>\n",
              "      <th>7</th>\n",
              "      <td>33.6683</td>\n",
              "      <td>63.8191</td>\n",
              "    </tr>\n",
              "    <tr>\n",
              "      <th>8</th>\n",
              "      <td>66.6667</td>\n",
              "      <td>94.4444</td>\n",
              "    </tr>\n",
              "    <tr>\n",
              "      <th>Overall</th>\n",
              "      <td>39.2745</td>\n",
              "      <td>69.7311</td>\n",
              "    </tr>\n",
              "  </tbody>\n",
              "</table>\n",
              "</div>"
            ],
            "text/plain": [
              "        T=0.5 (%) T=1.0 (%)\n",
              "3              80       100\n",
              "4         41.5094   83.0189\n",
              "5         46.8429   75.4772\n",
              "6          31.348   63.1661\n",
              "7         33.6683   63.8191\n",
              "8         66.6667   94.4444\n",
              "Overall   39.2745   69.7311"
            ]
          },
          "metadata": {
            "tags": []
          },
          "execution_count": 454
        }
      ]
    },
    {
      "cell_type": "code",
      "metadata": {
        "colab": {
          "base_uri": "https://localhost:8080/",
          "height": 329
        },
        "id": "sKxc9ZGUSg78",
        "outputId": "cc922da5-b046-49e6-cf19-ec6300bfdcb3"
      },
      "source": [
        "white_precision=pd.DataFrame(index=white_class,columns=[\"T=0.5 (%)\",\"T=1.0 (%)\"])\n",
        "for i,c in enumerate(white_class):\n",
        "    label=Y_white_torch[Y_white_torch==white_class[i]]\n",
        "    predictor=X_white_torch[(Y_white_torch==white_class[i])[:,0],:]\n",
        "    pre1=100*TEST_NN(MODEL_NN_white,predictor,label,T_list=[0.5])[\"accuracy_list\"][0]\n",
        "    pre2=100*TEST_NN(MODEL_NN_white,predictor,label,T_list=[1.0])[\"accuracy_list\"][0]\n",
        "    white_precision.at[c, \"T=0.5 (%)\"] = pre1\n",
        "    white_precision.at[c, \"T=1.0 (%)\"] = pre2\n",
        "\n",
        "overall=pd.DataFrame(index=[\"Overall\"],columns=[\"T=0.5 (%)\",\"T=1.0 (%)\"])\n",
        "pre1=100*TEST_NN(MODEL_NN_white,X_white_torch,Y_white_torch[:,0],T_list=[0.5])[\"accuracy_list\"][0]\n",
        "pre2=100*TEST_NN(MODEL_NN_white,X_white_torch,Y_white_torch[:,0],T_list=[1.0])[\"accuracy_list\"][0]\n",
        "overall.at[\"Overall\", \"T=0.5 (%)\"] = pre1\n",
        "overall.at[\"Overall\", \"T=1.0 (%)\"] = pre2\n",
        "print(\"Precision for different classes \\n (White Wine)\")\n",
        "\n",
        "white_precision.append(overall)"
      ],
      "execution_count": 455,
      "outputs": [
        {
          "output_type": "stream",
          "text": [
            "Precision for different classes \n",
            " (White Wine)\n"
          ],
          "name": "stdout"
        },
        {
          "output_type": "execute_result",
          "data": {
            "text/html": [
              "<div>\n",
              "<style scoped>\n",
              "    .dataframe tbody tr th:only-of-type {\n",
              "        vertical-align: middle;\n",
              "    }\n",
              "\n",
              "    .dataframe tbody tr th {\n",
              "        vertical-align: top;\n",
              "    }\n",
              "\n",
              "    .dataframe thead th {\n",
              "        text-align: right;\n",
              "    }\n",
              "</style>\n",
              "<table border=\"1\" class=\"dataframe\">\n",
              "  <thead>\n",
              "    <tr style=\"text-align: right;\">\n",
              "      <th></th>\n",
              "      <th>T=0.5 (%)</th>\n",
              "      <th>T=1.0 (%)</th>\n",
              "    </tr>\n",
              "  </thead>\n",
              "  <tbody>\n",
              "    <tr>\n",
              "      <th>3</th>\n",
              "      <td>35</td>\n",
              "      <td>65</td>\n",
              "    </tr>\n",
              "    <tr>\n",
              "      <th>4</th>\n",
              "      <td>25.7669</td>\n",
              "      <td>56.4417</td>\n",
              "    </tr>\n",
              "    <tr>\n",
              "      <th>5</th>\n",
              "      <td>37.4056</td>\n",
              "      <td>65.8202</td>\n",
              "    </tr>\n",
              "    <tr>\n",
              "      <th>6</th>\n",
              "      <td>33.485</td>\n",
              "      <td>63.3758</td>\n",
              "    </tr>\n",
              "    <tr>\n",
              "      <th>7</th>\n",
              "      <td>34.8864</td>\n",
              "      <td>63.5227</td>\n",
              "    </tr>\n",
              "    <tr>\n",
              "      <th>8</th>\n",
              "      <td>22.2857</td>\n",
              "      <td>42.2857</td>\n",
              "    </tr>\n",
              "    <tr>\n",
              "      <th>9</th>\n",
              "      <td>0</td>\n",
              "      <td>40</td>\n",
              "    </tr>\n",
              "    <tr>\n",
              "      <th>Overall</th>\n",
              "      <td>34.218</td>\n",
              "      <td>63.1278</td>\n",
              "    </tr>\n",
              "  </tbody>\n",
              "</table>\n",
              "</div>"
            ],
            "text/plain": [
              "        T=0.5 (%) T=1.0 (%)\n",
              "3              35        65\n",
              "4         25.7669   56.4417\n",
              "5         37.4056   65.8202\n",
              "6          33.485   63.3758\n",
              "7         34.8864   63.5227\n",
              "8         22.2857   42.2857\n",
              "9               0        40\n",
              "Overall    34.218   63.1278"
            ]
          },
          "metadata": {
            "tags": []
          },
          "execution_count": 455
        }
      ]
    },
    {
      "cell_type": "markdown",
      "metadata": {
        "id": "t4Fw_PlgD6h2"
      },
      "source": [
        "### Median "
      ]
    },
    {
      "cell_type": "code",
      "metadata": {
        "colab": {
          "base_uri": "https://localhost:8080/"
        },
        "id": "ZJTWSmwhTCZJ",
        "outputId": "c0481ad0-8344-46c3-87cc-153a3fd9982f"
      },
      "source": [
        "counter = Counter(Y_white[\"quality\"])\n",
        "print(counter)\n",
        "median=int(statistics.median(counter.values()))#175\n",
        "sm = SMOTE(sampling_strategy={3:median,9:median},random_state=24,k_neighbors=4)\n",
        "Augmented_X_white,Augmented_Y_white=sm.fit_sample(X_white, Y_white[\"quality\"])\n",
        "counter = Counter(Augmented_Y_white)\n",
        "print(counter)"
      ],
      "execution_count": 456,
      "outputs": [
        {
          "output_type": "stream",
          "text": [
            "Counter({6: 2198, 5: 1457, 7: 880, 8: 175, 4: 163, 3: 20, 9: 5})\n",
            "Counter({6: 2198, 5: 1457, 7: 880, 8: 175, 3: 175, 9: 175, 4: 163})\n"
          ],
          "name": "stdout"
        },
        {
          "output_type": "stream",
          "text": [
            "/usr/local/lib/python3.7/dist-packages/sklearn/utils/deprecation.py:87: FutureWarning: Function safe_indexing is deprecated; safe_indexing is deprecated in version 0.22 and will be removed in version 0.24.\n",
            "  warnings.warn(msg, category=FutureWarning)\n",
            "/usr/local/lib/python3.7/dist-packages/sklearn/utils/deprecation.py:87: FutureWarning: Function safe_indexing is deprecated; safe_indexing is deprecated in version 0.22 and will be removed in version 0.24.\n",
            "  warnings.warn(msg, category=FutureWarning)\n"
          ],
          "name": "stderr"
        }
      ]
    },
    {
      "cell_type": "code",
      "metadata": {
        "colab": {
          "base_uri": "https://localhost:8080/"
        },
        "id": "jCbIs6V4TNEg",
        "outputId": "d26e905f-4ffa-43c5-b363-727dc1e7872c"
      },
      "source": [
        "counter = Counter(Y_red[\"quality\"])\n",
        "print(counter)\n",
        "Median=int(statistics.median(counter.values()))\n",
        "sm = SMOTE(sampling_strategy={3:Median,8:Median,4:Median},random_state=24,k_neighbors=4)\n",
        "Augmented_X_red,Augmented_Y_red=sm.fit_sample(X_red, Y_red[\"quality\"])\n",
        "counter = Counter(Augmented_Y_red)\n",
        "print(counter)"
      ],
      "execution_count": 457,
      "outputs": [
        {
          "output_type": "stream",
          "text": [
            "Counter({5: 681, 6: 638, 7: 199, 4: 53, 8: 18, 3: 10})\n",
            "Counter({5: 681, 6: 638, 7: 199, 4: 126, 8: 126, 3: 126})\n"
          ],
          "name": "stdout"
        },
        {
          "output_type": "stream",
          "text": [
            "/usr/local/lib/python3.7/dist-packages/sklearn/utils/deprecation.py:87: FutureWarning: Function safe_indexing is deprecated; safe_indexing is deprecated in version 0.22 and will be removed in version 0.24.\n",
            "  warnings.warn(msg, category=FutureWarning)\n",
            "/usr/local/lib/python3.7/dist-packages/sklearn/utils/deprecation.py:87: FutureWarning: Function safe_indexing is deprecated; safe_indexing is deprecated in version 0.22 and will be removed in version 0.24.\n",
            "  warnings.warn(msg, category=FutureWarning)\n",
            "/usr/local/lib/python3.7/dist-packages/sklearn/utils/deprecation.py:87: FutureWarning: Function safe_indexing is deprecated; safe_indexing is deprecated in version 0.22 and will be removed in version 0.24.\n",
            "  warnings.warn(msg, category=FutureWarning)\n"
          ],
          "name": "stderr"
        }
      ]
    },
    {
      "cell_type": "code",
      "metadata": {
        "colab": {
          "base_uri": "https://localhost:8080/",
          "height": 70
        },
        "id": "rN6hsBAyVpBt",
        "outputId": "e64d6e94-bf61-4bfa-e862-74f2e94b4f3c"
      },
      "source": [
        "X_TRAIN_white, X_TEST_white, Y_TRAIN_white, Y_TEST_white = train_test_split(Augmented_X_white, Augmented_Y_white, test_size=0.33, random_state=42)\n",
        "X_TRAIN_red, X_TEST_red, Y_TRAIN_red, Y_TEST_red = train_test_split(Augmented_X_red, Augmented_Y_red, test_size=0.33, random_state=42)\n",
        "\n",
        "TRAIN_scaler_white = preprocessing.StandardScaler().fit(X_TRAIN_white)\n",
        "TEST_scaler_white = preprocessing.StandardScaler().fit(X_TEST_white)\n",
        "X_TRAIN_white = TO_TORCH(TRAIN_scaler_white.transform(X_TRAIN_white))\n",
        "X_TEST_white = TO_TORCH(TEST_scaler_white.transform(X_TEST_white))\n",
        "\n",
        "TRAIN_scaler_red = preprocessing.StandardScaler().fit(X_TRAIN_red)\n",
        "TEST_scaler_red = preprocessing.StandardScaler().fit(X_TEST_red)\n",
        "X_TRAIN_red = TO_TORCH(TRAIN_scaler_red.transform(X_TRAIN_red))\n",
        "X_TEST_red = TO_TORCH(TEST_scaler_red.transform(X_TEST_red))\n",
        "\n",
        "Y_TRAIN_white = TO_TORCH(Y_TRAIN_white)\n",
        "Y_TEST_white = TO_TORCH(Y_TEST_white)\n",
        "\n",
        "Y_TRAIN_red = TO_TORCH(Y_TRAIN_red)\n",
        "Y_TEST_red = TO_TORCH(Y_TEST_red)\n",
        "\n",
        "\"\"\"scaler_white = preprocessing.StandardScaler().fit(X_white)\n",
        "scaler_red = preprocessing.StandardScaler().fit(X_red)\n",
        "X_white_torch = TO_TORCH(scaler_white.transform(X_white))\n",
        "X_red_torch = TO_TORCH(scaler_red.transform(X_red))\n",
        "Y_white_torch = TO_TORCH(Y_white)\n",
        "Y_red_torch = TO_TORCH(Y_red)\"\"\""
      ],
      "execution_count": 458,
      "outputs": [
        {
          "output_type": "execute_result",
          "data": {
            "application/vnd.google.colaboratory.intrinsic+json": {
              "type": "string"
            },
            "text/plain": [
              "'scaler_white = preprocessing.StandardScaler().fit(X_white)\\nscaler_red = preprocessing.StandardScaler().fit(X_red)\\nX_white_torch = TO_TORCH(scaler_white.transform(X_white))\\nX_red_torch = TO_TORCH(scaler_red.transform(X_red))\\nY_white_torch = TO_TORCH(Y_white)\\nY_red_torch = TO_TORCH(Y_red)'"
            ]
          },
          "metadata": {
            "tags": []
          },
          "execution_count": 458
        }
      ]
    },
    {
      "cell_type": "code",
      "metadata": {
        "colab": {
          "base_uri": "https://localhost:8080/",
          "height": 674
        },
        "id": "pW90T13t5R0G",
        "outputId": "38fecb86-db59-445c-a6fb-61554010f551"
      },
      "source": [
        "result_white=TRAIN_NN(X_TRAIN_white,Y_TRAIN_white,X_TEST_white,Y_TEST_white,[9],LR=1e-1/2,BN=False,STEP_SIZE=100000,DECAY=0.5,EPOCH=60000)\n",
        "MODEL_NN_white=result_white[\"MODEL\"]\n",
        "LOSS_white=result_white[\"LOSS_TRAIN\"]\n",
        "LOSS_validation_white=result_white[\"LOSS_VALIDATION\"]\n",
        "ACCURACY_WHITE_TRAIN=result_white[\"ACCURACY_TRAIN\"]\n",
        "ACCURACY_WHITE_VALIDATION=result_white[\"ACCURACY_VALIDATION\"]\n",
        "\n",
        "T_list=[0.25,0.5,1]\n",
        "Result_TEST_white=TEST_NN(MODEL_NN_white,X_TEST_white,Y_TEST_white,T_list)\n",
        "print(\"Test Loss is {};\".format(round(Result_TEST_white[\"L2\"],3)))\n",
        "for i,T in enumerate(T_list): \n",
        "    acc=Result_TEST_white[\"accuracy_list\"][i]\n",
        "    print(\"Test Accuracy is {}% (T={});\".format(round(acc*100,3),T))\n",
        "test_kappa=Result_TEST_white[\"kappa\"]\n",
        "print(\"Test KAPPA is {}% (T=0.5);\".format(round(test_kappa*100,3)))\n",
        "\n",
        "T_list_REC=np.linspace(0,2,100)\n",
        "ACCURACY_list_REC_white=TEST_NN(MODEL_NN_white,X_TEST_white,Y_TEST_white,T_list_REC)[\"accuracy_list\"]\n",
        "plt.plot(T_list_REC,ACCURACY_list_REC_white)\n",
        "plt.xlabel(\"Tolerance\")\n",
        "plt.ylabel(\"Accuracy\")\n",
        "plt.title(\"REC \\n White wine\")"
      ],
      "execution_count": 459,
      "outputs": [
        {
          "output_type": "stream",
          "text": [
            "After 12000 Epochs:\n",
            "Train Loss is 0.6588; Train Accuracy is 80.9946% (T=1);\n",
            "Test Loss is 0.7107; Test Accuracy is 77.9582% (T=1);\n",
            "After 24000 Epochs:\n",
            "Train Loss is 0.6536; Train Accuracy is 80.7659% (T=1);\n",
            "Test Loss is 0.7087; Test Accuracy is 78.0742% (T=1);\n",
            "After 36000 Epochs:\n",
            "Train Loss is 0.6507; Train Accuracy is 80.966% (T=1);\n",
            "Test Loss is 0.7095; Test Accuracy is 78.1903% (T=1);\n",
            "After 48000 Epochs:\n",
            "Train Loss is 0.6485; Train Accuracy is 81.1089% (T=1);\n",
            "Test Loss is 0.7132; Test Accuracy is 77.9582% (T=1);\n",
            "After 60000 Epochs:\n",
            "Train Loss is 0.6481; Train Accuracy is 81.0517% (T=1);\n",
            "Test Loss is 0.7127; Test Accuracy is 77.6102% (T=1);\n",
            "Test Loss is 0.713;\n",
            "Test Accuracy is 26.856% (T=0.25);\n",
            "Test Accuracy is 46.926% (T=0.5);\n",
            "Test Accuracy is 77.61% (T=1);\n",
            "Test KAPPA is 23.452% (T=0.5);\n"
          ],
          "name": "stdout"
        },
        {
          "output_type": "execute_result",
          "data": {
            "text/plain": [
              "Text(0.5, 1.0, 'REC \\n White wine')"
            ]
          },
          "metadata": {
            "tags": []
          },
          "execution_count": 459
        },
        {
          "output_type": "display_data",
          "data": {
            "image/png": "[encoded data removed]",
            "text/plain": [
              "<Figure size 432x288 with 1 Axes>"
            ]
          },
          "metadata": {
            "tags": [],
            "needs_background": "light"
          }
        }
      ]
    },
    {
      "cell_type": "code",
      "metadata": {
        "colab": {
          "base_uri": "https://localhost:8080/",
          "height": 417
        },
        "id": "d9zWVrvw5R0K",
        "outputId": "23e8ddea-78ea-43c7-e3b8-a1f363d1043d"
      },
      "source": [
        "plt.figure(figsize=(10,5))\n",
        "plt.subplot(1,2,1)\n",
        "zoom=np.floor(len(LOSS_white)/900).astype(int)\n",
        "#zoom=0\n",
        "plt.plot(np.arange(len(LOSS_white)-zoom)+zoom, LOSS_white[zoom:],label=\"Train\")\n",
        "plt.plot(np.arange(len(LOSS_validation_white)-zoom)+zoom, LOSS_validation_white[zoom:],label=\"Validation\")\n",
        "\n",
        "#plt.plot((np.arange(len(LOSS_validation_white))+1)*len(LOSS_white)-1, LOSS_validation_white,label=\"Validation\")\n",
        "plt.xlabel(\"Epoch\")\n",
        "plt.ylabel(\"Loss\")\n",
        "plt.legend()\n",
        "plt.title(\"White Wine \\n Final Train Loss = {:.3f} \\n Final Validation Loss = {:.3f}\".format(LOSS_white[-1],LOSS_validation_white[-1]))\n",
        "\n",
        "plt.subplot(1,2,2)\n",
        "zoom=np.floor(len(ACCURACY_WHITE_TRAIN)/9000).astype(int)\n",
        "#zoom=0\n",
        "plt.plot(np.arange(len(ACCURACY_WHITE_TRAIN)-zoom)+zoom, ACCURACY_WHITE_TRAIN[zoom:],label=\"Train\")\n",
        "plt.plot(np.arange(len(ACCURACY_WHITE_VALIDATION)-zoom)+zoom, ACCURACY_WHITE_VALIDATION[zoom:],label=\"Validation\")\n",
        "\n",
        "plt.xlabel(\"Epoch\")\n",
        "plt.ylabel(\"Loss\")\n",
        "plt.legend()\n",
        "plt.title(\"White Wine \\n Final Train Accuracy (T=1) = {:.3f}% \\n Final Validation Accuracy (T=1) = {:.3f}%\".format(100*ACCURACY_WHITE_TRAIN[-1],100*ACCURACY_WHITE_VALIDATION[-1]))\n"
      ],
      "execution_count": 460,
      "outputs": [
        {
          "output_type": "execute_result",
          "data": {
            "text/plain": [
              "Text(0.5, 1.0, 'White Wine \\n Final Train Accuracy (T=1) = 81.052% \\n Final Validation Accuracy (T=1) = 77.610%')"
            ]
          },
          "metadata": {
            "tags": []
          },
          "execution_count": 460
        },
        {
          "output_type": "display_data",
          "data": {
            "image/png": "[encoded data removed]",
            "text/plain": [
              "<Figure size 720x360 with 2 Axes>"
            ]
          },
          "metadata": {
            "tags": [],
            "needs_background": "light"
          }
        }
      ]
    },
    {
      "cell_type": "code",
      "metadata": {
        "colab": {
          "base_uri": "https://localhost:8080/",
          "height": 674
        },
        "id": "ozmNYrhz5R0O",
        "outputId": "90ac7a89-ac78-495a-bd5b-51f438f7ca9c"
      },
      "source": [
        "result_red=TRAIN_NN(X_TRAIN_red,Y_TRAIN_red,X_TEST_red,Y_TEST_red,[9],LR=1e-1/2,OPT=\"SGD\",DROP_PR=0.0,BN=False,STEP_SIZE=30000,DECAY=0.5,EPOCH=100000,seed=233)\n",
        "MODEL_NN_red=result_red[\"MODEL\"]\n",
        "LOSS_red=result_red[\"LOSS_TRAIN\"]\n",
        "LOSS_validation_red=result_red[\"LOSS_VALIDATION\"]\n",
        "ACCURACY_RED_TRAIN=result_red[\"ACCURACY_TRAIN\"]\n",
        "ACCURACY_RED_VALIDATION=result_red[\"ACCURACY_VALIDATION\"]\n",
        "\n",
        "T_list=[0.25,0.5,1]\n",
        "Result_TEST_red=TEST_NN(MODEL_NN_red,X_TEST_red,Y_TEST_red,T_list)\n",
        "print(\"Test Loss is {};\".format(round(Result_TEST_red[\"L2\"],3)))\n",
        "for i,T in enumerate(T_list): \n",
        "    acc=Result_TEST_red[\"accuracy_list\"][i]\n",
        "    print(\"Test Accuracy is {}% (T={});\".format(round(acc*100,3),T))\n",
        "test_kappa=Result_TEST_red[\"kappa\"]\n",
        "print(\"Test KAPPA is {}% (T=0.5);\".format(round(test_kappa*100,3)))\n",
        "\n",
        "\n",
        "T_list_REC=np.linspace(0,2,100)\n",
        "ACCURACY_list_REC_red=TEST_NN(MODEL_NN_red,X_TEST_red,Y_TEST_red,T_list_REC)[\"accuracy_list\"]\n",
        "plt.plot(T_list_REC,ACCURACY_list_REC_red)\n",
        "plt.xlabel(\"Tolerance\")\n",
        "plt.ylabel(\"Accuracy\")\n",
        "plt.title(\"REC \\n Red wine\")"
      ],
      "execution_count": 461,
      "outputs": [
        {
          "output_type": "stream",
          "text": [
            "After 20000 Epochs:\n",
            "Train Loss is 0.4107; Train Accuracy is 88.3465% (T=1);\n",
            "Test Loss is 0.5358; Test Accuracy is 83.3866% (T=1);\n",
            "After 40000 Epochs:\n",
            "Train Loss is 0.4093; Train Accuracy is 88.189% (T=1);\n",
            "Test Loss is 0.5334; Test Accuracy is 82.2684% (T=1);\n",
            "After 60000 Epochs:\n",
            "Train Loss is 0.4093; Train Accuracy is 88.189% (T=1);\n",
            "Test Loss is 0.5334; Test Accuracy is 82.2684% (T=1);\n",
            "After 80000 Epochs:\n",
            "Train Loss is 0.4093; Train Accuracy is 88.189% (T=1);\n",
            "Test Loss is 0.5334; Test Accuracy is 82.2684% (T=1);\n",
            "After 100000 Epochs:\n",
            "Train Loss is 0.4093; Train Accuracy is 88.189% (T=1);\n",
            "Test Loss is 0.5334; Test Accuracy is 82.2684% (T=1);\n",
            "Test Loss is 0.533;\n",
            "Test Accuracy is 26.997% (T=0.25);\n",
            "Test Accuracy is 54.473% (T=0.5);\n",
            "Test Accuracy is 82.268% (T=1);\n",
            "Test KAPPA is 37.67% (T=0.5);\n"
          ],
          "name": "stdout"
        },
        {
          "output_type": "execute_result",
          "data": {
            "text/plain": [
              "Text(0.5, 1.0, 'REC \\n Red wine')"
            ]
          },
          "metadata": {
            "tags": []
          },
          "execution_count": 461
        },
        {
          "output_type": "display_data",
          "data": {
            "image/png": "[encoded data removed]",
            "text/plain": [
              "<Figure size 432x288 with 1 Axes>"
            ]
          },
          "metadata": {
            "tags": [],
            "needs_background": "light"
          }
        }
      ]
    },
    {
      "cell_type": "code",
      "metadata": {
        "colab": {
          "base_uri": "https://localhost:8080/",
          "height": 397
        },
        "id": "jrheV6Vs5R0P",
        "outputId": "d9821eaa-4c0a-49d7-b421-e55084c63973"
      },
      "source": [
        "plt.figure(figsize=(10,5))\n",
        "plt.subplot(1,2,1)\n",
        "zoom=np.floor(len(LOSS_red)/3000).astype(int)\n",
        "#zoom=0\n",
        "plt.plot(np.arange(len(LOSS_red)-zoom)+zoom, LOSS_red[zoom:],label=\"Train\")\n",
        "plt.plot(np.arange(len(LOSS_validation_red)-zoom)+zoom, LOSS_validation_red[zoom:],label=\"Validation\")\n",
        "\n",
        "plt.xlabel(\"Epoch\")\n",
        "plt.ylabel(\"Loss\")\n",
        "plt.legend()\n",
        "plt.title(\"Red Wine \\n Final Train Loss = {:.3f} \\n Final Validation Loss = {:.3f}\".format(LOSS_red[-1],LOSS_validation_red[-1]))\n",
        "\n",
        "plt.subplot(1,2,2)\n",
        "zoom=np.floor(len(ACCURACY_RED_TRAIN)/3000).astype(int)\n",
        "#zoom=0\n",
        "plt.plot(np.arange(len(ACCURACY_RED_TRAIN)-zoom)+zoom, ACCURACY_RED_TRAIN[zoom:],label=\"Train\")\n",
        "plt.plot(np.arange(len(ACCURACY_RED_VALIDATION)-zoom)+zoom, ACCURACY_RED_VALIDATION[zoom:],label=\"Validation\")\n",
        "\n",
        "plt.xlabel(\"Epoch\")\n",
        "plt.ylabel(\"Loss\")\n",
        "plt.legend()\n",
        "plt.title(\"Red Wine \\n Final Train Accuracy (T=1) = {:.3f}% \\n Final Validation Accuracy (T=1) = {:.3f}%\".format(100*ACCURACY_RED_TRAIN[-1],100*ACCURACY_RED_VALIDATION[-1]))\n"
      ],
      "execution_count": 462,
      "outputs": [
        {
          "output_type": "execute_result",
          "data": {
            "text/plain": [
              "Text(0.5, 1.0, 'Red Wine \\n Final Train Accuracy (T=1) = 88.189% \\n Final Validation Accuracy (T=1) = 82.268%')"
            ]
          },
          "metadata": {
            "tags": []
          },
          "execution_count": 462
        },
        {
          "output_type": "display_data",
          "data": {
            "image/png": "[encoded data removed]",
            "text/plain": [
              "<Figure size 720x360 with 2 Axes>"
            ]
          },
          "metadata": {
            "tags": [],
            "needs_background": "light"
          }
        }
      ]
    },
    {
      "cell_type": "code",
      "metadata": {
        "colab": {
          "base_uri": "https://localhost:8080/",
          "height": 250
        },
        "id": "GaaBiJ43VxAd",
        "outputId": "1b5ae915-45da-44b0-a53f-4774458cc09b"
      },
      "source": [
        "red_pred=np.round(MODEL_NN_red(X_red_torch).cpu().detach().numpy())[:,0]\n",
        "red_pred=np.where(red_pred >=8.0, 8, red_pred)\n",
        "red_pred=np.where(red_pred <=3.0, 3, red_pred)  \n",
        "red_confusion=confusion_matrix(Y_red_torch.cpu().detach().numpy(), red_pred)\n",
        "red_confusion=pd.DataFrame(red_confusion,index=red_class,columns=red_class)\n",
        "print(\"Confusion Matrix for Red Wine (T=0.5)\")\n",
        "red_confusion "
      ],
      "execution_count": 463,
      "outputs": [
        {
          "output_type": "stream",
          "text": [
            "Confusion Matrix for Red Wine (T=0.5)\n"
          ],
          "name": "stdout"
        },
        {
          "output_type": "execute_result",
          "data": {
            "text/html": [
              "<div>\n",
              "<style scoped>\n",
              "    .dataframe tbody tr th:only-of-type {\n",
              "        vertical-align: middle;\n",
              "    }\n",
              "\n",
              "    .dataframe tbody tr th {\n",
              "        vertical-align: top;\n",
              "    }\n",
              "\n",
              "    .dataframe thead th {\n",
              "        text-align: right;\n",
              "    }\n",
              "</style>\n",
              "<table border=\"1\" class=\"dataframe\">\n",
              "  <thead>\n",
              "    <tr style=\"text-align: right;\">\n",
              "      <th></th>\n",
              "      <th>3</th>\n",
              "      <th>4</th>\n",
              "      <th>5</th>\n",
              "      <th>6</th>\n",
              "      <th>7</th>\n",
              "      <th>8</th>\n",
              "    </tr>\n",
              "  </thead>\n",
              "  <tbody>\n",
              "    <tr>\n",
              "      <th>3</th>\n",
              "      <td>4</td>\n",
              "      <td>5</td>\n",
              "      <td>1</td>\n",
              "      <td>0</td>\n",
              "      <td>0</td>\n",
              "      <td>0</td>\n",
              "    </tr>\n",
              "    <tr>\n",
              "      <th>4</th>\n",
              "      <td>2</td>\n",
              "      <td>26</td>\n",
              "      <td>22</td>\n",
              "      <td>3</td>\n",
              "      <td>0</td>\n",
              "      <td>0</td>\n",
              "    </tr>\n",
              "    <tr>\n",
              "      <th>5</th>\n",
              "      <td>13</td>\n",
              "      <td>74</td>\n",
              "      <td>441</td>\n",
              "      <td>141</td>\n",
              "      <td>12</td>\n",
              "      <td>0</td>\n",
              "    </tr>\n",
              "    <tr>\n",
              "      <th>6</th>\n",
              "      <td>0</td>\n",
              "      <td>16</td>\n",
              "      <td>188</td>\n",
              "      <td>329</td>\n",
              "      <td>103</td>\n",
              "      <td>2</td>\n",
              "    </tr>\n",
              "    <tr>\n",
              "      <th>7</th>\n",
              "      <td>0</td>\n",
              "      <td>1</td>\n",
              "      <td>12</td>\n",
              "      <td>80</td>\n",
              "      <td>102</td>\n",
              "      <td>4</td>\n",
              "    </tr>\n",
              "    <tr>\n",
              "      <th>8</th>\n",
              "      <td>0</td>\n",
              "      <td>0</td>\n",
              "      <td>0</td>\n",
              "      <td>1</td>\n",
              "      <td>8</td>\n",
              "      <td>9</td>\n",
              "    </tr>\n",
              "  </tbody>\n",
              "</table>\n",
              "</div>"
            ],
            "text/plain": [
              "    3   4    5    6    7  8\n",
              "3   4   5    1    0    0  0\n",
              "4   2  26   22    3    0  0\n",
              "5  13  74  441  141   12  0\n",
              "6   0  16  188  329  103  2\n",
              "7   0   1   12   80  102  4\n",
              "8   0   0    0    1    8  9"
            ]
          },
          "metadata": {
            "tags": []
          },
          "execution_count": 463
        }
      ]
    },
    {
      "cell_type": "code",
      "metadata": {
        "colab": {
          "base_uri": "https://localhost:8080/",
          "height": 281
        },
        "id": "nvF6u_UZV0lT",
        "outputId": "6215a825-f6bf-4c85-b9e2-3bf72c313bd7"
      },
      "source": [
        "white_pred=np.round(MODEL_NN_white(X_white_torch).cpu().detach().numpy())[:,0]\n",
        "white_pred=np.where(white_pred >=8.0, 8, white_pred)\n",
        "white_pred=np.where(white_pred <=3.0, 3, white_pred)\n",
        "white_confusion=confusion_matrix(Y_white_torch.cpu().detach().numpy(), white_pred)\n",
        "white_confusion=pd.DataFrame(white_confusion,index=white_class,columns=white_class) \n",
        "print(\"Confusion Matrix for White Wine (T=0.5)\")\n",
        "\n",
        "white_confusion "
      ],
      "execution_count": 464,
      "outputs": [
        {
          "output_type": "stream",
          "text": [
            "Confusion Matrix for White Wine (T=0.5)\n"
          ],
          "name": "stdout"
        },
        {
          "output_type": "execute_result",
          "data": {
            "text/html": [
              "<div>\n",
              "<style scoped>\n",
              "    .dataframe tbody tr th:only-of-type {\n",
              "        vertical-align: middle;\n",
              "    }\n",
              "\n",
              "    .dataframe tbody tr th {\n",
              "        vertical-align: top;\n",
              "    }\n",
              "\n",
              "    .dataframe thead th {\n",
              "        text-align: right;\n",
              "    }\n",
              "</style>\n",
              "<table border=\"1\" class=\"dataframe\">\n",
              "  <thead>\n",
              "    <tr style=\"text-align: right;\">\n",
              "      <th></th>\n",
              "      <th>3</th>\n",
              "      <th>4</th>\n",
              "      <th>5</th>\n",
              "      <th>6</th>\n",
              "      <th>7</th>\n",
              "      <th>8</th>\n",
              "      <th>9</th>\n",
              "    </tr>\n",
              "  </thead>\n",
              "  <tbody>\n",
              "    <tr>\n",
              "      <th>3</th>\n",
              "      <td>2</td>\n",
              "      <td>9</td>\n",
              "      <td>7</td>\n",
              "      <td>2</td>\n",
              "      <td>0</td>\n",
              "      <td>0</td>\n",
              "      <td>0</td>\n",
              "    </tr>\n",
              "    <tr>\n",
              "      <th>4</th>\n",
              "      <td>2</td>\n",
              "      <td>32</td>\n",
              "      <td>98</td>\n",
              "      <td>28</td>\n",
              "      <td>3</td>\n",
              "      <td>0</td>\n",
              "      <td>0</td>\n",
              "    </tr>\n",
              "    <tr>\n",
              "      <th>5</th>\n",
              "      <td>4</td>\n",
              "      <td>89</td>\n",
              "      <td>914</td>\n",
              "      <td>418</td>\n",
              "      <td>32</td>\n",
              "      <td>0</td>\n",
              "      <td>0</td>\n",
              "    </tr>\n",
              "    <tr>\n",
              "      <th>6</th>\n",
              "      <td>0</td>\n",
              "      <td>33</td>\n",
              "      <td>661</td>\n",
              "      <td>1218</td>\n",
              "      <td>273</td>\n",
              "      <td>13</td>\n",
              "      <td>0</td>\n",
              "    </tr>\n",
              "    <tr>\n",
              "      <th>7</th>\n",
              "      <td>0</td>\n",
              "      <td>1</td>\n",
              "      <td>72</td>\n",
              "      <td>486</td>\n",
              "      <td>295</td>\n",
              "      <td>26</td>\n",
              "      <td>0</td>\n",
              "    </tr>\n",
              "    <tr>\n",
              "      <th>8</th>\n",
              "      <td>0</td>\n",
              "      <td>0</td>\n",
              "      <td>6</td>\n",
              "      <td>88</td>\n",
              "      <td>74</td>\n",
              "      <td>7</td>\n",
              "      <td>0</td>\n",
              "    </tr>\n",
              "    <tr>\n",
              "      <th>9</th>\n",
              "      <td>0</td>\n",
              "      <td>0</td>\n",
              "      <td>0</td>\n",
              "      <td>0</td>\n",
              "      <td>0</td>\n",
              "      <td>5</td>\n",
              "      <td>0</td>\n",
              "    </tr>\n",
              "  </tbody>\n",
              "</table>\n",
              "</div>"
            ],
            "text/plain": [
              "   3   4    5     6    7   8  9\n",
              "3  2   9    7     2    0   0  0\n",
              "4  2  32   98    28    3   0  0\n",
              "5  4  89  914   418   32   0  0\n",
              "6  0  33  661  1218  273  13  0\n",
              "7  0   1   72   486  295  26  0\n",
              "8  0   0    6    88   74   7  0\n",
              "9  0   0    0     0    0   5  0"
            ]
          },
          "metadata": {
            "tags": []
          },
          "execution_count": 464
        }
      ]
    },
    {
      "cell_type": "code",
      "metadata": {
        "colab": {
          "base_uri": "https://localhost:8080/",
          "height": 298
        },
        "id": "CLjXfocDV4sB",
        "outputId": "e6a0cee2-3f8f-44f4-84ab-bcb38dcf065d"
      },
      "source": [
        "red_precision=pd.DataFrame(index=red_class,columns=[\"T=0.5 (%)\",\"T=1.0 (%)\"])\n",
        "for i,c in enumerate(red_class):\n",
        "    label=Y_red_torch[Y_red_torch==red_class[i]]\n",
        "    predictor=X_red_torch[(Y_red_torch==red_class[i])[:,0],:]\n",
        "    pre1=100*TEST_NN(MODEL_NN_red,predictor,label,T_list=[0.5])[\"accuracy_list\"][0]\n",
        "    pre2=100*TEST_NN(MODEL_NN_red,predictor,label,T_list=[1.0])[\"accuracy_list\"][0]\n",
        "    red_precision.at[c, \"T=0.5 (%)\"] = pre1\n",
        "    red_precision.at[c, \"T=1.0 (%)\"] = pre2\n",
        "\n",
        "overall=pd.DataFrame(index=[\"Overall\"],columns=[\"T=0.5 (%)\",\"T=1.0 (%)\"])\n",
        "pre1=100*TEST_NN(MODEL_NN_red,X_red_torch,Y_red_torch[:,0],T_list=[0.5])[\"accuracy_list\"][0]\n",
        "pre2=100*TEST_NN(MODEL_NN_red,X_red_torch,Y_red_torch[:,0],T_list=[1.0])[\"accuracy_list\"][0]\n",
        "overall.at[\"Overall\", \"T=0.5 (%)\"] = pre1\n",
        "overall.at[\"Overall\", \"T=1.0 (%)\"] = pre2\n",
        "print(\"Precision for different classes \\n (Red Wine)\")\n",
        "\n",
        "red_precision.append(overall)"
      ],
      "execution_count": 465,
      "outputs": [
        {
          "output_type": "stream",
          "text": [
            "Precision for different classes \n",
            " (Red Wine)\n"
          ],
          "name": "stdout"
        },
        {
          "output_type": "execute_result",
          "data": {
            "text/html": [
              "<div>\n",
              "<style scoped>\n",
              "    .dataframe tbody tr th:only-of-type {\n",
              "        vertical-align: middle;\n",
              "    }\n",
              "\n",
              "    .dataframe tbody tr th {\n",
              "        vertical-align: top;\n",
              "    }\n",
              "\n",
              "    .dataframe thead th {\n",
              "        text-align: right;\n",
              "    }\n",
              "</style>\n",
              "<table border=\"1\" class=\"dataframe\">\n",
              "  <thead>\n",
              "    <tr style=\"text-align: right;\">\n",
              "      <th></th>\n",
              "      <th>T=0.5 (%)</th>\n",
              "      <th>T=1.0 (%)</th>\n",
              "    </tr>\n",
              "  </thead>\n",
              "  <tbody>\n",
              "    <tr>\n",
              "      <th>3</th>\n",
              "      <td>40</td>\n",
              "      <td>60</td>\n",
              "    </tr>\n",
              "    <tr>\n",
              "      <th>4</th>\n",
              "      <td>49.0566</td>\n",
              "      <td>75.4717</td>\n",
              "    </tr>\n",
              "    <tr>\n",
              "      <th>5</th>\n",
              "      <td>64.7577</td>\n",
              "      <td>88.3994</td>\n",
              "    </tr>\n",
              "    <tr>\n",
              "      <th>6</th>\n",
              "      <td>51.5674</td>\n",
              "      <td>85.4232</td>\n",
              "    </tr>\n",
              "    <tr>\n",
              "      <th>7</th>\n",
              "      <td>51.2563</td>\n",
              "      <td>79.397</td>\n",
              "    </tr>\n",
              "    <tr>\n",
              "      <th>8</th>\n",
              "      <td>50</td>\n",
              "      <td>72.2222</td>\n",
              "    </tr>\n",
              "    <tr>\n",
              "      <th>Overall</th>\n",
              "      <td>56.9731</td>\n",
              "      <td>85.3033</td>\n",
              "    </tr>\n",
              "  </tbody>\n",
              "</table>\n",
              "</div>"
            ],
            "text/plain": [
              "        T=0.5 (%) T=1.0 (%)\n",
              "3              40        60\n",
              "4         49.0566   75.4717\n",
              "5         64.7577   88.3994\n",
              "6         51.5674   85.4232\n",
              "7         51.2563    79.397\n",
              "8              50   72.2222\n",
              "Overall   56.9731   85.3033"
            ]
          },
          "metadata": {
            "tags": []
          },
          "execution_count": 465
        }
      ]
    },
    {
      "cell_type": "code",
      "metadata": {
        "colab": {
          "base_uri": "https://localhost:8080/",
          "height": 329
        },
        "id": "mztQfhtiV8-l",
        "outputId": "09fc29c4-0d28-41ac-eda9-8946eaa1d96b"
      },
      "source": [
        "white_precision=pd.DataFrame(index=white_class,columns=[\"T=0.5 (%)\",\"T=1.0 (%)\"])\n",
        "for i,c in enumerate(white_class):\n",
        "    label=Y_white_torch[Y_white_torch==white_class[i]]\n",
        "    predictor=X_white_torch[(Y_white_torch==white_class[i])[:,0],:]\n",
        "    pre1=100*TEST_NN(MODEL_NN_white,predictor,label,T_list=[0.5])[\"accuracy_list\"][0]\n",
        "    pre2=100*TEST_NN(MODEL_NN_white,predictor,label,T_list=[1.0])[\"accuracy_list\"][0]\n",
        "    white_precision.at[c, \"T=0.5 (%)\"] = pre1\n",
        "    white_precision.at[c, \"T=1.0 (%)\"] = pre2\n",
        "\n",
        "overall=pd.DataFrame(index=[\"Overall\"],columns=[\"T=0.5 (%)\",\"T=1.0 (%)\"])\n",
        "pre1=100*TEST_NN(MODEL_NN_white,X_white_torch,Y_white_torch[:,0],T_list=[0.5])[\"accuracy_list\"][0]\n",
        "pre2=100*TEST_NN(MODEL_NN_white,X_white_torch,Y_white_torch[:,0],T_list=[1.0])[\"accuracy_list\"][0]\n",
        "overall.at[\"Overall\", \"T=0.5 (%)\"] = pre1\n",
        "overall.at[\"Overall\", \"T=1.0 (%)\"] = pre2\n",
        "print(\"Precision for different classes \\n (White Wine)\")\n",
        "\n",
        "white_precision.append(overall)"
      ],
      "execution_count": 466,
      "outputs": [
        {
          "output_type": "stream",
          "text": [
            "Precision for different classes \n",
            " (White Wine)\n"
          ],
          "name": "stdout"
        },
        {
          "output_type": "execute_result",
          "data": {
            "text/html": [
              "<div>\n",
              "<style scoped>\n",
              "    .dataframe tbody tr th:only-of-type {\n",
              "        vertical-align: middle;\n",
              "    }\n",
              "\n",
              "    .dataframe tbody tr th {\n",
              "        vertical-align: top;\n",
              "    }\n",
              "\n",
              "    .dataframe thead th {\n",
              "        text-align: right;\n",
              "    }\n",
              "</style>\n",
              "<table border=\"1\" class=\"dataframe\">\n",
              "  <thead>\n",
              "    <tr style=\"text-align: right;\">\n",
              "      <th></th>\n",
              "      <th>T=0.5 (%)</th>\n",
              "      <th>T=1.0 (%)</th>\n",
              "    </tr>\n",
              "  </thead>\n",
              "  <tbody>\n",
              "    <tr>\n",
              "      <th>3</th>\n",
              "      <td>5</td>\n",
              "      <td>30</td>\n",
              "    </tr>\n",
              "    <tr>\n",
              "      <th>4</th>\n",
              "      <td>19.6319</td>\n",
              "      <td>53.3742</td>\n",
              "    </tr>\n",
              "    <tr>\n",
              "      <th>5</th>\n",
              "      <td>62.7316</td>\n",
              "      <td>89.4303</td>\n",
              "    </tr>\n",
              "    <tr>\n",
              "      <th>6</th>\n",
              "      <td>55.414</td>\n",
              "      <td>87.3521</td>\n",
              "    </tr>\n",
              "    <tr>\n",
              "      <th>7</th>\n",
              "      <td>33.5227</td>\n",
              "      <td>70.5682</td>\n",
              "    </tr>\n",
              "    <tr>\n",
              "      <th>8</th>\n",
              "      <td>2.85714</td>\n",
              "      <td>20.5714</td>\n",
              "    </tr>\n",
              "    <tr>\n",
              "      <th>9</th>\n",
              "      <td>40</td>\n",
              "      <td>80</td>\n",
              "    </tr>\n",
              "    <tr>\n",
              "      <th>Overall</th>\n",
              "      <td>50.3675</td>\n",
              "      <td>81.1964</td>\n",
              "    </tr>\n",
              "  </tbody>\n",
              "</table>\n",
              "</div>"
            ],
            "text/plain": [
              "        T=0.5 (%) T=1.0 (%)\n",
              "3               5        30\n",
              "4         19.6319   53.3742\n",
              "5         62.7316   89.4303\n",
              "6          55.414   87.3521\n",
              "7         33.5227   70.5682\n",
              "8         2.85714   20.5714\n",
              "9              40        80\n",
              "Overall   50.3675   81.1964"
            ]
          },
          "metadata": {
            "tags": []
          },
          "execution_count": 466
        }
      ]
    },
    {
      "cell_type": "markdown",
      "metadata": {
        "id": "RKUocxlJCC6O"
      },
      "source": [
        "## resample all classes but the majority class"
      ]
    },
    {
      "cell_type": "code",
      "metadata": {
        "colab": {
          "base_uri": "https://localhost:8080/"
        },
        "id": "5EXvSwYhCI3H",
        "outputId": "849f3fb6-a196-41b1-8b0a-68fb041319ee"
      },
      "source": [
        "counter = Counter(Y_white[\"quality\"])\n",
        "print(counter)\n",
        "sm = SMOTE(sampling_strategy=\"not majority\",random_state=24,k_neighbors=4)\n",
        "Augmented_X_white,Augmented_Y_white=sm.fit_sample(X_white, Y_white[\"quality\"])\n",
        "counter = Counter(Augmented_Y_white)\n",
        "print(counter)"
      ],
      "execution_count": 478,
      "outputs": [
        {
          "output_type": "stream",
          "text": [
            "Counter({6: 2198, 5: 1457, 7: 880, 8: 175, 4: 163, 3: 20, 9: 5})\n",
            "Counter({6: 2198, 5: 2198, 7: 2198, 8: 2198, 4: 2198, 3: 2198, 9: 2198})\n"
          ],
          "name": "stdout"
        },
        {
          "output_type": "stream",
          "text": [
            "/usr/local/lib/python3.7/dist-packages/sklearn/utils/deprecation.py:87: FutureWarning: Function safe_indexing is deprecated; safe_indexing is deprecated in version 0.22 and will be removed in version 0.24.\n",
            "  warnings.warn(msg, category=FutureWarning)\n",
            "/usr/local/lib/python3.7/dist-packages/sklearn/utils/deprecation.py:87: FutureWarning: Function safe_indexing is deprecated; safe_indexing is deprecated in version 0.22 and will be removed in version 0.24.\n",
            "  warnings.warn(msg, category=FutureWarning)\n",
            "/usr/local/lib/python3.7/dist-packages/sklearn/utils/deprecation.py:87: FutureWarning: Function safe_indexing is deprecated; safe_indexing is deprecated in version 0.22 and will be removed in version 0.24.\n",
            "  warnings.warn(msg, category=FutureWarning)\n",
            "/usr/local/lib/python3.7/dist-packages/sklearn/utils/deprecation.py:87: FutureWarning: Function safe_indexing is deprecated; safe_indexing is deprecated in version 0.22 and will be removed in version 0.24.\n",
            "  warnings.warn(msg, category=FutureWarning)\n",
            "/usr/local/lib/python3.7/dist-packages/sklearn/utils/deprecation.py:87: FutureWarning: Function safe_indexing is deprecated; safe_indexing is deprecated in version 0.22 and will be removed in version 0.24.\n",
            "  warnings.warn(msg, category=FutureWarning)\n",
            "/usr/local/lib/python3.7/dist-packages/sklearn/utils/deprecation.py:87: FutureWarning: Function safe_indexing is deprecated; safe_indexing is deprecated in version 0.22 and will be removed in version 0.24.\n",
            "  warnings.warn(msg, category=FutureWarning)\n"
          ],
          "name": "stderr"
        }
      ]
    },
    {
      "cell_type": "code",
      "metadata": {
        "colab": {
          "base_uri": "https://localhost:8080/"
        },
        "id": "yBew-OxlW3k9",
        "outputId": "70436f98-9476-4bd6-b7b6-baadba46df4c"
      },
      "source": [
        "counter = Counter(Y_red[\"quality\"])\n",
        "print(counter)\n",
        "sm = SMOTE(sampling_strategy=\"not majority\",random_state=24,k_neighbors=4)\n",
        "Augmented_X_red,Augmented_Y_red=sm.fit_sample(X_red, Y_red[\"quality\"])\n",
        "counter = Counter(Augmented_Y_red)\n",
        "print(counter)"
      ],
      "execution_count": 479,
      "outputs": [
        {
          "output_type": "stream",
          "text": [
            "Counter({5: 681, 6: 638, 7: 199, 4: 53, 8: 18, 3: 10})\n",
            "Counter({5: 681, 6: 681, 7: 681, 4: 681, 8: 681, 3: 681})\n"
          ],
          "name": "stdout"
        },
        {
          "output_type": "stream",
          "text": [
            "/usr/local/lib/python3.7/dist-packages/sklearn/utils/deprecation.py:87: FutureWarning: Function safe_indexing is deprecated; safe_indexing is deprecated in version 0.22 and will be removed in version 0.24.\n",
            "  warnings.warn(msg, category=FutureWarning)\n",
            "/usr/local/lib/python3.7/dist-packages/sklearn/utils/deprecation.py:87: FutureWarning: Function safe_indexing is deprecated; safe_indexing is deprecated in version 0.22 and will be removed in version 0.24.\n",
            "  warnings.warn(msg, category=FutureWarning)\n",
            "/usr/local/lib/python3.7/dist-packages/sklearn/utils/deprecation.py:87: FutureWarning: Function safe_indexing is deprecated; safe_indexing is deprecated in version 0.22 and will be removed in version 0.24.\n",
            "  warnings.warn(msg, category=FutureWarning)\n",
            "/usr/local/lib/python3.7/dist-packages/sklearn/utils/deprecation.py:87: FutureWarning: Function safe_indexing is deprecated; safe_indexing is deprecated in version 0.22 and will be removed in version 0.24.\n",
            "  warnings.warn(msg, category=FutureWarning)\n",
            "/usr/local/lib/python3.7/dist-packages/sklearn/utils/deprecation.py:87: FutureWarning: Function safe_indexing is deprecated; safe_indexing is deprecated in version 0.22 and will be removed in version 0.24.\n",
            "  warnings.warn(msg, category=FutureWarning)\n"
          ],
          "name": "stderr"
        }
      ]
    },
    {
      "cell_type": "code",
      "metadata": {
        "colab": {
          "base_uri": "https://localhost:8080/",
          "height": 70
        },
        "id": "sfmwc9R9W-zC",
        "outputId": "f27c73a5-7306-42d1-9e5e-bd80ae0d5c1f"
      },
      "source": [
        "X_TRAIN_white, X_TEST_white, Y_TRAIN_white, Y_TEST_white = train_test_split(Augmented_X_white, Augmented_Y_white, test_size=0.33, random_state=42)\n",
        "X_TRAIN_red, X_TEST_red, Y_TRAIN_red, Y_TEST_red = train_test_split(Augmented_X_red, Augmented_Y_red, test_size=0.33, random_state=42)\n",
        "\n",
        "TRAIN_scaler_white = preprocessing.StandardScaler().fit(X_TRAIN_white)\n",
        "TEST_scaler_white = preprocessing.StandardScaler().fit(X_TEST_white)\n",
        "X_TRAIN_white = TO_TORCH(TRAIN_scaler_white.transform(X_TRAIN_white))\n",
        "X_TEST_white = TO_TORCH(TEST_scaler_white.transform(X_TEST_white))\n",
        "\n",
        "TRAIN_scaler_red = preprocessing.StandardScaler().fit(X_TRAIN_red)\n",
        "TEST_scaler_red = preprocessing.StandardScaler().fit(X_TEST_red)\n",
        "X_TRAIN_red = TO_TORCH(TRAIN_scaler_red.transform(X_TRAIN_red))\n",
        "X_TEST_red = TO_TORCH(TEST_scaler_red.transform(X_TEST_red))\n",
        "\n",
        "Y_TRAIN_white = TO_TORCH(Y_TRAIN_white)\n",
        "Y_TEST_white = TO_TORCH(Y_TEST_white)\n",
        "\n",
        "Y_TRAIN_red = TO_TORCH(Y_TRAIN_red)\n",
        "Y_TEST_red = TO_TORCH(Y_TEST_red)\n",
        "\n",
        "\"\"\"scaler_white = preprocessing.StandardScaler().fit(X_white)\n",
        "scaler_red = preprocessing.StandardScaler().fit(X_red)\n",
        "X_white_torch = TO_TORCH(scaler_white.transform(X_white))\n",
        "X_red_torch = TO_TORCH(scaler_red.transform(X_red))\n",
        "Y_white_torch = TO_TORCH(Y_white)\n",
        "Y_red_torch = TO_TORCH(Y_red)\"\"\""
      ],
      "execution_count": 480,
      "outputs": [
        {
          "output_type": "execute_result",
          "data": {
            "application/vnd.google.colaboratory.intrinsic+json": {
              "type": "string"
            },
            "text/plain": [
              "'scaler_white = preprocessing.StandardScaler().fit(X_white)\\nscaler_red = preprocessing.StandardScaler().fit(X_red)\\nX_white_torch = TO_TORCH(scaler_white.transform(X_white))\\nX_red_torch = TO_TORCH(scaler_red.transform(X_red))\\nY_white_torch = TO_TORCH(Y_white)\\nY_red_torch = TO_TORCH(Y_red)'"
            ]
          },
          "metadata": {
            "tags": []
          },
          "execution_count": 480
        }
      ]
    },
    {
      "cell_type": "code",
      "metadata": {
        "colab": {
          "base_uri": "https://localhost:8080/",
          "height": 674
        },
        "id": "Utqy8dBY5Usb",
        "outputId": "80d4e168-7224-4ddb-c6ce-8f3473eac45a"
      },
      "source": [
        "result_white=TRAIN_NN(X_TRAIN_white,Y_TRAIN_white,X_TEST_white,Y_TEST_white,[9],OPT=\"ADAM\",LR=1e-1/2,BN=False,STEP_SIZE=20000,DECAY=0.5,EPOCH=60000)\n",
        "MODEL_NN_white=result_white[\"MODEL\"]\n",
        "LOSS_white=result_white[\"LOSS_TRAIN\"]\n",
        "LOSS_validation_white=result_white[\"LOSS_VALIDATION\"]\n",
        "ACCURACY_WHITE_TRAIN=result_white[\"ACCURACY_TRAIN\"]\n",
        "ACCURACY_WHITE_VALIDATION=result_white[\"ACCURACY_VALIDATION\"]\n",
        "\n",
        "T_list=[0.25,0.5,1]\n",
        "Result_TEST_white=TEST_NN(MODEL_NN_white,X_TEST_white,Y_TEST_white,T_list)\n",
        "print(\"Test Loss is {};\".format(round(Result_TEST_white[\"L2\"],3)))\n",
        "for i,T in enumerate(T_list): \n",
        "    acc=Result_TEST_white[\"accuracy_list\"][i]\n",
        "    print(\"Test Accuracy is {}% (T={});\".format(round(acc*100,3),T))\n",
        "test_kappa=Result_TEST_white[\"kappa\"]\n",
        "print(\"Test KAPPA is {}% (T=0.5);\".format(round(test_kappa*100,3)))\n",
        "\n",
        "T_list_REC=np.linspace(0,2,100)\n",
        "ACCURACY_list_REC_white=TEST_NN(MODEL_NN_white,X_TEST_white,Y_TEST_white,T_list_REC)[\"accuracy_list\"]\n",
        "plt.plot(T_list_REC,ACCURACY_list_REC_white)\n",
        "plt.xlabel(\"Tolerance\")\n",
        "plt.ylabel(\"Accuracy\")\n",
        "plt.title(\"REC \\n White wine\")"
      ],
      "execution_count": 483,
      "outputs": [
        {
          "output_type": "stream",
          "text": [
            "After 12000 Epochs:\n",
            "Train Loss is 0.776; Train Accuracy is 76.203% (T=1);\n",
            "Test Loss is 0.8162; Test Accuracy is 76.3883% (T=1);\n",
            "After 24000 Epochs:\n",
            "Train Loss is 0.7746; Train Accuracy is 76.6395% (T=1);\n",
            "Test Loss is 0.8128; Test Accuracy is 75.5612% (T=1);\n",
            "After 36000 Epochs:\n",
            "Train Loss is 0.7741; Train Accuracy is 76.6395% (T=1);\n",
            "Test Loss is 0.8107; Test Accuracy is 75.9157% (T=1);\n",
            "After 48000 Epochs:\n",
            "Train Loss is 0.7734; Train Accuracy is 76.5813% (T=1);\n",
            "Test Loss is 0.8105; Test Accuracy is 75.8369% (T=1);\n",
            "After 60000 Epochs:\n",
            "Train Loss is 0.7732; Train Accuracy is 76.1835% (T=1);\n",
            "Test Loss is 0.8142; Test Accuracy is 76.1914% (T=1);\n",
            "Test Loss is 0.814;\n",
            "Test Accuracy is 29.716% (T=0.25);\n",
            "Test Accuracy is 50.079% (T=0.5);\n",
            "Test Accuracy is 76.191% (T=1);\n",
            "Test KAPPA is 41.8% (T=0.5);\n"
          ],
          "name": "stdout"
        },
        {
          "output_type": "execute_result",
          "data": {
            "text/plain": [
              "Text(0.5, 1.0, 'REC \\n White wine')"
            ]
          },
          "metadata": {
            "tags": []
          },
          "execution_count": 483
        },
        {
          "output_type": "display_data",
          "data": {
            "image/png": "[encoded data removed]",
            "text/plain": [
              "<Figure size 432x288 with 1 Axes>"
            ]
          },
          "metadata": {
            "tags": [],
            "needs_background": "light"
          }
        }
      ]
    },
    {
      "cell_type": "code",
      "metadata": {
        "colab": {
          "base_uri": "https://localhost:8080/",
          "height": 417
        },
        "id": "Kjo1rTum5Usd",
        "outputId": "173db25f-f289-4a67-ef2e-37ec12daa8b5"
      },
      "source": [
        "plt.figure(figsize=(10,5))\n",
        "plt.subplot(1,2,1)\n",
        "zoom=np.floor(len(LOSS_white)/900).astype(int)\n",
        "#zoom=0\n",
        "plt.plot(np.arange(len(LOSS_white)-zoom)+zoom, LOSS_white[zoom:],label=\"Train\")\n",
        "plt.plot(np.arange(len(LOSS_validation_white)-zoom)+zoom, LOSS_validation_white[zoom:],label=\"Validation\")\n",
        "\n",
        "#plt.plot((np.arange(len(LOSS_validation_white))+1)*len(LOSS_white)-1, LOSS_validation_white,label=\"Validation\")\n",
        "plt.xlabel(\"Epoch\")\n",
        "plt.ylabel(\"Loss\")\n",
        "plt.legend()\n",
        "plt.title(\"White Wine \\n Final Train Loss = {:.3f} \\n Final Validation Loss = {:.3f}\".format(LOSS_white[-1],LOSS_validation_white[-1]))\n",
        "\n",
        "plt.subplot(1,2,2)\n",
        "zoom=np.floor(len(ACCURACY_WHITE_TRAIN)/9000).astype(int)\n",
        "#zoom=0\n",
        "plt.plot(np.arange(len(ACCURACY_WHITE_TRAIN)-zoom)+zoom, ACCURACY_WHITE_TRAIN[zoom:],label=\"Train\")\n",
        "plt.plot(np.arange(len(ACCURACY_WHITE_VALIDATION)-zoom)+zoom, ACCURACY_WHITE_VALIDATION[zoom:],label=\"Validation\")\n",
        "\n",
        "plt.xlabel(\"Epoch\")\n",
        "plt.ylabel(\"Loss\")\n",
        "plt.legend()\n",
        "plt.title(\"White Wine \\n Final Train Accuracy (T=1) = {:.3f}% \\n Final Validation Accuracy (T=1) = {:.3f}%\".format(100*ACCURACY_WHITE_TRAIN[-1],100*ACCURACY_WHITE_VALIDATION[-1]))\n"
      ],
      "execution_count": 484,
      "outputs": [
        {
          "output_type": "execute_result",
          "data": {
            "text/plain": [
              "Text(0.5, 1.0, 'White Wine \\n Final Train Accuracy (T=1) = 76.184% \\n Final Validation Accuracy (T=1) = 76.191%')"
            ]
          },
          "metadata": {
            "tags": []
          },
          "execution_count": 484
        },
        {
          "output_type": "display_data",
          "data": {
            "image/png": "[encoded data removed]",
            "text/plain": [
              "<Figure size 720x360 with 2 Axes>"
            ]
          },
          "metadata": {
            "tags": [],
            "needs_background": "light"
          }
        }
      ]
    },
    {
      "cell_type": "code",
      "metadata": {
        "colab": {
          "base_uri": "https://localhost:8080/",
          "height": 674
        },
        "id": "iktmU0U15Use",
        "outputId": "65f01f47-6846-4bef-aa28-cc0cc5182258"
      },
      "source": [
        "result_red=TRAIN_NN(X_TRAIN_red,Y_TRAIN_red,X_TEST_red,Y_TEST_red,[9],LR=1e-1/2,OPT=\"SGD\",DROP_PR=0.0,BN=False,STEP_SIZE=30000,DECAY=0.5,EPOCH=100000,seed=233)\n",
        "MODEL_NN_red=result_red[\"MODEL\"]\n",
        "LOSS_red=result_red[\"LOSS_TRAIN\"]\n",
        "LOSS_validation_red=result_red[\"LOSS_VALIDATION\"]\n",
        "ACCURACY_RED_TRAIN=result_red[\"ACCURACY_TRAIN\"]\n",
        "ACCURACY_RED_VALIDATION=result_red[\"ACCURACY_VALIDATION\"]\n",
        "\n",
        "T_list=[0.25,0.5,1]\n",
        "Result_TEST_red=TEST_NN(MODEL_NN_red,X_TEST_red,Y_TEST_red,T_list)\n",
        "print(\"Test Loss is {};\".format(round(Result_TEST_red[\"L2\"],3)))\n",
        "for i,T in enumerate(T_list): \n",
        "    acc=Result_TEST_red[\"accuracy_list\"][i]\n",
        "    print(\"Test Accuracy is {}% (T={});\".format(round(acc*100,3),T))\n",
        "test_kappa=Result_TEST_red[\"kappa\"]\n",
        "print(\"Test KAPPA is {}% (T=0.5);\".format(round(test_kappa*100,3)))\n",
        "\n",
        "\n",
        "T_list_REC=np.linspace(0,2,100)\n",
        "ACCURACY_list_REC_red=TEST_NN(MODEL_NN_red,X_TEST_red,Y_TEST_red,T_list_REC)[\"accuracy_list\"]\n",
        "plt.plot(T_list_REC,ACCURACY_list_REC_red)\n",
        "plt.xlabel(\"Tolerance\")\n",
        "plt.ylabel(\"Accuracy\")\n",
        "plt.title(\"REC \\n Red wine\")"
      ],
      "execution_count": 472,
      "outputs": [
        {
          "output_type": "stream",
          "text": [
            "After 20000 Epochs:\n",
            "Train Loss is 0.367; Train Accuracy is 90.4275% (T=1);\n",
            "Test Loss is 0.4816; Test Accuracy is 86.1379% (T=1);\n",
            "After 40000 Epochs:\n",
            "Train Loss is 0.3669; Train Accuracy is 90.4275% (T=1);\n",
            "Test Loss is 0.4809; Test Accuracy is 86.0638% (T=1);\n",
            "After 60000 Epochs:\n",
            "Train Loss is 0.3669; Train Accuracy is 90.4275% (T=1);\n",
            "Test Loss is 0.4809; Test Accuracy is 86.0638% (T=1);\n",
            "After 80000 Epochs:\n",
            "Train Loss is 0.3669; Train Accuracy is 90.4275% (T=1);\n",
            "Test Loss is 0.4809; Test Accuracy is 86.0638% (T=1);\n",
            "After 100000 Epochs:\n",
            "Train Loss is 0.3669; Train Accuracy is 90.4275% (T=1);\n",
            "Test Loss is 0.4809; Test Accuracy is 86.0638% (T=1);\n",
            "Test Loss is 0.481;\n",
            "Test Accuracy is 34.248% (T=0.25);\n",
            "Test Accuracy is 61.231% (T=0.5);\n",
            "Test Accuracy is 86.064% (T=1);\n",
            "Test KAPPA is 53.464% (T=0.5);\n"
          ],
          "name": "stdout"
        },
        {
          "output_type": "execute_result",
          "data": {
            "text/plain": [
              "Text(0.5, 1.0, 'REC \\n Red wine')"
            ]
          },
          "metadata": {
            "tags": []
          },
          "execution_count": 472
        },
        {
          "output_type": "display_data",
          "data": {
            "image/png": "[encoded data removed]",
            "text/plain": [
              "<Figure size 432x288 with 1 Axes>"
            ]
          },
          "metadata": {
            "tags": [],
            "needs_background": "light"
          }
        }
      ]
    },
    {
      "cell_type": "code",
      "metadata": {
        "colab": {
          "base_uri": "https://localhost:8080/",
          "height": 397
        },
        "id": "_fUOncfJ5Usf",
        "outputId": "9e73288e-85c0-4191-9355-86b18ff8d268"
      },
      "source": [
        "plt.figure(figsize=(10,5))\n",
        "plt.subplot(1,2,1)\n",
        "zoom=np.floor(len(LOSS_red)/3000).astype(int)\n",
        "#zoom=0\n",
        "plt.plot(np.arange(len(LOSS_red)-zoom)+zoom, LOSS_red[zoom:],label=\"Train\")\n",
        "plt.plot(np.arange(len(LOSS_validation_red)-zoom)+zoom, LOSS_validation_red[zoom:],label=\"Validation\")\n",
        "\n",
        "plt.xlabel(\"Epoch\")\n",
        "plt.ylabel(\"Loss\")\n",
        "plt.legend()\n",
        "plt.title(\"Red Wine \\n Final Train Loss = {:.3f} \\n Final Validation Loss = {:.3f}\".format(LOSS_red[-1],LOSS_validation_red[-1]))\n",
        "\n",
        "plt.subplot(1,2,2)\n",
        "zoom=np.floor(len(ACCURACY_RED_TRAIN)/3000).astype(int)\n",
        "#zoom=0\n",
        "plt.plot(np.arange(len(ACCURACY_RED_TRAIN)-zoom)+zoom, ACCURACY_RED_TRAIN[zoom:],label=\"Train\")\n",
        "plt.plot(np.arange(len(ACCURACY_RED_VALIDATION)-zoom)+zoom, ACCURACY_RED_VALIDATION[zoom:],label=\"Validation\")\n",
        "\n",
        "plt.xlabel(\"Epoch\")\n",
        "plt.ylabel(\"Loss\")\n",
        "plt.legend()\n",
        "plt.title(\"Red Wine \\n Final Train Accuracy (T=1) = {:.3f}% \\n Final Validation Accuracy (T=1) = {:.3f}%\".format(100*ACCURACY_RED_TRAIN[-1],100*ACCURACY_RED_VALIDATION[-1]))\n"
      ],
      "execution_count": 473,
      "outputs": [
        {
          "output_type": "execute_result",
          "data": {
            "text/plain": [
              "Text(0.5, 1.0, 'Red Wine \\n Final Train Accuracy (T=1) = 90.427% \\n Final Validation Accuracy (T=1) = 86.064%')"
            ]
          },
          "metadata": {
            "tags": []
          },
          "execution_count": 473
        },
        {
          "output_type": "display_data",
          "data": {
            "image/png": "[encoded data removed]",
            "text/plain": [
              "<Figure size 720x360 with 2 Axes>"
            ]
          },
          "metadata": {
            "tags": [],
            "needs_background": "light"
          }
        }
      ]
    },
    {
      "cell_type": "code",
      "metadata": {
        "colab": {
          "base_uri": "https://localhost:8080/",
          "height": 250
        },
        "id": "pBHlgxVqXLZq",
        "outputId": "052c9034-2253-4a6b-b0db-78469e55fdbc"
      },
      "source": [
        "red_pred=np.round(MODEL_NN_red(X_red_torch).cpu().detach().numpy())[:,0]\n",
        "red_pred=np.where(red_pred >=8.0, 8, red_pred)\n",
        "red_pred=np.where(red_pred <=3.0, 3, red_pred)  \n",
        "red_confusion=confusion_matrix(Y_red_torch.cpu().detach().numpy(), red_pred)\n",
        "red_confusion=pd.DataFrame(red_confusion,index=red_class,columns=red_class)\n",
        "print(\"Confusion Matrix for Red Wine (T=0.5)\")\n",
        "\n",
        "red_confusion "
      ],
      "execution_count": 485,
      "outputs": [
        {
          "output_type": "stream",
          "text": [
            "Confusion Matrix for Red Wine (T=0.5)\n"
          ],
          "name": "stdout"
        },
        {
          "output_type": "execute_result",
          "data": {
            "text/html": [
              "<div>\n",
              "<style scoped>\n",
              "    .dataframe tbody tr th:only-of-type {\n",
              "        vertical-align: middle;\n",
              "    }\n",
              "\n",
              "    .dataframe tbody tr th {\n",
              "        vertical-align: top;\n",
              "    }\n",
              "\n",
              "    .dataframe thead th {\n",
              "        text-align: right;\n",
              "    }\n",
              "</style>\n",
              "<table border=\"1\" class=\"dataframe\">\n",
              "  <thead>\n",
              "    <tr style=\"text-align: right;\">\n",
              "      <th></th>\n",
              "      <th>3</th>\n",
              "      <th>4</th>\n",
              "      <th>5</th>\n",
              "      <th>6</th>\n",
              "      <th>7</th>\n",
              "      <th>8</th>\n",
              "    </tr>\n",
              "  </thead>\n",
              "  <tbody>\n",
              "    <tr>\n",
              "      <th>3</th>\n",
              "      <td>7</td>\n",
              "      <td>2</td>\n",
              "      <td>1</td>\n",
              "      <td>0</td>\n",
              "      <td>0</td>\n",
              "      <td>0</td>\n",
              "    </tr>\n",
              "    <tr>\n",
              "      <th>4</th>\n",
              "      <td>9</td>\n",
              "      <td>26</td>\n",
              "      <td>16</td>\n",
              "      <td>2</td>\n",
              "      <td>0</td>\n",
              "      <td>0</td>\n",
              "    </tr>\n",
              "    <tr>\n",
              "      <th>5</th>\n",
              "      <td>43</td>\n",
              "      <td>154</td>\n",
              "      <td>302</td>\n",
              "      <td>145</td>\n",
              "      <td>33</td>\n",
              "      <td>4</td>\n",
              "    </tr>\n",
              "    <tr>\n",
              "      <th>6</th>\n",
              "      <td>5</td>\n",
              "      <td>69</td>\n",
              "      <td>172</td>\n",
              "      <td>186</td>\n",
              "      <td>167</td>\n",
              "      <td>39</td>\n",
              "    </tr>\n",
              "    <tr>\n",
              "      <th>7</th>\n",
              "      <td>0</td>\n",
              "      <td>3</td>\n",
              "      <td>14</td>\n",
              "      <td>35</td>\n",
              "      <td>107</td>\n",
              "      <td>40</td>\n",
              "    </tr>\n",
              "    <tr>\n",
              "      <th>8</th>\n",
              "      <td>0</td>\n",
              "      <td>0</td>\n",
              "      <td>0</td>\n",
              "      <td>0</td>\n",
              "      <td>2</td>\n",
              "      <td>16</td>\n",
              "    </tr>\n",
              "  </tbody>\n",
              "</table>\n",
              "</div>"
            ],
            "text/plain": [
              "    3    4    5    6    7   8\n",
              "3   7    2    1    0    0   0\n",
              "4   9   26   16    2    0   0\n",
              "5  43  154  302  145   33   4\n",
              "6   5   69  172  186  167  39\n",
              "7   0    3   14   35  107  40\n",
              "8   0    0    0    0    2  16"
            ]
          },
          "metadata": {
            "tags": []
          },
          "execution_count": 485
        }
      ]
    },
    {
      "cell_type": "code",
      "metadata": {
        "colab": {
          "base_uri": "https://localhost:8080/",
          "height": 281
        },
        "id": "IKJO3lFCXOpB",
        "outputId": "4384d6b0-7c9c-45af-cbdd-1f49c93a5da1"
      },
      "source": [
        "white_pred=np.round(MODEL_NN_white(X_white_torch).cpu().detach().numpy())[:,0]\n",
        "white_pred=np.where(white_pred >=8.0, 8, white_pred)\n",
        "white_pred=np.where(white_pred <=3.0, 3, white_pred)\n",
        "white_confusion=confusion_matrix(Y_white_torch.cpu().detach().numpy(), white_pred)\n",
        "white_confusion=pd.DataFrame(white_confusion,index=white_class,columns=white_class) \n",
        "print(\"Confusion Matrix for White Wine (T=0.5)\")\n",
        "\n",
        "white_confusion "
      ],
      "execution_count": 486,
      "outputs": [
        {
          "output_type": "stream",
          "text": [
            "Confusion Matrix for White Wine (T=0.5)\n"
          ],
          "name": "stdout"
        },
        {
          "output_type": "execute_result",
          "data": {
            "text/html": [
              "<div>\n",
              "<style scoped>\n",
              "    .dataframe tbody tr th:only-of-type {\n",
              "        vertical-align: middle;\n",
              "    }\n",
              "\n",
              "    .dataframe tbody tr th {\n",
              "        vertical-align: top;\n",
              "    }\n",
              "\n",
              "    .dataframe thead th {\n",
              "        text-align: right;\n",
              "    }\n",
              "</style>\n",
              "<table border=\"1\" class=\"dataframe\">\n",
              "  <thead>\n",
              "    <tr style=\"text-align: right;\">\n",
              "      <th></th>\n",
              "      <th>3</th>\n",
              "      <th>4</th>\n",
              "      <th>5</th>\n",
              "      <th>6</th>\n",
              "      <th>7</th>\n",
              "      <th>8</th>\n",
              "      <th>9</th>\n",
              "    </tr>\n",
              "  </thead>\n",
              "  <tbody>\n",
              "    <tr>\n",
              "      <th>3</th>\n",
              "      <td>16</td>\n",
              "      <td>0</td>\n",
              "      <td>3</td>\n",
              "      <td>1</td>\n",
              "      <td>0</td>\n",
              "      <td>0</td>\n",
              "      <td>0</td>\n",
              "    </tr>\n",
              "    <tr>\n",
              "      <th>4</th>\n",
              "      <td>61</td>\n",
              "      <td>35</td>\n",
              "      <td>47</td>\n",
              "      <td>9</td>\n",
              "      <td>11</td>\n",
              "      <td>0</td>\n",
              "      <td>0</td>\n",
              "    </tr>\n",
              "    <tr>\n",
              "      <th>5</th>\n",
              "      <td>143</td>\n",
              "      <td>263</td>\n",
              "      <td>651</td>\n",
              "      <td>289</td>\n",
              "      <td>88</td>\n",
              "      <td>23</td>\n",
              "      <td>0</td>\n",
              "    </tr>\n",
              "    <tr>\n",
              "      <th>6</th>\n",
              "      <td>83</td>\n",
              "      <td>186</td>\n",
              "      <td>618</td>\n",
              "      <td>625</td>\n",
              "      <td>483</td>\n",
              "      <td>203</td>\n",
              "      <td>0</td>\n",
              "    </tr>\n",
              "    <tr>\n",
              "      <th>7</th>\n",
              "      <td>24</td>\n",
              "      <td>30</td>\n",
              "      <td>91</td>\n",
              "      <td>207</td>\n",
              "      <td>300</td>\n",
              "      <td>228</td>\n",
              "      <td>0</td>\n",
              "    </tr>\n",
              "    <tr>\n",
              "      <th>8</th>\n",
              "      <td>5</td>\n",
              "      <td>3</td>\n",
              "      <td>9</td>\n",
              "      <td>21</td>\n",
              "      <td>68</td>\n",
              "      <td>69</td>\n",
              "      <td>0</td>\n",
              "    </tr>\n",
              "    <tr>\n",
              "      <th>9</th>\n",
              "      <td>0</td>\n",
              "      <td>0</td>\n",
              "      <td>0</td>\n",
              "      <td>0</td>\n",
              "      <td>0</td>\n",
              "      <td>5</td>\n",
              "      <td>0</td>\n",
              "    </tr>\n",
              "  </tbody>\n",
              "</table>\n",
              "</div>"
            ],
            "text/plain": [
              "     3    4    5    6    7    8  9\n",
              "3   16    0    3    1    0    0  0\n",
              "4   61   35   47    9   11    0  0\n",
              "5  143  263  651  289   88   23  0\n",
              "6   83  186  618  625  483  203  0\n",
              "7   24   30   91  207  300  228  0\n",
              "8    5    3    9   21   68   69  0\n",
              "9    0    0    0    0    0    5  0"
            ]
          },
          "metadata": {
            "tags": []
          },
          "execution_count": 486
        }
      ]
    },
    {
      "cell_type": "code",
      "metadata": {
        "colab": {
          "base_uri": "https://localhost:8080/",
          "height": 298
        },
        "id": "VM6lKYlwXSgl",
        "outputId": "c0d34092-870d-41f5-bb4d-5a7fe0fd8e60"
      },
      "source": [
        "red_precision=pd.DataFrame(index=red_class,columns=[\"T=0.5 (%)\",\"T=1.0 (%)\"])\n",
        "for i,c in enumerate(red_class):\n",
        "    label=Y_red_torch[Y_red_torch==red_class[i]]\n",
        "    predictor=X_red_torch[(Y_red_torch==red_class[i])[:,0],:]\n",
        "    pre1=100*TEST_NN(MODEL_NN_red,predictor,label,T_list=[0.5])[\"accuracy_list\"][0]\n",
        "    pre2=100*TEST_NN(MODEL_NN_red,predictor,label,T_list=[1.0])[\"accuracy_list\"][0]\n",
        "    red_precision.at[c, \"T=0.5 (%)\"] = pre1\n",
        "    red_precision.at[c, \"T=1.0 (%)\"] = pre2\n",
        "\n",
        "overall=pd.DataFrame(index=[\"Overall\"],columns=[\"T=0.5 (%)\",\"T=1.0 (%)\"])\n",
        "pre1=100*TEST_NN(MODEL_NN_red,X_red_torch,Y_red_torch[:,0],T_list=[0.5])[\"accuracy_list\"][0]\n",
        "pre2=100*TEST_NN(MODEL_NN_red,X_red_torch,Y_red_torch[:,0],T_list=[1.0])[\"accuracy_list\"][0]\n",
        "overall.at[\"Overall\", \"T=0.5 (%)\"] = pre1\n",
        "overall.at[\"Overall\", \"T=1.0 (%)\"] = pre2\n",
        "print(\"Precision for different classes \\n (Red Wine)\")\n",
        "\n",
        "red_precision.append(overall)"
      ],
      "execution_count": 487,
      "outputs": [
        {
          "output_type": "stream",
          "text": [
            "Precision for different classes \n",
            " (Red Wine)\n"
          ],
          "name": "stdout"
        },
        {
          "output_type": "execute_result",
          "data": {
            "text/html": [
              "<div>\n",
              "<style scoped>\n",
              "    .dataframe tbody tr th:only-of-type {\n",
              "        vertical-align: middle;\n",
              "    }\n",
              "\n",
              "    .dataframe tbody tr th {\n",
              "        vertical-align: top;\n",
              "    }\n",
              "\n",
              "    .dataframe thead th {\n",
              "        text-align: right;\n",
              "    }\n",
              "</style>\n",
              "<table border=\"1\" class=\"dataframe\">\n",
              "  <thead>\n",
              "    <tr style=\"text-align: right;\">\n",
              "      <th></th>\n",
              "      <th>T=0.5 (%)</th>\n",
              "      <th>T=1.0 (%)</th>\n",
              "    </tr>\n",
              "  </thead>\n",
              "  <tbody>\n",
              "    <tr>\n",
              "      <th>3</th>\n",
              "      <td>70</td>\n",
              "      <td>80</td>\n",
              "    </tr>\n",
              "    <tr>\n",
              "      <th>4</th>\n",
              "      <td>49.0566</td>\n",
              "      <td>83.0189</td>\n",
              "    </tr>\n",
              "    <tr>\n",
              "      <th>5</th>\n",
              "      <td>44.3465</td>\n",
              "      <td>74.3025</td>\n",
              "    </tr>\n",
              "    <tr>\n",
              "      <th>6</th>\n",
              "      <td>29.1536</td>\n",
              "      <td>60.5016</td>\n",
              "    </tr>\n",
              "    <tr>\n",
              "      <th>7</th>\n",
              "      <td>53.7688</td>\n",
              "      <td>81.9095</td>\n",
              "    </tr>\n",
              "    <tr>\n",
              "      <th>8</th>\n",
              "      <td>83.3333</td>\n",
              "      <td>100</td>\n",
              "    </tr>\n",
              "    <tr>\n",
              "      <th>Overall</th>\n",
              "      <td>40.2126</td>\n",
              "      <td>70.3565</td>\n",
              "    </tr>\n",
              "  </tbody>\n",
              "</table>\n",
              "</div>"
            ],
            "text/plain": [
              "        T=0.5 (%) T=1.0 (%)\n",
              "3              70        80\n",
              "4         49.0566   83.0189\n",
              "5         44.3465   74.3025\n",
              "6         29.1536   60.5016\n",
              "7         53.7688   81.9095\n",
              "8         83.3333       100\n",
              "Overall   40.2126   70.3565"
            ]
          },
          "metadata": {
            "tags": []
          },
          "execution_count": 487
        }
      ]
    },
    {
      "cell_type": "code",
      "metadata": {
        "colab": {
          "base_uri": "https://localhost:8080/",
          "height": 329
        },
        "id": "SZ4kzUQdXWTJ",
        "outputId": "7681dd0d-e245-4a9d-8303-77d70c570c90"
      },
      "source": [
        "white_precision=pd.DataFrame(index=white_class,columns=[\"T=0.5 (%)\",\"T=1.0 (%)\"])\n",
        "for i,c in enumerate(white_class):\n",
        "    label=Y_white_torch[Y_white_torch==white_class[i]]\n",
        "    predictor=X_white_torch[(Y_white_torch==white_class[i])[:,0],:]\n",
        "    pre1=100*TEST_NN(MODEL_NN_white,predictor,label,T_list=[0.5])[\"accuracy_list\"][0]\n",
        "    pre2=100*TEST_NN(MODEL_NN_white,predictor,label,T_list=[1.0])[\"accuracy_list\"][0]\n",
        "    white_precision.at[c, \"T=0.5 (%)\"] = pre1\n",
        "    white_precision.at[c, \"T=1.0 (%)\"] = pre2\n",
        "\n",
        "overall=pd.DataFrame(index=[\"Overall\"],columns=[\"T=0.5 (%)\",\"T=1.0 (%)\"])\n",
        "pre1=100*TEST_NN(MODEL_NN_white,X_white_torch,Y_white_torch[:,0],T_list=[0.5])[\"accuracy_list\"][0]\n",
        "pre2=100*TEST_NN(MODEL_NN_white,X_white_torch,Y_white_torch[:,0],T_list=[1.0])[\"accuracy_list\"][0]\n",
        "overall.at[\"Overall\", \"T=0.5 (%)\"] = pre1\n",
        "overall.at[\"Overall\", \"T=1.0 (%)\"] = pre2\n",
        "print(\"Precision for different classes \\n (White Wine)\")\n",
        "\n",
        "white_precision.append(overall)"
      ],
      "execution_count": 488,
      "outputs": [
        {
          "output_type": "stream",
          "text": [
            "Precision for different classes \n",
            " (White Wine)\n"
          ],
          "name": "stdout"
        },
        {
          "output_type": "execute_result",
          "data": {
            "text/html": [
              "<div>\n",
              "<style scoped>\n",
              "    .dataframe tbody tr th:only-of-type {\n",
              "        vertical-align: middle;\n",
              "    }\n",
              "\n",
              "    .dataframe tbody tr th {\n",
              "        vertical-align: top;\n",
              "    }\n",
              "\n",
              "    .dataframe thead th {\n",
              "        text-align: right;\n",
              "    }\n",
              "</style>\n",
              "<table border=\"1\" class=\"dataframe\">\n",
              "  <thead>\n",
              "    <tr style=\"text-align: right;\">\n",
              "      <th></th>\n",
              "      <th>T=0.5 (%)</th>\n",
              "      <th>T=1.0 (%)</th>\n",
              "    </tr>\n",
              "  </thead>\n",
              "  <tbody>\n",
              "    <tr>\n",
              "      <th>3</th>\n",
              "      <td>40</td>\n",
              "      <td>55</td>\n",
              "    </tr>\n",
              "    <tr>\n",
              "      <th>4</th>\n",
              "      <td>21.4724</td>\n",
              "      <td>44.7853</td>\n",
              "    </tr>\n",
              "    <tr>\n",
              "      <th>5</th>\n",
              "      <td>44.6808</td>\n",
              "      <td>68.5655</td>\n",
              "    </tr>\n",
              "    <tr>\n",
              "      <th>6</th>\n",
              "      <td>28.4349</td>\n",
              "      <td>56.9609</td>\n",
              "    </tr>\n",
              "    <tr>\n",
              "      <th>7</th>\n",
              "      <td>34.0909</td>\n",
              "      <td>61.4773</td>\n",
              "    </tr>\n",
              "    <tr>\n",
              "      <th>8</th>\n",
              "      <td>29.1429</td>\n",
              "      <td>56</td>\n",
              "    </tr>\n",
              "    <tr>\n",
              "      <th>9</th>\n",
              "      <td>60</td>\n",
              "      <td>80</td>\n",
              "    </tr>\n",
              "    <tr>\n",
              "      <th>Overall</th>\n",
              "      <td>34.1568</td>\n",
              "      <td>60.8003</td>\n",
              "    </tr>\n",
              "  </tbody>\n",
              "</table>\n",
              "</div>"
            ],
            "text/plain": [
              "        T=0.5 (%) T=1.0 (%)\n",
              "3              40        55\n",
              "4         21.4724   44.7853\n",
              "5         44.6808   68.5655\n",
              "6         28.4349   56.9609\n",
              "7         34.0909   61.4773\n",
              "8         29.1429        56\n",
              "9              60        80\n",
              "Overall   34.1568   60.8003"
            ]
          },
          "metadata": {
            "tags": []
          },
          "execution_count": 488
        }
      ]
    },
    {
      "cell_type": "markdown",
      "metadata": {
        "id": "upnLJnef9f0X"
      },
      "source": [
        "# To Be Continuted Conclusion"
      ]
    },
    {
      "cell_type": "markdown",
      "metadata": {
        "id": "T2C0M0pLYT5Z"
      },
      "source": [
        "The Neural Network architecture is sick"
      ]
    },
    {
      "cell_type": "code",
      "metadata": {
        "id": "u1r6M6OrYTQe"
      },
      "source": [
        ""
      ],
      "execution_count": null,
      "outputs": []
    }
  ]
}