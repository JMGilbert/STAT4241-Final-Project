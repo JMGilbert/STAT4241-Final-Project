{
  "nbformat": 4,
  "nbformat_minor": 0,
  "metadata": {
    "colab": {
      "name": "5241NN.ipynb",
      "provenance": [],
      "collapsed_sections": [],
      "toc_visible": true,
      "include_colab_link": true
    },
    "kernelspec": {
      "name": "python3",
      "display_name": "Python 3"
    },
    "accelerator": "GPU"
  },
  "cells": [
    {
      "cell_type": "markdown",
      "metadata": {
        "id": "view-in-github",
        "colab_type": "text"
      },
      "source": [
        "<a href=\"https://colab.research.google.com/github/JMGilbert/STAT4241-Final-Project/blob/main/5241NN.ipynb\" target=\"_parent\"><img src=\"https://colab.research.google.com/assets/colab-badge.svg\" alt=\"Open In Colab\"/></a>"
      ]
    },
    {
      "cell_type": "markdown",
      "metadata": {
        "id": "XMVY7QN5COT5"
      },
      "source": [
        "Don't forget to enable GPU:    \n",
        "Edit > Notebook settings or Runtime>Change runtime type    \n",
        "and select GPU as Hardware accelerator."
      ]
    },
    {
      "cell_type": "code",
      "metadata": {
        "colab": {
          "base_uri": "https://localhost:8080/"
        },
        "id": "vvoPbwNBCMa4",
        "outputId": "167e30ed-09dc-46cf-9264-cfdcbd24054c"
      },
      "source": [
        "import torch\n",
        "import torch.optim as optim\n",
        "import torch.nn as nn\n",
        "import torch.nn.functional as F\n",
        "import numpy as np\n",
        "import pandas as pd\n",
        "import seaborn as sns\n",
        "import matplotlib.pylab as plt\n",
        "from sklearn import preprocessing\n",
        "from sklearn.model_selection import train_test_split\n",
        "from tqdm import tqdm as tq\n",
        "from sklearn.metrics import cohen_kappa_score\n",
        "from sklearn.metrics import confusion_matrix\n",
        "\n",
        "\n",
        "train_on_gpu = torch.cuda.is_available()\n",
        "\n",
        "if not train_on_gpu:\n",
        "    print('CUDA is not available.  Training on CPU ...')\n",
        "else:\n",
        "    print('CUDA is available!  Training on GPU ...')"
      ],
      "execution_count": 1,
      "outputs": [
        {
          "output_type": "stream",
          "text": [
            "CUDA is available!  Training on GPU ...\n"
          ],
          "name": "stdout"
        }
      ]
    },
    {
      "cell_type": "markdown",
      "metadata": {
        "id": "knahGSpgSdT6"
      },
      "source": [
        "# Import Data"
      ]
    },
    {
      "cell_type": "code",
      "metadata": {
        "id": "ngnGhT8EDhVc"
      },
      "source": [
        "#url of the dataset from our GitHub repository\n",
        "url_red=\"https://raw.githubusercontent.com/JMGilbert/STAT4241-Final-Project/main/winequality-red.csv\"\n",
        "url_white=\"https://raw.githubusercontent.com/JMGilbert/STAT4241-Final-Project/main/winequality-white.csv\"\n",
        "red=pd.read_csv(url_red,sep=';')\n",
        "white=pd.read_csv(url_white,sep=';')"
      ],
      "execution_count": 2,
      "outputs": []
    },
    {
      "cell_type": "code",
      "metadata": {
        "colab": {
          "base_uri": "https://localhost:8080/",
          "height": 299
        },
        "id": "Q87zDm50H9cy",
        "outputId": "e17573e0-5043-45a7-b601-1bb5470f534c"
      },
      "source": [
        "plt.subplot(1,2,1).set_title(\"Red wine\")\n",
        "plt.bar(list(set(red[\"quality\"])),red[\"quality\"].value_counts(sort=False).sort_index())\n",
        "plt.subplot(1,2,2).set_title(\"White wine\")\n",
        "plt.bar(list(set(white[\"quality\"])),white[\"quality\"].value_counts(sort=False).sort_index())"
      ],
      "execution_count": 3,
      "outputs": [
        {
          "output_type": "execute_result",
          "data": {
            "text/plain": [
              "<BarContainer object of 7 artists>"
            ]
          },
          "metadata": {
            "tags": []
          },
          "execution_count": 3
        },
        {
          "output_type": "display_data",
          "data": {
            "image/png": "[encoded data removed]",
            "text/plain": [
              "<Figure size 432x288 with 2 Axes>"
            ]
          },
          "metadata": {
            "tags": [],
            "needs_background": "light"
          }
        }
      ]
    },
    {
      "cell_type": "code",
      "metadata": {
        "colab": {
          "base_uri": "https://localhost:8080/"
        },
        "id": "wr-vW4dcJmCm",
        "outputId": "f999ed79-83e3-4535-b0ae-02d4a133a4fb"
      },
      "source": [
        "print(white.isnull().values.any())\n",
        "print(red.isnull().values.any())"
      ],
      "execution_count": 4,
      "outputs": [
        {
          "output_type": "stream",
          "text": [
            "False\n",
            "False\n"
          ],
          "name": "stdout"
        }
      ]
    },
    {
      "cell_type": "code",
      "metadata": {
        "id": "P_3aw7ycSB2s"
      },
      "source": [
        "X_white=white.loc[:, white.columns != 'quality']\n",
        "Y_white=white.loc[:, white.columns == 'quality']\n",
        "X_red=red.loc[:, red.columns != 'quality']\n",
        "Y_red=red.loc[:, red.columns == 'quality']"
      ],
      "execution_count": 5,
      "outputs": []
    },
    {
      "cell_type": "code",
      "metadata": {
        "id": "hXdQnBYmXEUg"
      },
      "source": [
        "def TO_TORCH(m):\n",
        "    #convert an array/DF into a tensor with gpu on if necessary\n",
        "    if isinstance(m, np.ndarray):\n",
        "        m=torch.from_numpy(m).float()\n",
        "    elif isinstance(m, pd.DataFrame):\n",
        "        m=torch.from_numpy(m.values).float()\n",
        "    elif isinstance(m, pd.Series):\n",
        "        m=torch.from_numpy(m.values).float()\n",
        "\n",
        "    if train_on_gpu:\n",
        "        m = m.to(device=\"cuda\")\n",
        "    return(m)"
      ],
      "execution_count": 6,
      "outputs": []
    },
    {
      "cell_type": "code",
      "metadata": {
        "id": "Kgj5ipeRY9vz"
      },
      "source": [
        "red_class=pd.unique(red['quality'])\n",
        "white_class=pd.unique(white['quality'])\n",
        "red_class.sort()\n",
        "white_class.sort()"
      ],
      "execution_count": 7,
      "outputs": []
    },
    {
      "cell_type": "code",
      "metadata": {
        "colab": {
          "base_uri": "https://localhost:8080/"
        },
        "id": "j_hO_QvJMgg9",
        "outputId": "6e0320a5-ce85-4e02-d2a2-1ba202afd97e"
      },
      "source": [
        "predictors_name=list(red.columns)[:-1]\n",
        "predictors_name"
      ],
      "execution_count": 8,
      "outputs": [
        {
          "output_type": "execute_result",
          "data": {
            "text/plain": [
              "['fixed acidity',\n",
              " 'volatile acidity',\n",
              " 'citric acid',\n",
              " 'residual sugar',\n",
              " 'chlorides',\n",
              " 'free sulfur dioxide',\n",
              " 'total sulfur dioxide',\n",
              " 'density',\n",
              " 'pH',\n",
              " 'sulphates',\n",
              " 'alcohol']"
            ]
          },
          "metadata": {
            "tags": []
          },
          "execution_count": 8
        }
      ]
    },
    {
      "cell_type": "markdown",
      "metadata": {
        "id": "tq8kD1zeSoQT"
      },
      "source": [
        "# $\\frac{2}{3}$/$\\frac{1}{3}$ Holdout Split and Standardization"
      ]
    },
    {
      "cell_type": "code",
      "metadata": {
        "id": "4TY42rlUU0bD"
      },
      "source": [
        "X_TRAIN_white, X_TEST_white, Y_TRAIN_white, Y_TEST_white = train_test_split(X_white, Y_white['quality'], test_size=0.33, random_state=42)\n",
        "X_TRAIN_red, X_TEST_red, Y_TRAIN_red, Y_TEST_red = train_test_split(X_red, Y_red['quality'], test_size=0.33, random_state=42)\n",
        "\n",
        "TRAIN_scaler_white = preprocessing.StandardScaler().fit(X_TRAIN_white)\n",
        "TEST_scaler_white = preprocessing.StandardScaler().fit(X_TEST_white)\n",
        "X_TRAIN_white = TO_TORCH(TRAIN_scaler_white.transform(X_TRAIN_white))\n",
        "X_TEST_white = TO_TORCH(TEST_scaler_white.transform(X_TEST_white))\n",
        "\n",
        "TRAIN_scaler_red = preprocessing.StandardScaler().fit(X_TRAIN_red)\n",
        "TEST_scaler_red = preprocessing.StandardScaler().fit(X_TEST_red)\n",
        "X_TRAIN_red = TO_TORCH(TRAIN_scaler_red.transform(X_TRAIN_red))\n",
        "X_TEST_red = TO_TORCH(TEST_scaler_red.transform(X_TEST_red))\n",
        "\n",
        "Y_TRAIN_white = TO_TORCH(Y_TRAIN_white)\n",
        "Y_TEST_white = TO_TORCH(Y_TEST_white)\n",
        "\n",
        "Y_TRAIN_red = TO_TORCH(Y_TRAIN_red)\n",
        "Y_TEST_red = TO_TORCH(Y_TEST_red)\n",
        "\n",
        "scaler_white = preprocessing.StandardScaler().fit(X_white)\n",
        "scaler_red = preprocessing.StandardScaler().fit(X_red)\n",
        "X_white_torch = TO_TORCH(scaler_white.transform(X_white))\n",
        "X_red_torch = TO_TORCH(scaler_red.transform(X_red))\n",
        "Y_white_torch = TO_TORCH(Y_white)\n",
        "Y_red_torch = TO_TORCH(Y_red)"
      ],
      "execution_count": 9,
      "outputs": []
    },
    {
      "cell_type": "markdown",
      "metadata": {
        "id": "KeBq4wPeVFoZ"
      },
      "source": [
        "# Nerual Networks"
      ]
    },
    {
      "cell_type": "markdown",
      "metadata": {
        "id": "X1UebZ-Zfkcr"
      },
      "source": [
        "## Architecture"
      ]
    },
    {
      "cell_type": "markdown",
      "metadata": {
        "id": "rBFvaqhXOspI"
      },
      "source": [
        "? why using one dimensional output "
      ]
    },
    {
      "cell_type": "code",
      "metadata": {
        "id": "7xhFUWnXVIFZ"
      },
      "source": [
        "# Neural Network structure\n",
        "class Net(nn.Module):\n",
        "    def __init__(self,INPUT_DIM,OUTPUT_DIM,HIDDEN_DIM,DROP_PR=0.0,BN=False):\n",
        "        super(Net, self).__init__()\n",
        "        self.input_dim = INPUT_DIM\n",
        "        self.output_dim = OUTPUT_DIM\n",
        "        self.hidden_dim = HIDDEN_DIM\n",
        "        self.DROP_PR = DROP_PR\n",
        "        current_dim = self.input_dim\n",
        "        self.layers = nn.ModuleList()\n",
        "        self.BN=BN\n",
        "        self.bn = nn.ModuleList()\n",
        "        for hdim in self.hidden_dim:\n",
        "            self.layers.append(nn.Linear(current_dim, hdim))\n",
        "            self.bn.append(nn.BatchNorm1d(hdim))\n",
        "            current_dim = hdim\n",
        "        self.layers.append(nn.Linear(current_dim, self.output_dim))\n",
        "        self.dropout = nn.Dropout(self.DROP_PR)\n",
        "\n",
        "    def forward(self, x):\n",
        "        for i, layer in enumerate(self.layers[:-1]):\n",
        "            x = layer(x)\n",
        "            if self.BN:\n",
        "                x = self.bn[i](x)\n",
        "            x = torch.sigmoid(x)\n",
        "            x = self.dropout(x)\n",
        "        out = self.layers[-1](x)\n",
        "        return out \n",
        "\n",
        "#Loss function: mean absolute deviation\n",
        "criterion = torch.nn.L1Loss() \n",
        "\n",
        "#Accuracy with tolerance\n",
        "def ACCURACY(Y_pred,target,Tolerance):\n",
        "    v=(abs(Y_pred-target)<=Tolerance)*1.0\n",
        "    return(torch.mean(v))\n",
        "\n",
        "#Kappa statistic compared with a random classifier\n",
        "def KAPPA(Y_pred,target):\n",
        "    #only work for Tolerance=0.5\n",
        "    KAPP=cohen_kappa_score(target.cpu().detach().numpy(),torch.round(Y_pred).cpu().detach().numpy())\n",
        "    #KAPP2=cohen_kappa_score(torch.round(Y_pred).cpu().detach().numpy(),target.cpu().detach().numpy())    \n",
        "    return(KAPP)"
      ],
      "execution_count": 10,
      "outputs": []
    },
    {
      "cell_type": "markdown",
      "metadata": {
        "id": "ZVCUECPWfdxY"
      },
      "source": [
        "## Toy example (Ignore this part)\n",
        "red wine"
      ]
    },
    {
      "cell_type": "code",
      "metadata": {
        "id": "0r7A-QrGaX11"
      },
      "source": [
        "T=1 #Tolerance:0.25,0.5,1.0\n",
        "\n",
        "LR=1e-2\n",
        "OPT=\"SGD\" # \"SGD\" or \"ADAM\"\n",
        "EPOCH=3000\n",
        "\n",
        "HIDDEN_DIM = [11]\n",
        "INPUT_DIM = X_TRAIN_white.shape[1]\n",
        "OUTPUT_DIM = 1\n",
        "TOY_MODEL=Net(INPUT_DIM,OUTPUT_DIM,HIDDEN_DIM)\n",
        "if train_on_gpu:\n",
        "    TOY_MODEL.cuda()\n",
        "#Optimizer: \n",
        "if OPT==\"SGD\":\n",
        "    optimizer = torch.optim.SGD(TOY_MODEL.parameters(),lr=LR)\n",
        "if OPT==\"ADAM\":\n",
        "    optimizer = torch.optim.Adam(TOY_MODEL.parameters(),lr=LR, betas=(0.9, 0.99))\n",
        "#scheduler = optim.lr_scheduler.StepLR(optimizer, step_size=STEP_SIZE, gamma=DECAY)"
      ],
      "execution_count": 11,
      "outputs": []
    },
    {
      "cell_type": "code",
      "metadata": {
        "id": "2sJryuV4k_HW",
        "colab": {
          "base_uri": "https://localhost:8080/"
        },
        "outputId": "b268ea5d-b13d-47c7-c022-360c4da093d4"
      },
      "source": [
        "LOSS_ARR=[]\n",
        "torch.manual_seed(0)\n",
        "for epoch in tq(range(EPOCH)):\n",
        "    optimizer.zero_grad()\n",
        "    outputs=TOY_MODEL(X_TRAIN_red)[:,0] #prediction\n",
        "    loss = criterion(outputs, Y_TRAIN_red) #compared with the true labels\n",
        "    LOSS_ARR.append(loss.data)\n",
        "    loss.backward()\n",
        "    optimizer.step()    \n",
        "    if (epoch+1)%round(EPOCH/5)==0:\n",
        "        kappa=KAPPA(outputs, Y_TRAIN_red)\n",
        "        accuracy=ACCURACY(outputs,Y_TRAIN_red,T).item()\n",
        "        print(\"\\n After {} Epochs: MAD is {}; Accuracy is {}% (T={}); KAPPA is {}% (T=0.5)\".format((epoch+1),round(loss.item(),3),round(accuracy*100,3),T,round(kappa*100,3)))\n"
      ],
      "execution_count": 12,
      "outputs": [
        {
          "output_type": "stream",
          "text": [
            " 25%|██▍       | 747/3000 [00:00<00:02, 1059.13it/s]"
          ],
          "name": "stderr"
        },
        {
          "output_type": "stream",
          "text": [
            "\n",
            " After 600 Epochs: MAD is 0.489; Accuracy is 88.796% (T=1); KAPPA is 32.962% (T=0.5)\n"
          ],
          "name": "stdout"
        },
        {
          "output_type": "stream",
          "text": [
            " 46%|████▋     | 1389/3000 [00:01<00:01, 1061.67it/s]"
          ],
          "name": "stderr"
        },
        {
          "output_type": "stream",
          "text": [
            "\n",
            " After 1200 Epochs: MAD is 0.485; Accuracy is 88.796% (T=1); KAPPA is 32.698% (T=0.5)\n"
          ],
          "name": "stdout"
        },
        {
          "output_type": "stream",
          "text": [
            " 64%|██████▍   | 1929/3000 [00:01<00:00, 1071.77it/s]"
          ],
          "name": "stderr"
        },
        {
          "output_type": "stream",
          "text": [
            "\n",
            " After 1800 Epochs: MAD is 0.483; Accuracy is 89.076% (T=1); KAPPA is 33.946% (T=0.5)\n"
          ],
          "name": "stdout"
        },
        {
          "output_type": "stream",
          "text": [
            " 86%|████████▌ | 2580/3000 [00:02<00:00, 1071.31it/s]"
          ],
          "name": "stderr"
        },
        {
          "output_type": "stream",
          "text": [
            "\n",
            " After 2400 Epochs: MAD is 0.482; Accuracy is 89.076% (T=1); KAPPA is 34.39% (T=0.5)\n"
          ],
          "name": "stdout"
        },
        {
          "output_type": "stream",
          "text": [
            "100%|██████████| 3000/3000 [00:02<00:00, 1059.40it/s]"
          ],
          "name": "stderr"
        },
        {
          "output_type": "stream",
          "text": [
            "\n",
            " After 3000 Epochs: MAD is 0.481; Accuracy is 89.076% (T=1); KAPPA is 34.403% (T=0.5)\n"
          ],
          "name": "stdout"
        },
        {
          "output_type": "stream",
          "text": [
            "\n"
          ],
          "name": "stderr"
        }
      ]
    },
    {
      "cell_type": "code",
      "metadata": {
        "id": "h6JolDcl1gGb",
        "colab": {
          "base_uri": "https://localhost:8080/",
          "height": 313
        },
        "outputId": "2717cb4f-70b1-4154-b5fa-6dc60cc79dd0"
      },
      "source": [
        "zoom=np.floor(len(LOSS_ARR)/5).astype(int)\n",
        "zoom=0\n",
        "plt.plot(np.arange(len(LOSS_ARR)-zoom)+zoom, LOSS_ARR[zoom:])\n",
        "plt.xlabel(\"Epoch\")\n",
        "plt.ylabel(\"Loss\")\n",
        "plt.title(\"Final Loss = {}\".format(LOSS_ARR[-1]))"
      ],
      "execution_count": 13,
      "outputs": [
        {
          "output_type": "execute_result",
          "data": {
            "text/plain": [
              "Text(0.5, 1.0, 'Final Loss = 0.4811613857746124')"
            ]
          },
          "metadata": {
            "tags": []
          },
          "execution_count": 13
        },
        {
          "output_type": "display_data",
          "data": {
            "image/png": "[encoded data removed]",
            "text/plain": [
              "<Figure size 432x288 with 1 Axes>"
            ]
          },
          "metadata": {
            "tags": [],
            "needs_background": "light"
          }
        }
      ]
    },
    {
      "cell_type": "code",
      "metadata": {
        "id": "EDd-kSBuomwX",
        "colab": {
          "base_uri": "https://localhost:8080/"
        },
        "outputId": "40611db1-9f95-41a8-e163-55c26a48b8d9"
      },
      "source": [
        "test_pred=TOY_MODEL(X_TEST_red)\n",
        "loss = criterion(test_pred, Y_TEST_red)\n",
        "print(\"Test MAD is {};\".format(round(loss.item(),3)))\n",
        "for T in [0.25,0.5,1.0]: \n",
        "    accuracy=ACCURACY(test_pred,Y_TEST_red,T).item()\n",
        "    print(\"Test Accuracy is {}% (T={});\".format(round(accuracy*100,3),T))\n",
        "test_kappa=KAPPA(test_pred, Y_TEST_red)\n",
        "print(\"Test KAPPA is {}% (T=0.5);\".format(round(test_kappa*100,3)))"
      ],
      "execution_count": 14,
      "outputs": [
        {
          "output_type": "stream",
          "text": [
            "Test MAD is 0.764;\n",
            "Test Accuracy is 22.96% (T=0.25);\n",
            "Test Accuracy is 39.588% (T=0.5);\n",
            "Test Accuracy is 70.882% (T=1.0);\n",
            "Test KAPPA is 28.521% (T=0.5);\n"
          ],
          "name": "stdout"
        },
        {
          "output_type": "stream",
          "text": [
            "/usr/local/lib/python3.7/dist-packages/torch/nn/modules/loss.py:96: UserWarning: Using a target size (torch.Size([528])) that is different to the input size (torch.Size([528, 1])). This will likely lead to incorrect results due to broadcasting. Please ensure they have the same size.\n",
            "  return F.l1_loss(input, target, reduction=self.reduction)\n"
          ],
          "name": "stderr"
        }
      ]
    },
    {
      "cell_type": "markdown",
      "metadata": {
        "id": "fxCzpUBBgk0h"
      },
      "source": [
        "## Wrap it up"
      ]
    },
    {
      "cell_type": "code",
      "metadata": {
        "id": "LeI-0o9zfJlP"
      },
      "source": [
        "def TRAIN_NN(TRAIN_X,TRAIN_Y,HIDDEN_DIM,EPOCH,DROP_PR=0.0,BN=False,LR=1e-2,OPT=\"SGD\",T=0.5,STEP_SIZE=50000,DECAY=0.1):\n",
        "    #TRAIN_X,TRIAN_Y: should be tensors\n",
        "    # HIDDEN_DIM: [H] or deeper\n",
        "    # BN: Bool, if using Batch Normalization or not\n",
        "    # \"SGD\" or \"ADAM\"\n",
        "    # T:0.25,0.5,1.0\n",
        "    torch.manual_seed(0)\n",
        "    INPUT_DIM = TRAIN_X.shape[1]\n",
        "    OUTPUT_DIM = 1\n",
        "    MODEL=Net(INPUT_DIM,OUTPUT_DIM,HIDDEN_DIM)\n",
        "    if train_on_gpu:\n",
        "        MODEL.cuda()\n",
        "    #Optimizer: \n",
        "    if OPT==\"SGD\":\n",
        "        optimizer = torch.optim.SGD(MODEL.parameters(),lr=LR)\n",
        "    if OPT==\"ADAM\":\n",
        "        optimizer = torch.optim.Adam(MODEL.parameters(),lr=LR, betas=(0.9, 0.99))\n",
        "    scheduler = optim.lr_scheduler.StepLR(optimizer, step_size=STEP_SIZE, gamma=DECAY)\n",
        "    LOSS_ARR=[]\n",
        "    torch.manual_seed(0)\n",
        "    for epoch in tq(range(EPOCH)):\n",
        "        optimizer.zero_grad()\n",
        "        outputs=MODEL(TRAIN_X)[:,0] #prediction\n",
        "        loss = criterion(outputs, TRAIN_Y) #compared with the true labels\n",
        "        LOSS_ARR.append(loss.data)\n",
        "        loss.backward()\n",
        "        optimizer.step() \n",
        "        scheduler.step()   \n",
        "        if (epoch+1)%round(EPOCH/5)==0:\n",
        "            kappa=KAPPA(outputs, TRAIN_Y)\n",
        "            accuracy=ACCURACY(outputs,TRAIN_Y,T).item()\n",
        "            print(\"\\n After {} Epochs: MAD is {}; Accuracy is {}% (T={}); KAPPA is {}% (T=0.5)\".format((epoch+1),round(loss.item(),3),round(accuracy*100,3),T,round(kappa*100,3)))\n",
        "    return({\"MODEL\":MODEL,\"LOSS_ARR\":LOSS_ARR})"
      ],
      "execution_count": 15,
      "outputs": []
    },
    {
      "cell_type": "code",
      "metadata": {
        "id": "Lpl5Q3pQCAWy"
      },
      "source": [
        "def TEST_NN(MODEL,TEST_X,TEST_Y,T_list=[0.25,0.5,1]):\n",
        "    MODEL.eval()\n",
        "    test_pred=MODEL(TEST_X)[:,0]\n",
        "    loss = criterion(test_pred, TEST_Y)\n",
        "    MAD=loss.item()\n",
        "    accuracy_list=[ACCURACY(test_pred,TEST_Y,T).item() for T in T_list]\n",
        "    kappa=KAPPA(test_pred, TEST_Y)\n",
        "    MODEL.train()\n",
        "    return({\"MAD\":MAD,\"accuracy_list\":accuracy_list,\"kappa\":kappa})"
      ],
      "execution_count": 16,
      "outputs": []
    },
    {
      "cell_type": "markdown",
      "metadata": {
        "id": "DFwcZ9jUB12A"
      },
      "source": [
        "### White wine"
      ]
    },
    {
      "cell_type": "code",
      "metadata": {
        "id": "do0_B9ReY6m1",
        "colab": {
          "base_uri": "https://localhost:8080/"
        },
        "outputId": "e4e7c04b-9e2a-4070-cc83-5a9c183ba880"
      },
      "source": [
        "result_white=TRAIN_NN(X_TRAIN_white,Y_TRAIN_white,[11],LR=1e-1/2,BN=False,STEP_SIZE=200000,DECAY=1,EPOCH=30000)\n",
        "MODEL_NN_white=result_white[\"MODEL\"]\n",
        "LOSS_white=result_white[\"LOSS_ARR\"]"
      ],
      "execution_count": 17,
      "outputs": [
        {
          "output_type": "stream",
          "text": [
            " 20%|██        | 6121/30000 [00:06<00:23, 1008.16it/s]"
          ],
          "name": "stderr"
        },
        {
          "output_type": "stream",
          "text": [
            "\n",
            " After 6000 Epochs: MAD is 0.554; Accuracy is 54.099% (T=0.5); KAPPA is 26.63% (T=0.5)\n"
          ],
          "name": "stdout"
        },
        {
          "output_type": "stream",
          "text": [
            " 40%|████      | 12143/30000 [00:12<00:17, 1020.75it/s]"
          ],
          "name": "stderr"
        },
        {
          "output_type": "stream",
          "text": [
            "\n",
            " After 12000 Epochs: MAD is 0.535; Accuracy is 56.66% (T=0.5); KAPPA is 30.77% (T=0.5)\n"
          ],
          "name": "stdout"
        },
        {
          "output_type": "stream",
          "text": [
            " 60%|██████    | 18118/30000 [00:17<00:11, 1028.83it/s]"
          ],
          "name": "stderr"
        },
        {
          "output_type": "stream",
          "text": [
            "\n",
            " After 18000 Epochs: MAD is 0.527; Accuracy is 56.934% (T=0.5); KAPPA is 31.187% (T=0.5)\n"
          ],
          "name": "stdout"
        },
        {
          "output_type": "stream",
          "text": [
            " 81%|████████  | 24189/30000 [00:23<00:05, 1019.60it/s]"
          ],
          "name": "stderr"
        },
        {
          "output_type": "stream",
          "text": [
            "\n",
            " After 24000 Epochs: MAD is 0.524; Accuracy is 57.513% (T=0.5); KAPPA is 32.19% (T=0.5)\n"
          ],
          "name": "stdout"
        },
        {
          "output_type": "stream",
          "text": [
            "100%|██████████| 30000/30000 [00:29<00:00, 1012.35it/s]"
          ],
          "name": "stderr"
        },
        {
          "output_type": "stream",
          "text": [
            "\n",
            " After 30000 Epochs: MAD is 0.522; Accuracy is 58.031% (T=0.5); KAPPA is 32.898% (T=0.5)\n"
          ],
          "name": "stdout"
        },
        {
          "output_type": "stream",
          "text": [
            "\n"
          ],
          "name": "stderr"
        }
      ]
    },
    {
      "cell_type": "markdown",
      "metadata": {
        "id": "hloE2YYKiM6Y"
      },
      "source": [
        "Final MAD after 3M epochs: 0.498"
      ]
    },
    {
      "cell_type": "code",
      "metadata": {
        "colab": {
          "base_uri": "https://localhost:8080/",
          "height": 313
        },
        "id": "TqlENdrtZcLQ",
        "outputId": "5f993359-94ab-4b5d-a9a2-dd2ee9e7c37e"
      },
      "source": [
        "zoom=np.floor(len(LOSS_white)/2).astype(int)\n",
        "#zoom=0\n",
        "plt.plot(np.arange(len(LOSS_white)-zoom)+zoom, LOSS_white[zoom:])\n",
        "plt.xlabel(\"Epoch\")\n",
        "plt.ylabel(\"Loss\")\n",
        "plt.title(\"Final Loss = {}\".format(LOSS_white[-1]))"
      ],
      "execution_count": 18,
      "outputs": [
        {
          "output_type": "execute_result",
          "data": {
            "text/plain": [
              "Text(0.5, 1.0, 'Final Loss = 0.5216884613037109')"
            ]
          },
          "metadata": {
            "tags": []
          },
          "execution_count": 18
        },
        {
          "output_type": "display_data",
          "data": {
            "image/png": "[encoded data removed]",
            "text/plain": [
              "<Figure size 432x288 with 1 Axes>"
            ]
          },
          "metadata": {
            "tags": [],
            "needs_background": "light"
          }
        }
      ]
    },
    {
      "cell_type": "code",
      "metadata": {
        "colab": {
          "base_uri": "https://localhost:8080/"
        },
        "id": "h3XZe-9WB08A",
        "outputId": "09c43736-6dc3-42cc-c69e-bbfded4ed568"
      },
      "source": [
        "T_list=[0.25,0.5,1]\n",
        "Result_TEST_white=TEST_NN(MODEL_NN_white,X_TEST_white,Y_TEST_white,T_list)\n",
        "print(\"Test MAD is {};\".format(round(Result_TEST_white[\"MAD\"],3)))\n",
        "for i,T in enumerate(T_list): \n",
        "    acc=Result_TEST_white[\"accuracy_list\"][i]\n",
        "    print(\"Test Accuracy is {}% (T={});\".format(round(acc*100,3),T))\n",
        "test_kappa=Result_TEST_white[\"kappa\"]\n",
        "print(\"Test KAPPA is {}% (T=0.5);\".format(round(test_kappa*100,3)))"
      ],
      "execution_count": 19,
      "outputs": [
        {
          "output_type": "stream",
          "text": [
            "Test MAD is 0.548;\n",
            "Test Accuracy is 32.035% (T=0.25);\n",
            "Test Accuracy is 54.669% (T=0.5);\n",
            "Test Accuracy is 85.281% (T=1);\n",
            "Test KAPPA is 27.57% (T=0.5);\n"
          ],
          "name": "stdout"
        }
      ]
    },
    {
      "cell_type": "code",
      "metadata": {
        "colab": {
          "base_uri": "https://localhost:8080/",
          "height": 327
        },
        "id": "E0eEzJ69Fy_c",
        "outputId": "992f92d4-8850-416d-de41-96fca85d4244"
      },
      "source": [
        "T_list_REC=np.linspace(0,2,100)\n",
        "ACCURACY_list_REC_white=TEST_NN(MODEL_NN_white,X_TEST_white,Y_TEST_white,T_list_REC)[\"accuracy_list\"]\n",
        "plt.plot(T_list_REC,ACCURACY_list_REC_white)\n",
        "plt.xlabel(\"Tolerance\")\n",
        "plt.ylabel(\"Accuracy\")\n",
        "plt.title(\"REC \\n White wine\")"
      ],
      "execution_count": 20,
      "outputs": [
        {
          "output_type": "execute_result",
          "data": {
            "text/plain": [
              "Text(0.5, 1.0, 'REC \\n White wine')"
            ]
          },
          "metadata": {
            "tags": []
          },
          "execution_count": 20
        },
        {
          "output_type": "display_data",
          "data": {
            "image/png": "[encoded data removed]",
            "text/plain": [
              "<Figure size 432x288 with 1 Axes>"
            ]
          },
          "metadata": {
            "tags": [],
            "needs_background": "light"
          }
        }
      ]
    },
    {
      "cell_type": "markdown",
      "metadata": {
        "id": "-WFZz6hvB5Gl"
      },
      "source": [
        "### Red wine"
      ]
    },
    {
      "cell_type": "code",
      "metadata": {
        "colab": {
          "base_uri": "https://localhost:8080/"
        },
        "id": "o1Ld6AMEBGmM",
        "outputId": "ce896dd8-8185-4fe5-98de-d1f042f41a90"
      },
      "source": [
        "result_red=TRAIN_NN(X_TRAIN_red,Y_TRAIN_red,[11],EPOCH=30000)\n",
        "MODEL_NN_red=result_red[\"MODEL\"]\n",
        "LOSS_red=result_red[\"LOSS_ARR\"]"
      ],
      "execution_count": 21,
      "outputs": [
        {
          "output_type": "stream",
          "text": [
            " 20%|██        | 6140/30000 [00:05<00:23, 1027.13it/s]"
          ],
          "name": "stderr"
        },
        {
          "output_type": "stream",
          "text": [
            "\n",
            " After 6000 Epochs: MAD is 0.477; Accuracy is 60.878% (T=0.5); KAPPA is 34.755% (T=0.5)\n"
          ],
          "name": "stdout"
        },
        {
          "output_type": "stream",
          "text": [
            " 41%|████      | 12187/30000 [00:11<00:17, 1026.72it/s]"
          ],
          "name": "stderr"
        },
        {
          "output_type": "stream",
          "text": [
            "\n",
            " After 12000 Epochs: MAD is 0.468; Accuracy is 61.625% (T=0.5); KAPPA is 35.881% (T=0.5)\n"
          ],
          "name": "stdout"
        },
        {
          "output_type": "stream",
          "text": [
            " 61%|██████    | 18155/30000 [00:17<00:11, 1033.90it/s]"
          ],
          "name": "stderr"
        },
        {
          "output_type": "stream",
          "text": [
            "\n",
            " After 18000 Epochs: MAD is 0.46; Accuracy is 62.278% (T=0.5); KAPPA is 37.073% (T=0.5)\n"
          ],
          "name": "stdout"
        },
        {
          "output_type": "stream",
          "text": [
            " 81%|████████  | 24155/30000 [00:23<00:05, 1027.20it/s]"
          ],
          "name": "stderr"
        },
        {
          "output_type": "stream",
          "text": [
            "\n",
            " After 24000 Epochs: MAD is 0.455; Accuracy is 62.932% (T=0.5); KAPPA is 38.462% (T=0.5)\n"
          ],
          "name": "stdout"
        },
        {
          "output_type": "stream",
          "text": [
            "100%|██████████| 30000/30000 [00:29<00:00, 1023.99it/s]"
          ],
          "name": "stderr"
        },
        {
          "output_type": "stream",
          "text": [
            "\n",
            " After 30000 Epochs: MAD is 0.451; Accuracy is 63.119% (T=0.5); KAPPA is 38.728% (T=0.5)\n"
          ],
          "name": "stdout"
        },
        {
          "output_type": "stream",
          "text": [
            "\n"
          ],
          "name": "stderr"
        }
      ]
    },
    {
      "cell_type": "code",
      "metadata": {
        "id": "_v9IHTLLBg0p",
        "colab": {
          "base_uri": "https://localhost:8080/",
          "height": 313
        },
        "outputId": "f9f90726-1a04-4d4a-8319-006b3c7098cb"
      },
      "source": [
        "zoom=np.floor(len(LOSS_red)/5).astype(int)\n",
        "zoom=0\n",
        "plt.plot(np.arange(len(LOSS_red)-zoom)+zoom, LOSS_red[zoom:])\n",
        "plt.xlabel(\"Epoch\")\n",
        "plt.ylabel(\"Loss\")\n",
        "plt.title(\"Final Loss = {}\".format(LOSS_red[-1]))"
      ],
      "execution_count": 22,
      "outputs": [
        {
          "output_type": "execute_result",
          "data": {
            "text/plain": [
              "Text(0.5, 1.0, 'Final Loss = 0.4507947266101837')"
            ]
          },
          "metadata": {
            "tags": []
          },
          "execution_count": 22
        },
        {
          "output_type": "display_data",
          "data": {
            "image/png": "[encoded data removed]",
            "text/plain": [
              "<Figure size 432x288 with 1 Axes>"
            ]
          },
          "metadata": {
            "tags": [],
            "needs_background": "light"
          }
        }
      ]
    },
    {
      "cell_type": "code",
      "metadata": {
        "colab": {
          "base_uri": "https://localhost:8080/"
        },
        "id": "HBcWEDo3ERag",
        "outputId": "d1a65a18-b226-4a79-d198-f2467e8e26c7"
      },
      "source": [
        "T_list=[0.25,0.5,1]\n",
        "Result_TEST_red=TEST_NN(MODEL_NN_red,X_TEST_red,Y_TEST_red,T_list)\n",
        "print(\"Test MAD is {};\".format(round(Result_TEST_red[\"MAD\"],3)))\n",
        "for i,T in enumerate(T_list): \n",
        "    acc=Result_TEST_red[\"accuracy_list\"][i]\n",
        "    print(\"Test Accuracy is {}% (T={});\".format(round(acc*100,3),T))\n",
        "test_kappa=Result_TEST_red[\"kappa\"]\n",
        "print(\"Test KAPPA is {}% (T=0.5);\".format(round(test_kappa*100,3)))"
      ],
      "execution_count": 23,
      "outputs": [
        {
          "output_type": "stream",
          "text": [
            "Test MAD is 0.496;\n",
            "Test Accuracy is 36.364% (T=0.25);\n",
            "Test Accuracy is 57.386% (T=0.5);\n",
            "Test Accuracy is 88.826% (T=1);\n",
            "Test KAPPA is 30.16% (T=0.5);\n"
          ],
          "name": "stdout"
        }
      ]
    },
    {
      "cell_type": "code",
      "metadata": {
        "colab": {
          "base_uri": "https://localhost:8080/",
          "height": 327
        },
        "id": "z-v24yalGg5u",
        "outputId": "b4cdae74-74fd-46a6-b085-45260a0f1d01"
      },
      "source": [
        "T_list_REC=np.linspace(0,2,100)\n",
        "ACCURACY_list_REC_red=TEST_NN(MODEL_NN_red,X_TEST_red,Y_TEST_red,T_list_REC)[\"accuracy_list\"]\n",
        "plt.plot(T_list_REC,ACCURACY_list_REC_red)\n",
        "plt.xlabel(\"Tolerance\")\n",
        "plt.ylabel(\"Accuracy\")\n",
        "plt.title(\"REC \\n Red wine\")"
      ],
      "execution_count": 24,
      "outputs": [
        {
          "output_type": "execute_result",
          "data": {
            "text/plain": [
              "Text(0.5, 1.0, 'REC \\n Red wine')"
            ]
          },
          "metadata": {
            "tags": []
          },
          "execution_count": 24
        },
        {
          "output_type": "display_data",
          "data": {
            "image/png": "[encoded data removed]",
            "text/plain": [
              "<Figure size 432x288 with 1 Axes>"
            ]
          },
          "metadata": {
            "tags": [],
            "needs_background": "light"
          }
        }
      ]
    },
    {
      "cell_type": "markdown",
      "metadata": {
        "id": "C5lKdemHVAme"
      },
      "source": [
        "#  Sensitivity Analysis \n",
        "!“correlation does not equal causation.”"
      ]
    },
    {
      "cell_type": "code",
      "metadata": {
        "id": "mw0eNv_WH1h2"
      },
      "source": [
        "p=X_TRAIN_red.shape[1] #11"
      ],
      "execution_count": 25,
      "outputs": []
    },
    {
      "cell_type": "code",
      "metadata": {
        "id": "B0ba3cjuGWm2"
      },
      "source": [
        "def Sensitivity_Analysis(MODEL,a,L=6):\n",
        "    #a: indicator of the predictor, a=0,1,2,...10(p-1)\n",
        "    MODEL.eval()\n",
        "    Analysis_X=torch.zeros((L,p))\n",
        "    Analysis_X[:,(a)]=torch.from_numpy(np.linspace(-1, 1, 6, endpoint=True))\n",
        "    if train_on_gpu:\n",
        "        Analysis_X=Analysis_X.to(device=\"cuda\")\n",
        "    result=MODEL(Analysis_X).var()\n",
        "    MODEL.train()\n",
        "    return result.cpu().detach().numpy()"
      ],
      "execution_count": 26,
      "outputs": []
    },
    {
      "cell_type": "code",
      "metadata": {
        "id": "FFnhp6wAKaE9"
      },
      "source": [
        "V_red=np.zeros(p)\n",
        "for a in range(p):\n",
        "  V_red[a]=(Sensitivity_Analysis(MODEL_NN_red,a))\n",
        "R_red=V_red/V_red.sum()*100\n",
        "#R_red=pd.DataFrame(R_red,index=predictors_name)\n",
        "\n",
        "V_white=np.zeros(p)\n",
        "for a in range(p):\n",
        "  V_white[a]=(Sensitivity_Analysis(MODEL_NN_white,a))\n",
        "R_white=V_white/V_white.sum()*100\n",
        "#R_white=pd.DataFrame(R_white,index=predictors_name)\n",
        "R=pd.DataFrame({\"red\":R_red,\"white\":R_white}, index=predictors_name)"
      ],
      "execution_count": 27,
      "outputs": []
    },
    {
      "cell_type": "code",
      "metadata": {
        "colab": {
          "base_uri": "https://localhost:8080/",
          "height": 731
        },
        "id": "3WBjv54uLD5N",
        "outputId": "57b1ba79-ffb9-4072-8934-f1524041409b"
      },
      "source": [
        "plt.figure(figsize=(10,10))\n",
        "R.sort_values(by=\"red\").plot.barh(y='red',legend=None,subplots=True, layout=(2,1),figsize=(8,10),title=\"Input Importances for the Neural Network (in %)\")\n",
        "R.sort_values(by=\"white\").plot.barh(y='white',legend=None,subplots=True, layout=(2,1),figsize=(8,10))\n"
      ],
      "execution_count": 28,
      "outputs": [
        {
          "output_type": "execute_result",
          "data": {
            "text/plain": [
              "array([[<matplotlib.axes._subplots.AxesSubplot object at 0x7fb77140f750>],\n",
              "       [<matplotlib.axes._subplots.AxesSubplot object at 0x7fb7713c8350>]],\n",
              "      dtype=object)"
            ]
          },
          "metadata": {
            "tags": []
          },
          "execution_count": 28
        },
        {
          "output_type": "display_data",
          "data": {
            "text/plain": [
              "<Figure size 720x720 with 0 Axes>"
            ]
          },
          "metadata": {
            "tags": []
          }
        },
        {
          "output_type": "display_data",
          "data": {
            "image/png": "[encoded data removed]",
            "text/plain": [
              "<Figure size 576x720 with 2 Axes>"
            ]
          },
          "metadata": {
            "tags": [],
            "needs_background": "light"
          }
        },
        {
          "output_type": "display_data",
          "data": {
            "image/png": "[encoded data removed]",
            "text/plain": [
              "<Figure size 576x720 with 2 Axes>"
            ]
          },
          "metadata": {
            "tags": [],
            "needs_background": "light"
          }
        }
      ]
    },
    {
      "cell_type": "markdown",
      "metadata": {
        "id": "9MEmP4u4W4Rn"
      },
      "source": [
        "# (Maybe don't have time?) Model Selection"
      ]
    },
    {
      "cell_type": "markdown",
      "metadata": {
        "id": "0KNUpssnU0kQ"
      },
      "source": [
        "# the Problem of Imbalance Data"
      ]
    },
    {
      "cell_type": "code",
      "metadata": {
        "colab": {
          "base_uri": "https://localhost:8080/"
        },
        "id": "fmrFo2vvtwrC",
        "outputId": "3e78f3d0-4623-42c0-9265-7544bcd8dbe5"
      },
      "source": [
        "for i,c in enumerate(red_class):\n",
        "    print(\"there are {} red wine samples with the score of {}\".format(len(Y_red_torch[Y_red_torch==red_class[i]]),c))\n",
        "print(\"\\n\")\n",
        "for i,c in enumerate(white_class):\n",
        "    print(\"there are {} white wine samples with the score of {}\".format(len(Y_white_torch[Y_white_torch==white_class[i]]),c))\n",
        "   "
      ],
      "execution_count": 29,
      "outputs": [
        {
          "output_type": "stream",
          "text": [
            "there are 10 red wine samples with the score of 3\n",
            "there are 53 red wine samples with the score of 4\n",
            "there are 681 red wine samples with the score of 5\n",
            "there are 638 red wine samples with the score of 6\n",
            "there are 199 red wine samples with the score of 7\n",
            "there are 18 red wine samples with the score of 8\n",
            "\n",
            "\n",
            "there are 20 white wine samples with the score of 3\n",
            "there are 163 white wine samples with the score of 4\n",
            "there are 1457 white wine samples with the score of 5\n",
            "there are 2198 white wine samples with the score of 6\n",
            "there are 880 white wine samples with the score of 7\n",
            "there are 175 white wine samples with the score of 8\n",
            "there are 5 white wine samples with the score of 9\n"
          ],
          "name": "stdout"
        }
      ]
    },
    {
      "cell_type": "markdown",
      "metadata": {
        "id": "-MuC2apTW1GT"
      },
      "source": [
        "## Confusion Matrix T=0.5\n",
        "Using the full data"
      ]
    },
    {
      "cell_type": "markdown",
      "metadata": {
        "id": "LIuMkHxBkBZR"
      },
      "source": [
        ">??? suppose T=0.5, and the predicted value is 2.5, which column of confusion matrix should we add it to, 2 or 3??"
      ]
    },
    {
      "cell_type": "code",
      "metadata": {
        "colab": {
          "base_uri": "https://localhost:8080/",
          "height": 233
        },
        "id": "ixtXacv5UmKC",
        "outputId": "fed8d0d8-f8b8-419d-f947-1bd69c939573"
      },
      "source": [
        "red_pred=np.round(MODEL_NN_red(X_red_torch).cpu().detach().numpy())[:,0] \n",
        "red_pred=np.where(red_pred >=8.0, 8, red_pred)\n",
        "red_pred=np.where(red_pred <=3.0, 3, red_pred)  \n",
        "red_confusion=confusion_matrix(Y_red_torch.cpu().detach().numpy(), red_pred)\n",
        "red_confusion=pd.DataFrame(red_confusion,index=red_class,columns=red_class) \n",
        "red_confusion "
      ],
      "execution_count": 30,
      "outputs": [
        {
          "output_type": "execute_result",
          "data": {
            "text/html": [
              "<div>\n",
              "<style scoped>\n",
              "    .dataframe tbody tr th:only-of-type {\n",
              "        vertical-align: middle;\n",
              "    }\n",
              "\n",
              "    .dataframe tbody tr th {\n",
              "        vertical-align: top;\n",
              "    }\n",
              "\n",
              "    .dataframe thead th {\n",
              "        text-align: right;\n",
              "    }\n",
              "</style>\n",
              "<table border=\"1\" class=\"dataframe\">\n",
              "  <thead>\n",
              "    <tr style=\"text-align: right;\">\n",
              "      <th></th>\n",
              "      <th>3</th>\n",
              "      <th>4</th>\n",
              "      <th>5</th>\n",
              "      <th>6</th>\n",
              "      <th>7</th>\n",
              "      <th>8</th>\n",
              "    </tr>\n",
              "  </thead>\n",
              "  <tbody>\n",
              "    <tr>\n",
              "      <th>3</th>\n",
              "      <td>0</td>\n",
              "      <td>0</td>\n",
              "      <td>9</td>\n",
              "      <td>1</td>\n",
              "      <td>0</td>\n",
              "      <td>0</td>\n",
              "    </tr>\n",
              "    <tr>\n",
              "      <th>4</th>\n",
              "      <td>0</td>\n",
              "      <td>0</td>\n",
              "      <td>41</td>\n",
              "      <td>12</td>\n",
              "      <td>0</td>\n",
              "      <td>0</td>\n",
              "    </tr>\n",
              "    <tr>\n",
              "      <th>5</th>\n",
              "      <td>0</td>\n",
              "      <td>0</td>\n",
              "      <td>537</td>\n",
              "      <td>142</td>\n",
              "      <td>2</td>\n",
              "      <td>0</td>\n",
              "    </tr>\n",
              "    <tr>\n",
              "      <th>6</th>\n",
              "      <td>0</td>\n",
              "      <td>0</td>\n",
              "      <td>219</td>\n",
              "      <td>384</td>\n",
              "      <td>35</td>\n",
              "      <td>0</td>\n",
              "    </tr>\n",
              "    <tr>\n",
              "      <th>7</th>\n",
              "      <td>0</td>\n",
              "      <td>0</td>\n",
              "      <td>8</td>\n",
              "      <td>135</td>\n",
              "      <td>56</td>\n",
              "      <td>0</td>\n",
              "    </tr>\n",
              "    <tr>\n",
              "      <th>8</th>\n",
              "      <td>0</td>\n",
              "      <td>0</td>\n",
              "      <td>0</td>\n",
              "      <td>10</td>\n",
              "      <td>8</td>\n",
              "      <td>0</td>\n",
              "    </tr>\n",
              "  </tbody>\n",
              "</table>\n",
              "</div>"
            ],
            "text/plain": [
              "   3  4    5    6   7  8\n",
              "3  0  0    9    1   0  0\n",
              "4  0  0   41   12   0  0\n",
              "5  0  0  537  142   2  0\n",
              "6  0  0  219  384  35  0\n",
              "7  0  0    8  135  56  0\n",
              "8  0  0    0   10   8  0"
            ]
          },
          "metadata": {
            "tags": []
          },
          "execution_count": 30
        }
      ]
    },
    {
      "cell_type": "code",
      "metadata": {
        "colab": {
          "base_uri": "https://localhost:8080/",
          "height": 263
        },
        "id": "4H2xQDUIf7D3",
        "outputId": "9c9cb44c-d699-4d49-8565-9773345090a3"
      },
      "source": [
        "white_pred=np.round(MODEL_NN_white(X_white_torch).cpu().detach().numpy())[:,0] \n",
        "white_pred=np.where(white_pred >=8.0, 8, white_pred)\n",
        "white_pred=np.where(white_pred <=3.0, 3, white_pred)    \n",
        "white_confusion=confusion_matrix(Y_white_torch.cpu().detach().numpy(), white_pred)\n",
        "white_confusion=pd.DataFrame(white_confusion,index=white_class,columns=white_class) \n",
        "white_confusion "
      ],
      "execution_count": 31,
      "outputs": [
        {
          "output_type": "execute_result",
          "data": {
            "text/html": [
              "<div>\n",
              "<style scoped>\n",
              "    .dataframe tbody tr th:only-of-type {\n",
              "        vertical-align: middle;\n",
              "    }\n",
              "\n",
              "    .dataframe tbody tr th {\n",
              "        vertical-align: top;\n",
              "    }\n",
              "\n",
              "    .dataframe thead th {\n",
              "        text-align: right;\n",
              "    }\n",
              "</style>\n",
              "<table border=\"1\" class=\"dataframe\">\n",
              "  <thead>\n",
              "    <tr style=\"text-align: right;\">\n",
              "      <th></th>\n",
              "      <th>3</th>\n",
              "      <th>4</th>\n",
              "      <th>5</th>\n",
              "      <th>6</th>\n",
              "      <th>7</th>\n",
              "      <th>8</th>\n",
              "      <th>9</th>\n",
              "    </tr>\n",
              "  </thead>\n",
              "  <tbody>\n",
              "    <tr>\n",
              "      <th>3</th>\n",
              "      <td>0</td>\n",
              "      <td>1</td>\n",
              "      <td>6</td>\n",
              "      <td>13</td>\n",
              "      <td>0</td>\n",
              "      <td>0</td>\n",
              "      <td>0</td>\n",
              "    </tr>\n",
              "    <tr>\n",
              "      <th>4</th>\n",
              "      <td>0</td>\n",
              "      <td>9</td>\n",
              "      <td>101</td>\n",
              "      <td>52</td>\n",
              "      <td>1</td>\n",
              "      <td>0</td>\n",
              "      <td>0</td>\n",
              "    </tr>\n",
              "    <tr>\n",
              "      <th>5</th>\n",
              "      <td>0</td>\n",
              "      <td>8</td>\n",
              "      <td>855</td>\n",
              "      <td>585</td>\n",
              "      <td>9</td>\n",
              "      <td>0</td>\n",
              "      <td>0</td>\n",
              "    </tr>\n",
              "    <tr>\n",
              "      <th>6</th>\n",
              "      <td>0</td>\n",
              "      <td>0</td>\n",
              "      <td>389</td>\n",
              "      <td>1633</td>\n",
              "      <td>176</td>\n",
              "      <td>0</td>\n",
              "      <td>0</td>\n",
              "    </tr>\n",
              "    <tr>\n",
              "      <th>7</th>\n",
              "      <td>0</td>\n",
              "      <td>0</td>\n",
              "      <td>21</td>\n",
              "      <td>564</td>\n",
              "      <td>295</td>\n",
              "      <td>0</td>\n",
              "      <td>0</td>\n",
              "    </tr>\n",
              "    <tr>\n",
              "      <th>8</th>\n",
              "      <td>0</td>\n",
              "      <td>0</td>\n",
              "      <td>0</td>\n",
              "      <td>102</td>\n",
              "      <td>73</td>\n",
              "      <td>0</td>\n",
              "      <td>0</td>\n",
              "    </tr>\n",
              "    <tr>\n",
              "      <th>9</th>\n",
              "      <td>0</td>\n",
              "      <td>0</td>\n",
              "      <td>0</td>\n",
              "      <td>1</td>\n",
              "      <td>4</td>\n",
              "      <td>0</td>\n",
              "      <td>0</td>\n",
              "    </tr>\n",
              "  </tbody>\n",
              "</table>\n",
              "</div>"
            ],
            "text/plain": [
              "   3  4    5     6    7  8  9\n",
              "3  0  1    6    13    0  0  0\n",
              "4  0  9  101    52    1  0  0\n",
              "5  0  8  855   585    9  0  0\n",
              "6  0  0  389  1633  176  0  0\n",
              "7  0  0   21   564  295  0  0\n",
              "8  0  0    0   102   73  0  0\n",
              "9  0  0    0     1    4  0  0"
            ]
          },
          "metadata": {
            "tags": []
          },
          "execution_count": 31
        }
      ]
    },
    {
      "cell_type": "markdown",
      "metadata": {
        "id": "EFGFueslkX7s"
      },
      "source": [
        "using the test data"
      ]
    },
    {
      "cell_type": "code",
      "metadata": {
        "colab": {
          "base_uri": "https://localhost:8080/",
          "height": 233
        },
        "id": "HFoUkKfGkZXC",
        "outputId": "2b2b56f7-b875-4057-80dc-78e647d06c39"
      },
      "source": [
        "red_pred=np.round(MODEL_NN_red(X_TEST_red).cpu().detach().numpy())   \n",
        "red_confusion=confusion_matrix(Y_TEST_red.cpu().detach().numpy(), red_pred)\n",
        "red_confusion=pd.DataFrame(red_confusion,index=red_class,columns=red_class) \n",
        "red_confusion  "
      ],
      "execution_count": 32,
      "outputs": [
        {
          "output_type": "execute_result",
          "data": {
            "text/html": [
              "<div>\n",
              "<style scoped>\n",
              "    .dataframe tbody tr th:only-of-type {\n",
              "        vertical-align: middle;\n",
              "    }\n",
              "\n",
              "    .dataframe tbody tr th {\n",
              "        vertical-align: top;\n",
              "    }\n",
              "\n",
              "    .dataframe thead th {\n",
              "        text-align: right;\n",
              "    }\n",
              "</style>\n",
              "<table border=\"1\" class=\"dataframe\">\n",
              "  <thead>\n",
              "    <tr style=\"text-align: right;\">\n",
              "      <th></th>\n",
              "      <th>3</th>\n",
              "      <th>4</th>\n",
              "      <th>5</th>\n",
              "      <th>6</th>\n",
              "      <th>7</th>\n",
              "      <th>8</th>\n",
              "    </tr>\n",
              "  </thead>\n",
              "  <tbody>\n",
              "    <tr>\n",
              "      <th>3</th>\n",
              "      <td>0</td>\n",
              "      <td>0</td>\n",
              "      <td>2</td>\n",
              "      <td>0</td>\n",
              "      <td>0</td>\n",
              "      <td>0</td>\n",
              "    </tr>\n",
              "    <tr>\n",
              "      <th>4</th>\n",
              "      <td>0</td>\n",
              "      <td>0</td>\n",
              "      <td>13</td>\n",
              "      <td>6</td>\n",
              "      <td>0</td>\n",
              "      <td>0</td>\n",
              "    </tr>\n",
              "    <tr>\n",
              "      <th>5</th>\n",
              "      <td>0</td>\n",
              "      <td>0</td>\n",
              "      <td>168</td>\n",
              "      <td>48</td>\n",
              "      <td>1</td>\n",
              "      <td>0</td>\n",
              "    </tr>\n",
              "    <tr>\n",
              "      <th>6</th>\n",
              "      <td>0</td>\n",
              "      <td>0</td>\n",
              "      <td>84</td>\n",
              "      <td>118</td>\n",
              "      <td>11</td>\n",
              "      <td>0</td>\n",
              "    </tr>\n",
              "    <tr>\n",
              "      <th>7</th>\n",
              "      <td>0</td>\n",
              "      <td>0</td>\n",
              "      <td>3</td>\n",
              "      <td>50</td>\n",
              "      <td>17</td>\n",
              "      <td>0</td>\n",
              "    </tr>\n",
              "    <tr>\n",
              "      <th>8</th>\n",
              "      <td>0</td>\n",
              "      <td>0</td>\n",
              "      <td>0</td>\n",
              "      <td>2</td>\n",
              "      <td>5</td>\n",
              "      <td>0</td>\n",
              "    </tr>\n",
              "  </tbody>\n",
              "</table>\n",
              "</div>"
            ],
            "text/plain": [
              "   3  4    5    6   7  8\n",
              "3  0  0    2    0   0  0\n",
              "4  0  0   13    6   0  0\n",
              "5  0  0  168   48   1  0\n",
              "6  0  0   84  118  11  0\n",
              "7  0  0    3   50  17  0\n",
              "8  0  0    0    2   5  0"
            ]
          },
          "metadata": {
            "tags": []
          },
          "execution_count": 32
        }
      ]
    },
    {
      "cell_type": "code",
      "metadata": {
        "colab": {
          "base_uri": "https://localhost:8080/",
          "height": 233
        },
        "id": "yYIsvR52kg8W",
        "outputId": "1d904b8b-dda5-4e79-be2a-d5f1292f28c3"
      },
      "source": [
        "white_pred=np.round(MODEL_NN_white(X_TEST_white).cpu().detach().numpy())   \n",
        "white_confusion=confusion_matrix(Y_TEST_white.cpu().detach().numpy(), white_pred)\n",
        "#white_confusion=pd.DataFrame(white_confusion,index=white_class,columns=white_class) \n",
        "white_confusion=pd.DataFrame(white_confusion,index=red_class,columns=red_class) \n",
        "white_confusion "
      ],
      "execution_count": 33,
      "outputs": [
        {
          "output_type": "execute_result",
          "data": {
            "text/html": [
              "<div>\n",
              "<style scoped>\n",
              "    .dataframe tbody tr th:only-of-type {\n",
              "        vertical-align: middle;\n",
              "    }\n",
              "\n",
              "    .dataframe tbody tr th {\n",
              "        vertical-align: top;\n",
              "    }\n",
              "\n",
              "    .dataframe thead th {\n",
              "        text-align: right;\n",
              "    }\n",
              "</style>\n",
              "<table border=\"1\" class=\"dataframe\">\n",
              "  <thead>\n",
              "    <tr style=\"text-align: right;\">\n",
              "      <th></th>\n",
              "      <th>3</th>\n",
              "      <th>4</th>\n",
              "      <th>5</th>\n",
              "      <th>6</th>\n",
              "      <th>7</th>\n",
              "      <th>8</th>\n",
              "    </tr>\n",
              "  </thead>\n",
              "  <tbody>\n",
              "    <tr>\n",
              "      <th>3</th>\n",
              "      <td>0</td>\n",
              "      <td>0</td>\n",
              "      <td>2</td>\n",
              "      <td>5</td>\n",
              "      <td>0</td>\n",
              "      <td>0</td>\n",
              "    </tr>\n",
              "    <tr>\n",
              "      <th>4</th>\n",
              "      <td>0</td>\n",
              "      <td>3</td>\n",
              "      <td>23</td>\n",
              "      <td>20</td>\n",
              "      <td>0</td>\n",
              "      <td>0</td>\n",
              "    </tr>\n",
              "    <tr>\n",
              "      <th>5</th>\n",
              "      <td>0</td>\n",
              "      <td>4</td>\n",
              "      <td>266</td>\n",
              "      <td>199</td>\n",
              "      <td>3</td>\n",
              "      <td>0</td>\n",
              "    </tr>\n",
              "    <tr>\n",
              "      <th>6</th>\n",
              "      <td>0</td>\n",
              "      <td>0</td>\n",
              "      <td>155</td>\n",
              "      <td>514</td>\n",
              "      <td>62</td>\n",
              "      <td>0</td>\n",
              "    </tr>\n",
              "    <tr>\n",
              "      <th>7</th>\n",
              "      <td>0</td>\n",
              "      <td>0</td>\n",
              "      <td>9</td>\n",
              "      <td>194</td>\n",
              "      <td>101</td>\n",
              "      <td>0</td>\n",
              "    </tr>\n",
              "    <tr>\n",
              "      <th>8</th>\n",
              "      <td>0</td>\n",
              "      <td>0</td>\n",
              "      <td>0</td>\n",
              "      <td>33</td>\n",
              "      <td>24</td>\n",
              "      <td>0</td>\n",
              "    </tr>\n",
              "  </tbody>\n",
              "</table>\n",
              "</div>"
            ],
            "text/plain": [
              "   3  4    5    6    7  8\n",
              "3  0  0    2    5    0  0\n",
              "4  0  3   23   20    0  0\n",
              "5  0  4  266  199    3  0\n",
              "6  0  0  155  514   62  0\n",
              "7  0  0    9  194  101  0\n",
              "8  0  0    0   33   24  0"
            ]
          },
          "metadata": {
            "tags": []
          },
          "execution_count": 33
        }
      ]
    },
    {
      "cell_type": "markdown",
      "metadata": {
        "id": "VAbhPvHjlTbE"
      },
      "source": [
        "None of the 9-point wine in the test dataset!   \n",
        "In the test dataset, one of the 3-point wine is classified as 8!"
      ]
    },
    {
      "cell_type": "markdown",
      "metadata": {
        "id": "sb0l5__YeMBQ"
      },
      "source": [
        "## Precision for the different classes"
      ]
    },
    {
      "cell_type": "markdown",
      "metadata": {
        "id": "NBWJFCdHpUYQ"
      },
      "source": [
        "using the full data"
      ]
    },
    {
      "cell_type": "code",
      "metadata": {
        "colab": {
          "base_uri": "https://localhost:8080/",
          "height": 263
        },
        "id": "bil5PopmvBO9",
        "outputId": "8c72c06c-d323-4db1-d301-5669a5fb17a5"
      },
      "source": [
        "red_precision=pd.DataFrame(index=red_class,columns=[\"T=0.5 (%)\",\"T=1.0 (%)\"])\n",
        "for i,c in enumerate(red_class):\n",
        "    label=Y_red_torch[Y_red_torch==red_class[i]]\n",
        "    predictor=X_red_torch[(Y_red_torch==red_class[i])[:,0],:]\n",
        "    pre1=100*TEST_NN(MODEL_NN_red,predictor,label,T_list=[0.5])[\"accuracy_list\"][0]\n",
        "    pre2=100*TEST_NN(MODEL_NN_red,predictor,label,T_list=[1.0])[\"accuracy_list\"][0]\n",
        "    red_precision.at[c, \"T=0.5 (%)\"] = pre1\n",
        "    red_precision.at[c, \"T=1.0 (%)\"] = pre2\n",
        "\n",
        "overall=pd.DataFrame(index=[\"Overall\"],columns=[\"T=0.5 (%)\",\"T=1.0 (%)\"])\n",
        "pre1=100*TEST_NN(MODEL_NN_red,X_red_torch,Y_red_torch[:,0],T_list=[0.5])[\"accuracy_list\"][0]\n",
        "pre2=100*TEST_NN(MODEL_NN_red,X_red_torch,Y_red_torch[:,0],T_list=[1.0])[\"accuracy_list\"][0]\n",
        "overall.at[\"Overall\", \"T=0.5 (%)\"] = pre1\n",
        "overall.at[\"Overall\", \"T=1.0 (%)\"] = pre2\n",
        "\n",
        "red_precision.append(overall)"
      ],
      "execution_count": 34,
      "outputs": [
        {
          "output_type": "execute_result",
          "data": {
            "text/html": [
              "<div>\n",
              "<style scoped>\n",
              "    .dataframe tbody tr th:only-of-type {\n",
              "        vertical-align: middle;\n",
              "    }\n",
              "\n",
              "    .dataframe tbody tr th {\n",
              "        vertical-align: top;\n",
              "    }\n",
              "\n",
              "    .dataframe thead th {\n",
              "        text-align: right;\n",
              "    }\n",
              "</style>\n",
              "<table border=\"1\" class=\"dataframe\">\n",
              "  <thead>\n",
              "    <tr style=\"text-align: right;\">\n",
              "      <th></th>\n",
              "      <th>T=0.5 (%)</th>\n",
              "      <th>T=1.0 (%)</th>\n",
              "    </tr>\n",
              "  </thead>\n",
              "  <tbody>\n",
              "    <tr>\n",
              "      <th>3</th>\n",
              "      <td>0</td>\n",
              "      <td>0</td>\n",
              "    </tr>\n",
              "    <tr>\n",
              "      <th>4</th>\n",
              "      <td>0</td>\n",
              "      <td>32.0755</td>\n",
              "    </tr>\n",
              "    <tr>\n",
              "      <th>5</th>\n",
              "      <td>78.8546</td>\n",
              "      <td>95.301</td>\n",
              "    </tr>\n",
              "    <tr>\n",
              "      <th>6</th>\n",
              "      <td>60.1881</td>\n",
              "      <td>96.8652</td>\n",
              "    </tr>\n",
              "    <tr>\n",
              "      <th>7</th>\n",
              "      <td>28.1407</td>\n",
              "      <td>75.3769</td>\n",
              "    </tr>\n",
              "    <tr>\n",
              "      <th>8</th>\n",
              "      <td>0</td>\n",
              "      <td>0</td>\n",
              "    </tr>\n",
              "    <tr>\n",
              "      <th>Overall</th>\n",
              "      <td>61.1007</td>\n",
              "      <td>89.681</td>\n",
              "    </tr>\n",
              "  </tbody>\n",
              "</table>\n",
              "</div>"
            ],
            "text/plain": [
              "        T=0.5 (%) T=1.0 (%)\n",
              "3               0         0\n",
              "4               0   32.0755\n",
              "5         78.8546    95.301\n",
              "6         60.1881   96.8652\n",
              "7         28.1407   75.3769\n",
              "8               0         0\n",
              "Overall   61.1007    89.681"
            ]
          },
          "metadata": {
            "tags": []
          },
          "execution_count": 34
        }
      ]
    },
    {
      "cell_type": "code",
      "metadata": {
        "colab": {
          "base_uri": "https://localhost:8080/",
          "height": 294
        },
        "id": "CdLcp1Dtn3Sj",
        "outputId": "4396ad22-d9e0-405a-dcc2-0670159079ed"
      },
      "source": [
        "white_precision=pd.DataFrame(index=white_class,columns=[\"T=0.5 (%)\",\"T=1.0 (%)\"])\n",
        "for i,c in enumerate(white_class):\n",
        "    label=Y_white_torch[Y_white_torch==white_class[i]]\n",
        "    predictor=X_white_torch[(Y_white_torch==white_class[i])[:,0],:]\n",
        "    pre1=100*TEST_NN(MODEL_NN_white,predictor,label,T_list=[0.5])[\"accuracy_list\"][0]\n",
        "    pre2=100*TEST_NN(MODEL_NN_white,predictor,label,T_list=[1.0])[\"accuracy_list\"][0]\n",
        "    white_precision.at[c, \"T=0.5 (%)\"] = pre1\n",
        "    white_precision.at[c, \"T=1.0 (%)\"] = pre2\n",
        "\n",
        "overall=pd.DataFrame(index=[\"Overall\"],columns=[\"T=0.5 (%)\",\"T=1.0 (%)\"])\n",
        "pre1=100*TEST_NN(MODEL_NN_white,X_white_torch,Y_white_torch[:,0],T_list=[0.5])[\"accuracy_list\"][0]\n",
        "pre2=100*TEST_NN(MODEL_NN_white,X_white_torch,Y_white_torch[:,0],T_list=[1.0])[\"accuracy_list\"][0]\n",
        "overall.at[\"Overall\", \"T=0.5 (%)\"] = pre1\n",
        "overall.at[\"Overall\", \"T=1.0 (%)\"] = pre2\n",
        "\n",
        "white_precision.append(overall)"
      ],
      "execution_count": 35,
      "outputs": [
        {
          "output_type": "execute_result",
          "data": {
            "text/html": [
              "<div>\n",
              "<style scoped>\n",
              "    .dataframe tbody tr th:only-of-type {\n",
              "        vertical-align: middle;\n",
              "    }\n",
              "\n",
              "    .dataframe tbody tr th {\n",
              "        vertical-align: top;\n",
              "    }\n",
              "\n",
              "    .dataframe thead th {\n",
              "        text-align: right;\n",
              "    }\n",
              "</style>\n",
              "<table border=\"1\" class=\"dataframe\">\n",
              "  <thead>\n",
              "    <tr style=\"text-align: right;\">\n",
              "      <th></th>\n",
              "      <th>T=0.5 (%)</th>\n",
              "      <th>T=1.0 (%)</th>\n",
              "    </tr>\n",
              "  </thead>\n",
              "  <tbody>\n",
              "    <tr>\n",
              "      <th>3</th>\n",
              "      <td>0</td>\n",
              "      <td>0</td>\n",
              "    </tr>\n",
              "    <tr>\n",
              "      <th>4</th>\n",
              "      <td>5.52147</td>\n",
              "      <td>34.9693</td>\n",
              "    </tr>\n",
              "    <tr>\n",
              "      <th>5</th>\n",
              "      <td>58.6822</td>\n",
              "      <td>90.1853</td>\n",
              "    </tr>\n",
              "    <tr>\n",
              "      <th>6</th>\n",
              "      <td>74.2948</td>\n",
              "      <td>96.9063</td>\n",
              "    </tr>\n",
              "    <tr>\n",
              "      <th>7</th>\n",
              "      <td>33.5227</td>\n",
              "      <td>77.8409</td>\n",
              "    </tr>\n",
              "    <tr>\n",
              "      <th>8</th>\n",
              "      <td>0</td>\n",
              "      <td>10.2857</td>\n",
              "    </tr>\n",
              "    <tr>\n",
              "      <th>9</th>\n",
              "      <td>0</td>\n",
              "      <td>0</td>\n",
              "    </tr>\n",
              "    <tr>\n",
              "      <th>Overall</th>\n",
              "      <td>57.0029</td>\n",
              "      <td>85.831</td>\n",
              "    </tr>\n",
              "  </tbody>\n",
              "</table>\n",
              "</div>"
            ],
            "text/plain": [
              "        T=0.5 (%) T=1.0 (%)\n",
              "3               0         0\n",
              "4         5.52147   34.9693\n",
              "5         58.6822   90.1853\n",
              "6         74.2948   96.9063\n",
              "7         33.5227   77.8409\n",
              "8               0   10.2857\n",
              "9               0         0\n",
              "Overall   57.0029    85.831"
            ]
          },
          "metadata": {
            "tags": []
          },
          "execution_count": 35
        }
      ]
    },
    {
      "cell_type": "markdown",
      "metadata": {
        "id": "tyHR8J1k8YdI"
      },
      "source": [
        "# To fix the Problem of Imbalance data: SMOTE\n",
        "https://machinelearningmastery.com/smote-oversampling-for-imbalanced-classification/   \n",
        "  \n",
        "N. V. Chawla, K. W. Bowyer, L. O. Hall, W. P. Kegelmeyer (2002). SMOTE: Synthetic Minority Over-sampling Technique. Journal Of Artificial Intelligence Research, Volume 16, pages 321-357.\n",
        " "
      ]
    },
    {
      "cell_type": "markdown",
      "metadata": {
        "id": "eVNYHjSZ0cXl"
      },
      "source": [
        "Using the syntheric dataset for the training/testing   \n",
        "Using the original dataset to get the confusion matrices and the precision"
      ]
    },
    {
      "cell_type": "code",
      "metadata": {
        "id": "cgUskdq0sbBx",
        "colab": {
          "base_uri": "https://localhost:8080/"
        },
        "outputId": "abc9cde7-21a7-47f5-9730-b1568a47e34a"
      },
      "source": [
        "from imblearn.over_sampling import SMOTE\n",
        "from collections import Counter\n",
        "import statistics"
      ],
      "execution_count": 36,
      "outputs": [
        {
          "output_type": "stream",
          "text": [
            "/usr/local/lib/python3.7/dist-packages/sklearn/externals/six.py:31: FutureWarning: The module is deprecated in version 0.21 and will be removed in version 0.23 since we've dropped support for Python 2.7. Please rely on the official version of six (https://pypi.org/project/six/).\n",
            "  \"(https://pypi.org/project/six/).\", FutureWarning)\n",
            "/usr/local/lib/python3.7/dist-packages/sklearn/utils/deprecation.py:144: FutureWarning: The sklearn.neighbors.base module is  deprecated in version 0.22 and will be removed in version 0.24. The corresponding classes / functions should instead be imported from sklearn.neighbors. Anything that cannot be imported from sklearn.neighbors is now part of the private API.\n",
            "  warnings.warn(message, FutureWarning)\n"
          ],
          "name": "stderr"
        }
      ]
    },
    {
      "cell_type": "markdown",
      "metadata": {
        "id": "JAlvWC-gB-VX"
      },
      "source": [
        "## resample only the minority class "
      ]
    },
    {
      "cell_type": "markdown",
      "metadata": {
        "id": "C2SDEHMUDdJO"
      },
      "source": [
        "Need to decide the size of oversampling"
      ]
    },
    {
      "cell_type": "markdown",
      "metadata": {
        "id": "Ngm4qNE12Wii"
      },
      "source": [
        "?? underfitting?"
      ]
    },
    {
      "cell_type": "markdown",
      "metadata": {
        "id": "DoarcQxIEAcq"
      },
      "source": [
        "### Max"
      ]
    },
    {
      "cell_type": "code",
      "metadata": {
        "colab": {
          "base_uri": "https://localhost:8080/"
        },
        "id": "vHmITsAdBvog",
        "outputId": "06f6b405-6648-4806-d414-33833c07b4fe"
      },
      "source": [
        "counter = Counter(Y_white[\"quality\"])\n",
        "print(counter)\n",
        "Max=max(counter.values()) #2198\n",
        "sm = SMOTE(sampling_strategy={3:Max,9:Max},random_state=24,k_neighbors=4)\n",
        "Augmented_X_white,Augmented_Y_white=sm.fit_sample(X_white, Y_white[\"quality\"])\n",
        "counter = Counter(Augmented_Y_white)\n",
        "print(counter)"
      ],
      "execution_count": 37,
      "outputs": [
        {
          "output_type": "stream",
          "text": [
            "Counter({6: 2198, 5: 1457, 7: 880, 8: 175, 4: 163, 3: 20, 9: 5})\n",
            "Counter({6: 2198, 3: 2198, 9: 2198, 5: 1457, 7: 880, 8: 175, 4: 163})\n"
          ],
          "name": "stdout"
        },
        {
          "output_type": "stream",
          "text": [
            "/usr/local/lib/python3.7/dist-packages/sklearn/utils/deprecation.py:87: FutureWarning: Function safe_indexing is deprecated; safe_indexing is deprecated in version 0.22 and will be removed in version 0.24.\n",
            "  warnings.warn(msg, category=FutureWarning)\n",
            "/usr/local/lib/python3.7/dist-packages/sklearn/utils/deprecation.py:87: FutureWarning: Function safe_indexing is deprecated; safe_indexing is deprecated in version 0.22 and will be removed in version 0.24.\n",
            "  warnings.warn(msg, category=FutureWarning)\n"
          ],
          "name": "stderr"
        }
      ]
    },
    {
      "cell_type": "code",
      "metadata": {
        "colab": {
          "base_uri": "https://localhost:8080/"
        },
        "id": "eR6SY_kgFhjj",
        "outputId": "3a080ce2-6d11-49c2-c72a-aacda3ed539e"
      },
      "source": [
        "counter = Counter(Y_red[\"quality\"])\n",
        "print(counter)\n",
        "Max=max(counter.values()) \n",
        "sm = SMOTE(sampling_strategy={3:Max,8:Max,4:Max},random_state=24,k_neighbors=4)\n",
        "Augmented_X_red,Augmented_Y_red=sm.fit_sample(X_red, Y_red[\"quality\"])\n",
        "counter = Counter(Augmented_Y_red)\n",
        "print(counter)"
      ],
      "execution_count": 38,
      "outputs": [
        {
          "output_type": "stream",
          "text": [
            "Counter({5: 681, 6: 638, 7: 199, 4: 53, 8: 18, 3: 10})\n",
            "Counter({5: 681, 4: 681, 8: 681, 3: 681, 6: 638, 7: 199})\n"
          ],
          "name": "stdout"
        },
        {
          "output_type": "stream",
          "text": [
            "/usr/local/lib/python3.7/dist-packages/sklearn/utils/deprecation.py:87: FutureWarning: Function safe_indexing is deprecated; safe_indexing is deprecated in version 0.22 and will be removed in version 0.24.\n",
            "  warnings.warn(msg, category=FutureWarning)\n",
            "/usr/local/lib/python3.7/dist-packages/sklearn/utils/deprecation.py:87: FutureWarning: Function safe_indexing is deprecated; safe_indexing is deprecated in version 0.22 and will be removed in version 0.24.\n",
            "  warnings.warn(msg, category=FutureWarning)\n",
            "/usr/local/lib/python3.7/dist-packages/sklearn/utils/deprecation.py:87: FutureWarning: Function safe_indexing is deprecated; safe_indexing is deprecated in version 0.22 and will be removed in version 0.24.\n",
            "  warnings.warn(msg, category=FutureWarning)\n"
          ],
          "name": "stderr"
        }
      ]
    },
    {
      "cell_type": "code",
      "metadata": {
        "colab": {
          "base_uri": "https://localhost:8080/",
          "height": 70
        },
        "id": "82_BJaHuE7nA",
        "outputId": "063fc650-76d2-4289-bf00-11bc86efd6e5"
      },
      "source": [
        "X_TRAIN_white, X_TEST_white, Y_TRAIN_white, Y_TEST_white = train_test_split(Augmented_X_white, Augmented_Y_white, test_size=0.33, random_state=42)\n",
        "X_TRAIN_red, X_TEST_red, Y_TRAIN_red, Y_TEST_red = train_test_split(Augmented_X_red, Augmented_Y_red, test_size=0.33, random_state=42)\n",
        "\n",
        "TRAIN_scaler_white = preprocessing.StandardScaler().fit(X_TRAIN_white)\n",
        "TEST_scaler_white = preprocessing.StandardScaler().fit(X_TEST_white)\n",
        "X_TRAIN_white = TO_TORCH(TRAIN_scaler_white.transform(X_TRAIN_white))\n",
        "X_TEST_white = TO_TORCH(TEST_scaler_white.transform(X_TEST_white))\n",
        "\n",
        "TRAIN_scaler_red = preprocessing.StandardScaler().fit(X_TRAIN_red)\n",
        "TEST_scaler_red = preprocessing.StandardScaler().fit(X_TEST_red)\n",
        "X_TRAIN_red = TO_TORCH(TRAIN_scaler_red.transform(X_TRAIN_red))\n",
        "X_TEST_red = TO_TORCH(TEST_scaler_red.transform(X_TEST_red))\n",
        "\n",
        "Y_TRAIN_white = TO_TORCH(Y_TRAIN_white)\n",
        "Y_TEST_white = TO_TORCH(Y_TEST_white)\n",
        "\n",
        "Y_TRAIN_red = TO_TORCH(Y_TRAIN_red)\n",
        "Y_TEST_red = TO_TORCH(Y_TEST_red)\n",
        "\n",
        "\"\"\"scaler_white = preprocessing.StandardScaler().fit(X_white)\n",
        "scaler_red = preprocessing.StandardScaler().fit(X_red)\n",
        "X_white_torch = TO_TORCH(scaler_white.transform(X_white))\n",
        "X_red_torch = TO_TORCH(scaler_red.transform(X_red))\n",
        "Y_white_torch = TO_TORCH(Y_white)\n",
        "Y_red_torch = TO_TORCH(Y_red)\"\"\""
      ],
      "execution_count": 39,
      "outputs": [
        {
          "output_type": "execute_result",
          "data": {
            "application/vnd.google.colaboratory.intrinsic+json": {
              "type": "string"
            },
            "text/plain": [
              "'scaler_white = preprocessing.StandardScaler().fit(X_white)\\nscaler_red = preprocessing.StandardScaler().fit(X_red)\\nX_white_torch = TO_TORCH(scaler_white.transform(X_white))\\nX_red_torch = TO_TORCH(scaler_red.transform(X_red))\\nY_white_torch = TO_TORCH(Y_white)\\nY_red_torch = TO_TORCH(Y_red)'"
            ]
          },
          "metadata": {
            "tags": []
          },
          "execution_count": 39
        }
      ]
    },
    {
      "cell_type": "code",
      "metadata": {
        "colab": {
          "base_uri": "https://localhost:8080/",
          "height": 605
        },
        "id": "dHpbSiCYF6nb",
        "outputId": "35b63243-c7a2-46d8-fcc5-0b8582740a09"
      },
      "source": [
        "result_white=TRAIN_NN(X_TRAIN_white,Y_TRAIN_white,[11],EPOCH=30000)\n",
        "MODEL_NN_white=result_white[\"MODEL\"]\n",
        "LOSS_white=result_white[\"LOSS_ARR\"]\n",
        "\n",
        "T_list=[0.25,0.5,1]\n",
        "Result_TEST_white=TEST_NN(MODEL_NN_white,X_TEST_white,Y_TEST_white,T_list)\n",
        "print(\"Test MAD is {};\".format(round(Result_TEST_white[\"MAD\"],3)))\n",
        "for i,T in enumerate(T_list): \n",
        "    acc=Result_TEST_white[\"accuracy_list\"][i]\n",
        "    print(\"Test Accuracy is {}% (T={});\".format(round(acc*100,3),T))\n",
        "test_kappa=Result_TEST_white[\"kappa\"]\n",
        "print(\"Test KAPPA is {}% (T=0.5);\".format(round(test_kappa*100,3)))\n",
        "\n",
        "T_list_REC=np.linspace(0,2,100)\n",
        "ACCURACY_list_REC_white=TEST_NN(MODEL_NN_white,X_TEST_white,Y_TEST_white,T_list_REC)[\"accuracy_list\"]\n",
        "plt.plot(T_list_REC,ACCURACY_list_REC_white)\n",
        "plt.xlabel(\"Tolerance\")\n",
        "plt.ylabel(\"Accuracy\")\n",
        "plt.title(\"REC \\n White wine\")"
      ],
      "execution_count": 40,
      "outputs": [
        {
          "output_type": "stream",
          "text": [
            " 21%|██        | 6169/30000 [00:06<00:23, 995.08it/s] "
          ],
          "name": "stderr"
        },
        {
          "output_type": "stream",
          "text": [
            "\n",
            " After 6000 Epochs: MAD is 1.152; Accuracy is 35.427% (T=0.5); KAPPA is 24.936% (T=0.5)\n"
          ],
          "name": "stdout"
        },
        {
          "output_type": "stream",
          "text": [
            " 41%|████      | 12173/30000 [00:11<00:17, 1033.62it/s]"
          ],
          "name": "stderr"
        },
        {
          "output_type": "stream",
          "text": [
            "\n",
            " After 12000 Epochs: MAD is 1.008; Accuracy is 43.913% (T=0.5); KAPPA is 33.125% (T=0.5)\n"
          ],
          "name": "stdout"
        },
        {
          "output_type": "stream",
          "text": [
            " 60%|██████    | 18118/30000 [00:17<00:11, 1037.54it/s]"
          ],
          "name": "stderr"
        },
        {
          "output_type": "stream",
          "text": [
            "\n",
            " After 18000 Epochs: MAD is 0.878; Accuracy is 51.24% (T=0.5); KAPPA is 41.05% (T=0.5)\n"
          ],
          "name": "stdout"
        },
        {
          "output_type": "stream",
          "text": [
            " 81%|████████  | 24164/30000 [00:23<00:05, 1007.02it/s]"
          ],
          "name": "stderr"
        },
        {
          "output_type": "stream",
          "text": [
            "\n",
            " After 24000 Epochs: MAD is 0.79; Accuracy is 52.705% (T=0.5); KAPPA is 42.603% (T=0.5)\n"
          ],
          "name": "stdout"
        },
        {
          "output_type": "stream",
          "text": [
            "100%|██████████| 30000/30000 [00:29<00:00, 1031.67it/s]\n"
          ],
          "name": "stderr"
        },
        {
          "output_type": "stream",
          "text": [
            "\n",
            " After 30000 Epochs: MAD is 0.748; Accuracy is 54.283% (T=0.5); KAPPA is 44.438% (T=0.5)\n",
            "Test MAD is 0.757;\n",
            "Test Accuracy is 38.705% (T=0.25);\n",
            "Test Accuracy is 52.272% (T=0.5);\n",
            "Test Accuracy is 71.036% (T=1);\n",
            "Test KAPPA is 42.044% (T=0.5);\n"
          ],
          "name": "stdout"
        },
        {
          "output_type": "execute_result",
          "data": {
            "text/plain": [
              "Text(0.5, 1.0, 'REC \\n White wine')"
            ]
          },
          "metadata": {
            "tags": []
          },
          "execution_count": 40
        },
        {
          "output_type": "display_data",
          "data": {
            "image/png": "[encoded data removed]",
            "text/plain": [
              "<Figure size 432x288 with 1 Axes>"
            ]
          },
          "metadata": {
            "tags": [],
            "needs_background": "light"
          }
        }
      ]
    },
    {
      "cell_type": "code",
      "metadata": {
        "colab": {
          "base_uri": "https://localhost:8080/",
          "height": 605
        },
        "id": "Qs1qAOtNLYya",
        "outputId": "170739d2-20d8-4971-a82c-d13464b160fe"
      },
      "source": [
        "result_red=TRAIN_NN(X_TRAIN_red,Y_TRAIN_red,[11],EPOCH=30000)\n",
        "MODEL_NN_red=result_red[\"MODEL\"]\n",
        "LOSS_red=result_red[\"LOSS_ARR\"]\n",
        "\n",
        "T_list=[0.25,0.5,1]\n",
        "Result_TEST_red=TEST_NN(MODEL_NN_red,X_TEST_red,Y_TEST_red,T_list)\n",
        "print(\"Test MAD is {};\".format(round(Result_TEST_red[\"MAD\"],3)))\n",
        "for i,T in enumerate(T_list): \n",
        "    acc=Result_TEST_red[\"accuracy_list\"][i]\n",
        "    print(\"Test Accuracy is {}% (T={});\".format(round(acc*100,3),T))\n",
        "test_kappa=Result_TEST_red[\"kappa\"]\n",
        "print(\"Test KAPPA is {}% (T=0.5);\".format(round(test_kappa*100,3)))\n",
        "\n",
        "\n",
        "T_list_REC=np.linspace(0,2,100)\n",
        "ACCURACY_list_REC_red=TEST_NN(MODEL_NN_red,X_TEST_red,Y_TEST_red,T_list_REC)[\"accuracy_list\"]\n",
        "plt.plot(T_list_REC,ACCURACY_list_REC_red)\n",
        "plt.xlabel(\"Tolerance\")\n",
        "plt.ylabel(\"Accuracy\")\n",
        "plt.title(\"REC \\n Red wine\")"
      ],
      "execution_count": 41,
      "outputs": [
        {
          "output_type": "stream",
          "text": [
            " 20%|██        | 6115/30000 [00:06<00:23, 1024.04it/s]"
          ],
          "name": "stderr"
        },
        {
          "output_type": "stream",
          "text": [
            "\n",
            " After 6000 Epochs: MAD is 0.615; Accuracy is 51.195% (T=0.5); KAPPA is 41.04% (T=0.5)\n"
          ],
          "name": "stdout"
        },
        {
          "output_type": "stream",
          "text": [
            " 41%|████      | 12152/30000 [00:11<00:17, 1022.14it/s]"
          ],
          "name": "stderr"
        },
        {
          "output_type": "stream",
          "text": [
            "\n",
            " After 12000 Epochs: MAD is 0.583; Accuracy is 54.382% (T=0.5); KAPPA is 44.834% (T=0.5)\n"
          ],
          "name": "stdout"
        },
        {
          "output_type": "stream",
          "text": [
            " 60%|██████    | 18131/30000 [00:17<00:11, 1005.29it/s]"
          ],
          "name": "stderr"
        },
        {
          "output_type": "stream",
          "text": [
            "\n",
            " After 18000 Epochs: MAD is 0.551; Accuracy is 56.226% (T=0.5); KAPPA is 47.006% (T=0.5)\n"
          ],
          "name": "stdout"
        },
        {
          "output_type": "stream",
          "text": [
            " 80%|████████  | 24114/30000 [00:23<00:05, 1039.80it/s]"
          ],
          "name": "stderr"
        },
        {
          "output_type": "stream",
          "text": [
            "\n",
            " After 24000 Epochs: MAD is 0.528; Accuracy is 58.113% (T=0.5); KAPPA is 49.129% (T=0.5)\n"
          ],
          "name": "stdout"
        },
        {
          "output_type": "stream",
          "text": [
            "100%|██████████| 30000/30000 [00:29<00:00, 1025.98it/s]"
          ],
          "name": "stderr"
        },
        {
          "output_type": "stream",
          "text": [
            "\n",
            " After 30000 Epochs: MAD is 0.509; Accuracy is 60.839% (T=0.5); KAPPA is 52.319% (T=0.5)\n",
            "Test MAD is 0.538;\n",
            "Test Accuracy is 46.003% (T=0.25);\n",
            "Test Accuracy is 62.755% (T=0.5);\n",
            "Test Accuracy is 81.633% (T=1);\n",
            "Test KAPPA is 54.447% (T=0.5);\n"
          ],
          "name": "stdout"
        },
        {
          "output_type": "stream",
          "text": [
            "\n"
          ],
          "name": "stderr"
        },
        {
          "output_type": "execute_result",
          "data": {
            "text/plain": [
              "Text(0.5, 1.0, 'REC \\n Red wine')"
            ]
          },
          "metadata": {
            "tags": []
          },
          "execution_count": 41
        },
        {
          "output_type": "display_data",
          "data": {
            "image/png": "[encoded data removed]",
            "text/plain": [
              "<Figure size 432x288 with 1 Axes>"
            ]
          },
          "metadata": {
            "tags": [],
            "needs_background": "light"
          }
        }
      ]
    },
    {
      "cell_type": "code",
      "metadata": {
        "colab": {
          "base_uri": "https://localhost:8080/",
          "height": 233
        },
        "id": "WeiC4jyOK16L",
        "outputId": "d3682b32-501f-452a-9d54-af366ef23eea"
      },
      "source": [
        "red_pred=np.round(MODEL_NN_red(X_red_torch).cpu().detach().numpy())[:,0]\n",
        "red_pred=np.where(red_pred >=8.0, 8, red_pred)\n",
        "red_pred=np.where(red_pred <=3.0, 3, red_pred)  \n",
        "red_confusion=confusion_matrix(Y_red_torch.cpu().detach().numpy(), red_pred)\n",
        "red_confusion=pd.DataFrame(red_confusion,index=red_class,columns=red_class) \n",
        "red_confusion "
      ],
      "execution_count": 42,
      "outputs": [
        {
          "output_type": "execute_result",
          "data": {
            "text/html": [
              "<div>\n",
              "<style scoped>\n",
              "    .dataframe tbody tr th:only-of-type {\n",
              "        vertical-align: middle;\n",
              "    }\n",
              "\n",
              "    .dataframe tbody tr th {\n",
              "        vertical-align: top;\n",
              "    }\n",
              "\n",
              "    .dataframe thead th {\n",
              "        text-align: right;\n",
              "    }\n",
              "</style>\n",
              "<table border=\"1\" class=\"dataframe\">\n",
              "  <thead>\n",
              "    <tr style=\"text-align: right;\">\n",
              "      <th></th>\n",
              "      <th>3</th>\n",
              "      <th>4</th>\n",
              "      <th>5</th>\n",
              "      <th>6</th>\n",
              "      <th>7</th>\n",
              "      <th>8</th>\n",
              "    </tr>\n",
              "  </thead>\n",
              "  <tbody>\n",
              "    <tr>\n",
              "      <th>3</th>\n",
              "      <td>8</td>\n",
              "      <td>2</td>\n",
              "      <td>0</td>\n",
              "      <td>0</td>\n",
              "      <td>0</td>\n",
              "      <td>0</td>\n",
              "    </tr>\n",
              "    <tr>\n",
              "      <th>4</th>\n",
              "      <td>15</td>\n",
              "      <td>22</td>\n",
              "      <td>11</td>\n",
              "      <td>4</td>\n",
              "      <td>0</td>\n",
              "      <td>1</td>\n",
              "    </tr>\n",
              "    <tr>\n",
              "      <th>5</th>\n",
              "      <td>65</td>\n",
              "      <td>236</td>\n",
              "      <td>276</td>\n",
              "      <td>74</td>\n",
              "      <td>21</td>\n",
              "      <td>9</td>\n",
              "    </tr>\n",
              "    <tr>\n",
              "      <th>6</th>\n",
              "      <td>19</td>\n",
              "      <td>122</td>\n",
              "      <td>190</td>\n",
              "      <td>145</td>\n",
              "      <td>90</td>\n",
              "      <td>72</td>\n",
              "    </tr>\n",
              "    <tr>\n",
              "      <th>7</th>\n",
              "      <td>0</td>\n",
              "      <td>9</td>\n",
              "      <td>22</td>\n",
              "      <td>33</td>\n",
              "      <td>53</td>\n",
              "      <td>82</td>\n",
              "    </tr>\n",
              "    <tr>\n",
              "      <th>8</th>\n",
              "      <td>0</td>\n",
              "      <td>0</td>\n",
              "      <td>0</td>\n",
              "      <td>0</td>\n",
              "      <td>5</td>\n",
              "      <td>13</td>\n",
              "    </tr>\n",
              "  </tbody>\n",
              "</table>\n",
              "</div>"
            ],
            "text/plain": [
              "    3    4    5    6   7   8\n",
              "3   8    2    0    0   0   0\n",
              "4  15   22   11    4   0   1\n",
              "5  65  236  276   74  21   9\n",
              "6  19  122  190  145  90  72\n",
              "7   0    9   22   33  53  82\n",
              "8   0    0    0    0   5  13"
            ]
          },
          "metadata": {
            "tags": []
          },
          "execution_count": 42
        }
      ]
    },
    {
      "cell_type": "code",
      "metadata": {
        "colab": {
          "base_uri": "https://localhost:8080/",
          "height": 263
        },
        "id": "zCztuL47LQyi",
        "outputId": "74bb1633-c175-4d7e-9454-07c753bf84c4"
      },
      "source": [
        "white_pred=np.round(MODEL_NN_white(X_white_torch).cpu().detach().numpy())[:,0]\n",
        "white_pred=np.where(white_pred >=8.0, 8, white_pred)\n",
        "white_pred=np.where(white_pred <=3.0, 3, white_pred)\n",
        "white_confusion=confusion_matrix(Y_white_torch.cpu().detach().numpy(), white_pred)\n",
        "white_confusion=pd.DataFrame(white_confusion,index=white_class,columns=white_class) \n",
        "white_confusion "
      ],
      "execution_count": 43,
      "outputs": [
        {
          "output_type": "execute_result",
          "data": {
            "text/html": [
              "<div>\n",
              "<style scoped>\n",
              "    .dataframe tbody tr th:only-of-type {\n",
              "        vertical-align: middle;\n",
              "    }\n",
              "\n",
              "    .dataframe tbody tr th {\n",
              "        vertical-align: top;\n",
              "    }\n",
              "\n",
              "    .dataframe thead th {\n",
              "        text-align: right;\n",
              "    }\n",
              "</style>\n",
              "<table border=\"1\" class=\"dataframe\">\n",
              "  <thead>\n",
              "    <tr style=\"text-align: right;\">\n",
              "      <th></th>\n",
              "      <th>3</th>\n",
              "      <th>4</th>\n",
              "      <th>5</th>\n",
              "      <th>6</th>\n",
              "      <th>7</th>\n",
              "      <th>8</th>\n",
              "      <th>9</th>\n",
              "    </tr>\n",
              "  </thead>\n",
              "  <tbody>\n",
              "    <tr>\n",
              "      <th>3</th>\n",
              "      <td>6</td>\n",
              "      <td>4</td>\n",
              "      <td>4</td>\n",
              "      <td>2</td>\n",
              "      <td>1</td>\n",
              "      <td>3</td>\n",
              "      <td>0</td>\n",
              "    </tr>\n",
              "    <tr>\n",
              "      <th>4</th>\n",
              "      <td>16</td>\n",
              "      <td>63</td>\n",
              "      <td>56</td>\n",
              "      <td>18</td>\n",
              "      <td>3</td>\n",
              "      <td>7</td>\n",
              "      <td>0</td>\n",
              "    </tr>\n",
              "    <tr>\n",
              "      <th>5</th>\n",
              "      <td>64</td>\n",
              "      <td>314</td>\n",
              "      <td>671</td>\n",
              "      <td>282</td>\n",
              "      <td>79</td>\n",
              "      <td>47</td>\n",
              "      <td>0</td>\n",
              "    </tr>\n",
              "    <tr>\n",
              "      <th>6</th>\n",
              "      <td>21</td>\n",
              "      <td>172</td>\n",
              "      <td>694</td>\n",
              "      <td>723</td>\n",
              "      <td>326</td>\n",
              "      <td>262</td>\n",
              "      <td>0</td>\n",
              "    </tr>\n",
              "    <tr>\n",
              "      <th>7</th>\n",
              "      <td>1</td>\n",
              "      <td>26</td>\n",
              "      <td>118</td>\n",
              "      <td>265</td>\n",
              "      <td>234</td>\n",
              "      <td>236</td>\n",
              "      <td>0</td>\n",
              "    </tr>\n",
              "    <tr>\n",
              "      <th>8</th>\n",
              "      <td>2</td>\n",
              "      <td>8</td>\n",
              "      <td>25</td>\n",
              "      <td>39</td>\n",
              "      <td>39</td>\n",
              "      <td>62</td>\n",
              "      <td>0</td>\n",
              "    </tr>\n",
              "    <tr>\n",
              "      <th>9</th>\n",
              "      <td>0</td>\n",
              "      <td>0</td>\n",
              "      <td>0</td>\n",
              "      <td>0</td>\n",
              "      <td>0</td>\n",
              "      <td>5</td>\n",
              "      <td>0</td>\n",
              "    </tr>\n",
              "  </tbody>\n",
              "</table>\n",
              "</div>"
            ],
            "text/plain": [
              "    3    4    5    6    7    8  9\n",
              "3   6    4    4    2    1    3  0\n",
              "4  16   63   56   18    3    7  0\n",
              "5  64  314  671  282   79   47  0\n",
              "6  21  172  694  723  326  262  0\n",
              "7   1   26  118  265  234  236  0\n",
              "8   2    8   25   39   39   62  0\n",
              "9   0    0    0    0    0    5  0"
            ]
          },
          "metadata": {
            "tags": []
          },
          "execution_count": 43
        }
      ]
    },
    {
      "cell_type": "code",
      "metadata": {
        "colab": {
          "base_uri": "https://localhost:8080/",
          "height": 263
        },
        "id": "MFYbdXWFSeg1",
        "outputId": "a7fd03b0-bc93-4533-e0c6-a9bcf35e355b"
      },
      "source": [
        "red_precision=pd.DataFrame(index=red_class,columns=[\"T=0.5 (%)\",\"T=1.0 (%)\"])\n",
        "for i,c in enumerate(red_class):\n",
        "    label=Y_red_torch[Y_red_torch==red_class[i]]\n",
        "    predictor=X_red_torch[(Y_red_torch==red_class[i])[:,0],:]\n",
        "    pre1=100*TEST_NN(MODEL_NN_red,predictor,label,T_list=[0.5])[\"accuracy_list\"][0]\n",
        "    pre2=100*TEST_NN(MODEL_NN_red,predictor,label,T_list=[1.0])[\"accuracy_list\"][0]\n",
        "    red_precision.at[c, \"T=0.5 (%)\"] = pre1\n",
        "    red_precision.at[c, \"T=1.0 (%)\"] = pre2\n",
        "\n",
        "overall=pd.DataFrame(index=[\"Overall\"],columns=[\"T=0.5 (%)\",\"T=1.0 (%)\"])\n",
        "pre1=100*TEST_NN(MODEL_NN_red,X_red_torch,Y_red_torch[:,0],T_list=[0.5])[\"accuracy_list\"][0]\n",
        "pre2=100*TEST_NN(MODEL_NN_red,X_red_torch,Y_red_torch[:,0],T_list=[1.0])[\"accuracy_list\"][0]\n",
        "overall.at[\"Overall\", \"T=0.5 (%)\"] = pre1\n",
        "overall.at[\"Overall\", \"T=1.0 (%)\"] = pre2\n",
        "\n",
        "red_precision.append(overall)"
      ],
      "execution_count": 44,
      "outputs": [
        {
          "output_type": "execute_result",
          "data": {
            "text/html": [
              "<div>\n",
              "<style scoped>\n",
              "    .dataframe tbody tr th:only-of-type {\n",
              "        vertical-align: middle;\n",
              "    }\n",
              "\n",
              "    .dataframe tbody tr th {\n",
              "        vertical-align: top;\n",
              "    }\n",
              "\n",
              "    .dataframe thead th {\n",
              "        text-align: right;\n",
              "    }\n",
              "</style>\n",
              "<table border=\"1\" class=\"dataframe\">\n",
              "  <thead>\n",
              "    <tr style=\"text-align: right;\">\n",
              "      <th></th>\n",
              "      <th>T=0.5 (%)</th>\n",
              "      <th>T=1.0 (%)</th>\n",
              "    </tr>\n",
              "  </thead>\n",
              "  <tbody>\n",
              "    <tr>\n",
              "      <th>3</th>\n",
              "      <td>80</td>\n",
              "      <td>100</td>\n",
              "    </tr>\n",
              "    <tr>\n",
              "      <th>4</th>\n",
              "      <td>41.5094</td>\n",
              "      <td>77.3585</td>\n",
              "    </tr>\n",
              "    <tr>\n",
              "      <th>5</th>\n",
              "      <td>40.5286</td>\n",
              "      <td>66.6667</td>\n",
              "    </tr>\n",
              "    <tr>\n",
              "      <th>6</th>\n",
              "      <td>22.7273</td>\n",
              "      <td>42.79</td>\n",
              "    </tr>\n",
              "    <tr>\n",
              "      <th>7</th>\n",
              "      <td>26.6332</td>\n",
              "      <td>49.7487</td>\n",
              "    </tr>\n",
              "    <tr>\n",
              "      <th>8</th>\n",
              "      <td>72.2222</td>\n",
              "      <td>100</td>\n",
              "    </tr>\n",
              "    <tr>\n",
              "      <th>Overall</th>\n",
              "      <td>32.3327</td>\n",
              "      <td>55.9725</td>\n",
              "    </tr>\n",
              "  </tbody>\n",
              "</table>\n",
              "</div>"
            ],
            "text/plain": [
              "        T=0.5 (%) T=1.0 (%)\n",
              "3              80       100\n",
              "4         41.5094   77.3585\n",
              "5         40.5286   66.6667\n",
              "6         22.7273     42.79\n",
              "7         26.6332   49.7487\n",
              "8         72.2222       100\n",
              "Overall   32.3327   55.9725"
            ]
          },
          "metadata": {
            "tags": []
          },
          "execution_count": 44
        }
      ]
    },
    {
      "cell_type": "code",
      "metadata": {
        "colab": {
          "base_uri": "https://localhost:8080/",
          "height": 294
        },
        "id": "sKxc9ZGUSg78",
        "outputId": "89ba6f4b-e2b7-4e93-82f1-84d1e08ae88c"
      },
      "source": [
        "white_precision=pd.DataFrame(index=white_class,columns=[\"T=0.5 (%)\",\"T=1.0 (%)\"])\n",
        "for i,c in enumerate(white_class):\n",
        "    label=Y_white_torch[Y_white_torch==white_class[i]]\n",
        "    predictor=X_white_torch[(Y_white_torch==white_class[i])[:,0],:]\n",
        "    pre1=100*TEST_NN(MODEL_NN_white,predictor,label,T_list=[0.5])[\"accuracy_list\"][0]\n",
        "    pre2=100*TEST_NN(MODEL_NN_white,predictor,label,T_list=[1.0])[\"accuracy_list\"][0]\n",
        "    white_precision.at[c, \"T=0.5 (%)\"] = pre1\n",
        "    white_precision.at[c, \"T=1.0 (%)\"] = pre2\n",
        "\n",
        "overall=pd.DataFrame(index=[\"Overall\"],columns=[\"T=0.5 (%)\",\"T=1.0 (%)\"])\n",
        "pre1=100*TEST_NN(MODEL_NN_white,X_white_torch,Y_white_torch[:,0],T_list=[0.5])[\"accuracy_list\"][0]\n",
        "pre2=100*TEST_NN(MODEL_NN_white,X_white_torch,Y_white_torch[:,0],T_list=[1.0])[\"accuracy_list\"][0]\n",
        "overall.at[\"Overall\", \"T=0.5 (%)\"] = pre1\n",
        "overall.at[\"Overall\", \"T=1.0 (%)\"] = pre2\n",
        "\n",
        "white_precision.append(overall)"
      ],
      "execution_count": 45,
      "outputs": [
        {
          "output_type": "execute_result",
          "data": {
            "text/html": [
              "<div>\n",
              "<style scoped>\n",
              "    .dataframe tbody tr th:only-of-type {\n",
              "        vertical-align: middle;\n",
              "    }\n",
              "\n",
              "    .dataframe tbody tr th {\n",
              "        vertical-align: top;\n",
              "    }\n",
              "\n",
              "    .dataframe thead th {\n",
              "        text-align: right;\n",
              "    }\n",
              "</style>\n",
              "<table border=\"1\" class=\"dataframe\">\n",
              "  <thead>\n",
              "    <tr style=\"text-align: right;\">\n",
              "      <th></th>\n",
              "      <th>T=0.5 (%)</th>\n",
              "      <th>T=1.0 (%)</th>\n",
              "    </tr>\n",
              "  </thead>\n",
              "  <tbody>\n",
              "    <tr>\n",
              "      <th>3</th>\n",
              "      <td>25</td>\n",
              "      <td>40</td>\n",
              "    </tr>\n",
              "    <tr>\n",
              "      <th>4</th>\n",
              "      <td>38.6503</td>\n",
              "      <td>65.6442</td>\n",
              "    </tr>\n",
              "    <tr>\n",
              "      <th>5</th>\n",
              "      <td>46.0535</td>\n",
              "      <td>73.9876</td>\n",
              "    </tr>\n",
              "    <tr>\n",
              "      <th>6</th>\n",
              "      <td>32.8935</td>\n",
              "      <td>60.8735</td>\n",
              "    </tr>\n",
              "    <tr>\n",
              "      <th>7</th>\n",
              "      <td>26.5909</td>\n",
              "      <td>52.2727</td>\n",
              "    </tr>\n",
              "    <tr>\n",
              "      <th>8</th>\n",
              "      <td>17.7143</td>\n",
              "      <td>33.1429</td>\n",
              "    </tr>\n",
              "    <tr>\n",
              "      <th>9</th>\n",
              "      <td>0</td>\n",
              "      <td>20</td>\n",
              "    </tr>\n",
              "    <tr>\n",
              "      <th>Overall</th>\n",
              "      <td>35.2593</td>\n",
              "      <td>62.2703</td>\n",
              "    </tr>\n",
              "  </tbody>\n",
              "</table>\n",
              "</div>"
            ],
            "text/plain": [
              "        T=0.5 (%) T=1.0 (%)\n",
              "3              25        40\n",
              "4         38.6503   65.6442\n",
              "5         46.0535   73.9876\n",
              "6         32.8935   60.8735\n",
              "7         26.5909   52.2727\n",
              "8         17.7143   33.1429\n",
              "9               0        20\n",
              "Overall   35.2593   62.2703"
            ]
          },
          "metadata": {
            "tags": []
          },
          "execution_count": 45
        }
      ]
    },
    {
      "cell_type": "markdown",
      "metadata": {
        "id": "t4Fw_PlgD6h2"
      },
      "source": [
        "### Median "
      ]
    },
    {
      "cell_type": "code",
      "metadata": {
        "colab": {
          "base_uri": "https://localhost:8080/"
        },
        "id": "ZJTWSmwhTCZJ",
        "outputId": "a42d530a-4afe-494b-9536-9c9eb1404680"
      },
      "source": [
        "counter = Counter(Y_white[\"quality\"])\n",
        "print(counter)\n",
        "median=int(statistics.median(counter.values()))#175\n",
        "sm = SMOTE(sampling_strategy={3:median,9:median},random_state=24,k_neighbors=4)\n",
        "Augmented_X_white,Augmented_Y_white=sm.fit_sample(X_white, Y_white[\"quality\"])\n",
        "counter = Counter(Augmented_Y_white)\n",
        "print(counter)"
      ],
      "execution_count": 46,
      "outputs": [
        {
          "output_type": "stream",
          "text": [
            "Counter({6: 2198, 5: 1457, 7: 880, 8: 175, 4: 163, 3: 20, 9: 5})\n",
            "Counter({6: 2198, 5: 1457, 7: 880, 8: 175, 3: 175, 9: 175, 4: 163})\n"
          ],
          "name": "stdout"
        },
        {
          "output_type": "stream",
          "text": [
            "/usr/local/lib/python3.7/dist-packages/sklearn/utils/deprecation.py:87: FutureWarning: Function safe_indexing is deprecated; safe_indexing is deprecated in version 0.22 and will be removed in version 0.24.\n",
            "  warnings.warn(msg, category=FutureWarning)\n",
            "/usr/local/lib/python3.7/dist-packages/sklearn/utils/deprecation.py:87: FutureWarning: Function safe_indexing is deprecated; safe_indexing is deprecated in version 0.22 and will be removed in version 0.24.\n",
            "  warnings.warn(msg, category=FutureWarning)\n"
          ],
          "name": "stderr"
        }
      ]
    },
    {
      "cell_type": "code",
      "metadata": {
        "colab": {
          "base_uri": "https://localhost:8080/"
        },
        "id": "jCbIs6V4TNEg",
        "outputId": "4e5103e3-8cf7-4943-a66a-472335302acd"
      },
      "source": [
        "counter = Counter(Y_red[\"quality\"])\n",
        "print(counter)\n",
        "Median=int(statistics.median(counter.values()))\n",
        "sm = SMOTE(sampling_strategy={3:Median,8:Median,4:Median},random_state=24,k_neighbors=4)\n",
        "Augmented_X_red,Augmented_Y_red=sm.fit_sample(X_red, Y_red[\"quality\"])\n",
        "counter = Counter(Augmented_Y_red)\n",
        "print(counter)"
      ],
      "execution_count": 47,
      "outputs": [
        {
          "output_type": "stream",
          "text": [
            "Counter({5: 681, 6: 638, 7: 199, 4: 53, 8: 18, 3: 10})\n",
            "Counter({5: 681, 6: 638, 7: 199, 4: 126, 8: 126, 3: 126})\n"
          ],
          "name": "stdout"
        },
        {
          "output_type": "stream",
          "text": [
            "/usr/local/lib/python3.7/dist-packages/sklearn/utils/deprecation.py:87: FutureWarning: Function safe_indexing is deprecated; safe_indexing is deprecated in version 0.22 and will be removed in version 0.24.\n",
            "  warnings.warn(msg, category=FutureWarning)\n",
            "/usr/local/lib/python3.7/dist-packages/sklearn/utils/deprecation.py:87: FutureWarning: Function safe_indexing is deprecated; safe_indexing is deprecated in version 0.22 and will be removed in version 0.24.\n",
            "  warnings.warn(msg, category=FutureWarning)\n",
            "/usr/local/lib/python3.7/dist-packages/sklearn/utils/deprecation.py:87: FutureWarning: Function safe_indexing is deprecated; safe_indexing is deprecated in version 0.22 and will be removed in version 0.24.\n",
            "  warnings.warn(msg, category=FutureWarning)\n"
          ],
          "name": "stderr"
        }
      ]
    },
    {
      "cell_type": "code",
      "metadata": {
        "colab": {
          "base_uri": "https://localhost:8080/",
          "height": 70
        },
        "id": "rN6hsBAyVpBt",
        "outputId": "ef5265e1-937e-42f7-f34a-8ad56744a24d"
      },
      "source": [
        "X_TRAIN_white, X_TEST_white, Y_TRAIN_white, Y_TEST_white = train_test_split(Augmented_X_white, Augmented_Y_white, test_size=0.33, random_state=42)\n",
        "X_TRAIN_red, X_TEST_red, Y_TRAIN_red, Y_TEST_red = train_test_split(Augmented_X_red, Augmented_Y_red, test_size=0.33, random_state=42)\n",
        "\n",
        "TRAIN_scaler_white = preprocessing.StandardScaler().fit(X_TRAIN_white)\n",
        "TEST_scaler_white = preprocessing.StandardScaler().fit(X_TEST_white)\n",
        "X_TRAIN_white = TO_TORCH(TRAIN_scaler_white.transform(X_TRAIN_white))\n",
        "X_TEST_white = TO_TORCH(TEST_scaler_white.transform(X_TEST_white))\n",
        "\n",
        "TRAIN_scaler_red = preprocessing.StandardScaler().fit(X_TRAIN_red)\n",
        "TEST_scaler_red = preprocessing.StandardScaler().fit(X_TEST_red)\n",
        "X_TRAIN_red = TO_TORCH(TRAIN_scaler_red.transform(X_TRAIN_red))\n",
        "X_TEST_red = TO_TORCH(TEST_scaler_red.transform(X_TEST_red))\n",
        "\n",
        "Y_TRAIN_white = TO_TORCH(Y_TRAIN_white)\n",
        "Y_TEST_white = TO_TORCH(Y_TEST_white)\n",
        "\n",
        "Y_TRAIN_red = TO_TORCH(Y_TRAIN_red)\n",
        "Y_TEST_red = TO_TORCH(Y_TEST_red)\n",
        "\n",
        "\"\"\"scaler_white = preprocessing.StandardScaler().fit(X_white)\n",
        "scaler_red = preprocessing.StandardScaler().fit(X_red)\n",
        "X_white_torch = TO_TORCH(scaler_white.transform(X_white))\n",
        "X_red_torch = TO_TORCH(scaler_red.transform(X_red))\n",
        "Y_white_torch = TO_TORCH(Y_white)\n",
        "Y_red_torch = TO_TORCH(Y_red)\"\"\""
      ],
      "execution_count": 48,
      "outputs": [
        {
          "output_type": "execute_result",
          "data": {
            "application/vnd.google.colaboratory.intrinsic+json": {
              "type": "string"
            },
            "text/plain": [
              "'scaler_white = preprocessing.StandardScaler().fit(X_white)\\nscaler_red = preprocessing.StandardScaler().fit(X_red)\\nX_white_torch = TO_TORCH(scaler_white.transform(X_white))\\nX_red_torch = TO_TORCH(scaler_red.transform(X_red))\\nY_white_torch = TO_TORCH(Y_white)\\nY_red_torch = TO_TORCH(Y_red)'"
            ]
          },
          "metadata": {
            "tags": []
          },
          "execution_count": 48
        }
      ]
    },
    {
      "cell_type": "code",
      "metadata": {
        "colab": {
          "base_uri": "https://localhost:8080/",
          "height": 605
        },
        "id": "fZZjjbTsVpmC",
        "outputId": "da5d1a03-2cbd-4197-967c-6773c0eea4c4"
      },
      "source": [
        "result_white=TRAIN_NN(X_TRAIN_white,Y_TRAIN_white,[11],EPOCH=30000)\n",
        "MODEL_NN_white=result_white[\"MODEL\"]\n",
        "LOSS_white=result_white[\"LOSS_ARR\"]\n",
        "\n",
        "T_list=[0.25,0.5,1]\n",
        "Result_TEST_white=TEST_NN(MODEL_NN_white,X_TEST_white,Y_TEST_white,T_list)\n",
        "print(\"Test MAD is {};\".format(round(Result_TEST_white[\"MAD\"],3)))\n",
        "for i,T in enumerate(T_list): \n",
        "    acc=Result_TEST_white[\"accuracy_list\"][i]\n",
        "    print(\"Test Accuracy is {}% (T={});\".format(round(acc*100,3),T))\n",
        "test_kappa=Result_TEST_white[\"kappa\"]\n",
        "print(\"Test KAPPA is {}% (T=0.5);\".format(round(test_kappa*100,3)))\n",
        "\n",
        "T_list_REC=np.linspace(0,2,100)\n",
        "ACCURACY_list_REC_white=TEST_NN(MODEL_NN_white,X_TEST_white,Y_TEST_white,T_list_REC)[\"accuracy_list\"]\n",
        "plt.plot(T_list_REC,ACCURACY_list_REC_white)\n",
        "plt.xlabel(\"Tolerance\")\n",
        "plt.ylabel(\"Accuracy\")\n",
        "plt.title(\"REC \\n White wine\")"
      ],
      "execution_count": 49,
      "outputs": [
        {
          "output_type": "stream",
          "text": [
            " 20%|██        | 6121/30000 [00:06<00:23, 1037.50it/s]"
          ],
          "name": "stderr"
        },
        {
          "output_type": "stream",
          "text": [
            "\n",
            " After 6000 Epochs: MAD is 0.704; Accuracy is 49.528% (T=0.5); KAPPA is 23.114% (T=0.5)\n"
          ],
          "name": "stdout"
        },
        {
          "output_type": "stream",
          "text": [
            " 40%|████      | 12118/30000 [00:11<00:17, 1038.35it/s]"
          ],
          "name": "stderr"
        },
        {
          "output_type": "stream",
          "text": [
            "\n",
            " After 12000 Epochs: MAD is 0.696; Accuracy is 49.843% (T=0.5); KAPPA is 23.72% (T=0.5)\n"
          ],
          "name": "stdout"
        },
        {
          "output_type": "stream",
          "text": [
            " 61%|██████    | 18159/30000 [00:17<00:11, 986.92it/s]"
          ],
          "name": "stderr"
        },
        {
          "output_type": "stream",
          "text": [
            "\n",
            " After 18000 Epochs: MAD is 0.683; Accuracy is 50.3% (T=0.5); KAPPA is 24.842% (T=0.5)\n"
          ],
          "name": "stdout"
        },
        {
          "output_type": "stream",
          "text": [
            " 80%|████████  | 24103/30000 [00:23<00:05, 1008.68it/s]"
          ],
          "name": "stderr"
        },
        {
          "output_type": "stream",
          "text": [
            "\n",
            " After 24000 Epochs: MAD is 0.674; Accuracy is 50.443% (T=0.5); KAPPA is 25.291% (T=0.5)\n"
          ],
          "name": "stdout"
        },
        {
          "output_type": "stream",
          "text": [
            "100%|██████████| 30000/30000 [00:29<00:00, 1014.86it/s]\n"
          ],
          "name": "stderr"
        },
        {
          "output_type": "stream",
          "text": [
            "\n",
            " After 30000 Epochs: MAD is 0.666; Accuracy is 51.129% (T=0.5); KAPPA is 26.562% (T=0.5)\n",
            "Test MAD is 0.666;\n",
            "Test Accuracy is 27.552% (T=0.25);\n",
            "Test Accuracy is 50.522% (T=0.5);\n",
            "Test Accuracy is 79.292% (T=1);\n",
            "Test KAPPA is 26.03% (T=0.5);\n"
          ],
          "name": "stdout"
        },
        {
          "output_type": "execute_result",
          "data": {
            "text/plain": [
              "Text(0.5, 1.0, 'REC \\n White wine')"
            ]
          },
          "metadata": {
            "tags": []
          },
          "execution_count": 49
        },
        {
          "output_type": "display_data",
          "data": {
            "image/png": "[encoded data removed]",
            "text/plain": [
              "<Figure size 432x288 with 1 Axes>"
            ]
          },
          "metadata": {
            "tags": [],
            "needs_background": "light"
          }
        }
      ]
    },
    {
      "cell_type": "code",
      "metadata": {
        "colab": {
          "base_uri": "https://localhost:8080/",
          "height": 605
        },
        "id": "fPbefpvqVtO8",
        "outputId": "1a3a3ed0-6d02-4b10-f2ba-ad60ef536c73"
      },
      "source": [
        "result_red=TRAIN_NN(X_TRAIN_red,Y_TRAIN_red,[11],EPOCH=30000)\n",
        "MODEL_NN_red=result_red[\"MODEL\"]\n",
        "LOSS_red=result_red[\"LOSS_ARR\"]\n",
        "\n",
        "T_list=[0.25,0.5,1]\n",
        "Result_TEST_red=TEST_NN(MODEL_NN_red,X_TEST_red,Y_TEST_red,T_list)\n",
        "print(\"Test MAD is {};\".format(round(Result_TEST_red[\"MAD\"],3)))\n",
        "for i,T in enumerate(T_list): \n",
        "    acc=Result_TEST_red[\"accuracy_list\"][i]\n",
        "    print(\"Test Accuracy is {}% (T={});\".format(round(acc*100,3),T))\n",
        "test_kappa=Result_TEST_red[\"kappa\"]\n",
        "print(\"Test KAPPA is {}% (T=0.5);\".format(round(test_kappa*100,3)))\n",
        "\n",
        "\n",
        "T_list_REC=np.linspace(0,2,100)\n",
        "ACCURACY_list_REC_red=TEST_NN(MODEL_NN_red,X_TEST_red,Y_TEST_red,T_list_REC)[\"accuracy_list\"]\n",
        "plt.plot(T_list_REC,ACCURACY_list_REC_red)\n",
        "plt.xlabel(\"Tolerance\")\n",
        "plt.ylabel(\"Accuracy\")\n",
        "plt.title(\"REC \\n Red wine\")"
      ],
      "execution_count": 50,
      "outputs": [
        {
          "output_type": "stream",
          "text": [
            " 21%|██        | 6200/30000 [00:06<00:23, 1013.99it/s]"
          ],
          "name": "stderr"
        },
        {
          "output_type": "stream",
          "text": [
            "\n",
            " After 6000 Epochs: MAD is 0.637; Accuracy is 48.976% (T=0.5); KAPPA is 28.119% (T=0.5)\n"
          ],
          "name": "stdout"
        },
        {
          "output_type": "stream",
          "text": [
            " 40%|████      | 12114/30000 [00:11<00:17, 1021.97it/s]"
          ],
          "name": "stderr"
        },
        {
          "output_type": "stream",
          "text": [
            "\n",
            " After 12000 Epochs: MAD is 0.618; Accuracy is 48.425% (T=0.5); KAPPA is 27.937% (T=0.5)\n"
          ],
          "name": "stdout"
        },
        {
          "output_type": "stream",
          "text": [
            " 60%|██████    | 18113/30000 [00:17<00:11, 1030.17it/s]"
          ],
          "name": "stderr"
        },
        {
          "output_type": "stream",
          "text": [
            "\n",
            " After 18000 Epochs: MAD is 0.597; Accuracy is 50.472% (T=0.5); KAPPA is 30.98% (T=0.5)\n"
          ],
          "name": "stdout"
        },
        {
          "output_type": "stream",
          "text": [
            " 81%|████████  | 24160/30000 [00:23<00:05, 1034.90it/s]"
          ],
          "name": "stderr"
        },
        {
          "output_type": "stream",
          "text": [
            "\n",
            " After 24000 Epochs: MAD is 0.579; Accuracy is 52.047% (T=0.5); KAPPA is 33.453% (T=0.5)\n"
          ],
          "name": "stdout"
        },
        {
          "output_type": "stream",
          "text": [
            "100%|██████████| 30000/30000 [00:29<00:00, 1030.27it/s]\n"
          ],
          "name": "stderr"
        },
        {
          "output_type": "stream",
          "text": [
            "\n",
            " After 30000 Epochs: MAD is 0.569; Accuracy is 52.992% (T=0.5); KAPPA is 34.924% (T=0.5)\n",
            "Test MAD is 0.601;\n",
            "Test Accuracy is 29.233% (T=0.25);\n",
            "Test Accuracy is 50.16% (T=0.5);\n",
            "Test Accuracy is 80.032% (T=1);\n",
            "Test KAPPA is 30.826% (T=0.5);\n"
          ],
          "name": "stdout"
        },
        {
          "output_type": "execute_result",
          "data": {
            "text/plain": [
              "Text(0.5, 1.0, 'REC \\n Red wine')"
            ]
          },
          "metadata": {
            "tags": []
          },
          "execution_count": 50
        },
        {
          "output_type": "display_data",
          "data": {
            "image/png": "[encoded data removed]",
            "text/plain": [
              "<Figure size 432x288 with 1 Axes>"
            ]
          },
          "metadata": {
            "tags": [],
            "needs_background": "light"
          }
        }
      ]
    },
    {
      "cell_type": "code",
      "metadata": {
        "colab": {
          "base_uri": "https://localhost:8080/",
          "height": 233
        },
        "id": "GaaBiJ43VxAd",
        "outputId": "dfcb632f-fdff-453a-a393-b9dcf7e3c018"
      },
      "source": [
        "red_pred=np.round(MODEL_NN_red(X_red_torch).cpu().detach().numpy())[:,0]\n",
        "red_pred=np.where(red_pred >=8.0, 8, red_pred)\n",
        "red_pred=np.where(red_pred <=3.0, 3, red_pred)  \n",
        "red_confusion=confusion_matrix(Y_red_torch.cpu().detach().numpy(), red_pred)\n",
        "red_confusion=pd.DataFrame(red_confusion,index=red_class,columns=red_class) \n",
        "red_confusion "
      ],
      "execution_count": 51,
      "outputs": [
        {
          "output_type": "execute_result",
          "data": {
            "text/html": [
              "<div>\n",
              "<style scoped>\n",
              "    .dataframe tbody tr th:only-of-type {\n",
              "        vertical-align: middle;\n",
              "    }\n",
              "\n",
              "    .dataframe tbody tr th {\n",
              "        vertical-align: top;\n",
              "    }\n",
              "\n",
              "    .dataframe thead th {\n",
              "        text-align: right;\n",
              "    }\n",
              "</style>\n",
              "<table border=\"1\" class=\"dataframe\">\n",
              "  <thead>\n",
              "    <tr style=\"text-align: right;\">\n",
              "      <th></th>\n",
              "      <th>3</th>\n",
              "      <th>4</th>\n",
              "      <th>5</th>\n",
              "      <th>6</th>\n",
              "      <th>7</th>\n",
              "      <th>8</th>\n",
              "    </tr>\n",
              "  </thead>\n",
              "  <tbody>\n",
              "    <tr>\n",
              "      <th>3</th>\n",
              "      <td>2</td>\n",
              "      <td>6</td>\n",
              "      <td>1</td>\n",
              "      <td>1</td>\n",
              "      <td>0</td>\n",
              "      <td>0</td>\n",
              "    </tr>\n",
              "    <tr>\n",
              "      <th>4</th>\n",
              "      <td>1</td>\n",
              "      <td>23</td>\n",
              "      <td>22</td>\n",
              "      <td>7</td>\n",
              "      <td>0</td>\n",
              "      <td>0</td>\n",
              "    </tr>\n",
              "    <tr>\n",
              "      <th>5</th>\n",
              "      <td>3</td>\n",
              "      <td>66</td>\n",
              "      <td>483</td>\n",
              "      <td>116</td>\n",
              "      <td>13</td>\n",
              "      <td>0</td>\n",
              "    </tr>\n",
              "    <tr>\n",
              "      <th>6</th>\n",
              "      <td>2</td>\n",
              "      <td>19</td>\n",
              "      <td>216</td>\n",
              "      <td>307</td>\n",
              "      <td>90</td>\n",
              "      <td>4</td>\n",
              "    </tr>\n",
              "    <tr>\n",
              "      <th>7</th>\n",
              "      <td>0</td>\n",
              "      <td>1</td>\n",
              "      <td>14</td>\n",
              "      <td>85</td>\n",
              "      <td>92</td>\n",
              "      <td>7</td>\n",
              "    </tr>\n",
              "    <tr>\n",
              "      <th>8</th>\n",
              "      <td>0</td>\n",
              "      <td>0</td>\n",
              "      <td>0</td>\n",
              "      <td>5</td>\n",
              "      <td>11</td>\n",
              "      <td>2</td>\n",
              "    </tr>\n",
              "  </tbody>\n",
              "</table>\n",
              "</div>"
            ],
            "text/plain": [
              "   3   4    5    6   7  8\n",
              "3  2   6    1    1   0  0\n",
              "4  1  23   22    7   0  0\n",
              "5  3  66  483  116  13  0\n",
              "6  2  19  216  307  90  4\n",
              "7  0   1   14   85  92  7\n",
              "8  0   0    0    5  11  2"
            ]
          },
          "metadata": {
            "tags": []
          },
          "execution_count": 51
        }
      ]
    },
    {
      "cell_type": "code",
      "metadata": {
        "colab": {
          "base_uri": "https://localhost:8080/",
          "height": 263
        },
        "id": "nvF6u_UZV0lT",
        "outputId": "cffe2e7e-f9ed-477f-b546-6f4089c709a4"
      },
      "source": [
        "white_pred=np.round(MODEL_NN_white(X_white_torch).cpu().detach().numpy())[:,0]\n",
        "white_pred=np.where(white_pred >=8.0, 8, white_pred)\n",
        "white_pred=np.where(white_pred <=3.0, 3, white_pred)\n",
        "white_confusion=confusion_matrix(Y_white_torch.cpu().detach().numpy(), white_pred)\n",
        "white_confusion=pd.DataFrame(white_confusion,index=white_class,columns=white_class) \n",
        "white_confusion "
      ],
      "execution_count": 52,
      "outputs": [
        {
          "output_type": "execute_result",
          "data": {
            "text/html": [
              "<div>\n",
              "<style scoped>\n",
              "    .dataframe tbody tr th:only-of-type {\n",
              "        vertical-align: middle;\n",
              "    }\n",
              "\n",
              "    .dataframe tbody tr th {\n",
              "        vertical-align: top;\n",
              "    }\n",
              "\n",
              "    .dataframe thead th {\n",
              "        text-align: right;\n",
              "    }\n",
              "</style>\n",
              "<table border=\"1\" class=\"dataframe\">\n",
              "  <thead>\n",
              "    <tr style=\"text-align: right;\">\n",
              "      <th></th>\n",
              "      <th>3</th>\n",
              "      <th>4</th>\n",
              "      <th>5</th>\n",
              "      <th>6</th>\n",
              "      <th>7</th>\n",
              "      <th>8</th>\n",
              "      <th>9</th>\n",
              "    </tr>\n",
              "  </thead>\n",
              "  <tbody>\n",
              "    <tr>\n",
              "      <th>3</th>\n",
              "      <td>0</td>\n",
              "      <td>2</td>\n",
              "      <td>8</td>\n",
              "      <td>9</td>\n",
              "      <td>1</td>\n",
              "      <td>0</td>\n",
              "      <td>0</td>\n",
              "    </tr>\n",
              "    <tr>\n",
              "      <th>4</th>\n",
              "      <td>0</td>\n",
              "      <td>10</td>\n",
              "      <td>105</td>\n",
              "      <td>47</td>\n",
              "      <td>1</td>\n",
              "      <td>0</td>\n",
              "      <td>0</td>\n",
              "    </tr>\n",
              "    <tr>\n",
              "      <th>5</th>\n",
              "      <td>0</td>\n",
              "      <td>15</td>\n",
              "      <td>820</td>\n",
              "      <td>589</td>\n",
              "      <td>33</td>\n",
              "      <td>0</td>\n",
              "      <td>0</td>\n",
              "    </tr>\n",
              "    <tr>\n",
              "      <th>6</th>\n",
              "      <td>0</td>\n",
              "      <td>2</td>\n",
              "      <td>420</td>\n",
              "      <td>1475</td>\n",
              "      <td>300</td>\n",
              "      <td>1</td>\n",
              "      <td>0</td>\n",
              "    </tr>\n",
              "    <tr>\n",
              "      <th>7</th>\n",
              "      <td>0</td>\n",
              "      <td>0</td>\n",
              "      <td>48</td>\n",
              "      <td>474</td>\n",
              "      <td>356</td>\n",
              "      <td>2</td>\n",
              "      <td>0</td>\n",
              "    </tr>\n",
              "    <tr>\n",
              "      <th>8</th>\n",
              "      <td>0</td>\n",
              "      <td>0</td>\n",
              "      <td>1</td>\n",
              "      <td>76</td>\n",
              "      <td>98</td>\n",
              "      <td>0</td>\n",
              "      <td>0</td>\n",
              "    </tr>\n",
              "    <tr>\n",
              "      <th>9</th>\n",
              "      <td>0</td>\n",
              "      <td>0</td>\n",
              "      <td>0</td>\n",
              "      <td>1</td>\n",
              "      <td>4</td>\n",
              "      <td>0</td>\n",
              "      <td>0</td>\n",
              "    </tr>\n",
              "  </tbody>\n",
              "</table>\n",
              "</div>"
            ],
            "text/plain": [
              "   3   4    5     6    7  8  9\n",
              "3  0   2    8     9    1  0  0\n",
              "4  0  10  105    47    1  0  0\n",
              "5  0  15  820   589   33  0  0\n",
              "6  0   2  420  1475  300  1  0\n",
              "7  0   0   48   474  356  2  0\n",
              "8  0   0    1    76   98  0  0\n",
              "9  0   0    0     1    4  0  0"
            ]
          },
          "metadata": {
            "tags": []
          },
          "execution_count": 52
        }
      ]
    },
    {
      "cell_type": "code",
      "metadata": {
        "colab": {
          "base_uri": "https://localhost:8080/",
          "height": 263
        },
        "id": "CLjXfocDV4sB",
        "outputId": "6f353e2f-0af9-41ce-d9f0-6d0bc39f780a"
      },
      "source": [
        "red_precision=pd.DataFrame(index=red_class,columns=[\"T=0.5 (%)\",\"T=1.0 (%)\"])\n",
        "for i,c in enumerate(red_class):\n",
        "    label=Y_red_torch[Y_red_torch==red_class[i]]\n",
        "    predictor=X_red_torch[(Y_red_torch==red_class[i])[:,0],:]\n",
        "    pre1=100*TEST_NN(MODEL_NN_red,predictor,label,T_list=[0.5])[\"accuracy_list\"][0]\n",
        "    pre2=100*TEST_NN(MODEL_NN_red,predictor,label,T_list=[1.0])[\"accuracy_list\"][0]\n",
        "    red_precision.at[c, \"T=0.5 (%)\"] = pre1\n",
        "    red_precision.at[c, \"T=1.0 (%)\"] = pre2\n",
        "\n",
        "overall=pd.DataFrame(index=[\"Overall\"],columns=[\"T=0.5 (%)\",\"T=1.0 (%)\"])\n",
        "pre1=100*TEST_NN(MODEL_NN_red,X_red_torch,Y_red_torch[:,0],T_list=[0.5])[\"accuracy_list\"][0]\n",
        "pre2=100*TEST_NN(MODEL_NN_red,X_red_torch,Y_red_torch[:,0],T_list=[1.0])[\"accuracy_list\"][0]\n",
        "overall.at[\"Overall\", \"T=0.5 (%)\"] = pre1\n",
        "overall.at[\"Overall\", \"T=1.0 (%)\"] = pre2\n",
        "\n",
        "red_precision.append(overall)"
      ],
      "execution_count": 53,
      "outputs": [
        {
          "output_type": "execute_result",
          "data": {
            "text/html": [
              "<div>\n",
              "<style scoped>\n",
              "    .dataframe tbody tr th:only-of-type {\n",
              "        vertical-align: middle;\n",
              "    }\n",
              "\n",
              "    .dataframe tbody tr th {\n",
              "        vertical-align: top;\n",
              "    }\n",
              "\n",
              "    .dataframe thead th {\n",
              "        text-align: right;\n",
              "    }\n",
              "</style>\n",
              "<table border=\"1\" class=\"dataframe\">\n",
              "  <thead>\n",
              "    <tr style=\"text-align: right;\">\n",
              "      <th></th>\n",
              "      <th>T=0.5 (%)</th>\n",
              "      <th>T=1.0 (%)</th>\n",
              "    </tr>\n",
              "  </thead>\n",
              "  <tbody>\n",
              "    <tr>\n",
              "      <th>3</th>\n",
              "      <td>20</td>\n",
              "      <td>60</td>\n",
              "    </tr>\n",
              "    <tr>\n",
              "      <th>4</th>\n",
              "      <td>43.3962</td>\n",
              "      <td>69.8113</td>\n",
              "    </tr>\n",
              "    <tr>\n",
              "      <th>5</th>\n",
              "      <td>70.9251</td>\n",
              "      <td>90.7489</td>\n",
              "    </tr>\n",
              "    <tr>\n",
              "      <th>6</th>\n",
              "      <td>48.1191</td>\n",
              "      <td>81.8182</td>\n",
              "    </tr>\n",
              "    <tr>\n",
              "      <th>7</th>\n",
              "      <td>46.2312</td>\n",
              "      <td>77.3869</td>\n",
              "    </tr>\n",
              "    <tr>\n",
              "      <th>8</th>\n",
              "      <td>11.1111</td>\n",
              "      <td>33.3333</td>\n",
              "    </tr>\n",
              "    <tr>\n",
              "      <th>Overall</th>\n",
              "      <td>56.848</td>\n",
              "      <td>83.99</td>\n",
              "    </tr>\n",
              "  </tbody>\n",
              "</table>\n",
              "</div>"
            ],
            "text/plain": [
              "        T=0.5 (%) T=1.0 (%)\n",
              "3              20        60\n",
              "4         43.3962   69.8113\n",
              "5         70.9251   90.7489\n",
              "6         48.1191   81.8182\n",
              "7         46.2312   77.3869\n",
              "8         11.1111   33.3333\n",
              "Overall    56.848     83.99"
            ]
          },
          "metadata": {
            "tags": []
          },
          "execution_count": 53
        }
      ]
    },
    {
      "cell_type": "code",
      "metadata": {
        "colab": {
          "base_uri": "https://localhost:8080/",
          "height": 294
        },
        "id": "mztQfhtiV8-l",
        "outputId": "a8a05954-36ea-4f2f-e472-3094bd67ea9a"
      },
      "source": [
        "white_precision=pd.DataFrame(index=white_class,columns=[\"T=0.5 (%)\",\"T=1.0 (%)\"])\n",
        "for i,c in enumerate(white_class):\n",
        "    label=Y_white_torch[Y_white_torch==white_class[i]]\n",
        "    predictor=X_white_torch[(Y_white_torch==white_class[i])[:,0],:]\n",
        "    pre1=100*TEST_NN(MODEL_NN_white,predictor,label,T_list=[0.5])[\"accuracy_list\"][0]\n",
        "    pre2=100*TEST_NN(MODEL_NN_white,predictor,label,T_list=[1.0])[\"accuracy_list\"][0]\n",
        "    white_precision.at[c, \"T=0.5 (%)\"] = pre1\n",
        "    white_precision.at[c, \"T=1.0 (%)\"] = pre2\n",
        "\n",
        "overall=pd.DataFrame(index=[\"Overall\"],columns=[\"T=0.5 (%)\",\"T=1.0 (%)\"])\n",
        "pre1=100*TEST_NN(MODEL_NN_white,X_white_torch,Y_white_torch[:,0],T_list=[0.5])[\"accuracy_list\"][0]\n",
        "pre2=100*TEST_NN(MODEL_NN_white,X_white_torch,Y_white_torch[:,0],T_list=[1.0])[\"accuracy_list\"][0]\n",
        "overall.at[\"Overall\", \"T=0.5 (%)\"] = pre1\n",
        "overall.at[\"Overall\", \"T=1.0 (%)\"] = pre2\n",
        "\n",
        "white_precision.append(overall)"
      ],
      "execution_count": 54,
      "outputs": [
        {
          "output_type": "execute_result",
          "data": {
            "text/html": [
              "<div>\n",
              "<style scoped>\n",
              "    .dataframe tbody tr th:only-of-type {\n",
              "        vertical-align: middle;\n",
              "    }\n",
              "\n",
              "    .dataframe tbody tr th {\n",
              "        vertical-align: top;\n",
              "    }\n",
              "\n",
              "    .dataframe thead th {\n",
              "        text-align: right;\n",
              "    }\n",
              "</style>\n",
              "<table border=\"1\" class=\"dataframe\">\n",
              "  <thead>\n",
              "    <tr style=\"text-align: right;\">\n",
              "      <th></th>\n",
              "      <th>T=0.5 (%)</th>\n",
              "      <th>T=1.0 (%)</th>\n",
              "    </tr>\n",
              "  </thead>\n",
              "  <tbody>\n",
              "    <tr>\n",
              "      <th>3</th>\n",
              "      <td>0</td>\n",
              "      <td>0</td>\n",
              "    </tr>\n",
              "    <tr>\n",
              "      <th>4</th>\n",
              "      <td>6.13497</td>\n",
              "      <td>33.7423</td>\n",
              "    </tr>\n",
              "    <tr>\n",
              "      <th>5</th>\n",
              "      <td>56.28</td>\n",
              "      <td>87.6458</td>\n",
              "    </tr>\n",
              "    <tr>\n",
              "      <th>6</th>\n",
              "      <td>67.1065</td>\n",
              "      <td>95.2684</td>\n",
              "    </tr>\n",
              "    <tr>\n",
              "      <th>7</th>\n",
              "      <td>40.4545</td>\n",
              "      <td>76.9318</td>\n",
              "    </tr>\n",
              "    <tr>\n",
              "      <th>8</th>\n",
              "      <td>0</td>\n",
              "      <td>13.1429</td>\n",
              "    </tr>\n",
              "    <tr>\n",
              "      <th>9</th>\n",
              "      <td>0</td>\n",
              "      <td>0</td>\n",
              "    </tr>\n",
              "    <tr>\n",
              "      <th>Overall</th>\n",
              "      <td>54.3283</td>\n",
              "      <td>84.2385</td>\n",
              "    </tr>\n",
              "  </tbody>\n",
              "</table>\n",
              "</div>"
            ],
            "text/plain": [
              "        T=0.5 (%) T=1.0 (%)\n",
              "3               0         0\n",
              "4         6.13497   33.7423\n",
              "5           56.28   87.6458\n",
              "6         67.1065   95.2684\n",
              "7         40.4545   76.9318\n",
              "8               0   13.1429\n",
              "9               0         0\n",
              "Overall   54.3283   84.2385"
            ]
          },
          "metadata": {
            "tags": []
          },
          "execution_count": 54
        }
      ]
    },
    {
      "cell_type": "markdown",
      "metadata": {
        "id": "RKUocxlJCC6O"
      },
      "source": [
        "## resample all classes but the majority class"
      ]
    },
    {
      "cell_type": "code",
      "metadata": {
        "colab": {
          "base_uri": "https://localhost:8080/"
        },
        "id": "5EXvSwYhCI3H",
        "outputId": "04bc02c3-9195-48c3-c839-640ff0094c69"
      },
      "source": [
        "counter = Counter(Y_white[\"quality\"])\n",
        "print(counter)\n",
        "sm = SMOTE(sampling_strategy=\"not majority\",random_state=24,k_neighbors=4)\n",
        "Augmented_X_white,Augmented_Y_white=sm.fit_sample(X_white, Y_white[\"quality\"])\n",
        "counter = Counter(Augmented_Y_white)\n",
        "print(counter)"
      ],
      "execution_count": 55,
      "outputs": [
        {
          "output_type": "stream",
          "text": [
            "Counter({6: 2198, 5: 1457, 7: 880, 8: 175, 4: 163, 3: 20, 9: 5})\n",
            "Counter({6: 2198, 5: 2198, 7: 2198, 8: 2198, 4: 2198, 3: 2198, 9: 2198})\n"
          ],
          "name": "stdout"
        },
        {
          "output_type": "stream",
          "text": [
            "/usr/local/lib/python3.7/dist-packages/sklearn/utils/deprecation.py:87: FutureWarning: Function safe_indexing is deprecated; safe_indexing is deprecated in version 0.22 and will be removed in version 0.24.\n",
            "  warnings.warn(msg, category=FutureWarning)\n",
            "/usr/local/lib/python3.7/dist-packages/sklearn/utils/deprecation.py:87: FutureWarning: Function safe_indexing is deprecated; safe_indexing is deprecated in version 0.22 and will be removed in version 0.24.\n",
            "  warnings.warn(msg, category=FutureWarning)\n",
            "/usr/local/lib/python3.7/dist-packages/sklearn/utils/deprecation.py:87: FutureWarning: Function safe_indexing is deprecated; safe_indexing is deprecated in version 0.22 and will be removed in version 0.24.\n",
            "  warnings.warn(msg, category=FutureWarning)\n",
            "/usr/local/lib/python3.7/dist-packages/sklearn/utils/deprecation.py:87: FutureWarning: Function safe_indexing is deprecated; safe_indexing is deprecated in version 0.22 and will be removed in version 0.24.\n",
            "  warnings.warn(msg, category=FutureWarning)\n",
            "/usr/local/lib/python3.7/dist-packages/sklearn/utils/deprecation.py:87: FutureWarning: Function safe_indexing is deprecated; safe_indexing is deprecated in version 0.22 and will be removed in version 0.24.\n",
            "  warnings.warn(msg, category=FutureWarning)\n",
            "/usr/local/lib/python3.7/dist-packages/sklearn/utils/deprecation.py:87: FutureWarning: Function safe_indexing is deprecated; safe_indexing is deprecated in version 0.22 and will be removed in version 0.24.\n",
            "  warnings.warn(msg, category=FutureWarning)\n"
          ],
          "name": "stderr"
        }
      ]
    },
    {
      "cell_type": "code",
      "metadata": {
        "colab": {
          "base_uri": "https://localhost:8080/"
        },
        "id": "yBew-OxlW3k9",
        "outputId": "997bdb06-b5cd-4066-c05e-45cf144420cf"
      },
      "source": [
        "counter = Counter(Y_red[\"quality\"])\n",
        "print(counter)\n",
        "sm = SMOTE(sampling_strategy=\"not majority\",random_state=24,k_neighbors=4)\n",
        "Augmented_X_red,Augmented_Y_red=sm.fit_sample(X_red, Y_red[\"quality\"])\n",
        "counter = Counter(Augmented_Y_red)\n",
        "print(counter)"
      ],
      "execution_count": 56,
      "outputs": [
        {
          "output_type": "stream",
          "text": [
            "Counter({5: 681, 6: 638, 7: 199, 4: 53, 8: 18, 3: 10})\n",
            "Counter({5: 681, 6: 681, 7: 681, 4: 681, 8: 681, 3: 681})\n"
          ],
          "name": "stdout"
        },
        {
          "output_type": "stream",
          "text": [
            "/usr/local/lib/python3.7/dist-packages/sklearn/utils/deprecation.py:87: FutureWarning: Function safe_indexing is deprecated; safe_indexing is deprecated in version 0.22 and will be removed in version 0.24.\n",
            "  warnings.warn(msg, category=FutureWarning)\n",
            "/usr/local/lib/python3.7/dist-packages/sklearn/utils/deprecation.py:87: FutureWarning: Function safe_indexing is deprecated; safe_indexing is deprecated in version 0.22 and will be removed in version 0.24.\n",
            "  warnings.warn(msg, category=FutureWarning)\n",
            "/usr/local/lib/python3.7/dist-packages/sklearn/utils/deprecation.py:87: FutureWarning: Function safe_indexing is deprecated; safe_indexing is deprecated in version 0.22 and will be removed in version 0.24.\n",
            "  warnings.warn(msg, category=FutureWarning)\n",
            "/usr/local/lib/python3.7/dist-packages/sklearn/utils/deprecation.py:87: FutureWarning: Function safe_indexing is deprecated; safe_indexing is deprecated in version 0.22 and will be removed in version 0.24.\n",
            "  warnings.warn(msg, category=FutureWarning)\n",
            "/usr/local/lib/python3.7/dist-packages/sklearn/utils/deprecation.py:87: FutureWarning: Function safe_indexing is deprecated; safe_indexing is deprecated in version 0.22 and will be removed in version 0.24.\n",
            "  warnings.warn(msg, category=FutureWarning)\n"
          ],
          "name": "stderr"
        }
      ]
    },
    {
      "cell_type": "code",
      "metadata": {
        "colab": {
          "base_uri": "https://localhost:8080/",
          "height": 70
        },
        "id": "sfmwc9R9W-zC",
        "outputId": "5501b5f1-246d-44f4-8768-419d0e5c1b99"
      },
      "source": [
        "X_TRAIN_white, X_TEST_white, Y_TRAIN_white, Y_TEST_white = train_test_split(Augmented_X_white, Augmented_Y_white, test_size=0.33, random_state=42)\n",
        "X_TRAIN_red, X_TEST_red, Y_TRAIN_red, Y_TEST_red = train_test_split(Augmented_X_red, Augmented_Y_red, test_size=0.33, random_state=42)\n",
        "\n",
        "TRAIN_scaler_white = preprocessing.StandardScaler().fit(X_TRAIN_white)\n",
        "TEST_scaler_white = preprocessing.StandardScaler().fit(X_TEST_white)\n",
        "X_TRAIN_white = TO_TORCH(TRAIN_scaler_white.transform(X_TRAIN_white))\n",
        "X_TEST_white = TO_TORCH(TEST_scaler_white.transform(X_TEST_white))\n",
        "\n",
        "TRAIN_scaler_red = preprocessing.StandardScaler().fit(X_TRAIN_red)\n",
        "TEST_scaler_red = preprocessing.StandardScaler().fit(X_TEST_red)\n",
        "X_TRAIN_red = TO_TORCH(TRAIN_scaler_red.transform(X_TRAIN_red))\n",
        "X_TEST_red = TO_TORCH(TEST_scaler_red.transform(X_TEST_red))\n",
        "\n",
        "Y_TRAIN_white = TO_TORCH(Y_TRAIN_white)\n",
        "Y_TEST_white = TO_TORCH(Y_TEST_white)\n",
        "\n",
        "Y_TRAIN_red = TO_TORCH(Y_TRAIN_red)\n",
        "Y_TEST_red = TO_TORCH(Y_TEST_red)\n",
        "\n",
        "\"\"\"scaler_white = preprocessing.StandardScaler().fit(X_white)\n",
        "scaler_red = preprocessing.StandardScaler().fit(X_red)\n",
        "X_white_torch = TO_TORCH(scaler_white.transform(X_white))\n",
        "X_red_torch = TO_TORCH(scaler_red.transform(X_red))\n",
        "Y_white_torch = TO_TORCH(Y_white)\n",
        "Y_red_torch = TO_TORCH(Y_red)\"\"\""
      ],
      "execution_count": 57,
      "outputs": [
        {
          "output_type": "execute_result",
          "data": {
            "application/vnd.google.colaboratory.intrinsic+json": {
              "type": "string"
            },
            "text/plain": [
              "'scaler_white = preprocessing.StandardScaler().fit(X_white)\\nscaler_red = preprocessing.StandardScaler().fit(X_red)\\nX_white_torch = TO_TORCH(scaler_white.transform(X_white))\\nX_red_torch = TO_TORCH(scaler_red.transform(X_red))\\nY_white_torch = TO_TORCH(Y_white)\\nY_red_torch = TO_TORCH(Y_red)'"
            ]
          },
          "metadata": {
            "tags": []
          },
          "execution_count": 57
        }
      ]
    },
    {
      "cell_type": "code",
      "metadata": {
        "colab": {
          "base_uri": "https://localhost:8080/",
          "height": 605
        },
        "id": "_GbHZ6SQXFYr",
        "outputId": "ce6dd32c-b7d6-4f94-8664-207ae52aed2a"
      },
      "source": [
        "result_white=TRAIN_NN(X_TRAIN_white,Y_TRAIN_white,[11],EPOCH=30000)\n",
        "MODEL_NN_white=result_white[\"MODEL\"]\n",
        "LOSS_white=result_white[\"LOSS_ARR\"]\n",
        "\n",
        "T_list=[0.25,0.5,1]\n",
        "Result_TEST_white=TEST_NN(MODEL_NN_white,X_TEST_white,Y_TEST_white,T_list)\n",
        "print(\"Test MAD is {};\".format(round(Result_TEST_white[\"MAD\"],3)))\n",
        "for i,T in enumerate(T_list): \n",
        "    acc=Result_TEST_white[\"accuracy_list\"][i]\n",
        "    print(\"Test Accuracy is {}% (T={});\".format(round(acc*100,3),T))\n",
        "test_kappa=Result_TEST_white[\"kappa\"]\n",
        "print(\"Test KAPPA is {}% (T=0.5);\".format(round(test_kappa*100,3)))\n",
        "\n",
        "T_list_REC=np.linspace(0,2,100)\n",
        "ACCURACY_list_REC_white=TEST_NN(MODEL_NN_white,X_TEST_white,Y_TEST_white,T_list_REC)[\"accuracy_list\"]\n",
        "plt.plot(T_list_REC,ACCURACY_list_REC_white)\n",
        "plt.xlabel(\"Tolerance\")\n",
        "plt.ylabel(\"Accuracy\")\n",
        "plt.title(\"REC \\n White wine\")"
      ],
      "execution_count": 58,
      "outputs": [
        {
          "output_type": "stream",
          "text": [
            " 21%|██        | 6153/30000 [00:05<00:23, 1029.21it/s]"
          ],
          "name": "stderr"
        },
        {
          "output_type": "stream",
          "text": [
            "\n",
            " After 6000 Epochs: MAD is 1.073; Accuracy is 36.428% (T=0.5); KAPPA is 25.847% (T=0.5)\n"
          ],
          "name": "stdout"
        },
        {
          "output_type": "stream",
          "text": [
            " 40%|████      | 12147/30000 [00:11<00:17, 1001.69it/s]"
          ],
          "name": "stderr"
        },
        {
          "output_type": "stream",
          "text": [
            "\n",
            " After 12000 Epochs: MAD is 0.973; Accuracy is 41.017% (T=0.5); KAPPA is 31.194% (T=0.5)\n"
          ],
          "name": "stdout"
        },
        {
          "output_type": "stream",
          "text": [
            " 60%|██████    | 18120/30000 [00:17<00:11, 1004.72it/s]"
          ],
          "name": "stderr"
        },
        {
          "output_type": "stream",
          "text": [
            "\n",
            " After 18000 Epochs: MAD is 0.878; Accuracy is 44.393% (T=0.5); KAPPA is 35.129% (T=0.5)\n"
          ],
          "name": "stdout"
        },
        {
          "output_type": "stream",
          "text": [
            " 80%|████████  | 24144/30000 [00:23<00:05, 988.70it/s]"
          ],
          "name": "stderr"
        },
        {
          "output_type": "stream",
          "text": [
            "\n",
            " After 24000 Epochs: MAD is 0.833; Accuracy is 46.508% (T=0.5); KAPPA is 37.6% (T=0.5)\n"
          ],
          "name": "stdout"
        },
        {
          "output_type": "stream",
          "text": [
            "100%|██████████| 30000/30000 [00:29<00:00, 1011.48it/s]\n"
          ],
          "name": "stderr"
        },
        {
          "output_type": "stream",
          "text": [
            "\n",
            " After 30000 Epochs: MAD is 0.804; Accuracy is 47.516% (T=0.5); KAPPA is 38.778% (T=0.5)\n",
            "Test MAD is 0.818;\n",
            "Test Accuracy is 29.618% (T=0.25);\n",
            "Test Accuracy is 46.16% (T=0.5);\n",
            "Test Accuracy is 69.161% (T=1);\n",
            "Test KAPPA is 37.188% (T=0.5);\n"
          ],
          "name": "stdout"
        },
        {
          "output_type": "execute_result",
          "data": {
            "text/plain": [
              "Text(0.5, 1.0, 'REC \\n White wine')"
            ]
          },
          "metadata": {
            "tags": []
          },
          "execution_count": 58
        },
        {
          "output_type": "display_data",
          "data": {
            "image/png": "[encoded data removed]",
            "text/plain": [
              "<Figure size 432x288 with 1 Axes>"
            ]
          },
          "metadata": {
            "tags": [],
            "needs_background": "light"
          }
        }
      ]
    },
    {
      "cell_type": "code",
      "metadata": {
        "colab": {
          "base_uri": "https://localhost:8080/",
          "height": 605
        },
        "id": "hVotc97JXKrN",
        "outputId": "5e3f4c1c-8d5f-41a0-9cce-4a63ec9ee12f"
      },
      "source": [
        "result_red=TRAIN_NN(X_TRAIN_red,Y_TRAIN_red,[11],LR=1e-1/2,EPOCH=30000)\n",
        "MODEL_NN_red=result_red[\"MODEL\"]\n",
        "LOSS_red=result_red[\"LOSS_ARR\"]\n",
        "\n",
        "T_list=[0.25,0.5,1]\n",
        "Result_TEST_red=TEST_NN(MODEL_NN_red,X_TEST_red,Y_TEST_red,T_list)\n",
        "print(\"Test MAD is {};\".format(round(Result_TEST_red[\"MAD\"],3)))\n",
        "for i,T in enumerate(T_list): \n",
        "    acc=Result_TEST_red[\"accuracy_list\"][i]\n",
        "    print(\"Test Accuracy is {}% (T={});\".format(round(acc*100,3),T))\n",
        "test_kappa=Result_TEST_red[\"kappa\"]\n",
        "print(\"Test KAPPA is {}% (T=0.5);\".format(round(test_kappa*100,3)))\n",
        "\n",
        "\n",
        "T_list_REC=np.linspace(0,2,100)\n",
        "ACCURACY_list_REC_red=TEST_NN(MODEL_NN_red,X_TEST_red,Y_TEST_red,T_list_REC)[\"accuracy_list\"]\n",
        "plt.plot(T_list_REC,ACCURACY_list_REC_red)\n",
        "plt.xlabel(\"Tolerance\")\n",
        "plt.ylabel(\"Accuracy\")\n",
        "plt.title(\"REC \\n Red wine\")"
      ],
      "execution_count": 64,
      "outputs": [
        {
          "output_type": "stream",
          "text": [
            " 20%|██        | 6136/30000 [00:05<00:22, 1049.42it/s]"
          ],
          "name": "stderr"
        },
        {
          "output_type": "stream",
          "text": [
            "\n",
            " After 6000 Epochs: MAD is 0.551; Accuracy is 55.645% (T=0.5); KAPPA is 46.775% (T=0.5)\n"
          ],
          "name": "stdout"
        },
        {
          "output_type": "stream",
          "text": [
            " 40%|████      | 12107/30000 [00:11<00:17, 1039.72it/s]"
          ],
          "name": "stderr"
        },
        {
          "output_type": "stream",
          "text": [
            "\n",
            " After 12000 Epochs: MAD is 0.477; Accuracy is 63.025% (T=0.5); KAPPA is 55.64% (T=0.5)\n"
          ],
          "name": "stdout"
        },
        {
          "output_type": "stream",
          "text": [
            " 60%|██████    | 18135/30000 [00:17<00:11, 1008.70it/s]"
          ],
          "name": "stderr"
        },
        {
          "output_type": "stream",
          "text": [
            "\n",
            " After 18000 Epochs: MAD is 0.445; Accuracy is 66.862% (T=0.5); KAPPA is 60.234% (T=0.5)\n"
          ],
          "name": "stdout"
        },
        {
          "output_type": "stream",
          "text": [
            " 80%|████████  | 24109/30000 [00:23<00:05, 1015.80it/s]"
          ],
          "name": "stderr"
        },
        {
          "output_type": "stream",
          "text": [
            "\n",
            " After 24000 Epochs: MAD is 0.435; Accuracy is 67.336% (T=0.5); KAPPA is 60.805% (T=0.5)\n"
          ],
          "name": "stdout"
        },
        {
          "output_type": "stream",
          "text": [
            "100%|██████████| 30000/30000 [00:28<00:00, 1035.02it/s]\n"
          ],
          "name": "stderr"
        },
        {
          "output_type": "stream",
          "text": [
            "\n",
            " After 30000 Epochs: MAD is 0.427; Accuracy is 66.935% (T=0.5); KAPPA is 60.335% (T=0.5)\n",
            "Test MAD is 0.488;\n",
            "Test Accuracy is 44.848% (T=0.25);\n",
            "Test Accuracy is 63.454% (T=0.5);\n",
            "Test Accuracy is 84.952% (T=1);\n",
            "Test KAPPA is 56.134% (T=0.5);\n"
          ],
          "name": "stdout"
        },
        {
          "output_type": "execute_result",
          "data": {
            "text/plain": [
              "Text(0.5, 1.0, 'REC \\n Red wine')"
            ]
          },
          "metadata": {
            "tags": []
          },
          "execution_count": 64
        },
        {
          "output_type": "display_data",
          "data": {
            "image/png": "[encoded data removed]",
            "text/plain": [
              "<Figure size 432x288 with 1 Axes>"
            ]
          },
          "metadata": {
            "tags": [],
            "needs_background": "light"
          }
        }
      ]
    },
    {
      "cell_type": "code",
      "metadata": {
        "colab": {
          "base_uri": "https://localhost:8080/",
          "height": 233
        },
        "id": "pBHlgxVqXLZq",
        "outputId": "f73152a6-7795-4267-be75-892f5f4979a7"
      },
      "source": [
        "red_pred=np.round(MODEL_NN_red(X_red_torch).cpu().detach().numpy())[:,0]\n",
        "red_pred=np.where(red_pred >=8.0, 8, red_pred)\n",
        "red_pred=np.where(red_pred <=3.0, 3, red_pred)  \n",
        "red_confusion=confusion_matrix(Y_red_torch.cpu().detach().numpy(), red_pred)\n",
        "red_confusion=pd.DataFrame(red_confusion,index=red_class,columns=red_class) \n",
        "red_confusion "
      ],
      "execution_count": 65,
      "outputs": [
        {
          "output_type": "execute_result",
          "data": {
            "text/html": [
              "<div>\n",
              "<style scoped>\n",
              "    .dataframe tbody tr th:only-of-type {\n",
              "        vertical-align: middle;\n",
              "    }\n",
              "\n",
              "    .dataframe tbody tr th {\n",
              "        vertical-align: top;\n",
              "    }\n",
              "\n",
              "    .dataframe thead th {\n",
              "        text-align: right;\n",
              "    }\n",
              "</style>\n",
              "<table border=\"1\" class=\"dataframe\">\n",
              "  <thead>\n",
              "    <tr style=\"text-align: right;\">\n",
              "      <th></th>\n",
              "      <th>3</th>\n",
              "      <th>4</th>\n",
              "      <th>5</th>\n",
              "      <th>6</th>\n",
              "      <th>7</th>\n",
              "      <th>8</th>\n",
              "    </tr>\n",
              "  </thead>\n",
              "  <tbody>\n",
              "    <tr>\n",
              "      <th>3</th>\n",
              "      <td>6</td>\n",
              "      <td>2</td>\n",
              "      <td>2</td>\n",
              "      <td>0</td>\n",
              "      <td>0</td>\n",
              "      <td>0</td>\n",
              "    </tr>\n",
              "    <tr>\n",
              "      <th>4</th>\n",
              "      <td>9</td>\n",
              "      <td>24</td>\n",
              "      <td>15</td>\n",
              "      <td>4</td>\n",
              "      <td>1</td>\n",
              "      <td>0</td>\n",
              "    </tr>\n",
              "    <tr>\n",
              "      <th>5</th>\n",
              "      <td>50</td>\n",
              "      <td>173</td>\n",
              "      <td>315</td>\n",
              "      <td>112</td>\n",
              "      <td>27</td>\n",
              "      <td>4</td>\n",
              "    </tr>\n",
              "    <tr>\n",
              "      <th>6</th>\n",
              "      <td>12</td>\n",
              "      <td>83</td>\n",
              "      <td>194</td>\n",
              "      <td>174</td>\n",
              "      <td>134</td>\n",
              "      <td>41</td>\n",
              "    </tr>\n",
              "    <tr>\n",
              "      <th>7</th>\n",
              "      <td>0</td>\n",
              "      <td>6</td>\n",
              "      <td>16</td>\n",
              "      <td>38</td>\n",
              "      <td>90</td>\n",
              "      <td>49</td>\n",
              "    </tr>\n",
              "    <tr>\n",
              "      <th>8</th>\n",
              "      <td>0</td>\n",
              "      <td>0</td>\n",
              "      <td>0</td>\n",
              "      <td>0</td>\n",
              "      <td>1</td>\n",
              "      <td>17</td>\n",
              "    </tr>\n",
              "  </tbody>\n",
              "</table>\n",
              "</div>"
            ],
            "text/plain": [
              "    3    4    5    6    7   8\n",
              "3   6    2    2    0    0   0\n",
              "4   9   24   15    4    1   0\n",
              "5  50  173  315  112   27   4\n",
              "6  12   83  194  174  134  41\n",
              "7   0    6   16   38   90  49\n",
              "8   0    0    0    0    1  17"
            ]
          },
          "metadata": {
            "tags": []
          },
          "execution_count": 65
        }
      ]
    },
    {
      "cell_type": "code",
      "metadata": {
        "colab": {
          "base_uri": "https://localhost:8080/",
          "height": 263
        },
        "id": "IKJO3lFCXOpB",
        "outputId": "af6580c1-05e4-44a8-ce4d-42d314ec8e02"
      },
      "source": [
        "white_pred=np.round(MODEL_NN_white(X_white_torch).cpu().detach().numpy())[:,0]\n",
        "white_pred=np.where(white_pred >=8.0, 8, white_pred)\n",
        "white_pred=np.where(white_pred <=3.0, 3, white_pred)\n",
        "white_confusion=confusion_matrix(Y_white_torch.cpu().detach().numpy(), white_pred)\n",
        "white_confusion=pd.DataFrame(white_confusion,index=white_class,columns=white_class) \n",
        "white_confusion "
      ],
      "execution_count": 66,
      "outputs": [
        {
          "output_type": "execute_result",
          "data": {
            "text/html": [
              "<div>\n",
              "<style scoped>\n",
              "    .dataframe tbody tr th:only-of-type {\n",
              "        vertical-align: middle;\n",
              "    }\n",
              "\n",
              "    .dataframe tbody tr th {\n",
              "        vertical-align: top;\n",
              "    }\n",
              "\n",
              "    .dataframe thead th {\n",
              "        text-align: right;\n",
              "    }\n",
              "</style>\n",
              "<table border=\"1\" class=\"dataframe\">\n",
              "  <thead>\n",
              "    <tr style=\"text-align: right;\">\n",
              "      <th></th>\n",
              "      <th>3</th>\n",
              "      <th>4</th>\n",
              "      <th>5</th>\n",
              "      <th>6</th>\n",
              "      <th>7</th>\n",
              "      <th>8</th>\n",
              "      <th>9</th>\n",
              "    </tr>\n",
              "  </thead>\n",
              "  <tbody>\n",
              "    <tr>\n",
              "      <th>3</th>\n",
              "      <td>8</td>\n",
              "      <td>4</td>\n",
              "      <td>0</td>\n",
              "      <td>5</td>\n",
              "      <td>3</td>\n",
              "      <td>0</td>\n",
              "      <td>0</td>\n",
              "    </tr>\n",
              "    <tr>\n",
              "      <th>4</th>\n",
              "      <td>18</td>\n",
              "      <td>65</td>\n",
              "      <td>49</td>\n",
              "      <td>22</td>\n",
              "      <td>8</td>\n",
              "      <td>1</td>\n",
              "      <td>0</td>\n",
              "    </tr>\n",
              "    <tr>\n",
              "      <th>5</th>\n",
              "      <td>41</td>\n",
              "      <td>320</td>\n",
              "      <td>627</td>\n",
              "      <td>351</td>\n",
              "      <td>88</td>\n",
              "      <td>30</td>\n",
              "      <td>0</td>\n",
              "    </tr>\n",
              "    <tr>\n",
              "      <th>6</th>\n",
              "      <td>15</td>\n",
              "      <td>142</td>\n",
              "      <td>537</td>\n",
              "      <td>734</td>\n",
              "      <td>532</td>\n",
              "      <td>238</td>\n",
              "      <td>0</td>\n",
              "    </tr>\n",
              "    <tr>\n",
              "      <th>7</th>\n",
              "      <td>0</td>\n",
              "      <td>11</td>\n",
              "      <td>76</td>\n",
              "      <td>171</td>\n",
              "      <td>343</td>\n",
              "      <td>279</td>\n",
              "      <td>0</td>\n",
              "    </tr>\n",
              "    <tr>\n",
              "      <th>8</th>\n",
              "      <td>0</td>\n",
              "      <td>3</td>\n",
              "      <td>10</td>\n",
              "      <td>29</td>\n",
              "      <td>58</td>\n",
              "      <td>75</td>\n",
              "      <td>0</td>\n",
              "    </tr>\n",
              "    <tr>\n",
              "      <th>9</th>\n",
              "      <td>0</td>\n",
              "      <td>0</td>\n",
              "      <td>0</td>\n",
              "      <td>0</td>\n",
              "      <td>0</td>\n",
              "      <td>5</td>\n",
              "      <td>0</td>\n",
              "    </tr>\n",
              "  </tbody>\n",
              "</table>\n",
              "</div>"
            ],
            "text/plain": [
              "    3    4    5    6    7    8  9\n",
              "3   8    4    0    5    3    0  0\n",
              "4  18   65   49   22    8    1  0\n",
              "5  41  320  627  351   88   30  0\n",
              "6  15  142  537  734  532  238  0\n",
              "7   0   11   76  171  343  279  0\n",
              "8   0    3   10   29   58   75  0\n",
              "9   0    0    0    0    0    5  0"
            ]
          },
          "metadata": {
            "tags": []
          },
          "execution_count": 66
        }
      ]
    },
    {
      "cell_type": "code",
      "metadata": {
        "colab": {
          "base_uri": "https://localhost:8080/",
          "height": 263
        },
        "id": "VM6lKYlwXSgl",
        "outputId": "b75da76f-0c8f-4e14-946f-6453bcc3b549"
      },
      "source": [
        "red_precision=pd.DataFrame(index=red_class,columns=[\"T=0.5 (%)\",\"T=1.0 (%)\"])\n",
        "for i,c in enumerate(red_class):\n",
        "    label=Y_red_torch[Y_red_torch==red_class[i]]\n",
        "    predictor=X_red_torch[(Y_red_torch==red_class[i])[:,0],:]\n",
        "    pre1=100*TEST_NN(MODEL_NN_red,predictor,label,T_list=[0.5])[\"accuracy_list\"][0]\n",
        "    pre2=100*TEST_NN(MODEL_NN_red,predictor,label,T_list=[1.0])[\"accuracy_list\"][0]\n",
        "    red_precision.at[c, \"T=0.5 (%)\"] = pre1\n",
        "    red_precision.at[c, \"T=1.0 (%)\"] = pre2\n",
        "\n",
        "overall=pd.DataFrame(index=[\"Overall\"],columns=[\"T=0.5 (%)\",\"T=1.0 (%)\"])\n",
        "pre1=100*TEST_NN(MODEL_NN_red,X_red_torch,Y_red_torch[:,0],T_list=[0.5])[\"accuracy_list\"][0]\n",
        "pre2=100*TEST_NN(MODEL_NN_red,X_red_torch,Y_red_torch[:,0],T_list=[1.0])[\"accuracy_list\"][0]\n",
        "overall.at[\"Overall\", \"T=0.5 (%)\"] = pre1\n",
        "overall.at[\"Overall\", \"T=1.0 (%)\"] = pre2\n",
        "\n",
        "red_precision.append(overall)"
      ],
      "execution_count": 67,
      "outputs": [
        {
          "output_type": "execute_result",
          "data": {
            "text/html": [
              "<div>\n",
              "<style scoped>\n",
              "    .dataframe tbody tr th:only-of-type {\n",
              "        vertical-align: middle;\n",
              "    }\n",
              "\n",
              "    .dataframe tbody tr th {\n",
              "        vertical-align: top;\n",
              "    }\n",
              "\n",
              "    .dataframe thead th {\n",
              "        text-align: right;\n",
              "    }\n",
              "</style>\n",
              "<table border=\"1\" class=\"dataframe\">\n",
              "  <thead>\n",
              "    <tr style=\"text-align: right;\">\n",
              "      <th></th>\n",
              "      <th>T=0.5 (%)</th>\n",
              "      <th>T=1.0 (%)</th>\n",
              "    </tr>\n",
              "  </thead>\n",
              "  <tbody>\n",
              "    <tr>\n",
              "      <th>3</th>\n",
              "      <td>60</td>\n",
              "      <td>80</td>\n",
              "    </tr>\n",
              "    <tr>\n",
              "      <th>4</th>\n",
              "      <td>45.283</td>\n",
              "      <td>81.1321</td>\n",
              "    </tr>\n",
              "    <tr>\n",
              "      <th>5</th>\n",
              "      <td>46.2555</td>\n",
              "      <td>73.2746</td>\n",
              "    </tr>\n",
              "    <tr>\n",
              "      <th>6</th>\n",
              "      <td>27.2727</td>\n",
              "      <td>57.9937</td>\n",
              "    </tr>\n",
              "    <tr>\n",
              "      <th>7</th>\n",
              "      <td>45.2261</td>\n",
              "      <td>74.8744</td>\n",
              "    </tr>\n",
              "    <tr>\n",
              "      <th>8</th>\n",
              "      <td>88.8889</td>\n",
              "      <td>100</td>\n",
              "    </tr>\n",
              "    <tr>\n",
              "      <th>Overall</th>\n",
              "      <td>39.0869</td>\n",
              "      <td>67.98</td>\n",
              "    </tr>\n",
              "  </tbody>\n",
              "</table>\n",
              "</div>"
            ],
            "text/plain": [
              "        T=0.5 (%) T=1.0 (%)\n",
              "3              60        80\n",
              "4          45.283   81.1321\n",
              "5         46.2555   73.2746\n",
              "6         27.2727   57.9937\n",
              "7         45.2261   74.8744\n",
              "8         88.8889       100\n",
              "Overall   39.0869     67.98"
            ]
          },
          "metadata": {
            "tags": []
          },
          "execution_count": 67
        }
      ]
    },
    {
      "cell_type": "code",
      "metadata": {
        "colab": {
          "base_uri": "https://localhost:8080/",
          "height": 294
        },
        "id": "SZ4kzUQdXWTJ",
        "outputId": "dcb0396e-b9ce-4de4-af79-9a221a43d4c9"
      },
      "source": [
        "white_precision=pd.DataFrame(index=white_class,columns=[\"T=0.5 (%)\",\"T=1.0 (%)\"])\n",
        "for i,c in enumerate(white_class):\n",
        "    label=Y_white_torch[Y_white_torch==white_class[i]]\n",
        "    predictor=X_white_torch[(Y_white_torch==white_class[i])[:,0],:]\n",
        "    pre1=100*TEST_NN(MODEL_NN_white,predictor,label,T_list=[0.5])[\"accuracy_list\"][0]\n",
        "    pre2=100*TEST_NN(MODEL_NN_white,predictor,label,T_list=[1.0])[\"accuracy_list\"][0]\n",
        "    white_precision.at[c, \"T=0.5 (%)\"] = pre1\n",
        "    white_precision.at[c, \"T=1.0 (%)\"] = pre2\n",
        "\n",
        "overall=pd.DataFrame(index=[\"Overall\"],columns=[\"T=0.5 (%)\",\"T=1.0 (%)\"])\n",
        "pre1=100*TEST_NN(MODEL_NN_white,X_white_torch,Y_white_torch[:,0],T_list=[0.5])[\"accuracy_list\"][0]\n",
        "pre2=100*TEST_NN(MODEL_NN_white,X_white_torch,Y_white_torch[:,0],T_list=[1.0])[\"accuracy_list\"][0]\n",
        "overall.at[\"Overall\", \"T=0.5 (%)\"] = pre1\n",
        "overall.at[\"Overall\", \"T=1.0 (%)\"] = pre2\n",
        "\n",
        "white_precision.append(overall)"
      ],
      "execution_count": 68,
      "outputs": [
        {
          "output_type": "execute_result",
          "data": {
            "text/html": [
              "<div>\n",
              "<style scoped>\n",
              "    .dataframe tbody tr th:only-of-type {\n",
              "        vertical-align: middle;\n",
              "    }\n",
              "\n",
              "    .dataframe tbody tr th {\n",
              "        vertical-align: top;\n",
              "    }\n",
              "\n",
              "    .dataframe thead th {\n",
              "        text-align: right;\n",
              "    }\n",
              "</style>\n",
              "<table border=\"1\" class=\"dataframe\">\n",
              "  <thead>\n",
              "    <tr style=\"text-align: right;\">\n",
              "      <th></th>\n",
              "      <th>T=0.5 (%)</th>\n",
              "      <th>T=1.0 (%)</th>\n",
              "    </tr>\n",
              "  </thead>\n",
              "  <tbody>\n",
              "    <tr>\n",
              "      <th>3</th>\n",
              "      <td>40</td>\n",
              "      <td>50</td>\n",
              "    </tr>\n",
              "    <tr>\n",
              "      <th>4</th>\n",
              "      <td>39.8773</td>\n",
              "      <td>71.7791</td>\n",
              "    </tr>\n",
              "    <tr>\n",
              "      <th>5</th>\n",
              "      <td>43.0336</td>\n",
              "      <td>70.6932</td>\n",
              "    </tr>\n",
              "    <tr>\n",
              "      <th>6</th>\n",
              "      <td>33.394</td>\n",
              "      <td>62.1929</td>\n",
              "    </tr>\n",
              "    <tr>\n",
              "      <th>7</th>\n",
              "      <td>38.9773</td>\n",
              "      <td>65.4545</td>\n",
              "    </tr>\n",
              "    <tr>\n",
              "      <th>8</th>\n",
              "      <td>37.7143</td>\n",
              "      <td>62.8571</td>\n",
              "    </tr>\n",
              "    <tr>\n",
              "      <th>9</th>\n",
              "      <td>80</td>\n",
              "      <td>80</td>\n",
              "    </tr>\n",
              "    <tr>\n",
              "      <th>Overall</th>\n",
              "      <td>37.7093</td>\n",
              "      <td>65.6186</td>\n",
              "    </tr>\n",
              "  </tbody>\n",
              "</table>\n",
              "</div>"
            ],
            "text/plain": [
              "        T=0.5 (%) T=1.0 (%)\n",
              "3              40        50\n",
              "4         39.8773   71.7791\n",
              "5         43.0336   70.6932\n",
              "6          33.394   62.1929\n",
              "7         38.9773   65.4545\n",
              "8         37.7143   62.8571\n",
              "9              80        80\n",
              "Overall   37.7093   65.6186"
            ]
          },
          "metadata": {
            "tags": []
          },
          "execution_count": 68
        }
      ]
    },
    {
      "cell_type": "markdown",
      "metadata": {
        "id": "upnLJnef9f0X"
      },
      "source": [
        "# To Be Continuted Conclusion"
      ]
    },
    {
      "cell_type": "markdown",
      "metadata": {
        "id": "T2C0M0pLYT5Z"
      },
      "source": [
        "The Neural Network architecture is sick"
      ]
    },
    {
      "cell_type": "code",
      "metadata": {
        "id": "u1r6M6OrYTQe"
      },
      "source": [
        ""
      ],
      "execution_count": 63,
      "outputs": []
    }
  ]
}